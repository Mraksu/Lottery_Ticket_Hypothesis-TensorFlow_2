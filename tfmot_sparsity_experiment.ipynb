{
 "cells": [
  {
   "cell_type": "code",
   "execution_count": 1,
   "metadata": {},
   "outputs": [],
   "source": [
    "import tensorflow as tf\n",
    "import numpy as np\n",
    "import math\n",
    "import tensorflow_model_optimization as tfmot\n",
    "from tensorflow_model_optimization.sparsity import keras as sparsity\n",
    "# from tensorflow.keras import datasets, layers, models\n",
    "import matplotlib.pyplot as plt\n",
    "from tensorflow.keras.layers import AveragePooling2D, Conv2D\n",
    "from tensorflow.keras import models, layers, datasets\n",
    "from tensorflow.keras.layers import Dense, Flatten, Reshape, Input, InputLayer\n",
    "from tensorflow.keras.models import Sequential, Model\n",
    "from tensorflow.keras.initializers import RandomNormal\n",
    "# import math\n",
    "from sklearn.metrics import accuracy_score, precision_score, recall_score"
   ]
  },
  {
   "cell_type": "markdown",
   "metadata": {},
   "source": [
    "# __The Lottery Hypothesis__ code implementation:\n",
    "The following _Jupyter Notebook_ is the Pythonic implementation of __The Lottery Ticket Hypothesis: Finding Sparse, Trainable Neural Networks__ paper by _Jonathan Frankle, Michael Carbin_.\n",
    "\n",
    "The paper can be found in _arXiv:1803.03635_\n",
    "\n",
    "__Identifying winning tickets:__\n",
    "We identify a winning ticket by training a network and pruning its smallest-magnitude weights. The remaining, unpruned connections constitute the architecture of the winning ticket.\n",
    "\n",
    "Unique to our work, each unpruned connection’s value is then reset to its initializationfrom original network _before_ it was trained. This forms our central experiment:\n",
    "\n",
    "1. Randomly initialize a neural network f(x;θ0) (where θ0∼Dθ).\n",
    "1. Train the network for _j_ iterations, arriving at parameters θj.\n",
    "1. Prune p% of the parameters in θj, creating a mask _m_.\n",
    "1. Reset the remaining parameters to their values in θ0, creating the winning ticketf(x;mθ0).\n",
    "1. To evaluate whether the resulting network at step (4) is indeed a winning ticket, train the pruned, untrained network and examine its convergence behavior and accuracy.\n",
    "\n",
    "As described, this pruning approach is __one-shot__:  the network is trained once, p% of weights are pruned,\n",
    "and the surviving weights are reset.\n",
    "\n",
    "However, in this paper, we focus on __iterative pruning__, which repeatedly trains, prunes, and resets the network over __n__ rounds; each round prunes (p1/n)% of the weights that survive the previous round.\n",
    "\n",
    "Our results show that __iterative pruning__ finds winning tickets that match the accuracy of the original network at smaller sizes than does __one-shot__ pruning.\n",
    "\n",
    "Frankle and Carbin found that running this process _iteratively_ produced the smallest winning tickets. That is, __the network found at step (4) becomes a new network to train and further prune again at steps (2) and (3)__.\n",
    "\n",
    "By training, pruning, resetting, and repeating many times, Frankle and Carbin achieved their best results.\n"
   ]
  },
  {
   "cell_type": "code",
   "execution_count": 2,
   "metadata": {},
   "outputs": [
    {
     "data": {
      "text/plain": [
       "'2.0.0'"
      ]
     },
     "execution_count": 2,
     "metadata": {},
     "output_type": "execute_result"
    }
   ],
   "source": [
    "tf.__version__"
   ]
  },
  {
   "cell_type": "code",
   "execution_count": 3,
   "metadata": {},
   "outputs": [],
   "source": [
    "batch_size = 32\n",
    "num_classes = 10\n",
    "epochs = 50"
   ]
  },
  {
   "cell_type": "code",
   "execution_count": 4,
   "metadata": {},
   "outputs": [],
   "source": [
    "# Data preprocessing and cleadning:\n",
    "# input image dimensions\n",
    "img_rows, img_cols = 28, 28\n",
    "\n",
    "# Load MNIST dataset-\n",
    "(X_train, y_train), (X_test, y_test) = tf.keras.datasets.mnist.load_data()"
   ]
  },
  {
   "cell_type": "code",
   "execution_count": 5,
   "metadata": {},
   "outputs": [
    {
     "name": "stdout",
     "output_type": "stream",
     "text": [
      "\n",
      "'input_shape' which will be used = (28, 28, 1)\n",
      "\n"
     ]
    }
   ],
   "source": [
    "if tf.keras.backend.image_data_format() == 'channels_first':\n",
    "    X_train = X_train.reshape(X_train.shape[0], 1, img_rows, img_cols)\n",
    "    X_test = X_test.reshape(X_test.shape[0], 1, img_rows, img_cols)\n",
    "    input_shape = (1, img_rows, img_cols)\n",
    "else:\n",
    "    X_train = X_train.reshape(X_train.shape[0], img_rows, img_cols, 1)\n",
    "    X_test = X_test.reshape(X_test.shape[0], img_rows, img_cols, 1)\n",
    "    input_shape = (img_rows, img_cols, 1)\n",
    "\n",
    "print(\"\\n'input_shape' which will be used = {0}\\n\".format(input_shape))"
   ]
  },
  {
   "cell_type": "code",
   "execution_count": 6,
   "metadata": {},
   "outputs": [],
   "source": [
    "# Convert datasets to floating point types-\n",
    "X_train = X_train.astype('float32')\n",
    "X_test = X_test.astype('float32')\n",
    "\n",
    "# Normalize the training and testing datasets-\n",
    "X_train /= 255.0\n",
    "X_test /= 255.0"
   ]
  },
  {
   "cell_type": "code",
   "execution_count": 7,
   "metadata": {},
   "outputs": [],
   "source": [
    "# convert class vectors/target to binary class matrices or one-hot encoded values-\n",
    "y_train = tf.keras.utils.to_categorical(y_train, num_classes)\n",
    "y_test = tf.keras.utils.to_categorical(y_test, num_classes)"
   ]
  },
  {
   "cell_type": "code",
   "execution_count": 8,
   "metadata": {},
   "outputs": [],
   "source": [
    "# Reshape training and testing sets-\n",
    "X_train = X_train.reshape(X_train.shape[0], 784)\n",
    "X_test = X_test.reshape(X_test.shape[0], 784)"
   ]
  },
  {
   "cell_type": "code",
   "execution_count": 9,
   "metadata": {},
   "outputs": [
    {
     "name": "stdout",
     "output_type": "stream",
     "text": [
      "\n",
      "Dimensions of training and testing sets are:\n",
      "X_train.shape = (60000, 784), y_train = (60000, 10)\n",
      "X_test.shape = (10000, 784), y_test = (10000, 10)\n"
     ]
    }
   ],
   "source": [
    "print(\"\\nDimensions of training and testing sets are:\")\n",
    "print(\"X_train.shape = {0}, y_train = {1}\".format(X_train.shape, y_train.shape))\n",
    "print(\"X_test.shape = {0}, y_test = {1}\".format(X_test.shape, y_test.shape))"
   ]
  },
  {
   "cell_type": "code",
   "execution_count": 10,
   "metadata": {},
   "outputs": [],
   "source": [
    "l = tf.keras.layers"
   ]
  },
  {
   "cell_type": "markdown",
   "metadata": {},
   "source": [
    "### Step - 1: Randomly initialize a Neural Network\n",
    "Here, we choose the architecture for classification of MNIST dataset which is 300 100 densely conncected network and randomly initialize the weights/biases of the neural network, and also __save__ this random weights/biases initialization, which will be used later."
   ]
  },
  {
   "cell_type": "code",
   "execution_count": 11,
   "metadata": {},
   "outputs": [
    {
     "name": "stdout",
     "output_type": "stream",
     "text": [
      "'end_step parameter' for this dataset =  56250\n"
     ]
    }
   ],
   "source": [
    "# The model is first trained without any pruning for 15 epochs-\n",
    "epochs = 30\n",
    "\n",
    "num_train_samples = X_train.shape[0]\n",
    "\n",
    "end_step = np.ceil(1.0 * num_train_samples / batch_size).astype(np.int32) * epochs\n",
    "\n",
    "print(\"'end_step parameter' for this dataset =  {0}\".format(end_step))"
   ]
  },
  {
   "cell_type": "markdown",
   "metadata": {},
   "source": [
    "### tfmot.sparsity.keras.PolynomialDecay\n",
    "Pruning Schedule with a PolynomialDecay function.\n",
    "\n",
    "Initializes a Pruning schedule with a PolynomialDecay function.\n",
    "\n",
    "Pruning rate grows rapidly in the beginning from initial_sparsity, but then plateaus slowly to the target sparsity. The function applied is\n",
    "\n",
    "current_sparsity = final_sparsity + (initial_sparsity - final_sparsity) * (1 - (step - begin_step)/(end_step - begin_step)) ^ exponent\n",
    "\n",
    "which is a polynomial decay function.\n",
    "\n",
    "Args:\n",
    "\n",
    "1. initial_sparsity: Sparsity (%) at which pruning begins.\n",
    "1. final_sparsity: Sparsity (%) at which pruning ends.\n",
    "1. begin_step: Step at which to begin pruning.\n",
    "1. end_step: Step at which to end pruning.\n",
    "1. power: Exponent to be used in the sparsity function.\n",
    "1. frequency: Only apply pruning every frequency steps.\n"
   ]
  },
  {
   "cell_type": "code",
   "execution_count": 12,
   "metadata": {},
   "outputs": [],
   "source": [
    "# Specify the parameters to be used for layer-wise pruning, NO PRUNING is done here:\n",
    "pruning_params_unpruned = {\n",
    "    'pruning_schedule': sparsity.PolynomialDecay(\n",
    "        initial_sparsity=0.0, final_sparsity=0.0,\n",
    "        begin_step = 0, end_step=0, frequency=100)\n",
    "}"
   ]
  },
  {
   "cell_type": "code",
   "execution_count": 13,
   "metadata": {},
   "outputs": [],
   "source": [
    "def pruned_nn(pruning_params):\n",
    "    \"\"\"\n",
    "    Function to define the architecture of a neural network model\n",
    "    following 300 100 architecture for MNIST dataset and using\n",
    "    provided parameter which are used to prune the model.\n",
    "    \n",
    "    Input: 'pruning_params' Python 3 dictionary containing parameters which are used for pruning\n",
    "    Output: Returns designed and compiled neural network model\n",
    "    \"\"\"\n",
    "    \n",
    "    pruned_model = Sequential()\n",
    "    pruned_model.add(l.InputLayer(input_shape=(784, )))\n",
    "    pruned_model.add(Flatten())\n",
    "    pruned_model.add(sparsity.prune_low_magnitude(\n",
    "        Dense(units = 300, activation='relu', kernel_initializer=tf.initializers.GlorotUniform()),\n",
    "        **pruning_params))\n",
    "    # pruned_model.add(l.Dropout(0.2))\n",
    "    pruned_model.add(sparsity.prune_low_magnitude(\n",
    "        Dense(units = 100, activation='relu', kernel_initializer=tf.initializers.GlorotUniform()),\n",
    "        **pruning_params))\n",
    "    # pruned_model.add(l.Dropout(0.1))\n",
    "    pruned_model.add(sparsity.prune_low_magnitude(\n",
    "        Dense(units = num_classes, activation='softmax'),\n",
    "        **pruning_params))\n",
    "    \n",
    "    # Compile pruned CNN-\n",
    "    pruned_model.compile(\n",
    "        loss=tf.keras.losses.categorical_crossentropy,\n",
    "        # optimizer='adam',\n",
    "        optimizer=tf.keras.optimizers.Adam(lr = 0.001),\n",
    "        metrics=['accuracy'])\n",
    "    \n",
    "    return pruned_model\n"
   ]
  },
  {
   "cell_type": "code",
   "execution_count": 14,
   "metadata": {},
   "outputs": [],
   "source": [
    "# Add a pruning step callback to peg the pruning step to the optimizer's\n",
    "# step. Also add a callback to add pruning summaries to tensorboard\n",
    "callbacks = [\n",
    "             sparsity.UpdatePruningStep(),\n",
    "             # sparsity.PruningSummaries(log_dir = logdir, profile_batch=0),\n",
    "             tf.keras.callbacks.EarlyStopping(\n",
    "                 monitor='val_loss', patience = 3,\n",
    "                 min_delta=0.001\n",
    "             )\n",
    "]"
   ]
  },
  {
   "cell_type": "code",
   "execution_count": 15,
   "metadata": {},
   "outputs": [
    {
     "name": "stdout",
     "output_type": "stream",
     "text": [
      "WARNING:tensorflow:From /opt/conda/lib/python3.7/site-packages/tensorflow_model_optimization/python/core/sparsity/keras/pruning_wrapper.py:183: Layer.add_variable (from tensorflow.python.keras.engine.base_layer) is deprecated and will be removed in a future version.\n",
      "Instructions for updating:\n",
      "Please use `layer.add_weight` method instead.\n"
     ]
    }
   ],
   "source": [
    "# Instantiate NN-\n",
    "orig_model = pruned_nn(pruning_params_unpruned)"
   ]
  },
  {
   "cell_type": "markdown",
   "metadata": {},
   "source": [
    "### Save randomly initialized weights BEFORE the model is:\n",
    "\n",
    "1. trained\n",
    "1. pruned\n",
    "1. stripped of extra pruning parmeters from architecture of original neural network"
   ]
  },
  {
   "cell_type": "code",
   "execution_count": 16,
   "metadata": {},
   "outputs": [],
   "source": [
    "# Save random initialized weights BEFORE pruning and training of NN\n",
    "# and BEFORE the model is STRIPPED-\n",
    "orig_model.save_weights(\"Weights/MNIST_300_100_Randomly_Initialized_weights.h5\", overwrite=True)"
   ]
  },
  {
   "cell_type": "code",
   "execution_count": 17,
   "metadata": {},
   "outputs": [],
   "source": [
    "# Strip the pruning wrappers from UNPRUNED model-\n",
    "orig_model_stripped = sparsity.strip_pruning(orig_model)"
   ]
  },
  {
   "cell_type": "code",
   "execution_count": 19,
   "metadata": {},
   "outputs": [],
   "source": [
    "# Save random uninitialized weights BEFORE pruning of NN using STRIPPED model-\n",
    "# orig_model_stripped.save_weights(\"MNIST_300_100_Original_Weights_Unpruned.h5\", overwrite=True)"
   ]
  },
  {
   "cell_type": "code",
   "execution_count": 18,
   "metadata": {},
   "outputs": [
    {
     "name": "stdout",
     "output_type": "stream",
     "text": [
      "Model: \"sequential\"\n",
      "_________________________________________________________________\n",
      "Layer (type)                 Output Shape              Param #   \n",
      "=================================================================\n",
      "flatten (Flatten)            (None, 784)               0         \n",
      "_________________________________________________________________\n",
      "prune_low_magnitude_dense (P (None, 300)               470702    \n",
      "_________________________________________________________________\n",
      "prune_low_magnitude_dense_1  (None, 100)               60102     \n",
      "_________________________________________________________________\n",
      "prune_low_magnitude_dense_2  (None, 10)                2012      \n",
      "=================================================================\n",
      "Total params: 532,816\n",
      "Trainable params: 266,610\n",
      "Non-trainable params: 266,206\n",
      "_________________________________________________________________\n"
     ]
    }
   ],
   "source": [
    "orig_model.summary()"
   ]
  },
  {
   "cell_type": "code",
   "execution_count": 19,
   "metadata": {},
   "outputs": [
    {
     "name": "stdout",
     "output_type": "stream",
     "text": [
      "Model: \"sequential\"\n",
      "_________________________________________________________________\n",
      "Layer (type)                 Output Shape              Param #   \n",
      "=================================================================\n",
      "flatten (Flatten)            (None, 784)               0         \n",
      "_________________________________________________________________\n",
      "dense (Dense)                (None, 300)               235500    \n",
      "_________________________________________________________________\n",
      "dense_1 (Dense)              (None, 100)               30100     \n",
      "_________________________________________________________________\n",
      "dense_2 (Dense)              (None, 10)                1010      \n",
      "=================================================================\n",
      "Total params: 266,610\n",
      "Trainable params: 266,610\n",
      "Non-trainable params: 0\n",
      "_________________________________________________________________\n"
     ]
    }
   ],
   "source": [
    "orig_model_stripped.summary()"
   ]
  },
  {
   "cell_type": "code",
   "execution_count": null,
   "metadata": {},
   "outputs": [],
   "source": []
  },
  {
   "cell_type": "markdown",
   "metadata": {},
   "source": [
    "### Step - 2: Train the (unpruned) Neural Network until it converges\n",
    "_Early Stopping_ criterion has been used for training of the model"
   ]
  },
  {
   "cell_type": "code",
   "execution_count": 20,
   "metadata": {},
   "outputs": [
    {
     "name": "stdout",
     "output_type": "stream",
     "text": [
      "Train on 60000 samples, validate on 10000 samples\n",
      "Epoch 1/30\n",
      "60000/60000 [==============================] - 11s 179us/sample - loss: 0.2032 - accuracy: 0.9399 - val_loss: 0.1195 - val_accuracy: 0.9626\n",
      "Epoch 2/30\n",
      "60000/60000 [==============================] - 9s 155us/sample - loss: 0.0852 - accuracy: 0.9732 - val_loss: 0.0891 - val_accuracy: 0.9712\n",
      "Epoch 3/30\n",
      "60000/60000 [==============================] - 9s 154us/sample - loss: 0.0552 - accuracy: 0.9830 - val_loss: 0.0897 - val_accuracy: 0.9723\n",
      "Epoch 4/30\n",
      "60000/60000 [==============================] - 9s 153us/sample - loss: 0.0460 - accuracy: 0.9850 - val_loss: 0.0746 - val_accuracy: 0.9794\n",
      "Epoch 5/30\n",
      "60000/60000 [==============================] - 9s 152us/sample - loss: 0.0325 - accuracy: 0.9894 - val_loss: 0.0787 - val_accuracy: 0.9774\n",
      "Epoch 6/30\n",
      "60000/60000 [==============================] - 9s 154us/sample - loss: 0.0267 - accuracy: 0.9913 - val_loss: 0.0736 - val_accuracy: 0.9782\n",
      "Epoch 7/30\n",
      "60000/60000 [==============================] - 9s 153us/sample - loss: 0.0250 - accuracy: 0.9920 - val_loss: 0.0857 - val_accuracy: 0.9777\n",
      "Epoch 8/30\n",
      "60000/60000 [==============================] - 9s 153us/sample - loss: 0.0210 - accuracy: 0.9929 - val_loss: 0.0808 - val_accuracy: 0.9790\n",
      "Epoch 9/30\n",
      "60000/60000 [==============================] - 9s 153us/sample - loss: 0.0179 - accuracy: 0.9937 - val_loss: 0.1043 - val_accuracy: 0.9768\n"
     ]
    }
   ],
   "source": [
    "# Train unpruned Neural Network-\n",
    "history_orig = orig_model.fit(\n",
    "    x = X_train, y = y_train,\n",
    "    batch_size = batch_size,\n",
    "    epochs = epochs,\n",
    "    verbose = 1,\n",
    "    callbacks = callbacks,\n",
    "    validation_data = (X_test, y_test),\n",
    "    shuffle = True\n",
    ")\n"
   ]
  },
  {
   "cell_type": "code",
   "execution_count": 26,
   "metadata": {},
   "outputs": [
    {
     "data": {
      "text/plain": [
       "[0.08566837142373625, 0.08082119292882962, 0.10430033170154183]"
      ]
     },
     "execution_count": 26,
     "metadata": {},
     "output_type": "execute_result"
    }
   ],
   "source": [
    "# Get the last 3 'val_loss'-\n",
    "history_orig.history['val_loss'][-3:]"
   ]
  },
  {
   "cell_type": "code",
   "execution_count": 27,
   "metadata": {},
   "outputs": [
    {
     "name": "stdout",
     "output_type": "stream",
     "text": [
      "\n",
      "Original & UNPRUNED model metrics on testing dataset:\n",
      "loss = 0.1043 and accuracy = 0.9768\n",
      "\n"
     ]
    }
   ],
   "source": [
    "# Evaluate priginal unpruned trained model on testing dataset-\n",
    "score_orig_model = orig_model.evaluate(X_test, y_test, verbose=0)\n",
    "\n",
    "print(\"\\nOriginal & UNPRUNED model metrics on testing dataset:\")\n",
    "print(\"loss = {0:.4f} and accuracy = {1:.4f}\\n\".format(score_orig_model[0], score_orig_model[1]))"
   ]
  },
  {
   "cell_type": "code",
   "execution_count": 28,
   "metadata": {},
   "outputs": [],
   "source": [
    "# Train parameters of neural network AFTER training UNPRUNED model-\n",
    "orig_model.save_weights(\"Weights/MNIST_300_100_Trained_Weights_Unpruned.h5\", overwrite = True)"
   ]
  },
  {
   "cell_type": "code",
   "execution_count": 29,
   "metadata": {},
   "outputs": [
    {
     "data": {
      "text/plain": [
       "dict_keys(['loss', 'accuracy', 'val_loss', 'val_accuracy'])"
      ]
     },
     "execution_count": 29,
     "metadata": {},
     "output_type": "execute_result"
    }
   ],
   "source": [
    "history_orig.history.keys()"
   ]
  },
  {
   "cell_type": "code",
   "execution_count": 30,
   "metadata": {},
   "outputs": [
    {
     "data": {
      "image/png": "[encoded data removed]",
      "text/plain": [
       "<Figure size 800x720 with 1 Axes>"
      ]
     },
     "metadata": {},
     "output_type": "display_data"
    }
   ],
   "source": [
    "# Visualize the training of the neural network (scalar metrics):\n",
    "fig=plt.figure(figsize=(10, 9), dpi= 80, facecolor='w', edgecolor='k')\n",
    "\n",
    "plt.plot(history_orig.history['loss'], label = 'training loss')\n",
    "plt.plot(history_orig.history['val_loss'], label = 'testing_loss')\n",
    "plt.plot(history_orig.history['accuracy'], label = 'training accuracy')\n",
    "plt.plot(history_orig.history['val_accuracy'], label = 'testing accuracy')\n",
    "\n",
    "plt.title(\"MNIST 300 100 original model - UNPRUNED training visualization - Scalar metrics\")\n",
    "plt.xlabel(\"number of epochs\")\n",
    "plt.ylabel(\"Accuracy/Loss\")\n",
    "plt.legend(loc = 'best')  # 'center right'\n",
    "plt.show()\n"
   ]
  },
  {
   "cell_type": "markdown",
   "metadata": {},
   "source": [
    "### Count number of non-zero parameters in each layer-"
   ]
  },
  {
   "cell_type": "code",
   "execution_count": 31,
   "metadata": {},
   "outputs": [
    {
     "name": "stdout",
     "output_type": "stream",
     "text": [
      "\n",
      "In original unpruned model, number of nonzero parameters in each layer are: \n",
      "\n",
      "235200\n",
      "300\n",
      "30000\n",
      "100\n",
      "1000\n",
      "10\n",
      "\n",
      "Total number of trainable parameters = 266610\n",
      "\n"
     ]
    }
   ],
   "source": [
    "print(\"\\nIn original unpruned model, number of nonzero parameters in each layer are: \\n\")\n",
    "\n",
    "orig_sum_params = 0\n",
    "\n",
    "for layer in orig_model.trainable_weights:\n",
    "    print(tf.math.count_nonzero(layer, axis = None).numpy())\n",
    "    orig_sum_params += tf.math.count_nonzero(layer, axis = None).numpy()\n",
    "\n",
    "print(\"\\nTotal number of trainable parameters = {0}\\n\".format(orig_sum_params))"
   ]
  },
  {
   "cell_type": "code",
   "execution_count": 32,
   "metadata": {},
   "outputs": [
    {
     "name": "stdout",
     "output_type": "stream",
     "text": [
      "Model: \"sequential\"\n",
      "_________________________________________________________________\n",
      "Layer (type)                 Output Shape              Param #   \n",
      "=================================================================\n",
      "flatten (Flatten)            (None, 784)               0         \n",
      "_________________________________________________________________\n",
      "dense (Dense)                (None, 300)               235500    \n",
      "_________________________________________________________________\n",
      "dense_1 (Dense)              (None, 100)               30100     \n",
      "_________________________________________________________________\n",
      "dense_2 (Dense)              (None, 10)                1010      \n",
      "=================================================================\n",
      "Total params: 266,610\n",
      "Trainable params: 266,610\n",
      "Non-trainable params: 0\n",
      "_________________________________________________________________\n"
     ]
    }
   ],
   "source": [
    "orig_model_stripped.summary()"
   ]
  },
  {
   "cell_type": "markdown",
   "metadata": {},
   "source": [
    "### OBSERVATION:\n",
    "\n",
    "From the above codes, we can see that, using no pruning, the number of parameters remain the same!"
   ]
  },
  {
   "cell_type": "markdown",
   "metadata": {},
   "source": [
    "**Step - 3: Neural Network Pruning [Prune p% of the NN]** using __One-Shot pruning__\n",
    "\n",
    "**We are using _One-Shot pruning_ here**\n",
    "\n",
    "In __One-Shot pruning__, the process used is as follows:\n",
    "\n",
    "1. The neural network is trained once p% of the weights are pruned\n",
    "\n",
    "1. The remaining (100 - p)% of the weights are reset to the _original_ weights __before__ the training & pruning of the neural network began.\n",
    "\n",
    "1. To evaluate whether the resulting network at step (2) is indeed a winning ticket, train the pruned, untrained network and examine its convergence behavior and accuracy.\n"
   ]
  },
  {
   "cell_type": "code",
   "execution_count": 33,
   "metadata": {},
   "outputs": [],
   "source": [
    "# Specify the parameters to be used for layer-wise pruning\n",
    "# Now, the model will be pruned off with 78.9% of its weights-\n",
    "pruning_params_pruned = {\n",
    "    'pruning_schedule': sparsity.PolynomialDecay(\n",
    "        initial_sparsity = 0.0, final_sparsity = 0.789,\n",
    "        begin_step = 0, end_step = end_step,\n",
    "        frequency=100)\n",
    "}\n",
    "\n",
    "# NOTE:\n",
    "# Here, p = 78.9%"
   ]
  },
  {
   "cell_type": "code",
   "execution_count": 34,
   "metadata": {},
   "outputs": [],
   "source": [
    "# Instantiate a Nueal Network model to be pruned using parameters from above-\n",
    "pruned_model = pruned_nn(pruning_params_pruned)"
   ]
  },
  {
   "cell_type": "code",
   "execution_count": 35,
   "metadata": {},
   "outputs": [],
   "source": [
    "# Load weights from original trained and unpruned model-\n",
    "pruned_model.load_weights(\"Weights/MNIST_300_100_Trained_Weights_Unpruned.h5\")"
   ]
  },
  {
   "cell_type": "code",
   "execution_count": 36,
   "metadata": {},
   "outputs": [
    {
     "name": "stdout",
     "output_type": "stream",
     "text": [
      "Train on 60000 samples, validate on 10000 samples\n",
      "Epoch 1/30\n",
      "60000/60000 [==============================] - 11s 185us/sample - loss: 0.0177 - accuracy: 0.9941 - val_loss: 0.0811 - val_accuracy: 0.9800\n",
      "Epoch 2/30\n",
      "60000/60000 [==============================] - 10s 167us/sample - loss: 0.0095 - accuracy: 0.9968 - val_loss: 0.1261 - val_accuracy: 0.9754\n",
      "Epoch 3/30\n",
      "60000/60000 [==============================] - 10s 165us/sample - loss: 0.0095 - accuracy: 0.9969 - val_loss: 0.0973 - val_accuracy: 0.9809\n",
      "Epoch 4/30\n",
      "60000/60000 [==============================] - 10s 166us/sample - loss: 0.0088 - accuracy: 0.9971 - val_loss: 0.0973 - val_accuracy: 0.9818\n"
     ]
    }
   ],
   "source": [
    "# Train pruned CNN-\n",
    "history_pruned = pruned_model.fit(\n",
    "    x = X_train, y = y_train,\n",
    "    batch_size = batch_size,\n",
    "    epochs = epochs,\n",
    "    verbose = 1,\n",
    "    callbacks = callbacks,\n",
    "    validation_data = (X_test, y_test),\n",
    "    shuffle = True\n",
    ")\n"
   ]
  },
  {
   "cell_type": "code",
   "execution_count": 37,
   "metadata": {},
   "outputs": [
    {
     "data": {
      "image/png": "[encoded data removed]",
      "text/plain": [
       "<Figure size 800x720 with 1 Axes>"
      ]
     },
     "metadata": {},
     "output_type": "display_data"
    }
   ],
   "source": [
    "# Visualize neural network which is to be pruned off-\n",
    "fig=plt.figure(figsize=(10, 9), dpi= 80, facecolor='w', edgecolor='k')\n",
    "\n",
    "plt.plot(history_pruned.history['loss'], label = 'training loss')\n",
    "plt.plot(history_pruned.history['val_loss'], label = 'testing loss')\n",
    "plt.plot(history_pruned.history['accuracy'], label = 'training accuracy')\n",
    "plt.plot(history_pruned.history['val_accuracy'], label = 'testing accuracy')\n",
    "\n",
    "plt.title(\"MNIST 300 100 original model - PRUNED training visualization - Scalar metrics\")\n",
    "plt.ylabel(\"Accuracy/Loss\")\n",
    "plt.xlabel(\"number of epochs\")\n",
    "plt.legend(loc = 'best')\n",
    "plt.show()"
   ]
  },
  {
   "cell_type": "code",
   "execution_count": 38,
   "metadata": {},
   "outputs": [
    {
     "name": "stdout",
     "output_type": "stream",
     "text": [
      "\n",
      "PRUNED model metrics on testing dataset:\n",
      "loss = 0.0973 and accuracy = 0.9818\n",
      "\n"
     ]
    }
   ],
   "source": [
    "# Evaluate pruned trained model on testing dataset-\n",
    "score_pruned_model = pruned_model.evaluate(X_test, y_test, verbose = 0)\n",
    "\n",
    "print(\"\\nPRUNED model metrics on testing dataset:\")\n",
    "print(\"loss = {0:.4f} and accuracy = {1:.4f}\\n\".format(score_pruned_model[0], score_pruned_model[1]))"
   ]
  },
  {
   "cell_type": "code",
   "execution_count": 39,
   "metadata": {},
   "outputs": [],
   "source": [
    "# Save weights of PRUNED and Trained model BEFORE stripping-\n",
    "pruned_model.save_weights(\"Weights/MNIST_300_100_Weights_Pruned_with_pruning_params.h5\", overwrite = True)"
   ]
  },
  {
   "cell_type": "code",
   "execution_count": 40,
   "metadata": {},
   "outputs": [],
   "source": [
    "# Strip the pruning wrappers from pruned model-\n",
    "pruned_model_stripped = sparsity.strip_pruning(pruned_model)"
   ]
  },
  {
   "cell_type": "code",
   "execution_count": 41,
   "metadata": {},
   "outputs": [
    {
     "name": "stdout",
     "output_type": "stream",
     "text": [
      "Model: \"sequential_1\"\n",
      "_________________________________________________________________\n",
      "Layer (type)                 Output Shape              Param #   \n",
      "=================================================================\n",
      "flatten_1 (Flatten)          (None, 784)               0         \n",
      "_________________________________________________________________\n",
      "dense_3 (Dense)              (None, 300)               235500    \n",
      "_________________________________________________________________\n",
      "dense_4 (Dense)              (None, 100)               30100     \n",
      "_________________________________________________________________\n",
      "dense_5 (Dense)              (None, 10)                1010      \n",
      "=================================================================\n",
      "Total params: 266,610\n",
      "Trainable params: 266,610\n",
      "Non-trainable params: 0\n",
      "_________________________________________________________________\n"
     ]
    }
   ],
   "source": [
    "# Show architecture of model (with pruning parameters)-\n",
    "pruned_model_stripped.summary()"
   ]
  },
  {
   "cell_type": "code",
   "execution_count": 42,
   "metadata": {},
   "outputs": [
    {
     "name": "stdout",
     "output_type": "stream",
     "text": [
      "\n",
      "In original unpruned model, number of nonzero parameters in each layer are: \n",
      "\n",
      "235200\n",
      "300\n",
      "30000\n",
      "100\n",
      "1000\n",
      "10\n",
      "\n",
      "Total number of trainable parameters = 266610\n",
      "\n"
     ]
    }
   ],
   "source": [
    "print(\"\\nIn original unpruned model, number of nonzero parameters in each layer are: \\n\")\n",
    "\n",
    "orig_sum_params = 0\n",
    "\n",
    "for layer in orig_model_stripped.trainable_weights:\n",
    "    print(tf.math.count_nonzero(layer, axis = None).numpy())\n",
    "    orig_sum_params += tf.math.count_nonzero(layer, axis = None).numpy()\n",
    "\n",
    "print(\"\\nTotal number of trainable parameters = {0}\\n\".format(orig_sum_params))"
   ]
  },
  {
   "cell_type": "code",
   "execution_count": 43,
   "metadata": {},
   "outputs": [
    {
     "name": "stdout",
     "output_type": "stream",
     "text": [
      "\n",
      "In pruned model, number of nonzero parameters in each layer are: \n",
      "\n",
      "171173\n",
      "300\n",
      "21833\n",
      "100\n",
      "728\n",
      "10\n",
      "\n",
      "Total number of trainable parameters = 194144\n",
      "\n"
     ]
    }
   ],
   "source": [
    "print(\"\\nIn pruned model, number of nonzero parameters in each layer are: \\n\")\n",
    "\n",
    "pruned_sum_params = 0\n",
    "\n",
    "for layer in pruned_model_stripped.trainable_weights:\n",
    "    print(tf.math.count_nonzero(layer, axis = None).numpy())\n",
    "    pruned_sum_params += tf.math.count_nonzero(layer, axis = None).numpy()\n",
    "\n",
    "print(\"\\nTotal number of trainable parameters = {0}\\n\".format(pruned_sum_params))"
   ]
  },
  {
   "cell_type": "code",
   "execution_count": 44,
   "metadata": {},
   "outputs": [
    {
     "name": "stdout",
     "output_type": "stream",
     "text": [
      "\n",
      "% of weights pruned away = 27.18%\n",
      "\n"
     ]
    }
   ],
   "source": [
    "# Sanity-check: confirm that p = 30% of the weights are actually pruned away from the network-\n",
    "print(\"\\n% of weights pruned away = {0:.2f}%\\n\".format( \\\n",
    "    (orig_sum_params - pruned_sum_params) / orig_sum_params * 100))"
   ]
  },
  {
   "cell_type": "markdown",
   "metadata": {},
   "source": [
    "### Step - 3: Create mask for maintaining the sparsity of winning tickets:\n",
    "Prune _p_% of the parameters in theta_j, creating a mask _m_\n",
    "\n",
    "The mask is created as follows-\n",
    "1. Weights surviving the pruning are initialized to one (1)\n",
    "1. Weights which are pruned are initialized to zero (0)"
   ]
  },
  {
   "cell_type": "code",
   "execution_count": 45,
   "metadata": {},
   "outputs": [],
   "source": [
    "# Instantiate a new neural network model for which, the mask is to be created,\n",
    "# according to the paper-\n",
    "mask_model = pruned_nn(pruning_params_unpruned)"
   ]
  },
  {
   "cell_type": "code",
   "execution_count": 47,
   "metadata": {},
   "outputs": [],
   "source": [
    "# Load weights of PRUNED model-\n",
    "mask_model.load_weights(\"Weights/MNIST_300_100_Weights_Pruned_with_pruning_params.h5\")"
   ]
  },
  {
   "cell_type": "code",
   "execution_count": 48,
   "metadata": {},
   "outputs": [],
   "source": [
    "# Strip the model of its pruning parameters-\n",
    "mask_model_stripped = sparsity.strip_pruning(mask_model)"
   ]
  },
  {
   "cell_type": "code",
   "execution_count": 49,
   "metadata": {},
   "outputs": [],
   "source": [
    "# For each layer, for each weight which is 0, leave it, as is.\n",
    "# And for weights which survive the pruning,reinitialize it to ONE (1)-\n",
    "\n",
    "for wts in mask_model_stripped.trainable_weights:\n",
    "    wts.assign(tf.where(tf.equal(wts, 0.), 0., 1.))"
   ]
  },
  {
   "cell_type": "code",
   "execution_count": 50,
   "metadata": {},
   "outputs": [
    {
     "name": "stdout",
     "output_type": "stream",
     "text": [
      "\n",
      "Network architecture of masked model:\n",
      "\n",
      "(784, 300)\n",
      "(300,)\n",
      "(300, 100)\n",
      "(100,)\n",
      "(100, 10)\n",
      "(10,)\n"
     ]
    }
   ],
   "source": [
    "print(\"\\nNetwork architecture of masked model:\\n\")\n",
    "\n",
    "for layer in mask_model_stripped.trainable_weights:\n",
    "    print(layer.shape)"
   ]
  },
  {
   "cell_type": "code",
   "execution_count": 51,
   "metadata": {},
   "outputs": [
    {
     "data": {
      "text/plain": [
       "<tf.Variable 'prune_low_magnitude_dense_7/kernel:0' shape=(300, 100) dtype=float32, numpy=\n",
       "array([[1., 1., 1., ..., 0., 1., 1.],\n",
       "       [1., 0., 1., ..., 1., 1., 1.],\n",
       "       [1., 1., 1., ..., 1., 1., 1.],\n",
       "       ...,\n",
       "       [1., 1., 1., ..., 1., 1., 1.],\n",
       "       [1., 1., 1., ..., 1., 1., 1.],\n",
       "       [0., 0., 1., ..., 1., 1., 1.]], dtype=float32)>"
      ]
     },
     "execution_count": 51,
     "metadata": {},
     "output_type": "execute_result"
    }
   ],
   "source": [
    "# Sanity check whether mask is indeed created-\n",
    "mask_model_stripped.trainable_weights[2]"
   ]
  },
  {
   "cell_type": "code",
   "execution_count": 52,
   "metadata": {},
   "outputs": [
    {
     "name": "stdout",
     "output_type": "stream",
     "text": [
      "\n",
      "Mask model metrics:\n",
      "layer-wise manner model, number of nonzero parameters in each layer are: \n",
      "\n",
      "171173\n",
      "300\n",
      "21833\n",
      "100\n",
      "728\n",
      "10\n",
      "\n",
      "Total number of trainable parameters = 194144\n",
      "\n"
     ]
    }
   ],
   "source": [
    "print(\"\\nMask model metrics:\")\n",
    "print(\"layer-wise manner model, number of nonzero parameters in each layer are: \\n\")\n",
    "\n",
    "masked_sum_params = 0\n",
    "\n",
    "for layer in mask_model_stripped.trainable_weights:\n",
    "    print(tf.math.count_nonzero(layer, axis = None).numpy())\n",
    "    masked_sum_params += tf.math.count_nonzero(layer, axis = None).numpy()\n",
    "\n",
    "print(\"\\nTotal number of trainable parameters = {0}\\n\".format(masked_sum_params))"
   ]
  },
  {
   "cell_type": "code",
   "execution_count": 53,
   "metadata": {},
   "outputs": [
    {
     "name": "stdout",
     "output_type": "stream",
     "text": [
      "% of weights reduced = 27.18%\n",
      "\n"
     ]
    }
   ],
   "source": [
    "print(\"% of weights reduced = {0:.2f}%\\n\".format(((orig_sum_params - masked_sum_params) / orig_sum_params) * 100))"
   ]
  },
  {
   "cell_type": "code",
   "execution_count": null,
   "metadata": {},
   "outputs": [],
   "source": []
  },
  {
   "cell_type": "markdown",
   "metadata": {},
   "source": [
    "## Step - 4: Extracting the winning ticket (smaller subnetwork)\n",
    "Reset the remaining parameters in the _pruned_ model to their values in from _Step - 1_ , creating the winning ticket (or, sub network)\n",
    "\n",
    "In order to extract the winning ticket from the pruned neural network, __reset__ the weights of the surviving parts of the _pruned_ neural network to their _original randomly initialized and unpruned_ weights which were received before the training of the neural network model began (from above)"
   ]
  },
  {
   "cell_type": "code",
   "execution_count": 54,
   "metadata": {},
   "outputs": [],
   "source": [
    "# Instantiate a new neural network model for which, the weights are to be extracted, according to the paper-\n",
    "# wts_extracted_model = pruned_nn(pruning_params_unpruned)\n",
    "winning_ticket_model = pruned_nn(pruning_params_unpruned)"
   ]
  },
  {
   "cell_type": "code",
   "execution_count": 55,
   "metadata": {},
   "outputs": [],
   "source": [
    "# Load weights of PRUNED model-\n",
    "# wts_extracted_model.load_weights(\"Weights/MNIST_300_100_Weights_Pruned_with_pruning_params.h5\")\n",
    "winning_ticket_model.load_weights(\"Weights/MNIST_300_100_Weights_Pruned_with_pruning_params.h5\")"
   ]
  },
  {
   "cell_type": "code",
   "execution_count": 56,
   "metadata": {},
   "outputs": [],
   "source": [
    "# Strip the model of its pruning parameters-\n",
    "# wts_extracted_model_stripped = sparsity.strip_pruning(wts_extracted_model)\n",
    "winning_ticket_model_stripped = sparsity.strip_pruning(winning_ticket_model)"
   ]
  },
  {
   "cell_type": "markdown",
   "metadata": {},
   "source": [
    "## Extract winning ticket (sub network) for One-Shot pruning"
   ]
  },
  {
   "cell_type": "code",
   "execution_count": 57,
   "metadata": {},
   "outputs": [],
   "source": [
    "# For each layer, for each weight which is 0, leave it, as is. And for weights which survive the pruning,\n",
    "# reinitialize it to the value, the model received BEFORE it was trained and pruned-\n",
    "\n",
    "'''\n",
    "for orig_wts, winning_wts in zip(orig_model_stripped.trainable_weights, winning_ticket_model_stripped.trainable_weights):\n",
    "    winning_wts = tf.where(tf.equal(wts_extracted, 0), wts_extracted, orig_wts)\n",
    "'''\n",
    "\n",
    "for orig_wts, pruned_wts in zip(orig_model_stripped.trainable_weights, winning_ticket_model_stripped.trainable_weights):\n",
    "    pruned_wts.assign(tf.where(tf.equal(pruned_wts, 0), pruned_wts, orig_wts))"
   ]
  },
  {
   "cell_type": "code",
   "execution_count": 58,
   "metadata": {},
   "outputs": [
    {
     "data": {
      "text/plain": [
       "<tf.Variable 'prune_low_magnitude_dense_10/kernel:0' shape=(300, 100) dtype=float32, numpy=\n",
       "array([[-0.11160038, -0.07539377, -0.2546119 , ..., -0.        ,\n",
       "        -0.09774541, -0.18739353],\n",
       "       [-0.23822643,  0.        , -0.08943658, ..., -0.2151377 ,\n",
       "         0.21154119, -0.17619933],\n",
       "       [-0.1032735 , -0.14900354, -0.29805177, ..., -0.21281539,\n",
       "        -0.05728073,  0.18085186],\n",
       "       ...,\n",
       "       [-0.19137503, -0.169748  ,  0.20753136, ...,  0.14428455,\n",
       "         0.1664877 , -0.03382457],\n",
       "       [-0.12591612,  0.08717755,  0.08691725, ...,  0.24557093,\n",
       "         0.09970653,  0.07323103],\n",
       "       [-0.        ,  0.        ,  0.07275223, ..., -0.190188  ,\n",
       "         0.12115245, -0.16604216]], dtype=float32)>"
      ]
     },
     "execution_count": 58,
     "metadata": {},
     "output_type": "execute_result"
    }
   ],
   "source": [
    "# Sanity check-\n",
    "winning_ticket_model_stripped.trainable_weights[2]"
   ]
  },
  {
   "cell_type": "code",
   "execution_count": 59,
   "metadata": {},
   "outputs": [
    {
     "name": "stdout",
     "output_type": "stream",
     "text": [
      "\n",
      "Winning ticket, metrics:\n",
      "In winning ticket model: layer-wise manner model, number of nonzero parameters in each layer are: \n",
      "\n",
      "171173\n",
      "300\n",
      "21833\n",
      "100\n",
      "728\n",
      "10\n",
      "\n",
      "Total number of trainable parameters = 194144\n",
      "\n"
     ]
    }
   ],
   "source": [
    "print(\"\\nWinning ticket, metrics:\")\n",
    "print(\"In winning ticket model: layer-wise manner model, number of nonzero parameters in each layer are: \\n\")\n",
    "\n",
    "wts_extracted_sum_params = 0\n",
    "\n",
    "for layer in winning_ticket_model_stripped.trainable_weights:\n",
    "    print(tf.math.count_nonzero(layer, axis = None).numpy())\n",
    "    wts_extracted_sum_params += tf.math.count_nonzero(layer, axis = None).numpy()\n",
    "\n",
    "print(\"\\nTotal number of trainable parameters = {0}\\n\".format(wts_extracted_sum_params))"
   ]
  },
  {
   "cell_type": "code",
   "execution_count": 60,
   "metadata": {},
   "outputs": [],
   "source": [
    "# Sanity check:\n",
    "if wts_extracted_sum_params != pruned_sum_params:\n",
    "    print(\"\\nCritical Error! Number of parameters of winning ticket and pruned parameters do not match!\\n\")"
   ]
  },
  {
   "cell_type": "code",
   "execution_count": 62,
   "metadata": {},
   "outputs": [],
   "source": [
    "# Save the weights (with pruning parameters) extracted to a file-\n",
    "# wts_extracted_model.save_weights(\"MNIST_300_100_Weights_Extracted.h5\", overwrite = True)\n",
    "winning_ticket_model_stripped.save_weights(\"Weights/MNIST_300_100_Winning_Ticket_One_Shot.h5\", overwrite=True)"
   ]
  },
  {
   "cell_type": "code",
   "execution_count": null,
   "metadata": {},
   "outputs": [],
   "source": []
  },
  {
   "cell_type": "code",
   "execution_count": null,
   "metadata": {},
   "outputs": [],
   "source": []
  },
  {
   "cell_type": "code",
   "execution_count": null,
   "metadata": {},
   "outputs": [],
   "source": []
  },
  {
   "cell_type": "code",
   "execution_count": null,
   "metadata": {},
   "outputs": [],
   "source": []
  },
  {
   "cell_type": "markdown",
   "metadata": {},
   "source": [
    "### Step - 5: Evaluate resulting Neural Network model-\n",
    "To evaluate the resulting Neural Network due to weights extraction above from _Step 4_, train the _pruned_ but _untrained_ Neural Network and observe it's convergence behavior in terms-\n",
    "\n",
    "1. number of epochs (it takes to converge)\n",
    "1. accuracy (as compared to original, unpruned model)"
   ]
  },
  {
   "cell_type": "code",
   "execution_count": null,
   "metadata": {},
   "outputs": [],
   "source": []
  },
  {
   "cell_type": "code",
   "execution_count": null,
   "metadata": {},
   "outputs": [],
   "source": []
  },
  {
   "cell_type": "markdown",
   "metadata": {},
   "source": [
    "## Using _GradientTape_ API:"
   ]
  },
  {
   "cell_type": "markdown",
   "metadata": {},
   "source": [
    "### Train _winning ticket_ model to observe it's convergence"
   ]
  },
  {
   "cell_type": "code",
   "execution_count": 99,
   "metadata": {},
   "outputs": [],
   "source": [
    "# Instantiate a model-\n",
    "model_gt = pruned_nn(pruning_params_unpruned)"
   ]
  },
  {
   "cell_type": "code",
   "execution_count": 100,
   "metadata": {},
   "outputs": [],
   "source": [
    "# Strip model of pruning parameters-\n",
    "model_gt_stripped = sparsity.strip_pruning(model_gt)"
   ]
  },
  {
   "cell_type": "code",
   "execution_count": 101,
   "metadata": {},
   "outputs": [],
   "source": [
    "# Load weights of winning ticket-\n",
    "model_gt_stripped.load_weights(\"Weights/MNIST_300_100_Winning_Ticket_One_Shot.h5\")"
   ]
  },
  {
   "cell_type": "code",
   "execution_count": null,
   "metadata": {},
   "outputs": [],
   "source": [
    "model_gt.summary()"
   ]
  },
  {
   "cell_type": "code",
   "execution_count": null,
   "metadata": {},
   "outputs": [],
   "source": [
    "model_gt_stripped.summary()"
   ]
  },
  {
   "cell_type": "code",
   "execution_count": null,
   "metadata": {},
   "outputs": [],
   "source": []
  },
  {
   "cell_type": "code",
   "execution_count": 102,
   "metadata": {},
   "outputs": [],
   "source": [
    "# Create training and testing datasets-\n",
    "train_dataset = tf.data.Dataset.from_tensor_slices((X_train, y_train))\n",
    "test_dataset = tf.data.Dataset.from_tensor_slices((X_test, y_test))"
   ]
  },
  {
   "cell_type": "code",
   "execution_count": 103,
   "metadata": {},
   "outputs": [],
   "source": [
    "train_dataset = train_dataset.shuffle(buffer_size = 20000, reshuffle_each_iteration = True).batch(batch_size = batch_size, drop_remainder = False)"
   ]
  },
  {
   "cell_type": "code",
   "execution_count": 104,
   "metadata": {},
   "outputs": [],
   "source": [
    "test_dataset = test_dataset.batch(batch_size=batch_size, drop_remainder=False)"
   ]
  },
  {
   "cell_type": "code",
   "execution_count": 105,
   "metadata": {},
   "outputs": [],
   "source": [
    "# Choose an optimizer and loss function for training-\n",
    "loss_fn = tf.keras.losses.CategoricalCrossentropy()\n",
    "optimizer = tf.keras.optimizers.Adam(lr = 0.001)"
   ]
  },
  {
   "cell_type": "code",
   "execution_count": 92,
   "metadata": {},
   "outputs": [
    {
     "data": {
      "text/plain": [
       "TensorShape([60000, 10])"
      ]
     },
     "execution_count": 92,
     "metadata": {},
     "output_type": "execute_result"
    }
   ],
   "source": [
    "# Make predictions using sparse, stripped and trained model\n",
    "# according to 'one-shot' approach-\n",
    "model_gt_stripped(X_train).shape"
   ]
  },
  {
   "cell_type": "code",
   "execution_count": 106,
   "metadata": {},
   "outputs": [],
   "source": [
    "# compute_loss = tf.keras.losses.CategoricalCrossentropy(from_logits=False)\n",
    "# compute_accuracy = tf.keras.metrics.CategoricalAccuracy()\n",
    "\n",
    "# Select metrics to measure the error & accuracy of model.\n",
    "# These metrics accumulate the values over epochs and then\n",
    "# print the overall result-\n",
    "train_loss = tf.keras.metrics.Mean(name = 'train_loss')\n",
    "train_accuracy = tf.keras.metrics.BinaryAccuracy(name = 'train_accuracy')\n",
    "\n",
    "test_loss = tf.keras.metrics.Mean(name = 'test_loss')\n",
    "test_accuracy = tf.keras.metrics.BinaryAccuracy(name = 'train_accuracy')"
   ]
  },
  {
   "cell_type": "code",
   "execution_count": null,
   "metadata": {},
   "outputs": [],
   "source": []
  },
  {
   "cell_type": "markdown",
   "metadata": {},
   "source": [
    "### Magic should happen here:"
   ]
  },
  {
   "cell_type": "code",
   "execution_count": 112,
   "metadata": {},
   "outputs": [],
   "source": [
    "@tf.function\n",
    "def train_one_step(model, mask_model, optimizer, x, y):\n",
    "    '''\n",
    "    def train_step(data, labels):\n",
    "    Function to compute one step of gradient descent optimization\n",
    "    '''\n",
    "    with tf.GradientTape() as tape:\n",
    "        # Make predictions using defined model-\n",
    "        y_pred = model(x)\n",
    "\n",
    "        # Compute loss-\n",
    "        loss = loss_fn(y, y_pred)\n",
    "        \n",
    "    # Compute gradients wrt defined loss and weights and biases-\n",
    "    grads = tape.gradient(loss, model.trainable_variables)\n",
    "    \n",
    "    # type(grads)\n",
    "    # list\n",
    "    \n",
    "    '''\n",
    "    for orig_grads, mask in zip(grads, mask_model_stripped.trainable_weights):\n",
    "        # orig_grads.assign(tf.math.multiply(orig_grads, mask))\n",
    "        orig_grads = tf.math.multiply(orig_grads, mask)\n",
    "    '''\n",
    "    \n",
    "    # THIS IS CORRECT-\n",
    "    # List to hold element-wise multiplication between-\n",
    "    # computed gradient and masks-\n",
    "    grad_mask_mul = []\n",
    "    \n",
    "    # Perform element-wise multiplication between computed gradients and masks-\n",
    "    for grad_layer, mask in zip(grads, mask_model.trainable_weights):\n",
    "        grad_mask_mul.append(tf.math.multiply(grad_layer, mask))\n",
    "    \n",
    "    # Apply computed gradients to model's weights and biases-\n",
    "    # optimizer.apply_gradients(zip(grads, model.trainable_variables))\n",
    "    optimizer.apply_gradients(zip(grad_mask_mul, model.trainable_variables))\n",
    "\n",
    "    # Compute accuracy-\n",
    "    train_loss(loss)\n",
    "    train_accuracy(y, y_pred)\n",
    "\n",
    "    # return model_loss\n",
    "    # return None\n"
   ]
  },
  {
   "cell_type": "code",
   "execution_count": 108,
   "metadata": {},
   "outputs": [],
   "source": [
    "@tf.function\n",
    "def test_step(model, optimizer, data, labels):\n",
    "    \"\"\"\n",
    "    Function to test model performance\n",
    "    on testing dataset\n",
    "    \"\"\"\n",
    "    \n",
    "    predictions = model(data)\n",
    "    t_loss = loss_fn(labels, predictions)\n",
    "\n",
    "    test_loss(t_loss)\n",
    "    test_accuracy(labels, predictions)\n"
   ]
  },
  {
   "cell_type": "markdown",
   "metadata": {},
   "source": [
    "### Provide parameters for _EarlyStopping_"
   ]
  },
  {
   "cell_type": "code",
   "execution_count": 109,
   "metadata": {},
   "outputs": [],
   "source": [
    "# User input-\n",
    "minimum_delta = 0.001\n",
    "patience = 3\n",
    "\n",
    "patience_val = np.zeros(patience)"
   ]
  },
  {
   "cell_type": "code",
   "execution_count": 110,
   "metadata": {},
   "outputs": [],
   "source": [
    "# Dictionary to hold scalar metrics-\n",
    "history = {}\n",
    "\n",
    "history['accuracy'] = np.zeros(epochs)\n",
    "history['val_accuracy'] = np.zeros(epochs)\n",
    "history['loss'] = np.zeros(epochs)\n",
    "history['val_loss'] = np.zeros(epochs)"
   ]
  },
  {
   "cell_type": "code",
   "execution_count": 113,
   "metadata": {},
   "outputs": [
    {
     "name": "stdout",
     "output_type": "stream",
     "text": [
      "Epoch 1, Loss: 0.0091, Accuracy: 99.9325, Test Loss: 0.0905, Test Accuracy: 99.624977\n",
      "Total number of trainable parameters = 194144\n",
      "\n",
      "Epoch 2, Loss: 0.0081, Accuracy: 99.9473, Test Loss: 0.1192, Test Accuracy: 99.536934\n",
      "Total number of trainable parameters = 194144\n",
      "\n",
      "Epoch 3, Loss: 0.0064, Accuracy: 99.9528, Test Loss: 0.1066, Test Accuracy: 99.622955\n",
      "Total number of trainable parameters = 194144\n",
      "\n",
      "Epoch 4, Loss: 0.0074, Accuracy: 99.9516, Test Loss: 0.0942, Test Accuracy: 99.625938\n",
      "Total number of trainable parameters = 194144\n",
      "\n",
      "Epoch 5, Loss: 0.0068, Accuracy: 99.9591, Test Loss: 0.1017, Test Accuracy: 99.615952\n",
      "Total number of trainable parameters = 194144\n",
      "\n",
      "Epoch 6, Loss: 0.0061, Accuracy: 99.9639, Test Loss: 0.1115, Test Accuracy: 99.608955\n",
      "Total number of trainable parameters = 194144\n",
      "\n",
      "Epoch 7, Loss: 0.0061, Accuracy: 99.9636, Test Loss: 0.1083, Test Accuracy: 99.632957\n",
      "Total number of trainable parameters = 194144\n",
      "\n",
      "Epoch 8, Loss: 0.0045, Accuracy: 99.9692, Test Loss: 0.1139, Test Accuracy: 99.625969\n",
      "Total number of trainable parameters = 194144\n",
      "\n",
      "Epoch 9, Loss: 0.0059, Accuracy: 99.9601, Test Loss: 0.1200, Test Accuracy: 99.603966\n",
      "Total number of trainable parameters = 194144\n",
      "\n",
      "Epoch 10, Loss: 0.0051, Accuracy: 99.9679, Test Loss: 0.1323, Test Accuracy: 99.612961\n",
      "Total number of trainable parameters = 194144\n",
      "\n",
      "Epoch 11, Loss: 0.0063, Accuracy: 99.9599, Test Loss: 0.1075, Test Accuracy: 99.679962\n",
      "Total number of trainable parameters = 194144\n",
      "\n",
      "Epoch 12, Loss: 0.0038, Accuracy: 99.9781, Test Loss: 0.1129, Test Accuracy: 99.639961\n",
      "Total number of trainable parameters = 194144\n",
      "\n",
      "Epoch 13, Loss: 0.0062, Accuracy: 99.9671, Test Loss: 0.1412, Test Accuracy: 99.599968\n",
      "Total number of trainable parameters = 194144\n",
      "\n",
      "Epoch 14, Loss: 0.0030, Accuracy: 99.9804, Test Loss: 0.1168, Test Accuracy: 99.631973\n",
      "Total number of trainable parameters = 194144\n",
      "\n",
      "Epoch 15, Loss: 0.0062, Accuracy: 99.9669, Test Loss: 0.1334, Test Accuracy: 99.628944\n",
      "Total number of trainable parameters = 194144\n",
      "\n",
      "Epoch 16, Loss: 0.0061, Accuracy: 99.9643, Test Loss: 0.1331, Test Accuracy: 99.650970\n",
      "Total number of trainable parameters = 194144\n",
      "\n",
      "Epoch 17, Loss: 0.0038, Accuracy: 99.9741, Test Loss: 0.1423, Test Accuracy: 99.638947\n",
      "Total number of trainable parameters = 194144\n",
      "\n",
      "Epoch 18, Loss: 0.0057, Accuracy: 99.9673, Test Loss: 0.1377, Test Accuracy: 99.646935\n",
      "Total number of trainable parameters = 194144\n",
      "\n",
      "Epoch 19, Loss: 0.0038, Accuracy: 99.9777, Test Loss: 0.1512, Test Accuracy: 99.645927\n",
      "Total number of trainable parameters = 194144\n",
      "\n",
      "Epoch 20, Loss: 0.0046, Accuracy: 99.9692, Test Loss: 0.1397, Test Accuracy: 99.663940\n",
      "Total number of trainable parameters = 194144\n",
      "\n",
      "Epoch 21, Loss: 0.0041, Accuracy: 99.9807, Test Loss: 0.1265, Test Accuracy: 99.686951\n",
      "Total number of trainable parameters = 194144\n",
      "\n",
      "Epoch 22, Loss: 0.0051, Accuracy: 99.9716, Test Loss: 0.1361, Test Accuracy: 99.661949\n",
      "Total number of trainable parameters = 194144\n",
      "\n",
      "Epoch 23, Loss: 0.0047, Accuracy: 99.9771, Test Loss: 0.1615, Test Accuracy: 99.636963\n",
      "Total number of trainable parameters = 194144\n",
      "\n",
      "Epoch 24, Loss: 0.0057, Accuracy: 99.9674, Test Loss: 0.1486, Test Accuracy: 99.659943\n",
      "Total number of trainable parameters = 194144\n",
      "\n",
      "Epoch 25, Loss: 0.0026, Accuracy: 99.9834, Test Loss: 0.1732, Test Accuracy: 99.597946\n",
      "Total number of trainable parameters = 194144\n",
      "\n",
      "Epoch 26, Loss: 0.0058, Accuracy: 99.9727, Test Loss: 0.1572, Test Accuracy: 99.626984\n",
      "Total number of trainable parameters = 194144\n",
      "\n",
      "Epoch 27, Loss: 0.0052, Accuracy: 99.9709, Test Loss: 0.1500, Test Accuracy: 99.663940\n",
      "Total number of trainable parameters = 194144\n",
      "\n",
      "Epoch 28, Loss: 0.0030, Accuracy: 99.9831, Test Loss: 0.1691, Test Accuracy: 99.635963\n",
      "Total number of trainable parameters = 194144\n",
      "\n",
      "Epoch 29, Loss: 0.0034, Accuracy: 99.9804, Test Loss: 0.1921, Test Accuracy: 99.580940\n",
      "Total number of trainable parameters = 194144\n",
      "\n",
      "Epoch 30, Loss: 0.0042, Accuracy: 99.9811, Test Loss: 0.1917, Test Accuracy: 99.601974\n",
      "Total number of trainable parameters = 194144\n",
      "\n"
     ]
    }
   ],
   "source": [
    "for epoch in range(epochs):\n",
    "    # Reset the metrics at the start of the next epoch\n",
    "    train_loss.reset_states()\n",
    "    train_accuracy.reset_states()\n",
    "    test_loss.reset_states()\n",
    "    test_accuracy.reset_states()\n",
    "\n",
    "    for x, y in train_dataset:\n",
    "        # train_step(x, y)\n",
    "        train_one_step(model_gt_stripped, mask_model_stripped, optimizer, x, y)\n",
    "        # train_one_step(model_gt_stripped, optimizer, x, y)\n",
    "\n",
    "    for x_t, y_t in test_dataset:\n",
    "        # test_step(x_t, y_t)\n",
    "        test_step(model_gt_stripped, optimizer, x_t, y_t)\n",
    "\n",
    "    template = 'Epoch {0}, Loss: {1:.4f}, Accuracy: {2:.4f}, Test Loss: {3:.4f}, Test Accuracy: {4:4f}'\n",
    "\n",
    "    history['accuracy'][epoch] = train_accuracy.result()\n",
    "    history['loss'][epoch] = train_loss.result()\n",
    "    history['val_loss'][epoch] = test_loss.result()\n",
    "    history['val_accuracy'][epoch] = test_accuracy.result()\n",
    "\n",
    "    print(template.format(epoch + 1, \n",
    "                          train_loss.result(), train_accuracy.result()*100,\n",
    "                          test_loss.result(), test_accuracy.result()*100))\n",
    "    \n",
    "    # Count number of non-zero parameters in each layer and in total-\n",
    "    # print(\"layer-wise manner model, number of nonzero parameters in each layer are: \\n\")\n",
    "\n",
    "    model_sum_params = 0\n",
    "    \n",
    "    for layer in model_gt_stripped.trainable_weights:\n",
    "        # print(tf.math.count_nonzero(layer, axis = None).numpy())\n",
    "        model_sum_params += tf.math.count_nonzero(layer, axis = None).numpy()\n",
    "    \n",
    "    print(\"Total number of trainable parameters = {0}\\n\".format(model_sum_params))\n",
    "\n",
    "\n",
    "    if epoch > 2:\n",
    "        # print(\"history['val_loss'][epoch - patience:epoch] = {0}\".format(history['val_loss'][epoch - patience:epoch]))\n",
    "        \n",
    "        # Computes absolute differences between 3 consecutive loss values-\n",
    "        differences = np.abs(np.diff(history['val_loss'][epoch - patience:epoch], n = 1))\n",
    "        # print(\"differences: {0}\".format(differences))\n",
    "        \n",
    "        # Checks whether the absolute differences is greater than 'minimum_delta'-\n",
    "        check =  differences > minimum_delta\n",
    "        # print(\"check = {0}\\n\".format(check))\n",
    "        \n",
    "        if np.all(check == False):\n",
    "            print(\"\\n\\nEarlyStopping Evoked! Stopping training\\n\\n\")\n",
    "            break\n"
   ]
  },
  {
   "cell_type": "code",
   "execution_count": null,
   "metadata": {},
   "outputs": [],
   "source": []
  },
  {
   "cell_type": "code",
   "execution_count": 119,
   "metadata": {},
   "outputs": [
    {
     "data": {
      "image/png": "[encoded data removed]",
      "text/plain": [
       "<Figure size 800x720 with 1 Axes>"
      ]
     },
     "metadata": {},
     "output_type": "display_data"
    }
   ],
   "source": [
    "# Visualize neural network which is to be pruned off-\n",
    "fig=plt.figure(figsize=(10, 9), dpi= 80, facecolor='w', edgecolor='k')\n",
    "\n",
    "plt.plot(history['loss'], label = 'training loss')\n",
    "plt.plot(history['val_loss'], label = 'testing loss')\n",
    "plt.plot(history['accuracy'], label = 'training accuracy')\n",
    "plt.plot(history['val_accuracy'], label = 'testing accuracy')\n",
    "\n",
    "plt.title(\"MNIST 300 100 original model - WINNING TICKET training visualization - Scalar metrics\")\n",
    "plt.ylabel(\"Accuracy/Loss\")\n",
    "plt.xlabel(\"number of epochs\")\n",
    "plt.legend(loc = 'best')\n",
    "plt.show()"
   ]
  },
  {
   "cell_type": "code",
   "execution_count": null,
   "metadata": {},
   "outputs": [],
   "source": []
  },
  {
   "cell_type": "code",
   "execution_count": 117,
   "metadata": {},
   "outputs": [
    {
     "data": {
      "image/png": "[encoded data removed]",
      "text/plain": [
       "<Figure size 800x720 with 1 Axes>"
      ]
     },
     "metadata": {},
     "output_type": "display_data"
    }
   ],
   "source": [
    "fig=plt.figure(figsize=(10, 9), dpi= 80, facecolor='w', edgecolor='k')\n",
    "\n",
    "plt.plot(history['accuracy'], label = 'training accuracy')\n",
    "plt.plot(history['val_accuracy'], label = 'testing accuracy')\n",
    "\n",
    "plt.title(\"Winning Ticket - Training Accuracy\")\n",
    "plt.xlabel(\"number of epochs\")\n",
    "plt.ylabel(\"Accuracy\")\n",
    "plt.legend(loc = 'best')\n",
    "plt.show()"
   ]
  },
  {
   "cell_type": "code",
   "execution_count": 120,
   "metadata": {},
   "outputs": [
    {
     "data": {
      "image/png": "[encoded data removed]",
      "text/plain": [
       "<Figure size 800x720 with 1 Axes>"
      ]
     },
     "metadata": {},
     "output_type": "display_data"
    }
   ],
   "source": [
    "fig=plt.figure(figsize=(10, 9), dpi= 80, facecolor='w', edgecolor='k')\n",
    "\n",
    "plt.plot(history['loss'], label = 'training loss')\n",
    "plt.plot(history['val_loss'], label = 'testing loss')\n",
    "\n",
    "plt.title(\"Winning Ticket - Training Loss\")\n",
    "plt.xlabel(\"number of epochs\")\n",
    "plt.ylabel(\"Loss\")\n",
    "plt.legend(loc = 'best')\n",
    "plt.show()"
   ]
  },
  {
   "cell_type": "code",
   "execution_count": null,
   "metadata": {},
   "outputs": [],
   "source": []
  },
  {
   "cell_type": "code",
   "execution_count": 121,
   "metadata": {},
   "outputs": [
    {
     "name": "stdout",
     "output_type": "stream",
     "text": [
      "\n",
      "Winning Ticket model metrics:\n",
      "number of non-zero weights in each layer:\n",
      "\n",
      "171173\n",
      "300\n",
      "21833\n",
      "100\n",
      "728\n",
      "10\n",
      "\n",
      "Total # of non-zero parameters in WINNING TICKET = 194144\n",
      "\n"
     ]
    }
   ],
   "source": [
    "print(\"\\nWinning Ticket model metrics:\")\n",
    "print(\"number of non-zero weights in each layer:\\n\")\n",
    "\n",
    "winning_tkt_wts_params = 0\n",
    "\n",
    "for layer in model_gt_stripped.trainable_weights:\n",
    "    print(tf.math.count_nonzero(layer, axis = None).numpy())\n",
    "    winning_tkt_wts_params += tf.math.count_nonzero(layer, axis = None).numpy()\n",
    "\n",
    "print(\"\\nTotal # of non-zero parameters in WINNING TICKET = {0}\\n\".format(winning_tkt_wts_params))"
   ]
  },
  {
   "cell_type": "code",
   "execution_count": 123,
   "metadata": {},
   "outputs": [],
   "source": [
    "# Sanity check- number of parameters after training winning ticket and pruned parameters\n",
    "# should be equal-\n",
    "assert (winning_tkt_wts_params == pruned_sum_params), \\\n",
    "    \"Parameters in winning ticket using masks are INCREASING! Critical Error!!\""
   ]
  },
  {
   "cell_type": "code",
   "execution_count": null,
   "metadata": {},
   "outputs": [],
   "source": []
  },
  {
   "cell_type": "code",
   "execution_count": 126,
   "metadata": {},
   "outputs": [],
   "source": [
    "# Save weights of Winning Ticket (One Shot) trained with GradientTape WITHOUT pruning parameters-\n",
    "model_gt_stripped.save_weights(\"Weights/MNIST_300_100_Winning_Ticket_Trained_GradientTape.h5\", overwrite=True)"
   ]
  },
  {
   "cell_type": "code",
   "execution_count": 144,
   "metadata": {},
   "outputs": [],
   "source": [
    "# Save weights of Winning Ticket (One Shot) trained with GradientTape WITH pruning parameters-\n",
    "model_gt.save_weights(\"Weights/MNIST_300_100_Winning_Ticket_Trained_GradientTape_Pruning_Parameters.h5\", overwrite=True)"
   ]
  },
  {
   "cell_type": "code",
   "execution_count": 128,
   "metadata": {},
   "outputs": [
    {
     "name": "stdout",
     "output_type": "stream",
     "text": [
      "(784, 300)\n",
      "(300,)\n",
      "(300, 100)\n",
      "(100,)\n",
      "(100, 10)\n",
      "(10,)\n"
     ]
    }
   ],
   "source": [
    "# GradientTape model WITH pruning parameters-\n",
    "for layer in model_gt.trainable_variables:\n",
    "    print(layer.shape)"
   ]
  },
  {
   "cell_type": "code",
   "execution_count": null,
   "metadata": {},
   "outputs": [],
   "source": [
    "model_gt.trainable_variables[4]"
   ]
  },
  {
   "cell_type": "code",
   "execution_count": null,
   "metadata": {},
   "outputs": [],
   "source": []
  },
  {
   "cell_type": "code",
   "execution_count": 130,
   "metadata": {},
   "outputs": [
    {
     "name": "stdout",
     "output_type": "stream",
     "text": [
      "\n",
      "Winning Ticket model WITH PRUNING parameters metrics:\n",
      "number of non-zero weights in each layer:\n",
      "\n",
      "171173\n",
      "300\n",
      "21833\n",
      "100\n",
      "728\n",
      "10\n",
      "\n",
      "Total # of non-zero parameters = 194144\n",
      "\n"
     ]
    }
   ],
   "source": [
    "print(\"\\nWinning Ticket model WITH PRUNING parameters metrics:\")\n",
    "print(\"number of non-zero weights in each layer:\\n\")\n",
    "\n",
    "wt_pruning_params = 0\n",
    "\n",
    "for layer in model_gt.trainable_weights:\n",
    "    print(tf.math.count_nonzero(layer, axis = None).numpy())\n",
    "    wt_pruning_params += tf.math.count_nonzero(layer, axis = None).numpy()\n",
    "\n",
    "print(\"\\nTotal # of non-zero parameters = {0}\\n\".format(wt_pruning_params))"
   ]
  },
  {
   "cell_type": "code",
   "execution_count": null,
   "metadata": {},
   "outputs": [],
   "source": []
  },
  {
   "cell_type": "code",
   "execution_count": null,
   "metadata": {},
   "outputs": [],
   "source": []
  },
  {
   "cell_type": "code",
   "execution_count": 129,
   "metadata": {},
   "outputs": [
    {
     "name": "stdout",
     "output_type": "stream",
     "text": [
      "(784, 300)\n",
      "(300,)\n",
      "(300, 100)\n",
      "(100,)\n",
      "(100, 10)\n",
      "(10,)\n"
     ]
    }
   ],
   "source": [
    "# GradientTape model WITHOUT pruning parameters-\n",
    "for layer in model_gt_stripped.trainable_variables:\n",
    "    print(layer.shape)"
   ]
  },
  {
   "cell_type": "code",
   "execution_count": null,
   "metadata": {},
   "outputs": [],
   "source": [
    "model_gt_stripped.trainable_variables[4]"
   ]
  },
  {
   "cell_type": "code",
   "execution_count": 131,
   "metadata": {},
   "outputs": [
    {
     "name": "stdout",
     "output_type": "stream",
     "text": [
      "\n",
      "Winning Ticket model WITH PRUNING parameters metrics:\n",
      "number of non-zero weights in each layer:\n",
      "\n",
      "171173\n",
      "300\n",
      "21833\n",
      "100\n",
      "728\n",
      "10\n",
      "\n",
      "Total # of non-zero parameters = 194144\n",
      "\n"
     ]
    }
   ],
   "source": [
    "print(\"\\nWinning Ticket model WITH PRUNING parameters metrics:\")\n",
    "print(\"number of non-zero weights in each layer:\\n\")\n",
    "\n",
    "wt_no_pruning_params = 0\n",
    "\n",
    "for layer in model_gt_stripped.trainable_weights:\n",
    "    print(tf.math.count_nonzero(layer, axis = None).numpy())\n",
    "    wt_no_pruning_params += tf.math.count_nonzero(layer, axis = None).numpy()\n",
    "\n",
    "print(\"\\nTotal # of non-zero parameters = {0}\\n\".format(wt_no_pruning_params))"
   ]
  },
  {
   "cell_type": "code",
   "execution_count": null,
   "metadata": {},
   "outputs": [],
   "source": []
  },
  {
   "cell_type": "code",
   "execution_count": 139,
   "metadata": {},
   "outputs": [
    {
     "name": "stdout",
     "output_type": "stream",
     "text": [
      "\n",
      "Check whether weights between 'model_gt' and 'model_gt_stripped' for all layers are same:\n",
      "\n",
      "True\n",
      "True\n",
      "True\n",
      "True\n",
      "True\n",
      "True\n"
     ]
    }
   ],
   "source": [
    "print(\"\\nCheck whether weights between 'model_gt' and 'model_gt_stripped' for all layers are same:\\n\")\n",
    "\n",
    "for winning_tkt, winning_tkt_pruned in zip(model_gt.trainable_variables, model_gt_stripped.trainable_variables):\n",
    "    print(np.all(winning_tkt == winning_tkt_pruned))"
   ]
  },
  {
   "cell_type": "code",
   "execution_count": 140,
   "metadata": {},
   "outputs": [
    {
     "data": {
      "text/plain": [
       "True"
      ]
     },
     "execution_count": 140,
     "metadata": {},
     "output_type": "execute_result"
    }
   ],
   "source": [
    "# Check whether all weights in both models are same for 5th layer-\n",
    "np.all(model_gt.trainable_variables[4] == model_gt_stripped.trainable_variables[4])"
   ]
  },
  {
   "cell_type": "code",
   "execution_count": null,
   "metadata": {},
   "outputs": [],
   "source": []
  },
  {
   "cell_type": "code",
   "execution_count": null,
   "metadata": {},
   "outputs": [],
   "source": []
  },
  {
   "cell_type": "code",
   "execution_count": 149,
   "metadata": {},
   "outputs": [],
   "source": [
    "# Initialize a model to load saved weights of trained winning ticket-\n",
    "winning_tkt_retrain = pruned_nn(pruning_params_pruned)"
   ]
  },
  {
   "cell_type": "code",
   "execution_count": 150,
   "metadata": {},
   "outputs": [],
   "source": [
    "# Load weights of model trained using GradientTape WITH pruning parameters-\n",
    "winning_tkt_retrain.load_weights(\"Weights/MNIST_300_100_Winning_Ticket_Trained_GradientTape_Pruning_Parameters.h5\")"
   ]
  },
  {
   "cell_type": "markdown",
   "metadata": {},
   "source": [
    "### Sanity Check:\n",
    "Check whether number of parameters are _same_ between the winning ticket from above and loaded weights"
   ]
  },
  {
   "cell_type": "code",
   "execution_count": 152,
   "metadata": {},
   "outputs": [
    {
     "name": "stdout",
     "output_type": "stream",
     "text": [
      "\n",
      "Winning Ticket loaded for further pruning metrics:\n",
      "number of non-zero weights in each layer:\n",
      "\n",
      "171173\n",
      "300\n",
      "21833\n",
      "100\n",
      "728\n",
      "10\n",
      "\n",
      "Total # of non-zero parameters = 194144\n",
      "\n"
     ]
    }
   ],
   "source": [
    "print(\"\\nWinning Ticket loaded for further pruning metrics:\")\n",
    "print(\"number of non-zero weights in each layer:\\n\")\n",
    "\n",
    "wt_tkt_pruning_params = 0\n",
    "\n",
    "for layer in winning_tkt_retrain_stripped.trainable_variables:\n",
    "    print(tf.math.count_nonzero(layer, axis = None).numpy())\n",
    "    wt_tkt_pruning_params += tf.math.count_nonzero(layer, axis = None).numpy()\n",
    "\n",
    "print(\"\\nTotal # of non-zero parameters = {0}\\n\".format(wt_tkt_pruning_params))"
   ]
  },
  {
   "cell_type": "code",
   "execution_count": 153,
   "metadata": {},
   "outputs": [
    {
     "name": "stdout",
     "output_type": "stream",
     "text": [
      "Train on 60000 samples, validate on 10000 samples\n",
      "Epoch 1/30\n",
      "60000/60000 [==============================] - 11s 188us/sample - loss: 0.0103 - accuracy: 0.9979 - val_loss: 0.2210 - val_accuracy: 0.9782\n",
      "Epoch 2/30\n",
      "60000/60000 [==============================] - 10s 165us/sample - loss: 0.0113 - accuracy: 0.9975 - val_loss: 0.1806 - val_accuracy: 0.9818\n",
      "Epoch 3/30\n",
      "60000/60000 [==============================] - 10s 165us/sample - loss: 0.0048 - accuracy: 0.9986 - val_loss: 0.1819 - val_accuracy: 0.9818\n",
      "Epoch 4/30\n",
      "60000/60000 [==============================] - 10s 164us/sample - loss: 0.0056 - accuracy: 0.9984 - val_loss: 0.1861 - val_accuracy: 0.9811\n",
      "Epoch 5/30\n",
      "60000/60000 [==============================] - 10s 165us/sample - loss: 0.0045 - accuracy: 0.9991 - val_loss: 0.1836 - val_accuracy: 0.9826\n"
     ]
    }
   ],
   "source": [
    "# Train pruned CNN-\n",
    "history_pruned = winning_tkt_retrain.fit(\n",
    "    x = X_train, y = y_train,\n",
    "    batch_size = batch_size,\n",
    "    epochs = epochs,\n",
    "    verbose = 1,\n",
    "    callbacks = callbacks,\n",
    "    validation_data = (X_test, y_test),\n",
    "    shuffle = True\n",
    ")\n"
   ]
  },
  {
   "cell_type": "code",
   "execution_count": 156,
   "metadata": {},
   "outputs": [
    {
     "name": "stdout",
     "output_type": "stream",
     "text": [
      "\n",
      "Winning Ticket retrained model metrics on testing dataset:\n",
      "loss = 0.1836 and accuracy = 0.9826\n",
      "\n"
     ]
    }
   ],
   "source": [
    "# Evaluate pruned trained model on testing dataset-\n",
    "score_winning_tkt_retrain = winning_tkt_retrain.evaluate(X_test, y_test, verbose = 0)\n",
    "\n",
    "print(\"\\nWinning Ticket retrained model metrics on testing dataset:\")\n",
    "print(\"loss = {0:.4f} and accuracy = {1:.4f}\\n\".format(score_winning_tkt_retrain[0],\n",
    "                                                       score_winning_tkt_retrain[1]))"
   ]
  },
  {
   "cell_type": "code",
   "execution_count": 157,
   "metadata": {},
   "outputs": [],
   "source": [
    "# Strip pruning parameters-\n",
    "winning_tkt_retrain_stripped = sparsity.strip_pruning(winning_tkt_retrain)"
   ]
  },
  {
   "cell_type": "code",
   "execution_count": 158,
   "metadata": {},
   "outputs": [
    {
     "name": "stdout",
     "output_type": "stream",
     "text": [
      "\n",
      "Winning Ticket retrained metrics:\n",
      "number of non-zero weights in each layer:\n",
      "\n",
      "157535\n",
      "300\n",
      "20094\n",
      "100\n",
      "670\n",
      "10\n",
      "\n",
      "Total # of non-zero parameters = 178709\n",
      "\n"
     ]
    }
   ],
   "source": [
    "print(\"\\nWinning Ticket retrained metrics:\")\n",
    "print(\"number of non-zero weights in each layer:\\n\")\n",
    "\n",
    "wt_tkt_retrained_params = 0\n",
    "\n",
    "for layer in winning_tkt_retrain_stripped.trainable_variables:\n",
    "    print(tf.math.count_nonzero(layer, axis = None).numpy())\n",
    "    wt_tkt_retrained_params += tf.math.count_nonzero(layer, axis = None).numpy()\n",
    "\n",
    "print(\"\\nTotal # of non-zero parameters = {0}\\n\".format(wt_tkt_retrained_params))"
   ]
  },
  {
   "cell_type": "code",
   "execution_count": 162,
   "metadata": {},
   "outputs": [
    {
     "data": {
      "text/plain": [
       "0.07950284325037085"
      ]
     },
     "execution_count": 162,
     "metadata": {},
     "output_type": "execute_result"
    }
   ],
   "source": [
    "(wt_tkt_pruning_params - wt_tkt_retrained_params) / wt_tkt_pruning_params"
   ]
  },
  {
   "cell_type": "code",
   "execution_count": null,
   "metadata": {},
   "outputs": [],
   "source": []
  },
  {
   "cell_type": "code",
   "execution_count": null,
   "metadata": {},
   "outputs": [],
   "source": []
  },
  {
   "cell_type": "code",
   "execution_count": null,
   "metadata": {},
   "outputs": [],
   "source": []
  },
  {
   "cell_type": "code",
   "execution_count": null,
   "metadata": {},
   "outputs": [],
   "source": []
  },
  {
   "cell_type": "code",
   "execution_count": null,
   "metadata": {},
   "outputs": [],
   "source": []
  },
  {
   "cell_type": "code",
   "execution_count": null,
   "metadata": {},
   "outputs": [],
   "source": []
  },
  {
   "cell_type": "markdown",
   "metadata": {},
   "source": []
  },
  {
   "cell_type": "markdown",
   "metadata": {},
   "source": []
  },
  {
   "cell_type": "code",
   "execution_count": null,
   "metadata": {},
   "outputs": [],
   "source": []
  },
  {
   "cell_type": "markdown",
   "metadata": {},
   "source": [
    "## Iterative-pruning over many rounds:\n",
    "__one-shot__ pruning approach: the network is trained once, p% of weights are pruned, and the surviving weights are reset. However, in this paper, the focus is on __iterative pruning__, which repeatedly trains, prunes, and resets the network over __n__ rounds; each round prunes (p1/n)%of the weights that survive the previous round.\n",
    "The paper's results show that _iterative pruning_ finds winning tickets that match the accuracy of the original unpruned network at smaller sizes than does one-shot pruning.\n",
    "\n",
    "__The Lottery Ticket__ hypothesis showed best results when-\n",
    "\n",
    "1. The pruning and weight reinitialization of the neural network process was _iteratively_ appled over __n__ rounds (as opposed to __One-Shot__ pruning)\n",
    "\n",
    "1. Each of the __n__ rounds prunes (p 1/n)% of the weights that remain the survive round of pruning\n",
    "\n",
    "_Example:_\n",
    "\n",
    "1. Let p = 50%, so 50% of the weights are pruned away\n",
    "\n",
    "1. Let n = 5 (number of pruning rounds = 5, followed by iterative trainings)\n",
    "\n",
    "1. Now, each round prunes (p 1/n)% of the weights, or, in this example, each round prunes 10% of the weights. And, we have 5 such rounds"
   ]
  },
  {
   "cell_type": "code",
   "execution_count": null,
   "metadata": {},
   "outputs": [],
   "source": [
    "iterative_model = pruned_nn()"
   ]
  }
 ],
 "metadata": {
  "kernelspec": {
   "display_name": "Python 3",
   "language": "python",
   "name": "python3"
  },
  "language_info": {
   "codemirror_mode": {
    "name": "ipython",
    "version": 3
   },
   "file_extension": ".py",
   "mimetype": "text/x-python",
   "name": "python",
   "nbconvert_exporter": "python",
   "pygments_lexer": "ipython3",
   "version": "3.7.3"
  }
 },
 "nbformat": 4,
 "nbformat_minor": 4
}
