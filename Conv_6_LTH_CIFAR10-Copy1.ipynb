{
 "cells": [
  {
   "cell_type": "markdown",
   "metadata": {},
   "source": [
    "# Lottery Ticket Hypothesis: _Conv-6_ CNN for CIFAR10\n",
    "\n",
    "Implementation of the hypothesis using 4 convolutional layers with the following architecture:\n",
    "\n",
    "1. __Convolutional Layers:__ 64, 64, pool\n",
    "1. __Convolutional Layers:__ 128, 128, pool\n",
    "1. __Convolutional Layers:__ 256, 256, pool\n",
    "1. __Dense Layers:__ 256, 256, 10\n",
    "\n",
    "Filter/Kernel size for convolutional layers is 3 x 3, with padding and stride of 1.\n",
    "\n",
    "Filter and Stride for max-pooling layers is 2 x 2"
   ]
  },
  {
   "cell_type": "code",
   "execution_count": null,
   "metadata": {},
   "outputs": [],
   "source": []
  },
  {
   "cell_type": "code",
   "execution_count": 1,
   "metadata": {},
   "outputs": [],
   "source": [
    "import tensorflow as tf\n",
    "import numpy as np\n",
    "import matplotlib.pyplot as plt\n",
    "import math\n",
    "import tensorflow_model_optimization as tfmot\n",
    "from tensorflow_model_optimization.sparsity import keras as sparsity\n",
    "# from tensorflow.keras import datasets, layers, models\n",
    "import matplotlib.pyplot as plt\n",
    "from tensorflow.keras.layers import AveragePooling2D, Conv2D, MaxPooling2D, ReLU\n",
    "from tensorflow.keras import models, layers, datasets\n",
    "from tensorflow.keras.layers import Dense, Flatten, Reshape, Input, InputLayer\n",
    "from tensorflow.keras.models import Sequential, Model\n",
    "from tensorflow.keras.initializers import RandomNormal\n",
    "# import math\n",
    "from sklearn.metrics import accuracy_score, precision_score, recall_score"
   ]
  },
  {
   "cell_type": "code",
   "execution_count": 2,
   "metadata": {},
   "outputs": [
    {
     "data": {
      "text/plain": [
       "'2.0.0'"
      ]
     },
     "execution_count": 2,
     "metadata": {},
     "output_type": "execute_result"
    }
   ],
   "source": [
    "tf.__version__"
   ]
  },
  {
   "cell_type": "code",
   "execution_count": 3,
   "metadata": {},
   "outputs": [
    {
     "name": "stdout",
     "output_type": "stream",
     "text": [
      "env: CUDA_DEVICE_ORDER=PCI_BUS_ID\n",
      "env: CUDA_VISIBLE_DEVICES=2\n"
     ]
    }
   ],
   "source": [
    "%env CUDA_DEVICE_ORDER=PCI_BUS_ID\n",
    "%env CUDA_VISIBLE_DEVICES=2"
   ]
  },
  {
   "cell_type": "code",
   "execution_count": 3,
   "metadata": {},
   "outputs": [],
   "source": [
    "batch_size = 60\n",
    "num_classes = 10\n",
    "num_epochs = 100"
   ]
  },
  {
   "cell_type": "code",
   "execution_count": 4,
   "metadata": {},
   "outputs": [],
   "source": [
    "# Data preprocessing and cleaning:\n",
    "# input image dimensions\n",
    "img_rows, img_cols = 32, 32\n",
    "\n",
    "# Load CIFAR-10 dataset-\n",
    "(X_train, y_train), (X_test, y_test) = tf.keras.datasets.cifar10.load_data()"
   ]
  },
  {
   "cell_type": "code",
   "execution_count": 5,
   "metadata": {},
   "outputs": [
    {
     "name": "stdout",
     "output_type": "stream",
     "text": [
      "\n",
      "'input_shape' which will be used = (32, 32, 3)\n",
      "\n"
     ]
    }
   ],
   "source": [
    "if tf.keras.backend.image_data_format() == 'channels_first':\n",
    "    X_train = X_train.reshape(X_train.shape[0], 3, img_rows, img_cols)\n",
    "    X_test = X_test.reshape(X_test.shape[0], 3, img_rows, img_cols)\n",
    "    input_shape = (3, img_rows, img_cols)\n",
    "else:\n",
    "    X_train = X_train.reshape(X_train.shape[0], img_rows, img_cols, 3)\n",
    "    X_test = X_test.reshape(X_test.shape[0], img_rows, img_cols, 3)\n",
    "    input_shape = (img_rows, img_cols, 3)\n",
    "\n",
    "print(\"\\n'input_shape' which will be used = {0}\\n\".format(input_shape))"
   ]
  },
  {
   "cell_type": "code",
   "execution_count": 6,
   "metadata": {},
   "outputs": [],
   "source": [
    "# Convert datasets to floating point types-\n",
    "X_train = X_train.astype('float32')\n",
    "X_test = X_test.astype('float32')\n",
    "\n",
    "# Normalize the training and testing datasets-\n",
    "X_train /= 255.0\n",
    "X_test /= 255.0"
   ]
  },
  {
   "cell_type": "code",
   "execution_count": 7,
   "metadata": {},
   "outputs": [],
   "source": [
    "# convert class vectors/target to binary class matrices or one-hot encoded values-\n",
    "y_train = tf.keras.utils.to_categorical(y_train, num_classes)\n",
    "y_test = tf.keras.utils.to_categorical(y_test, num_classes)"
   ]
  },
  {
   "cell_type": "code",
   "execution_count": 8,
   "metadata": {},
   "outputs": [
    {
     "name": "stdout",
     "output_type": "stream",
     "text": [
      "\n",
      "Dimensions of training and testing sets are:\n",
      "X_train.shape = (50000, 32, 32, 3), y_train.shape = (50000, 10)\n",
      "X_test.shape = (10000, 32, 32, 3), y_test.shape = (10000, 10)\n"
     ]
    }
   ],
   "source": [
    "print(\"\\nDimensions of training and testing sets are:\")\n",
    "print(\"X_train.shape = {0}, y_train.shape = {1}\".format(X_train.shape, y_train.shape))\n",
    "print(\"X_test.shape = {0}, y_test.shape = {1}\".format(X_test.shape, y_test.shape))"
   ]
  },
  {
   "cell_type": "code",
   "execution_count": null,
   "metadata": {},
   "outputs": [],
   "source": []
  },
  {
   "cell_type": "code",
   "execution_count": null,
   "metadata": {},
   "outputs": [],
   "source": []
  },
  {
   "cell_type": "markdown",
   "metadata": {},
   "source": [
    "### Prepare CIFAR10 dataset for _GradientTape_ training:"
   ]
  },
  {
   "cell_type": "code",
   "execution_count": 9,
   "metadata": {},
   "outputs": [],
   "source": [
    "# Create training and testing datasets-\n",
    "train_dataset = tf.data.Dataset.from_tensor_slices((X_train, y_train))\n",
    "test_dataset = tf.data.Dataset.from_tensor_slices((X_test, y_test))"
   ]
  },
  {
   "cell_type": "code",
   "execution_count": 10,
   "metadata": {},
   "outputs": [],
   "source": [
    "train_dataset = train_dataset.shuffle(buffer_size = 20000, reshuffle_each_iteration = True).batch(batch_size = batch_size, drop_remainder = False)"
   ]
  },
  {
   "cell_type": "code",
   "execution_count": 11,
   "metadata": {},
   "outputs": [],
   "source": [
    "test_dataset = test_dataset.batch(batch_size=batch_size, drop_remainder=False)"
   ]
  },
  {
   "cell_type": "code",
   "execution_count": 12,
   "metadata": {},
   "outputs": [],
   "source": [
    "# Choose an optimizer and loss function for training-\n",
    "loss_fn = tf.keras.losses.CategoricalCrossentropy()\n",
    "optimizer = tf.keras.optimizers.Adam(lr = 0.0003)"
   ]
  },
  {
   "cell_type": "code",
   "execution_count": 13,
   "metadata": {},
   "outputs": [],
   "source": [
    "# Select metrics to measure the error & accuracy of model.\n",
    "# These metrics accumulate the values over epochs and then\n",
    "# print the overall result-\n",
    "train_loss = tf.keras.metrics.Mean(name = 'train_loss')\n",
    "train_accuracy = tf.keras.metrics.CategoricalAccuracy(name = 'train_accuracy')\n",
    "\n",
    "test_loss = tf.keras.metrics.Mean(name = 'test_loss')\n",
    "test_accuracy = tf.keras.metrics.CategoricalAccuracy(name = 'test_accuracy')"
   ]
  },
  {
   "cell_type": "code",
   "execution_count": null,
   "metadata": {},
   "outputs": [],
   "source": []
  },
  {
   "cell_type": "code",
   "execution_count": null,
   "metadata": {},
   "outputs": [],
   "source": []
  },
  {
   "cell_type": "code",
   "execution_count": 14,
   "metadata": {},
   "outputs": [
    {
     "name": "stdout",
     "output_type": "stream",
     "text": [
      "'end_step parameter' for this dataset =  83400\n"
     ]
    }
   ],
   "source": [
    "# The model is first trained without any pruning for 'num_epochs' epochs-\n",
    "epochs = num_epochs\n",
    "\n",
    "num_train_samples = X_train.shape[0]\n",
    "\n",
    "end_step = np.ceil(1.0 * num_train_samples / batch_size).astype(np.int32) * epochs\n",
    "\n",
    "print(\"'end_step parameter' for this dataset =  {0}\".format(end_step))"
   ]
  },
  {
   "cell_type": "code",
   "execution_count": 15,
   "metadata": {},
   "outputs": [],
   "source": [
    "# Specify the parameters to be used for layer-wise pruning, NO PRUNING is done here:\n",
    "pruning_params_unpruned = {\n",
    "    'pruning_schedule': sparsity.ConstantSparsity(\n",
    "        target_sparsity=0.0, begin_step=0,\n",
    "        end_step = end_step, frequency=100\n",
    "    )\n",
    "}"
   ]
  },
  {
   "cell_type": "code",
   "execution_count": null,
   "metadata": {},
   "outputs": [],
   "source": []
  },
  {
   "cell_type": "code",
   "execution_count": 16,
   "metadata": {},
   "outputs": [],
   "source": [
    "l = tf.keras.layers"
   ]
  },
  {
   "cell_type": "code",
   "execution_count": null,
   "metadata": {},
   "outputs": [],
   "source": []
  },
  {
   "cell_type": "code",
   "execution_count": 17,
   "metadata": {},
   "outputs": [],
   "source": [
    "def pruned_nn(pruning_params_conv, pruning_params_fc):\n",
    "    \"\"\"\n",
    "    Function to define the architecture of a neural network model\n",
    "    following Conv-6 architecture for CIFAR-10 dataset and using\n",
    "    provided parameter which are used to prune the model.\n",
    "    \n",
    "    Conv-6 architecture-\n",
    "    64, 64, pool  -- convolutional layers\n",
    "    128, 128, pool -- convolutional layers\n",
    "    256, 256, pool -- convolutional layers\n",
    "    256, 256, 10  -- fully connected layers\n",
    "    \n",
    "    Input: 'pruning_params' Python 3 dictionary containing parameters which are used for pruning\n",
    "    Output: Returns designed and compiled neural network model\n",
    "    \"\"\"\n",
    "    \n",
    "    pruned_model = Sequential()\n",
    "    \n",
    "    pruned_model.add(sparsity.prune_low_magnitude(\n",
    "        Conv2D(\n",
    "            filters = 64, kernel_size = (3, 3),\n",
    "            activation='relu', kernel_initializer = tf.initializers.GlorotUniform(),\n",
    "            strides = (1, 1), padding = 'same',\n",
    "            input_shape=(32, 32, 3)\n",
    "        ),\n",
    "        **pruning_params_conv)\n",
    "    )\n",
    "        \n",
    "    pruned_model.add(sparsity.prune_low_magnitude(\n",
    "        Conv2D(\n",
    "            filters = 64, kernel_size = (3, 3),\n",
    "            activation='relu', kernel_initializer = tf.initializers.GlorotUniform(),\n",
    "            strides = (1, 1), padding = 'same'\n",
    "        ),\n",
    "        **pruning_params_conv)\n",
    "    )\n",
    "    \n",
    "    pruned_model.add(sparsity.prune_low_magnitude(\n",
    "        MaxPooling2D(\n",
    "            pool_size = (2, 2),\n",
    "            strides = (2, 2)\n",
    "        ),\n",
    "        **pruning_params_conv)\n",
    "    )\n",
    "    \n",
    "    pruned_model.add(sparsity.prune_low_magnitude(\n",
    "        Conv2D(\n",
    "            filters = 128, kernel_size = (3, 3),\n",
    "            activation='relu', kernel_initializer = tf.initializers.GlorotUniform(),\n",
    "            strides = (1, 1), padding = 'same'\n",
    "        ),\n",
    "        **pruning_params_conv)\n",
    "    )\n",
    "\n",
    "    pruned_model.add(sparsity.prune_low_magnitude(\n",
    "        Conv2D(\n",
    "            filters = 128, kernel_size = (3, 3),\n",
    "            activation='relu', kernel_initializer = tf.initializers.GlorotUniform(),\n",
    "            strides = (1, 1), padding = 'same'\n",
    "        ),\n",
    "        **pruning_params_conv)\n",
    "    )\n",
    "\n",
    "    pruned_model.add(sparsity.prune_low_magnitude(\n",
    "        MaxPooling2D(\n",
    "            pool_size = (2, 2),\n",
    "            strides = (2, 2)\n",
    "        ),\n",
    "        **pruning_params_conv)\n",
    "    )\n",
    "\n",
    "    pruned_model.add(sparsity.prune_low_magnitude(\n",
    "        Conv2D(\n",
    "            filters = 256, kernel_size = (3, 3),\n",
    "            activation='relu', kernel_initializer = tf.initializers.GlorotUniform(),\n",
    "            strides = (1, 1), padding = 'same'\n",
    "        ),\n",
    "        **pruning_params_conv)\n",
    "    )\n",
    "\n",
    "    pruned_model.add(sparsity.prune_low_magnitude(\n",
    "        Conv2D(\n",
    "            filters = 256, kernel_size = (3, 3),\n",
    "            activation='relu', kernel_initializer = tf.initializers.GlorotUniform(),\n",
    "            strides = (1, 1), padding = 'same'\n",
    "        ),\n",
    "        **pruning_params_conv)\n",
    "    )\n",
    "\n",
    "    pruned_model.add(sparsity.prune_low_magnitude(\n",
    "        MaxPooling2D(\n",
    "            pool_size = (2, 2),\n",
    "            strides = (2, 2)\n",
    "        ),\n",
    "        **pruning_params_conv)\n",
    "    )\n",
    "    \n",
    "    pruned_model.add(Flatten())\n",
    "    \n",
    "    pruned_model.add(sparsity.prune_low_magnitude(\n",
    "        Dense(\n",
    "            units = 256, activation='relu',\n",
    "            kernel_initializer = tf.initializers.GlorotUniform()\n",
    "        ),\n",
    "        **pruning_params_fc)\n",
    "    )\n",
    "    \n",
    "    pruned_model.add(sparsity.prune_low_magnitude(\n",
    "        Dense(\n",
    "            units = 256, activation='relu',\n",
    "            kernel_initializer = tf.initializers.GlorotUniform()\n",
    "        ),\n",
    "        **pruning_params_fc)\n",
    "    )\n",
    "    \n",
    "    pruned_model.add(sparsity.prune_low_magnitude(\n",
    "        Dense(\n",
    "            units = 10, activation='softmax'\n",
    "        ),\n",
    "        **pruning_params_fc)\n",
    "    )\n",
    "    \n",
    "\n",
    "    # Compile pruned CNN-\n",
    "    pruned_model.compile(\n",
    "        loss=tf.keras.losses.categorical_crossentropy,\n",
    "        # optimizer='adam',\n",
    "        optimizer=tf.keras.optimizers.Adam(lr = 0.0003),\n",
    "        metrics=['accuracy']\n",
    "    )\n",
    "    \n",
    "    \n",
    "    return pruned_model\n"
   ]
  },
  {
   "cell_type": "code",
   "execution_count": null,
   "metadata": {},
   "outputs": [],
   "source": []
  },
  {
   "cell_type": "code",
   "execution_count": 18,
   "metadata": {},
   "outputs": [],
   "source": [
    "# Add a pruning step callback to peg the pruning step to the optimizer's\n",
    "# step. Also add a callback to add pruning summaries to tensorboard\n",
    "callback = [\n",
    "             sparsity.UpdatePruningStep(),\n",
    "             # sparsity.PruningSummaries(log_dir = logdir, profile_batch=0),\n",
    "             tf.keras.callbacks.EarlyStopping(\n",
    "                 monitor='val_loss', patience = 3,\n",
    "                 min_delta=0.001\n",
    "             )\n",
    "]"
   ]
  },
  {
   "cell_type": "code",
   "execution_count": null,
   "metadata": {},
   "outputs": [],
   "source": []
  },
  {
   "cell_type": "code",
   "execution_count": 19,
   "metadata": {},
   "outputs": [
    {
     "name": "stdout",
     "output_type": "stream",
     "text": [
      "WARNING:tensorflow:From /opt/conda/lib/python3.7/site-packages/tensorflow_model_optimization/python/core/sparsity/keras/pruning_wrapper.py:183: Layer.add_variable (from tensorflow.python.keras.engine.base_layer) is deprecated and will be removed in a future version.\n",
      "Instructions for updating:\n",
      "Please use `layer.add_weight` method instead.\n"
     ]
    }
   ],
   "source": [
    "# Initialize a CNN model-\n",
    "orig_model = pruned_nn(pruning_params_unpruned, pruning_params_unpruned)"
   ]
  },
  {
   "cell_type": "code",
   "execution_count": 20,
   "metadata": {},
   "outputs": [],
   "source": [
    "# Strip model of it's pruning parameters\n",
    "orig_model_stripped = sparsity.strip_pruning(orig_model)"
   ]
  },
  {
   "cell_type": "code",
   "execution_count": 21,
   "metadata": {},
   "outputs": [],
   "source": [
    "# Save random weights-\n",
    "orig_model.save_weights(\"Conv_6_CIFAR_Ramdom_Weights.h5\", overwrite=True)"
   ]
  },
  {
   "cell_type": "code",
   "execution_count": 22,
   "metadata": {},
   "outputs": [],
   "source": [
    "# Save random weights-\n",
    "orig_model.save_weights(\"Conv_6_CIFAR_Winning_Ticket.h5\", overwrite=True)"
   ]
  },
  {
   "cell_type": "code",
   "execution_count": 23,
   "metadata": {},
   "outputs": [
    {
     "name": "stdout",
     "output_type": "stream",
     "text": [
      "Model: \"sequential\"\n",
      "_________________________________________________________________\n",
      "Layer (type)                 Output Shape              Param #   \n",
      "=================================================================\n",
      "conv2d (Conv2D)              (None, 32, 32, 64)        1792      \n",
      "_________________________________________________________________\n",
      "conv2d_1 (Conv2D)            (None, 32, 32, 64)        36928     \n",
      "_________________________________________________________________\n",
      "max_pooling2d (MaxPooling2D) (None, 16, 16, 64)        0         \n",
      "_________________________________________________________________\n",
      "conv2d_2 (Conv2D)            (None, 16, 16, 128)       73856     \n",
      "_________________________________________________________________\n",
      "conv2d_3 (Conv2D)            (None, 16, 16, 128)       147584    \n",
      "_________________________________________________________________\n",
      "max_pooling2d_1 (MaxPooling2 (None, 8, 8, 128)         0         \n",
      "_________________________________________________________________\n",
      "conv2d_4 (Conv2D)            (None, 8, 8, 256)         295168    \n",
      "_________________________________________________________________\n",
      "conv2d_5 (Conv2D)            (None, 8, 8, 256)         590080    \n",
      "_________________________________________________________________\n",
      "max_pooling2d_2 (MaxPooling2 (None, 4, 4, 256)         0         \n",
      "_________________________________________________________________\n",
      "flatten (Flatten)            (None, 4096)              0         \n",
      "_________________________________________________________________\n",
      "dense (Dense)                (None, 256)               1048832   \n",
      "_________________________________________________________________\n",
      "dense_1 (Dense)              (None, 256)               65792     \n",
      "_________________________________________________________________\n",
      "dense_2 (Dense)              (None, 10)                2570      \n",
      "=================================================================\n",
      "Total params: 2,262,602\n",
      "Trainable params: 2,262,602\n",
      "Non-trainable params: 0\n",
      "_________________________________________________________________\n"
     ]
    }
   ],
   "source": [
    "# Get CNN summary-\n",
    "orig_model_stripped.summary()"
   ]
  },
  {
   "cell_type": "code",
   "execution_count": null,
   "metadata": {},
   "outputs": [],
   "source": []
  },
  {
   "cell_type": "markdown",
   "metadata": {},
   "source": [
    "### Layer-wise pruning:\n",
    "The Lottery Ticket Hypothesis follows a _layer-wise pruning_ heuristic, where the fully-connected (fc) layers are pruned at the rate of 20% per iterative\n",
    "pruning round and the convolutional (conv) layers are pruned at the rate of 15% per iterative pruning round\n",
    "for __Conv-6 Convolutional Neural Network__ for _CIFAR10_ dataset.\n",
    "\n",
    "Therefore, there is a need to compute the percentage of weights being pruned for each layer."
   ]
  },
  {
   "cell_type": "code",
   "execution_count": 24,
   "metadata": {},
   "outputs": [
    {
     "name": "stdout",
     "output_type": "stream",
     "text": [
      "\n",
      "Total number of trainable parameters = 2262602\n",
      "\n"
     ]
    }
   ],
   "source": [
    "# number of convolutional parameters-\n",
    "conv1 = 1792\n",
    "conv2 = 36928\n",
    "conv3 = 73856\n",
    "conv4 = 147584\n",
    "conv5 = 295168\n",
    "conv6 = 590080\n",
    "\n",
    "\n",
    "# number of fully-connected dense parameters-\n",
    "dense1 = 1048832\n",
    "dense2 = 65792\n",
    "op_layer = 2570\n",
    "\n",
    "\n",
    "# total number of parameters-\n",
    "total_params = conv1 + conv2 + conv3 + conv4 + conv5 + conv6 + dense1 + dense2 + op_layer\n",
    "\n",
    "print(\"\\nTotal number of trainable parameters = {0}\\n\".format(total_params))"
   ]
  },
  {
   "cell_type": "code",
   "execution_count": 25,
   "metadata": {},
   "outputs": [],
   "source": [
    "# maximum pruning performed is till 0.5% of all parameters-\n",
    "max_pruned_params = 0.005 * total_params"
   ]
  },
  {
   "cell_type": "code",
   "execution_count": 26,
   "metadata": {},
   "outputs": [],
   "source": [
    "loc_tot_params = total_params\n",
    "loc_conv1 = conv1\n",
    "loc_conv2 = conv2\n",
    "loc_conv3 = conv3\n",
    "loc_conv4 = conv4\n",
    "loc_conv5 = conv5\n",
    "loc_conv6 = conv6\n",
    "loc_dense1 = dense1\n",
    "loc_dense2 = dense2\n",
    "loc_op_layer = op_layer\n",
    "\n",
    "\n",
    "# variable to count number of pruning rounds-\n",
    "n = 0"
   ]
  },
  {
   "cell_type": "code",
   "execution_count": 27,
   "metadata": {},
   "outputs": [],
   "source": [
    "# Lists to hold percentage of weights pruned in each round for all layers in CNN-\n",
    "conv1_pruning = []\n",
    "conv2_pruning = []\n",
    "conv3_pruning = []\n",
    "conv4_pruning = []\n",
    "conv5_pruning = []\n",
    "conv6_pruning = []\n",
    "dense1_pruning = []\n",
    "dense2_pruning = []\n",
    "op_layer_pruning = []\n"
   ]
  },
  {
   "cell_type": "code",
   "execution_count": 28,
   "metadata": {},
   "outputs": [
    {
     "name": "stdout",
     "output_type": "stream",
     "text": [
      "\n",
      "Conv1 = 1523.200, Conv2 = 31388.800, Conv3 = 62777.6000\n",
      "Conv4 = 125446.400, Conv5 = 250892.800 & Conv6 = 501568.000\n",
      "Dense1 = 839065.600, Dense2 = 52633.600 & O/p layer = 2313.000\n",
      "Total number of parameters = 1867609.000\n",
      "\n",
      "\n",
      "Conv1 = 1294.720, Conv2 = 26680.480, Conv3 = 53360.9600\n",
      "Conv4 = 106629.440, Conv5 = 213258.880 & Conv6 = 426332.800\n",
      "Dense1 = 671252.480, Dense2 = 42106.880 & O/p layer = 2081.700\n",
      "Total number of parameters = 1542998.340\n",
      "\n",
      "\n",
      "Conv1 = 1100.512, Conv2 = 22678.408, Conv3 = 45356.8160\n",
      "Conv4 = 90635.024, Conv5 = 181270.048 & Conv6 = 362382.880\n",
      "Dense1 = 537001.984, Dense2 = 33685.504 & O/p layer = 1873.530\n",
      "Total number of parameters = 1275984.706\n",
      "\n",
      "\n",
      "Conv1 = 935.435, Conv2 = 19276.647, Conv3 = 38553.2936\n",
      "Conv4 = 77039.770, Conv5 = 154079.541 & Conv6 = 308025.448\n",
      "Dense1 = 429601.587, Dense2 = 26948.403 & O/p layer = 1686.177\n",
      "Total number of parameters = 1056146.302\n",
      "\n",
      "\n",
      "Conv1 = 795.120, Conv2 = 16385.150, Conv3 = 32770.2996\n",
      "Conv4 = 65483.805, Conv5 = 130967.610 & Conv6 = 261821.631\n",
      "Dense1 = 343681.270, Dense2 = 21558.723 & O/p layer = 1517.559\n",
      "Total number of parameters = 874981.166\n",
      "\n",
      "\n",
      "Conv1 = 675.852, Conv2 = 13927.377, Conv3 = 27854.7546\n",
      "Conv4 = 55661.234, Conv5 = 111322.468 & Conv6 = 222548.386\n",
      "Dense1 = 274945.016, Dense2 = 17246.978 & O/p layer = 1365.803\n",
      "Total number of parameters = 725547.870\n",
      "\n",
      "\n",
      "Conv1 = 574.474, Conv2 = 11838.271, Conv3 = 23676.5414\n",
      "Conv4 = 47312.049, Conv5 = 94624.098 & Conv6 = 189166.128\n",
      "Dense1 = 219956.013, Dense2 = 13797.582 & O/p layer = 1229.223\n",
      "Total number of parameters = 602174.380\n",
      "\n",
      "\n",
      "Conv1 = 488.303, Conv2 = 10062.530, Conv3 = 20125.0602\n",
      "Conv4 = 40215.242, Conv5 = 80430.483 & Conv6 = 160791.209\n",
      "Dense1 = 175964.810, Dense2 = 11038.066 & O/p layer = 1106.301\n",
      "Total number of parameters = 500222.004\n",
      "\n",
      "\n",
      "Conv1 = 415.058, Conv2 = 8553.151, Conv3 = 17106.3012\n",
      "Conv4 = 34182.955, Conv5 = 68365.911 & Conv6 = 136672.528\n",
      "Dense1 = 140771.848, Dense2 = 8830.453 & O/p layer = 995.671\n",
      "Total number of parameters = 415893.875\n",
      "\n",
      "\n",
      "Conv1 = 352.799, Conv2 = 7270.178, Conv3 = 14540.3560\n",
      "Conv4 = 29055.512, Conv5 = 58111.024 & Conv6 = 116171.649\n",
      "Dense1 = 112617.478, Dense2 = 7064.362 & O/p layer = 896.104\n",
      "Total number of parameters = 346079.462\n",
      "\n",
      "\n",
      "Conv1 = 299.879, Conv2 = 6179.651, Conv3 = 12359.3026\n",
      "Conv4 = 24697.185, Conv5 = 49394.371 & Conv6 = 98745.901\n",
      "Dense1 = 90093.983, Dense2 = 5651.490 & O/p layer = 806.493\n",
      "Total number of parameters = 288228.256\n",
      "\n",
      "\n",
      "Conv1 = 254.897, Conv2 = 5252.704, Conv3 = 10505.4072\n",
      "Conv4 = 20992.607, Conv5 = 41985.215 & Conv6 = 83934.016\n",
      "Dense1 = 72075.186, Dense2 = 4521.192 & O/p layer = 725.844\n",
      "Total number of parameters = 240247.069\n",
      "\n",
      "\n",
      "Conv1 = 216.663, Conv2 = 4464.798, Conv3 = 8929.5961\n",
      "Conv4 = 17843.716, Conv5 = 35687.433 & Conv6 = 71343.914\n",
      "Dense1 = 57660.149, Dense2 = 3616.953 & O/p layer = 653.260\n",
      "Total number of parameters = 200416.482\n",
      "\n",
      "\n",
      "Conv1 = 184.163, Conv2 = 3795.078, Conv3 = 7590.1567\n",
      "Conv4 = 15167.159, Conv5 = 30334.318 & Conv6 = 60642.327\n",
      "Dense1 = 46128.119, Dense2 = 2893.563 & O/p layer = 587.934\n",
      "Total number of parameters = 167322.817\n",
      "\n",
      "\n",
      "Conv1 = 156.539, Conv2 = 3225.817, Conv3 = 6451.6332\n",
      "Conv4 = 12892.085, Conv5 = 25784.170 & Conv6 = 51545.978\n",
      "Dense1 = 36902.495, Dense2 = 2314.850 & O/p layer = 529.140\n",
      "Total number of parameters = 139802.707\n",
      "\n",
      "\n",
      "Conv1 = 133.058, Conv2 = 2741.944, Conv3 = 5483.8882\n",
      "Conv4 = 10958.272, Conv5 = 21916.545 & Conv6 = 43814.081\n",
      "Dense1 = 29521.996, Dense2 = 1851.880 & O/p layer = 476.226\n",
      "Total number of parameters = 116897.891\n",
      "\n",
      "\n",
      "Conv1 = 113.099, Conv2 = 2330.652, Conv3 = 4661.3050\n",
      "Conv4 = 9314.531, Conv5 = 18629.063 & Conv6 = 37241.969\n",
      "Dense1 = 23617.597, Dense2 = 1481.504 & O/p layer = 428.604\n",
      "Total number of parameters = 97818.325\n",
      "\n",
      "\n",
      "Conv1 = 96.134, Conv2 = 1981.055, Conv3 = 3962.1092\n",
      "Conv4 = 7917.352, Conv5 = 15834.703 & Conv6 = 31655.673\n",
      "Dense1 = 18894.078, Dense2 = 1185.203 & O/p layer = 385.743\n",
      "Total number of parameters = 81912.051\n",
      "\n",
      "\n",
      "Conv1 = 81.714, Conv2 = 1683.896, Conv3 = 3367.7929\n",
      "Conv4 = 6729.749, Conv5 = 13459.498 & Conv6 = 26907.322\n",
      "Dense1 = 15115.262, Dense2 = 948.163 & O/p layer = 347.169\n",
      "Total number of parameters = 68640.567\n",
      "\n",
      "\n",
      "Conv1 = 69.457, Conv2 = 1431.312, Conv3 = 2862.6239\n",
      "Conv4 = 5720.287, Conv5 = 11440.573 & Conv6 = 22871.224\n",
      "Dense1 = 12092.210, Dense2 = 758.530 & O/p layer = 312.452\n",
      "Total number of parameters = 57558.669\n",
      "\n",
      "\n",
      "Conv1 = 59.039, Conv2 = 1216.615, Conv3 = 2433.2303\n",
      "Conv4 = 4862.244, Conv5 = 9724.487 & Conv6 = 19440.540\n",
      "Dense1 = 9673.768, Dense2 = 606.824 & O/p layer = 281.207\n",
      "Total number of parameters = 48297.954\n",
      "\n",
      "\n",
      "Conv1 = 50.183, Conv2 = 1034.123, Conv3 = 2068.2458\n",
      "Conv4 = 4132.907, Conv5 = 8265.814 & Conv6 = 16524.459\n",
      "Dense1 = 7739.014, Dense2 = 485.459 & O/p layer = 253.086\n",
      "Total number of parameters = 40553.292\n",
      "\n",
      "\n",
      "Conv1 = 42.655, Conv2 = 879.004, Conv3 = 1758.0089\n",
      "Conv4 = 3512.971, Conv5 = 7025.942 & Conv6 = 14045.791\n",
      "Dense1 = 6191.211, Dense2 = 388.367 & O/p layer = 227.778\n",
      "Total number of parameters = 34071.729\n",
      "\n",
      "\n",
      "Conv1 = 36.257, Conv2 = 747.154, Conv3 = 1494.3076\n",
      "Conv4 = 2986.025, Conv5 = 5972.051 & Conv6 = 11938.922\n",
      "Dense1 = 4952.969, Dense2 = 310.694 & O/p layer = 205.000\n",
      "Total number of parameters = 28643.379\n",
      "\n",
      "\n",
      "Conv1 = 30.818, Conv2 = 635.081, Conv3 = 1270.1614\n",
      "Conv4 = 2538.122, Conv5 = 5076.243 & Conv6 = 10148.084\n",
      "Dense1 = 3962.375, Dense2 = 248.555 & O/p layer = 184.500\n",
      "Total number of parameters = 24093.939\n",
      "\n",
      "\n",
      "Conv1 = 26.196, Conv2 = 539.819, Conv3 = 1079.6372\n",
      "Conv4 = 2157.403, Conv5 = 4314.807 & Conv6 = 8625.871\n",
      "Dense1 = 3169.900, Dense2 = 198.844 & O/p layer = 166.050\n",
      "Total number of parameters = 20278.527\n",
      "\n",
      "\n",
      "Conv1 = 22.266, Conv2 = 458.846, Conv3 = 917.6916\n",
      "Conv4 = 1833.793, Conv5 = 3667.586 & Conv6 = 7331.990\n",
      "Dense1 = 2535.920, Dense2 = 159.075 & O/p layer = 149.445\n",
      "Total number of parameters = 17076.613\n",
      "\n",
      "\n",
      "Conv1 = 18.926, Conv2 = 390.019, Conv3 = 780.0379\n",
      "Conv4 = 1558.724, Conv5 = 3117.448 & Conv6 = 6232.192\n",
      "Dense1 = 2028.736, Dense2 = 127.260 & O/p layer = 134.500\n",
      "Total number of parameters = 14387.844\n",
      "\n",
      "\n",
      "Conv1 = 16.087, Conv2 = 331.516, Conv3 = 663.0322\n",
      "Conv4 = 1324.915, Conv5 = 2649.831 & Conv6 = 5297.363\n",
      "Dense1 = 1622.989, Dense2 = 101.808 & O/p layer = 121.050\n",
      "Total number of parameters = 12128.592\n",
      "\n",
      "\n",
      "Conv1 = 13.674, Conv2 = 281.789, Conv3 = 563.5774\n",
      "Conv4 = 1126.178, Conv5 = 2252.356 & Conv6 = 4502.759\n",
      "Dense1 = 1298.391, Dense2 = 81.447 & O/p layer = 108.945\n",
      "Total number of parameters = 10229.116\n",
      "\n"
     ]
    }
   ],
   "source": [
    "while loc_tot_params >= max_pruned_params:\n",
    "    loc_conv1 *= 0.85    # 15% weights are pruned\n",
    "    loc_conv2 *= 0.85    # 15% weights are pruned\n",
    "    loc_conv3 *= 0.85    # 15% weights are pruned\n",
    "    loc_conv4 *= 0.85    # 15% weights are pruned\n",
    "    loc_conv5 *= 0.85    # 15% weights are pruned\n",
    "    loc_conv6 *= 0.85    # 15% weights are pruned\n",
    "    loc_dense1 *= 0.8   # 20% weights are pruned\n",
    "    loc_dense2 *= 0.8   # 20% weights are pruned\n",
    "    loc_op_layer *= 0.9 # 10% weights are pruned\n",
    "\n",
    "    conv1_pruning.append(((conv1 - loc_conv1) / conv1) * 100)\n",
    "    conv2_pruning.append(((conv2 - loc_conv2) / conv2) * 100)\n",
    "    conv3_pruning.append(((conv3 - loc_conv3) / conv3) * 100)\n",
    "    conv4_pruning.append(((conv4 - loc_conv4) / conv4) * 100)\n",
    "    conv5_pruning.append(((conv5 - loc_conv5) / conv5) * 100)\n",
    "    conv6_pruning.append(((conv6 - loc_conv6) / conv6) * 100)\n",
    "    dense1_pruning.append(((dense1 - loc_dense1) / dense1) * 100)\n",
    "    dense2_pruning.append(((dense2 - loc_dense2) / dense2) * 100)\n",
    "    op_layer_pruning.append(((op_layer - loc_op_layer) / op_layer) * 100)\n",
    "\n",
    "    loc_tot_params = loc_conv1 + loc_conv2 + loc_conv3 + loc_conv4 + \\\n",
    "    loc_conv5 + loc_conv6 + loc_dense1 + loc_dense2 + loc_op_layer\n",
    "\n",
    "    n += 1\n",
    "\n",
    "    print(\"\\nConv1 = {0:.3f}, Conv2 = {1:.3f}, Conv3 = {2:.4f}\".format(loc_conv1, loc_conv2, loc_conv3))\n",
    "    print(\"Conv4 = {0:.3f}, Conv5 = {1:.3f} & Conv6 = {2:.3f}\".format(loc_conv4, loc_conv5, loc_conv6))\n",
    "    print(\"Dense1 = {0:.3f}, Dense2 = {1:.3f} & O/p layer = {2:.3f}\".format(\n",
    "        loc_dense1, loc_dense2, loc_op_layer))\n",
    "    print(\"Total number of parameters = {0:.3f}\\n\".format(loc_tot_params))\n",
    "\n"
   ]
  },
  {
   "cell_type": "code",
   "execution_count": 29,
   "metadata": {},
   "outputs": [
    {
     "name": "stdout",
     "output_type": "stream",
     "text": [
      "\n",
      "number of pruning rounds = 30\n",
      "\n",
      "\n"
     ]
    }
   ],
   "source": [
    "print(\"\\nnumber of pruning rounds = {0}\\n\\n\".format(n))"
   ]
  },
  {
   "cell_type": "code",
   "execution_count": 30,
   "metadata": {},
   "outputs": [],
   "source": [
    "num_pruning_rounds = n"
   ]
  },
  {
   "cell_type": "code",
   "execution_count": null,
   "metadata": {},
   "outputs": [],
   "source": []
  },
  {
   "cell_type": "code",
   "execution_count": 31,
   "metadata": {},
   "outputs": [],
   "source": [
    "# Convert from list to np.array-\n",
    "conv1_pruning = np.array(conv1_pruning)\n",
    "conv2_pruning = np.array(conv2_pruning)\n",
    "conv3_pruning = np.array(conv3_pruning)\n",
    "conv4_pruning = np.array(conv4_pruning)\n",
    "conv5_pruning = np.array(conv5_pruning)\n",
    "conv6_pruning = np.array(conv6_pruning)\n",
    "dense1_pruning = np.array(dense1_pruning)\n",
    "dense2_pruning = np.array(dense2_pruning)\n",
    "op_layer_pruning = np.array(op_layer_pruning)\n"
   ]
  },
  {
   "cell_type": "code",
   "execution_count": 32,
   "metadata": {},
   "outputs": [],
   "source": [
    "# Round off numpy arrays to 3 decimal digits-\n",
    "conv1_pruning = np.round(conv1_pruning, decimals=3)\n",
    "conv2_pruning = np.round(conv2_pruning, decimals=3)\n",
    "conv3_pruning = np.round(conv3_pruning, decimals = 3)\n",
    "conv4_pruning = np.round(conv4_pruning, decimals = 3)\n",
    "conv5_pruning = np.round(conv5_pruning, decimals = 3)\n",
    "conv6_pruning = np.round(conv6_pruning, decimals = 3)\n",
    "dense1_pruning = np.round(dense1_pruning, decimals=3)\n",
    "dense2_pruning = np.round(dense2_pruning, decimals=3)\n",
    "op_layer_pruning = np.round(op_layer_pruning, decimals=3)\n"
   ]
  },
  {
   "cell_type": "code",
   "execution_count": null,
   "metadata": {},
   "outputs": [],
   "source": [
    "# Sanity check-\n",
    "for i in range(6):\n",
    "    print(\"\\nconv1 = {0:.2f}, conv2 = {1:.2f}\".format(conv1_pruning[i], conv2_pruning[i]))\n",
    "    print(\"dense1 = {0:.2f}, dense2 = {1:.2f} & op = {2:.2f}\\n\".format(dense1_pruning[i], dense2_pruning[i], op_layer_pruning[i]))"
   ]
  },
  {
   "cell_type": "code",
   "execution_count": 34,
   "metadata": {},
   "outputs": [
    {
     "data": {
      "image/png": "[encoded data removed]",
      "text/plain": [
       "<Figure size 800x720 with 1 Axes>"
      ]
     },
     "metadata": {},
     "output_type": "display_data"
    }
   ],
   "source": [
    "# Visualize layer-wise pruning heuristics-\n",
    "\n",
    "fig=plt.figure(figsize=(10, 9), dpi= 80, facecolor='w', edgecolor='k')\n",
    "\n",
    "plt.plot(conv1_pruning, label = 'Conv1 Pruning')\n",
    "plt.plot(conv2_pruning, label = 'Conv2 Pruning')\n",
    "plt.plot(conv3_pruning, label = 'Conv3 Pruning')\n",
    "plt.plot(conv4_pruning, label = 'Conv4 Pruning')\n",
    "plt.plot(conv5_pruning, label = 'Conv5 Pruning')\n",
    "plt.plot(conv6_pruning, label = 'Conv6 Pruning')\n",
    "\n",
    "plt.plot(dense1_pruning, label = 'Dense1 Pruning')\n",
    "plt.plot(dense2_pruning, label = 'Dense1 Pruning')\n",
    "plt.plot(op_layer_pruning, label = 'Dense1 Pruning')\n",
    "\n",
    "plt.title(\"Layer-Wise Pruning - Visualization\")\n",
    "plt.xlabel(\"number of epochs\")\n",
    "plt.ylabel(\"percentage of weights pruned\")\n",
    "plt.legend(loc = 'best')\n",
    "plt.grid(True)\n",
    "plt.show()"
   ]
  },
  {
   "cell_type": "code",
   "execution_count": null,
   "metadata": {},
   "outputs": [],
   "source": []
  },
  {
   "cell_type": "code",
   "execution_count": null,
   "metadata": {},
   "outputs": [],
   "source": []
  },
  {
   "cell_type": "markdown",
   "metadata": {},
   "source": [
    "### NOTE:\n",
    "\n",
    "Make sure that the pruning rates are between 0 and 1 for _TensorFlow Pruning_ to work"
   ]
  },
  {
   "cell_type": "code",
   "execution_count": 35,
   "metadata": {},
   "outputs": [],
   "source": [
    "conv1_pruning = conv1_pruning / 100\n",
    "conv2_pruning = conv2_pruning / 100\n",
    "conv3_pruning = conv3_pruning / 100\n",
    "conv4_pruning = conv4_pruning / 100\n",
    "conv5_pruning = conv5_pruning / 100\n",
    "conv6_pruning = conv6_pruning / 100\n",
    "dense1_pruning = dense1_pruning / 100\n",
    "dense2_pruning = dense2_pruning / 100\n",
    "op_layer_pruning = op_layer_pruning / 100\n"
   ]
  },
  {
   "cell_type": "code",
   "execution_count": 36,
   "metadata": {},
   "outputs": [
    {
     "data": {
      "text/plain": [
       "array([0.15   , 0.2775 , 0.38588, 0.47799, 0.55629, 0.62285, 0.67942,\n",
       "       0.72751, 0.76838, 0.80313, 0.83266, 0.85776, 0.87909, 0.89723,\n",
       "       0.91265, 0.92575, 0.93689, 0.94635, 0.9544 , 0.96124, 0.96705,\n",
       "       0.972  , 0.9762 , 0.97977, 0.9828 , 0.98538, 0.98757, 0.98944,\n",
       "       0.99102, 0.99237])"
      ]
     },
     "execution_count": 36,
     "metadata": {},
     "output_type": "execute_result"
    }
   ],
   "source": [
    "# Sanity check-\n",
    "# np.all(conv1_pruning == conv4_pruning)\n",
    "conv1_pruning"
   ]
  },
  {
   "cell_type": "code",
   "execution_count": null,
   "metadata": {},
   "outputs": [],
   "source": []
  },
  {
   "cell_type": "code",
   "execution_count": null,
   "metadata": {},
   "outputs": [],
   "source": []
  },
  {
   "cell_type": "markdown",
   "metadata": {},
   "source": [
    "### Create a mask:\n",
    "A mask is created where all parameters equal to one.\n",
    "\n",
    "This will be used later by _GradientTape_ for training the defined neural network."
   ]
  },
  {
   "cell_type": "code",
   "execution_count": 37,
   "metadata": {},
   "outputs": [],
   "source": [
    "# Instantiate a new neural network model for which, the mask is to be created,\n",
    "# according to the paper-\n",
    "mask_model = pruned_nn(pruning_params_unpruned, pruning_params_unpruned)"
   ]
  },
  {
   "cell_type": "code",
   "execution_count": 38,
   "metadata": {},
   "outputs": [],
   "source": [
    "# Strip the model of its pruning parameters-\n",
    "mask_model_stripped = sparsity.strip_pruning(mask_model)"
   ]
  },
  {
   "cell_type": "code",
   "execution_count": 39,
   "metadata": {},
   "outputs": [],
   "source": [
    "# Assign all masks to one-\n",
    "\n",
    "for wts in mask_model_stripped.trainable_weights:\n",
    "    wts.assign(\n",
    "        tf.ones_like(\n",
    "            input = wts,\n",
    "            dtype = tf.float32\n",
    "        )\n",
    "\n",
    "    )\n",
    "    # wts.assign(1.)\n",
    "    # wts.assign(tf.where(tf.equal(wts, 0.), 0., 1.))"
   ]
  },
  {
   "cell_type": "code",
   "execution_count": 40,
   "metadata": {},
   "outputs": [
    {
     "name": "stdout",
     "output_type": "stream",
     "text": [
      "\n",
      "Mask model metrics:\n",
      "layer-wise number of nonzero parameters in each layer are: \n",
      "\n",
      "1728\n",
      "64\n",
      "36864\n",
      "64\n",
      "73728\n",
      "128\n",
      "147456\n",
      "128\n",
      "294912\n",
      "256\n",
      "589824\n",
      "256\n",
      "1048576\n",
      "256\n",
      "65536\n",
      "256\n",
      "2560\n",
      "10\n",
      "\n",
      "Total number of trainable parameters = 2262602\n",
      "\n"
     ]
    }
   ],
   "source": [
    "print(\"\\nMask model metrics:\")\n",
    "print(\"layer-wise number of nonzero parameters in each layer are: \\n\")\n",
    "\n",
    "masked_sum_params = 0\n",
    "\n",
    "for layer in mask_model_stripped.trainable_weights:\n",
    "    print(tf.math.count_nonzero(layer, axis = None).numpy())\n",
    "    masked_sum_params += tf.math.count_nonzero(layer, axis = None).numpy()\n",
    "\n",
    "print(\"\\nTotal number of trainable parameters = {0}\\n\".format(masked_sum_params))"
   ]
  },
  {
   "cell_type": "code",
   "execution_count": null,
   "metadata": {},
   "outputs": [],
   "source": []
  },
  {
   "cell_type": "code",
   "execution_count": null,
   "metadata": {},
   "outputs": [],
   "source": []
  },
  {
   "cell_type": "code",
   "execution_count": 41,
   "metadata": {},
   "outputs": [
    {
     "name": "stdout",
     "output_type": "stream",
     "text": [
      "\n",
      "number of pruning rounds for Conv-6 CNN = 30 and number of epochs = 100\n",
      "\n"
     ]
    }
   ],
   "source": [
    "print(\"\\nnumber of pruning rounds for Conv-6 CNN = {0} and number of epochs = {1}\\n\".format(num_pruning_rounds, num_epochs))"
   ]
  },
  {
   "cell_type": "code",
   "execution_count": 42,
   "metadata": {},
   "outputs": [
    {
     "name": "stdout",
     "output_type": "stream",
     "text": [
      "orig_sum_params =  2262602\n"
     ]
    }
   ],
   "source": [
    "orig_sum_params = total_params\n",
    "print(\"orig_sum_params = \", orig_sum_params)"
   ]
  },
  {
   "cell_type": "code",
   "execution_count": null,
   "metadata": {},
   "outputs": [],
   "source": []
  },
  {
   "cell_type": "code",
   "execution_count": null,
   "metadata": {},
   "outputs": [],
   "source": []
  },
  {
   "cell_type": "markdown",
   "metadata": {},
   "source": [
    "### Python 3 dictionary to hold model training metrics for each of _n_ rounds:"
   ]
  },
  {
   "cell_type": "code",
   "execution_count": 43,
   "metadata": {},
   "outputs": [],
   "source": [
    "# Method - 1: Nested Python 3 dictionaries:\n",
    "history_main = {}\n",
    "\n",
    "# for x in range(num_pruning_rounds + 1):\n",
    "for x in range(num_pruning_rounds):\n",
    "    history = {}\n",
    "    \n",
    "    # CNN model, scalar metrics-\n",
    "    history['accuracy'] = np.zeros(shape = num_epochs)\n",
    "    history['val_accuracy'] = np.zeros(shape = num_epochs)\n",
    "    history['loss'] = np.zeros(shape = num_epochs)\n",
    "    history['val_loss'] = np.zeros(shape = num_epochs)\n",
    "    \n",
    "    # compute % of weights pruned at the end of each iterative pruning round-\n",
    "    history['percentage_wts_pruned'] = 90\n",
    "    \n",
    "    # history['epoch_length'] = np.zeros(shape = num_epochs)\n",
    "\n",
    "    history_main[x + 1] = history\n"
   ]
  },
  {
   "cell_type": "code",
   "execution_count": 44,
   "metadata": {},
   "outputs": [
    {
     "data": {
      "text/plain": [
       "dict_keys([1, 2, 3, 4, 5, 6, 7, 8, 9, 10, 11, 12, 13, 14, 15, 16, 17, 18, 19, 20, 21, 22, 23, 24, 25, 26, 27, 28, 29, 30])"
      ]
     },
     "execution_count": 44,
     "metadata": {},
     "output_type": "execute_result"
    }
   ],
   "source": [
    "# Sanity check-\n",
    "history_main.keys()"
   ]
  },
  {
   "cell_type": "code",
   "execution_count": 45,
   "metadata": {},
   "outputs": [
    {
     "data": {
      "text/plain": [
       "dict_keys(['accuracy', 'val_accuracy', 'loss', 'val_loss', 'percentage_wts_pruned'])"
      ]
     },
     "execution_count": 45,
     "metadata": {},
     "output_type": "execute_result"
    }
   ],
   "source": [
    "# Sanity check-\n",
    "history_main[2].keys()"
   ]
  },
  {
   "cell_type": "code",
   "execution_count": 46,
   "metadata": {},
   "outputs": [
    {
     "data": {
      "text/plain": [
       "(100,)"
      ]
     },
     "execution_count": 46,
     "metadata": {},
     "output_type": "execute_result"
    }
   ],
   "source": [
    "# Sanity check-\n",
    "history_main[10]['accuracy'].shape"
   ]
  },
  {
   "cell_type": "code",
   "execution_count": null,
   "metadata": {},
   "outputs": [],
   "source": []
  },
  {
   "cell_type": "code",
   "execution_count": null,
   "metadata": {},
   "outputs": [],
   "source": [
    "# Sanity check-\n",
    "# These are the 20% pruning for fully-connected layers and 15% pruning for convolutional layers which will be used\n",
    "for i in range(1, num_pruning_rounds + 1):\n",
    "    print(\"Conv pruning = {0:.4f}, Dense pruning = {1:.4f}\".format(conv1_pruning[i - 1], dense1_pruning[i - 1]))"
   ]
  },
  {
   "cell_type": "code",
   "execution_count": null,
   "metadata": {},
   "outputs": [],
   "source": []
  },
  {
   "cell_type": "code",
   "execution_count": null,
   "metadata": {},
   "outputs": [],
   "source": []
  },
  {
   "cell_type": "code",
   "execution_count": 47,
   "metadata": {},
   "outputs": [],
   "source": [
    "# User input parameters for Early Stopping in manual implementation-\n",
    "minimum_delta = 0.001\n",
    "patience = 3"
   ]
  },
  {
   "cell_type": "code",
   "execution_count": 48,
   "metadata": {},
   "outputs": [],
   "source": [
    "best_val_loss = 100\n",
    "loc_patience = 0"
   ]
  },
  {
   "cell_type": "code",
   "execution_count": null,
   "metadata": {},
   "outputs": [],
   "source": []
  },
  {
   "cell_type": "code",
   "execution_count": null,
   "metadata": {},
   "outputs": [],
   "source": [
    "# Sanity check: layer-wise pruning heuristic for each iterative-pruning round-\n",
    "for i in range(1, num_pruning_rounds + 1):\n",
    "    print('Iterative Pruning Round = {0}; Conv pruning = {1:.3f} & Dense pruning = {2:.3f}'.format(\n",
    "        i, conv1_pruning[i - 1], dense1_pruning[i - 1]))"
   ]
  },
  {
   "cell_type": "code",
   "execution_count": null,
   "metadata": {},
   "outputs": [],
   "source": []
  },
  {
   "cell_type": "code",
   "execution_count": null,
   "metadata": {},
   "outputs": [],
   "source": []
  },
  {
   "cell_type": "code",
   "execution_count": null,
   "metadata": {},
   "outputs": [
    {
     "name": "stdout",
     "output_type": "stream",
     "text": [
      "\n",
      "\n",
      "\n",
      "Iterative pruning round: 1\n",
      "\n",
      "\n",
      "Epoch 1, Loss: 1.5149, Accuracy: 43.9420, Test Loss: 1.1560, Test Accuracy: 58.619999\n",
      "Total number of trainable parameters = 2262601\n",
      "\n",
      "Epoch 2, Loss: 0.9943, Accuracy: 64.5320, Test Loss: 0.9098, Test Accuracy: 67.599998\n",
      "Total number of trainable parameters = 2262601\n",
      "\n",
      "Epoch 3, Loss: 0.7546, Accuracy: 73.2940, Test Loss: 0.7787, Test Accuracy: 73.009995\n",
      "Total number of trainable parameters = 2262601\n",
      "\n",
      "Epoch 4, Loss: 0.5984, Accuracy: 79.1440, Test Loss: 0.7681, Test Accuracy: 73.199997\n",
      "Total number of trainable parameters = 2262601\n",
      "\n",
      "Epoch 5, Loss: 0.4758, Accuracy: 83.3460, Test Loss: 0.6664, Test Accuracy: 78.260002\n",
      "Total number of trainable parameters = 2262601\n",
      "\n",
      "Epoch 6, Loss: 0.3723, Accuracy: 86.8720, Test Loss: 0.6140, Test Accuracy: 80.190002\n",
      "Total number of trainable parameters = 2262601\n",
      "\n",
      "Epoch 7, Loss: 0.2706, Accuracy: 90.6360, Test Loss: 0.6934, Test Accuracy: 79.629997\n",
      "Total number of trainable parameters = 2262602\n",
      "\n",
      "Epoch 8, Loss: 0.1900, Accuracy: 93.3580, Test Loss: 0.7897, Test Accuracy: 78.839996\n",
      "Total number of trainable parameters = 2262602\n",
      "\n",
      "Epoch 9, Loss: 0.1348, Accuracy: 95.2640, Test Loss: 0.8712, Test Accuracy: 79.339996\n",
      "Total number of trainable parameters = 2262602\n",
      "\n",
      "\n",
      "'EarlyStopping' called!\n",
      "\n",
      "Train on 50000 samples, validate on 10000 samples\n",
      "Epoch 1/100\n",
      "50000/50000 [==============================] - 205s 4ms/sample - loss: 0.1061 - accuracy: 0.9630 - val_loss: 0.8817 - val_accuracy: 0.7997\n",
      "Epoch 2/100\n",
      "50000/50000 [==============================] - 202s 4ms/sample - loss: 0.0643 - accuracy: 0.9779 - val_loss: 1.0077 - val_accuracy: 0.7865\n",
      "Epoch 3/100\n",
      "50000/50000 [==============================] - 202s 4ms/sample - loss: 0.0614 - accuracy: 0.9783 - val_loss: 1.0903 - val_accuracy: 0.7959\n",
      "Epoch 4/100\n",
      "50000/50000 [==============================] - 203s 4ms/sample - loss: 0.0494 - accuracy: 0.9834 - val_loss: 1.1034 - val_accuracy: 0.7993\n",
      "\n",
      "Round = 1, total number of trainable parameters = 1867591\n",
      "\n",
      "\n",
      "\n",
      "\n",
      "Iterative pruning round: 2\n",
      "\n",
      "\n",
      "Epoch 1, Loss: 1.4530, Accuracy: 46.2060, Test Loss: 1.0673, Test Accuracy: 61.510002\n",
      "Total number of trainable parameters = 1867587\n",
      "\n",
      "Epoch 2, Loss: 0.9508, Accuracy: 66.1340, Test Loss: 0.8903, Test Accuracy: 68.930000\n",
      "Total number of trainable parameters = 1867590\n",
      "\n",
      "Epoch 3, Loss: 0.7608, Accuracy: 73.0820, Test Loss: 0.7853, Test Accuracy: 72.459999\n",
      "Total number of trainable parameters = 1867591\n",
      "\n",
      "Epoch 4, Loss: 0.6349, Accuracy: 77.5940, Test Loss: 0.6956, Test Accuracy: 76.120003\n",
      "Total number of trainable parameters = 1867591\n",
      "\n",
      "Epoch 5, Loss: 0.5291, Accuracy: 81.3860, Test Loss: 0.6765, Test Accuracy: 76.880005\n",
      "Total number of trainable parameters = 1867591\n",
      "\n",
      "Epoch 6, Loss: 0.4492, Accuracy: 84.3860, Test Loss: 0.6464, Test Accuracy: 78.250000\n",
      "Total number of trainable parameters = 1867591\n",
      "\n",
      "Epoch 7, Loss: 0.3644, Accuracy: 87.3740, Test Loss: 0.6626, Test Accuracy: 77.949997\n",
      "Total number of trainable parameters = 1867591\n",
      "\n",
      "Epoch 8, Loss: 0.2887, Accuracy: 89.9180, Test Loss: 0.7105, Test Accuracy: 78.759995\n",
      "Total number of trainable parameters = 1867591\n",
      "\n",
      "Epoch 9, Loss: 0.2232, Accuracy: 92.2280, Test Loss: 0.7398, Test Accuracy: 79.689995\n",
      "Total number of trainable parameters = 1867591\n",
      "\n",
      "\n",
      "'EarlyStopping' called!\n",
      "\n",
      "Train on 50000 samples, validate on 10000 samples\n",
      "Epoch 1/100\n",
      "50000/50000 [==============================] - 151s 3ms/sample - loss: 0.1670 - accuracy: 0.9419 - val_loss: 0.8169 - val_accuracy: 0.7852\n",
      "Epoch 2/100\n",
      "50000/50000 [==============================] - 148s 3ms/sample - loss: 0.1078 - accuracy: 0.9636 - val_loss: 0.8686 - val_accuracy: 0.7951\n",
      "Epoch 3/100\n",
      "50000/50000 [==============================] - 148s 3ms/sample - loss: 0.0807 - accuracy: 0.9725 - val_loss: 1.0004 - val_accuracy: 0.7930\n",
      "Epoch 4/100\n",
      "50000/50000 [==============================] - 148s 3ms/sample - loss: 0.0650 - accuracy: 0.9779 - val_loss: 1.0639 - val_accuracy: 0.7881\n",
      "\n",
      "Round = 2, total number of trainable parameters = 1542997\n",
      "\n",
      "\n",
      "\n",
      "\n",
      "Iterative pruning round: 3\n",
      "\n",
      "\n",
      "Epoch 1, Loss: 1.6280, Accuracy: 39.7740, Test Loss: 1.2136, Test Accuracy: 56.300003\n",
      "Total number of trainable parameters = 1542996\n",
      "\n",
      "Epoch 2, Loss: 1.0545, Accuracy: 62.3140, Test Loss: 0.9511, Test Accuracy: 65.690002\n",
      "Total number of trainable parameters = 1542996\n",
      "\n",
      "Epoch 3, Loss: 0.8509, Accuracy: 69.6420, Test Loss: 0.8195, Test Accuracy: 70.970001\n",
      "Total number of trainable parameters = 1542996\n",
      "\n",
      "Epoch 4, Loss: 0.7179, Accuracy: 74.7580, Test Loss: 0.7280, Test Accuracy: 74.680000\n",
      "Total number of trainable parameters = 1542996\n",
      "\n",
      "Epoch 5, Loss: 0.6191, Accuracy: 78.2700, Test Loss: 0.6819, Test Accuracy: 76.310005\n",
      "Total number of trainable parameters = 1542996\n",
      "\n",
      "Epoch 6, Loss: 0.5406, Accuracy: 80.9420, Test Loss: 0.6877, Test Accuracy: 76.720001\n",
      "Total number of trainable parameters = 1542996\n",
      "\n",
      "Epoch 7, Loss: 0.4711, Accuracy: 83.3380, Test Loss: 0.6564, Test Accuracy: 77.980003\n",
      "Total number of trainable parameters = 1542996\n",
      "\n",
      "Epoch 8, Loss: 0.4055, Accuracy: 85.7640, Test Loss: 0.6476, Test Accuracy: 79.159996\n",
      "Total number of trainable parameters = 1542997\n",
      "\n",
      "Epoch 9, Loss: 0.3427, Accuracy: 88.0120, Test Loss: 0.6567, Test Accuracy: 79.339996\n",
      "Total number of trainable parameters = 1542997\n",
      "\n",
      "Epoch 10, Loss: 0.2891, Accuracy: 89.8600, Test Loss: 0.6476, Test Accuracy: 79.709999\n",
      "Total number of trainable parameters = 1542997\n",
      "\n",
      "Epoch 11, Loss: 0.2347, Accuracy: 91.8960, Test Loss: 0.6807, Test Accuracy: 79.949997\n",
      "Total number of trainable parameters = 1542997\n",
      "\n",
      "Epoch 12, Loss: 0.1834, Accuracy: 93.6560, Test Loss: 0.7626, Test Accuracy: 79.400002\n",
      "Total number of trainable parameters = 1542997\n",
      "\n",
      "Epoch 13, Loss: 0.1419, Accuracy: 95.2300, Test Loss: 0.8103, Test Accuracy: 79.189995\n",
      "Total number of trainable parameters = 1542997\n",
      "\n",
      "\n",
      "'EarlyStopping' called!\n",
      "\n",
      "Train on 50000 samples, validate on 10000 samples\n",
      "Epoch 1/100\n",
      "50000/50000 [==============================] - 152s 3ms/sample - loss: 0.1210 - accuracy: 0.9574 - val_loss: 0.8712 - val_accuracy: 0.7957\n",
      "Epoch 2/100\n",
      "50000/50000 [==============================] - 149s 3ms/sample - loss: 0.0746 - accuracy: 0.9746 - val_loss: 1.0017 - val_accuracy: 0.7987\n",
      "Epoch 3/100\n",
      "50000/50000 [==============================] - 149s 3ms/sample - loss: 0.0600 - accuracy: 0.9790 - val_loss: 1.0817 - val_accuracy: 0.7873\n",
      "Epoch 4/100\n",
      "50000/50000 [==============================] - 149s 3ms/sample - loss: 0.0568 - accuracy: 0.9805 - val_loss: 1.0390 - val_accuracy: 0.7982\n",
      "\n",
      "Round = 3, total number of trainable parameters = 1276022\n",
      "\n",
      "\n",
      "\n",
      "\n",
      "Iterative pruning round: 4\n",
      "\n",
      "\n",
      "Epoch 1, Loss: 1.3799, Accuracy: 49.0740, Test Loss: 1.0328, Test Accuracy: 63.050003\n",
      "Total number of trainable parameters = 1275998\n",
      "\n",
      "Epoch 2, Loss: 0.8992, Accuracy: 67.5760, Test Loss: 0.8366, Test Accuracy: 70.320000\n",
      "Total number of trainable parameters = 1276004\n",
      "\n",
      "Epoch 3, Loss: 0.7334, Accuracy: 74.0820, Test Loss: 0.7941, Test Accuracy: 72.419998\n",
      "Total number of trainable parameters = 1276010\n",
      "\n",
      "Epoch 4, Loss: 0.6194, Accuracy: 78.0340, Test Loss: 0.7271, Test Accuracy: 75.169998\n",
      "Total number of trainable parameters = 1276013\n",
      "\n",
      "Epoch 5, Loss: 0.5412, Accuracy: 81.0180, Test Loss: 0.6333, Test Accuracy: 78.619995\n",
      "Total number of trainable parameters = 1276017\n",
      "\n",
      "Epoch 6, Loss: 0.4732, Accuracy: 83.3800, Test Loss: 0.6270, Test Accuracy: 78.599998\n",
      "Total number of trainable parameters = 1276019\n",
      "\n",
      "Epoch 7, Loss: 0.4050, Accuracy: 85.7980, Test Loss: 0.6113, Test Accuracy: 79.919998\n",
      "Total number of trainable parameters = 1276020\n",
      "\n",
      "Epoch 8, Loss: 0.3462, Accuracy: 87.7880, Test Loss: 0.6071, Test Accuracy: 80.400002\n",
      "Total number of trainable parameters = 1276021\n",
      "\n",
      "Epoch 9, Loss: 0.2850, Accuracy: 90.0720, Test Loss: 0.6555, Test Accuracy: 80.580002\n",
      "Total number of trainable parameters = 1276021\n",
      "\n",
      "Epoch 10, Loss: 0.2288, Accuracy: 92.0160, Test Loss: 0.6955, Test Accuracy: 79.939995\n",
      "Total number of trainable parameters = 1276021\n",
      "\n",
      "Epoch 11, Loss: 0.1796, Accuracy: 93.6940, Test Loss: 0.7252, Test Accuracy: 80.290001\n",
      "Total number of trainable parameters = 1276021\n",
      "\n",
      "\n",
      "'EarlyStopping' called!\n",
      "\n",
      "Train on 50000 samples, validate on 10000 samples\n",
      "Epoch 1/100\n",
      "50000/50000 [==============================] - 152s 3ms/sample - loss: 0.1416 - accuracy: 0.9506 - val_loss: 0.8815 - val_accuracy: 0.7809\n",
      "Epoch 2/100\n",
      "50000/50000 [==============================] - 149s 3ms/sample - loss: 0.1030 - accuracy: 0.9645 - val_loss: 0.9500 - val_accuracy: 0.7947\n",
      "Epoch 3/100\n",
      "50000/50000 [==============================] - 149s 3ms/sample - loss: 0.0749 - accuracy: 0.9746 - val_loss: 0.9631 - val_accuracy: 0.7997\n",
      "Epoch 4/100\n",
      "50000/50000 [==============================] - 149s 3ms/sample - loss: 0.0613 - accuracy: 0.9791 - val_loss: 1.0107 - val_accuracy: 0.8026\n",
      "\n",
      "Round = 4, total number of trainable parameters = 1056255\n",
      "\n",
      "\n",
      "\n",
      "\n",
      "Iterative pruning round: 5\n",
      "\n",
      "\n",
      "Epoch 1, Loss: 1.2961, Accuracy: 52.6180, Test Loss: 0.9917, Test Accuracy: 64.790001\n",
      "Total number of trainable parameters = 1056137\n",
      "\n",
      "Epoch 2, Loss: 0.8446, Accuracy: 70.1160, Test Loss: 0.8058, Test Accuracy: 71.879997\n",
      "Total number of trainable parameters = 1056163\n",
      "\n",
      "Epoch 3, Loss: 0.6935, Accuracy: 75.7160, Test Loss: 0.6879, Test Accuracy: 76.220001\n",
      "Total number of trainable parameters = 1056189\n",
      "\n",
      "Epoch 4, Loss: 0.5968, Accuracy: 78.9840, Test Loss: 0.6599, Test Accuracy: 77.060005\n",
      "Total number of trainable parameters = 1056200\n",
      "\n",
      "Epoch 5, Loss: 0.5236, Accuracy: 81.6440, Test Loss: 0.6183, Test Accuracy: 78.759995\n",
      "Total number of trainable parameters = 1056211\n",
      "\n",
      "Epoch 6, Loss: 0.4600, Accuracy: 83.7800, Test Loss: 0.6172, Test Accuracy: 79.400002\n",
      "Total number of trainable parameters = 1056219\n",
      "\n",
      "Epoch 7, Loss: 0.4047, Accuracy: 85.9560, Test Loss: 0.6187, Test Accuracy: 79.720001\n",
      "Total number of trainable parameters = 1056226\n",
      "\n",
      "Epoch 8, Loss: 0.3477, Accuracy: 87.8020, Test Loss: 0.6036, Test Accuracy: 80.099998\n",
      "Total number of trainable parameters = 1056227\n",
      "\n",
      "Epoch 9, Loss: 0.2933, Accuracy: 89.7440, Test Loss: 0.6184, Test Accuracy: 80.409996\n",
      "Total number of trainable parameters = 1056231\n",
      "\n",
      "Epoch 10, Loss: 0.2374, Accuracy: 91.8020, Test Loss: 0.6603, Test Accuracy: 80.739998\n",
      "Total number of trainable parameters = 1056234\n",
      "\n",
      "Epoch 11, Loss: 0.1877, Accuracy: 93.5560, Test Loss: 0.7293, Test Accuracy: 80.489998\n",
      "Total number of trainable parameters = 1056238\n",
      "\n",
      "\n",
      "'EarlyStopping' called!\n",
      "\n",
      "Train on 50000 samples, validate on 10000 samples\n",
      "Epoch 1/100\n",
      "50000/50000 [==============================] - 153s 3ms/sample - loss: 0.1527 - accuracy: 0.9465 - val_loss: 0.7682 - val_accuracy: 0.7984\n",
      "Epoch 2/100\n",
      "50000/50000 [==============================] - 150s 3ms/sample - loss: 0.1125 - accuracy: 0.9617 - val_loss: 0.8253 - val_accuracy: 0.8054\n",
      "Epoch 3/100\n",
      "50000/50000 [==============================] - 149s 3ms/sample - loss: 0.0788 - accuracy: 0.9737 - val_loss: 0.8893 - val_accuracy: 0.8081\n",
      "Epoch 4/100\n",
      "50000/50000 [==============================] - 149s 3ms/sample - loss: 0.0632 - accuracy: 0.9792 - val_loss: 0.9092 - val_accuracy: 0.8120\n",
      "\n",
      "Round = 5, total number of trainable parameters = 875157\n",
      "\n",
      "\n",
      "\n",
      "\n",
      "Iterative pruning round: 6\n",
      "\n",
      "\n",
      "Epoch 1, Loss: 1.2270, Accuracy: 55.1120, Test Loss: 0.8916, Test Accuracy: 68.830002\n",
      "Total number of trainable parameters = 875002\n",
      "\n",
      "Epoch 2, Loss: 0.7877, Accuracy: 72.1720, Test Loss: 0.7373, Test Accuracy: 74.379997\n",
      "Total number of trainable parameters = 875017\n",
      "\n",
      "Epoch 3, Loss: 0.6530, Accuracy: 77.0840, Test Loss: 0.6742, Test Accuracy: 76.130005\n",
      "Total number of trainable parameters = 875031\n",
      "\n",
      "Epoch 4, Loss: 0.5739, Accuracy: 79.9680, Test Loss: 0.6483, Test Accuracy: 76.860001\n",
      "Total number of trainable parameters = 875047\n",
      "\n",
      "Epoch 5, Loss: 0.5021, Accuracy: 82.5320, Test Loss: 0.6326, Test Accuracy: 78.080002\n",
      "Total number of trainable parameters = 875060\n",
      "\n",
      "Epoch 6, Loss: 0.4460, Accuracy: 84.4160, Test Loss: 0.5740, Test Accuracy: 80.729996\n",
      "Total number of trainable parameters = 875070\n",
      "\n",
      "Epoch 7, Loss: 0.3903, Accuracy: 86.3220, Test Loss: 0.6225, Test Accuracy: 79.360001\n",
      "Total number of trainable parameters = 875084\n",
      "\n",
      "Epoch 8, Loss: 0.3443, Accuracy: 87.8240, Test Loss: 0.6015, Test Accuracy: 80.309998\n",
      "Total number of trainable parameters = 875090\n",
      "\n",
      "Epoch 9, Loss: 0.2923, Accuracy: 89.7780, Test Loss: 0.6340, Test Accuracy: 80.190002\n",
      "Total number of trainable parameters = 875095\n",
      "\n",
      "\n",
      "'EarlyStopping' called!\n",
      "\n",
      "Train on 50000 samples, validate on 10000 samples\n",
      "Epoch 1/100\n",
      "50000/50000 [==============================] - 151s 3ms/sample - loss: 0.2486 - accuracy: 0.9131 - val_loss: 0.6437 - val_accuracy: 0.8043\n",
      "Epoch 2/100\n",
      "50000/50000 [==============================] - 149s 3ms/sample - loss: 0.2072 - accuracy: 0.9280 - val_loss: 0.7276 - val_accuracy: 0.7968\n",
      "Epoch 3/100\n",
      "50000/50000 [==============================] - 149s 3ms/sample - loss: 0.1570 - accuracy: 0.9478 - val_loss: 0.7146 - val_accuracy: 0.8067\n",
      "Epoch 4/100\n",
      "50000/50000 [==============================] - 149s 3ms/sample - loss: 0.1212 - accuracy: 0.9595 - val_loss: 0.8064 - val_accuracy: 0.8021\n",
      "\n",
      "Round = 6, total number of trainable parameters = 725787\n",
      "\n",
      "\n",
      "\n",
      "\n",
      "Iterative pruning round: 7\n",
      "\n",
      "\n",
      "Epoch 1, Loss: 1.1137, Accuracy: 59.5880, Test Loss: 0.8727, Test Accuracy: 69.150002\n",
      "Total number of trainable parameters = 725621\n",
      "\n",
      "Epoch 2, Loss: 0.7269, Accuracy: 74.4160, Test Loss: 0.7424, Test Accuracy: 73.930000\n",
      "Total number of trainable parameters = 725659\n",
      "\n",
      "Epoch 3, Loss: 0.6034, Accuracy: 78.7820, Test Loss: 0.6827, Test Accuracy: 76.430000\n",
      "Total number of trainable parameters = 725676\n",
      "\n",
      "Epoch 4, Loss: 0.5217, Accuracy: 81.8440, Test Loss: 0.6135, Test Accuracy: 79.119995\n",
      "Total number of trainable parameters = 725692\n",
      "\n",
      "Epoch 5, Loss: 0.4578, Accuracy: 83.9300, Test Loss: 0.5990, Test Accuracy: 79.459999\n",
      "Total number of trainable parameters = 725708\n",
      "\n",
      "Epoch 6, Loss: 0.3996, Accuracy: 85.9300, Test Loss: 0.6020, Test Accuracy: 79.949997\n",
      "Total number of trainable parameters = 725718\n",
      "\n",
      "Epoch 7, Loss: 0.3508, Accuracy: 87.7520, Test Loss: 0.6164, Test Accuracy: 79.599998\n",
      "Total number of trainable parameters = 725722\n",
      "\n",
      "Epoch 8, Loss: 0.3014, Accuracy: 89.4540, Test Loss: 0.6294, Test Accuracy: 79.769997\n",
      "Total number of trainable parameters = 725729\n",
      "\n",
      "\n",
      "'EarlyStopping' called!\n",
      "\n",
      "Train on 50000 samples, validate on 10000 samples\n",
      "Epoch 1/100\n",
      "50000/50000 [==============================] - 153s 3ms/sample - loss: 0.2554 - accuracy: 0.9107 - val_loss: 0.6247 - val_accuracy: 0.8067\n",
      "Epoch 2/100\n",
      "50000/50000 [==============================] - 151s 3ms/sample - loss: 0.2227 - accuracy: 0.9219 - val_loss: 0.6381 - val_accuracy: 0.8070\n",
      "Epoch 3/100\n",
      "50000/50000 [==============================] - 151s 3ms/sample - loss: 0.1738 - accuracy: 0.9414 - val_loss: 0.7537 - val_accuracy: 0.8036\n",
      "Epoch 4/100\n",
      "50000/50000 [==============================] - 150s 3ms/sample - loss: 0.1421 - accuracy: 0.9522 - val_loss: 0.7719 - val_accuracy: 0.8016\n",
      "\n",
      "Round = 7, total number of trainable parameters = 602501\n",
      "\n",
      "\n",
      "\n",
      "\n",
      "Iterative pruning round: 8\n",
      "\n",
      "\n",
      "Epoch 1, Loss: 1.0613, Accuracy: 61.7700, Test Loss: 0.8343, Test Accuracy: 70.779999\n",
      "Total number of trainable parameters = 602351\n",
      "\n",
      "Epoch 2, Loss: 0.6815, Accuracy: 75.9800, Test Loss: 0.6847, Test Accuracy: 76.050003\n",
      "Total number of trainable parameters = 602382\n",
      "\n",
      "Epoch 3, Loss: 0.5588, Accuracy: 80.4380, Test Loss: 0.6457, Test Accuracy: 78.180000\n",
      "Total number of trainable parameters = 602398\n",
      "\n",
      "Epoch 4, Loss: 0.4804, Accuracy: 83.2040, Test Loss: 0.5991, Test Accuracy: 79.400002\n",
      "Total number of trainable parameters = 602406\n",
      "\n",
      "Epoch 5, Loss: 0.4123, Accuracy: 85.6480, Test Loss: 0.6296, Test Accuracy: 78.979996\n",
      "Total number of trainable parameters = 602423\n",
      "\n"
     ]
    }
   ],
   "source": [
    "for i in range(1, num_pruning_rounds + 1):\n",
    "    \n",
    "    print(\"\\n\\n\\nIterative pruning round: {0}\\n\\n\".format(i))\n",
    "    \n",
    "    # Define 'train_one_step()' and 'test_step()' functions here-\n",
    "    @tf.function\n",
    "    def train_one_step(model, mask_model, optimizer, x, y):\n",
    "        '''\n",
    "        Function to compute one step of gradient descent optimization\n",
    "        '''\n",
    "        with tf.GradientTape() as tape:\n",
    "            # Make predictions using defined model-\n",
    "            y_pred = model(x)\n",
    "\n",
    "            # Compute loss-\n",
    "            loss = loss_fn(y, y_pred)\n",
    "        \n",
    "        # Compute gradients wrt defined loss and weights and biases-\n",
    "        grads = tape.gradient(loss, model.trainable_variables)\n",
    "    \n",
    "        # type(grads)\n",
    "        # list\n",
    "    \n",
    "        # List to hold element-wise multiplication between-\n",
    "        # computed gradient and masks-\n",
    "        grad_mask_mul = []\n",
    "    \n",
    "        # Perform element-wise multiplication between computed gradients and masks-\n",
    "        for grad_layer, mask in zip(grads, mask_model.trainable_weights):\n",
    "            grad_mask_mul.append(tf.math.multiply(grad_layer, mask))\n",
    "    \n",
    "        # Apply computed gradients to model's weights and biases-\n",
    "        optimizer.apply_gradients(zip(grad_mask_mul, model.trainable_variables))\n",
    "\n",
    "        # Compute accuracy-\n",
    "        train_loss(loss)\n",
    "        train_accuracy(y, y_pred)\n",
    "\n",
    "        return None\n",
    "    \n",
    "    \n",
    "    @tf.function\n",
    "    def test_step(model, optimizer, data, labels):\n",
    "        \"\"\"\n",
    "        Function to test model performance\n",
    "        on testing dataset\n",
    "        \"\"\"\n",
    "    \n",
    "        predictions = model(data)\n",
    "        t_loss = loss_fn(labels, predictions)\n",
    "\n",
    "        test_loss(t_loss)\n",
    "        test_accuracy(labels, predictions)\n",
    "\n",
    "        return None\n",
    "\n",
    "\n",
    "    # Instantiate a model\n",
    "    model_gt = pruned_nn(pruning_params_unpruned, pruning_params_unpruned)\n",
    "    \n",
    "    # Load winning ticket (from above)-\n",
    "    model_gt.load_weights(\"Conv_6_CIFAR_Winning_Ticket.h5\")\n",
    "    \n",
    "    # Strip model of pruning parameters-\n",
    "    model_gt_stripped = sparsity.strip_pruning(model_gt)\n",
    "    \n",
    "    \n",
    "    # Train model using 'GradientTape'-\n",
    "    \n",
    "    # Initialize parameters for Early Stopping manual implementation-\n",
    "    best_val_loss = 100\n",
    "    loc_patience = 0\n",
    "    \n",
    "    for epoch in range(num_epochs):\n",
    "    \n",
    "        if loc_patience >= patience:\n",
    "            print(\"\\n'EarlyStopping' called!\\n\")\n",
    "            break\n",
    "        \n",
    "        # Reset the metrics at the start of the next epoch\n",
    "        train_loss.reset_states()\n",
    "        train_accuracy.reset_states()\n",
    "        test_loss.reset_states()\n",
    "        test_accuracy.reset_states()\n",
    "        \n",
    "            \n",
    "        for x, y in train_dataset:\n",
    "            # train_one_step(model_gt_stripped, mask_model, optimizer, x, y, grad_mask_mul)\n",
    "            train_one_step(model_gt_stripped, mask_model_stripped, optimizer, x, y)\n",
    "\n",
    "\n",
    "        for x_t, y_t in test_dataset:\n",
    "            # test_step(x_t, y_t)\n",
    "            test_step(model_gt_stripped, optimizer, x_t, y_t)\n",
    "\n",
    "        template = 'Epoch {0}, Loss: {1:.4f}, Accuracy: {2:.4f}, Test Loss: {3:.4f}, Test Accuracy: {4:4f}'\n",
    "    \n",
    "        # 'i' is the index for number of pruning rounds-\n",
    "        history_main[i]['accuracy'][epoch] = train_accuracy.result() * 100\n",
    "        history_main[i]['loss'][epoch] = train_loss.result()\n",
    "        history_main[i]['val_loss'][epoch] = test_loss.result()\n",
    "        history_main[i]['val_accuracy'][epoch] = test_accuracy.result() * 100\n",
    "        \n",
    "        print(template.format(epoch + 1, \n",
    "                              train_loss.result(), train_accuracy.result()*100,\n",
    "                              test_loss.result(), test_accuracy.result()*100))\n",
    "    \n",
    "        # Count number of non-zero parameters in each layer and in total-\n",
    "        # print(\"layer-wise manner model, number of nonzero parameters in each layer are: \\n\")\n",
    "\n",
    "        model_sum_params = 0\n",
    "    \n",
    "        for layer in model_gt_stripped.trainable_weights:\n",
    "            # print(tf.math.count_nonzero(layer, axis = None).numpy())\n",
    "            model_sum_params += tf.math.count_nonzero(layer, axis = None).numpy()\n",
    "    \n",
    "        print(\"Total number of trainable parameters = {0}\\n\".format(model_sum_params))\n",
    "\n",
    "    \n",
    "        # Code for manual Early Stopping:\n",
    "        if np.abs(test_loss.result() < best_val_loss) >= minimum_delta:\n",
    "            # update 'best_val_loss' variable to lowest loss encountered so far-\n",
    "            best_val_loss = test_loss.result()\n",
    "        \n",
    "            # reset 'loc_patience' variable-\n",
    "            loc_patience = 0\n",
    "        \n",
    "        else:  # there is no improvement in monitored metric 'val_loss'\n",
    "            loc_patience += 1  # number of epochs without any improvement\n",
    "\n",
    "    \n",
    "    # Resize numpy arrays according to the epoch when 'EarlyStopping' was called-\n",
    "    for metrics in history_main[i].keys():\n",
    "        history_main[i][metrics] = np.resize(history_main[i][metrics], new_shape = epoch)\n",
    "        # history[metrics] = np.resize(history[metrics], new_shape=epoch)\n",
    "    \n",
    "        \n",
    "    # Save trained model weights-\n",
    "    model_gt.save_weights(\"Conv_6_CIFAR_Trained_Weights.h5\", overwrite=True)\n",
    "    \n",
    "    \n",
    "    \n",
    "    \n",
    "    # Prune trained model:\n",
    "    \n",
    "    # print(\"\\n% of weights to be pruned in round = {0} is: {1:.4f}\\n\".format(i, wts_np[i - 1]))\n",
    "    \n",
    "    # Specify the parameters to be used for layer-wise pruning, Conv layer-\n",
    "    pruning_params_conv = {\n",
    "        'pruning_schedule': sparsity.ConstantSparsity(\n",
    "            target_sparsity=conv1_pruning[i - 1], begin_step = 1000,\n",
    "            end_step = end_step, frequency=100\n",
    "        )\n",
    "    }\n",
    "\n",
    "    \n",
    "    # Specify the parameters to be used for layer-wise pruning, Fully-Connected layer pruning-\n",
    "    pruning_params_fc = {\n",
    "        'pruning_schedule': sparsity.ConstantSparsity(\n",
    "            target_sparsity=dense1_pruning[i - 1], begin_step = 1000,\n",
    "            end_step = end_step, frequency=100\n",
    "        )\n",
    "    }\n",
    "    \n",
    "    \n",
    "    # Instantiate a Nueal Network model to be pruned using parameters from above-\n",
    "    pruned_model = pruned_nn(pruning_params_conv, pruning_params_fc)\n",
    "    \n",
    "    # Load weights from original trained and unpruned model-\n",
    "    pruned_model.load_weights(\"Conv_6_CIFAR_Trained_Weights.h5\")\n",
    "    \n",
    "    # Train pruned NN-\n",
    "    history_pruned = pruned_model.fit(\n",
    "        x = X_train, y = y_train,\n",
    "        batch_size = batch_size,\n",
    "        epochs = epochs,\n",
    "        verbose = 1,\n",
    "        callbacks = callback,\n",
    "        validation_data = (X_test, y_test),\n",
    "        shuffle = True\n",
    "    )\n",
    "    \n",
    "    # Strip the pruning wrappers from pruned model-\n",
    "    pruned_model_stripped = sparsity.strip_pruning(pruned_model)\n",
    "    \n",
    "    # print(\"\\nIn pruned model, number of nonzero parameters in each layer are: \\n\")\n",
    "    pruned_sum_params = 0\n",
    "    \n",
    "    for layer in pruned_model_stripped.trainable_weights:\n",
    "        # print(tf.math.count_nonzero(layer, axis = None).numpy())\n",
    "        pruned_sum_params += tf.math.count_nonzero(layer, axis = None).numpy()\n",
    "    \n",
    "    print(\"\\nAfter Round = {0}, total number of trainable parameters = {1}\\n\".format(i, pruned_sum_params))\n",
    "    # print(\"\\nTotal number of trainable parameters = {0}\\n\".format(pruned_sum_params))\n",
    "    \n",
    "    '''\n",
    "    # Sanity-check: confirm that the weights are actually pruned away from the network-\n",
    "    print(\"\\nRound = {0}, % of weights pruned away = {1:.2f}%\\n\".format( \\\n",
    "                                                i, (orig_sum_params - pruned_sum_params) / orig_sum_params * 100))\n",
    "    '''\n",
    "    \n",
    "    # 'i' is the index for number of pruning rounds-\n",
    "    history_main[i]['percentage_wts_pruned'] = ((orig_sum_params - pruned_sum_params) / orig_sum_params) * 100\n",
    "    \n",
    "    \n",
    "    # Save weights of PRUNED and Trained model BEFORE stripping-\n",
    "    pruned_model.save_weights(\"Conv_6_CIFAR_Pruned_Weights.h5\", overwrite = True)\n",
    "    \n",
    "    \n",
    "    # Create a mask:\n",
    "    \n",
    "    # Instantiate a new neural network model for which, the mask is to be created,\n",
    "    mask_model = pruned_nn(pruning_params_unpruned, pruning_params_unpruned)\n",
    "    \n",
    "    # Load weights of PRUNED model-\n",
    "    mask_model.load_weights(\"Conv_6_CIFAR_Pruned_Weights.h5\")\n",
    "    \n",
    "    # Strip the model of its pruning parameters-\n",
    "    mask_model_stripped = sparsity.strip_pruning(mask_model)\n",
    "    \n",
    "    # For each layer, for each weight which is 0, leave it, as is.\n",
    "    # And for weights which survive the pruning,reinitialize it to ONE (1)-\n",
    "    for wts in mask_model_stripped.trainable_weights:\n",
    "        wts.assign(tf.where(tf.equal(wts, 0.), 0., 1.))\n",
    "    \n",
    "    \n",
    "    \n",
    "    \n",
    "    # Extract Winning Ticket:\n",
    "    \n",
    "    # Instantiate a new neural network model for which, the weights are to be extracted-\n",
    "    winning_ticket_model = pruned_nn(pruning_params_unpruned, pruning_params_unpruned)\n",
    "    \n",
    "    # Load weights of PRUNED model-\n",
    "    winning_ticket_model.load_weights(\"Conv_6_CIFAR_Pruned_Weights.h5\")\n",
    "    \n",
    "    # Strip the model of its pruning parameters-\n",
    "    winning_ticket_model_stripped = sparsity.strip_pruning(winning_ticket_model)\n",
    "    \n",
    "    # For each layer, for each weight which is 0, leave it, as is. And for weights which survive the pruning,\n",
    "    # reinitialize it to the value, the model received BEFORE it was trained and pruned-\n",
    "    for orig_wts, pruned_wts in zip(orig_model_stripped.trainable_weights,\n",
    "                                    winning_ticket_model_stripped.trainable_weights):\n",
    "        pruned_wts.assign(tf.where(tf.equal(pruned_wts, 0), pruned_wts, orig_wts))\n",
    "    \n",
    "    \n",
    "    # Save the weights (with pruning parameters) extracted to a file-\n",
    "    winning_ticket_model.save_weights(\"Conv_6_CIFAR_Winning_Ticket.h5\", overwrite=True)\n",
    "    \n",
    "    # Write message to log file:\n",
    "    with open(\"/home/majumdar/The_Lottery_Ticket_Hypothesis-Resources/Conv6_log_file.txt\", \"a+\") as f:\n",
    "        f.write(\"Completed iterative pruning round: {0}\\n\".format(i))\n",
    "    \n",
    "    \n",
    "    "
   ]
  },
  {
   "cell_type": "code",
   "execution_count": null,
   "metadata": {},
   "outputs": [],
   "source": []
  },
  {
   "cell_type": "code",
   "execution_count": null,
   "metadata": {},
   "outputs": [],
   "source": []
  },
  {
   "cell_type": "code",
   "execution_count": 52,
   "metadata": {},
   "outputs": [
    {
     "name": "stdout",
     "output_type": "stream",
     "text": [
      "\n",
      "Iterative-pruning for Conv-6 CNN (CIFAR10) Lottery Ticket Hypothesis is now complete.\n",
      "\n"
     ]
    }
   ],
   "source": [
    "print(\"\\nIterative-pruning for Conv-6 CNN (CIFAR10) Lottery Ticket Hypothesis is now complete.\\n\")"
   ]
  },
  {
   "cell_type": "code",
   "execution_count": 53,
   "metadata": {},
   "outputs": [],
   "source": [
    "import os\n",
    "import pickle"
   ]
  },
  {
   "cell_type": "code",
   "execution_count": 54,
   "metadata": {},
   "outputs": [
    {
     "data": {
      "text/plain": [
       "'/home/majumdar/The_Lottery_Ticket_Hypothesis-Resources'"
      ]
     },
     "execution_count": 54,
     "metadata": {},
     "output_type": "execute_result"
    }
   ],
   "source": [
    "os.getcwd()"
   ]
  },
  {
   "cell_type": "code",
   "execution_count": 55,
   "metadata": {},
   "outputs": [],
   "source": [
    "with open(\"/home/majumdar/The_Lottery_Ticket_Hypothesis-Resources/Conv6_CIFAR10_history_main_Experiment_2.pkl\", \"wb\") as f:\n",
    "    pickle.dump(history_main, f)"
   ]
  },
  {
   "cell_type": "code",
   "execution_count": 3,
   "metadata": {},
   "outputs": [],
   "source": [
    "with open(\"/home/majumdar/The_Lottery_Ticket_Hypothesis-Resources/Conv6_CIFAR10_history_main.pkl\", \"rb\") as f:\n",
    "    history_main = pickle.load(f)"
   ]
  },
  {
   "cell_type": "code",
   "execution_count": null,
   "metadata": {},
   "outputs": [],
   "source": []
  },
  {
   "cell_type": "code",
   "execution_count": null,
   "metadata": {},
   "outputs": [],
   "source": []
  },
  {
   "cell_type": "code",
   "execution_count": 1,
   "metadata": {},
   "outputs": [],
   "source": [
    "import matplotlib.pyplot as plt"
   ]
  },
  {
   "cell_type": "markdown",
   "metadata": {},
   "source": [
    "### Visualizations for _Iterative Pruning Rounds_:"
   ]
  },
  {
   "cell_type": "code",
   "execution_count": 56,
   "metadata": {},
   "outputs": [],
   "source": [
    "# Python 3 dict for training and testing accuracy visualization-\n",
    "# key is 'percentage_wts_pruned' and value is accuracy\n",
    "plot_accuracy = {}\n",
    "plot_test_accuracy = {}"
   ]
  },
  {
   "cell_type": "code",
   "execution_count": 57,
   "metadata": {},
   "outputs": [],
   "source": [
    "# populate 'plot_accuracy'-\n",
    "for k in history_main.keys():\n",
    "    epoch_length = len(history_main[k]['accuracy'])\n",
    "    plot_accuracy[history_main[k]['percentage_wts_pruned']] = history_main[k]['accuracy'][epoch_length - 1]"
   ]
  },
  {
   "cell_type": "code",
   "execution_count": 58,
   "metadata": {},
   "outputs": [],
   "source": [
    "# populate 'plot_test_accuracy'-\n",
    "for k in history_main.keys():\n",
    "    epoch_length = len(history_main[k]['accuracy'])\n",
    "    plot_test_accuracy[history_main[k]['percentage_wts_pruned']] = history_main[k]['val_accuracy'][epoch_length - 1]\n"
   ]
  },
  {
   "cell_type": "code",
   "execution_count": 59,
   "metadata": {},
   "outputs": [
    {
     "data": {
      "image/png": "[encoded data removed]",
      "text/plain": [
       "<Figure size 800x560 with 1 Axes>"
      ]
     },
     "metadata": {},
     "output_type": "display_data"
    }
   ],
   "source": [
    "# Visualization of training and testing accuracy VS percentage of weights\n",
    "# pruned-\n",
    "fig=plt.figure(figsize=(10, 7), dpi= 80, facecolor='w', edgecolor='k')\n",
    "\n",
    "plt.plot(list(plot_accuracy.keys()), list(plot_accuracy.values()), label = 'training_accuracy')\n",
    "plt.plot(list(plot_test_accuracy.keys()), list(plot_test_accuracy.values()), label = 'testing_accuracy')\n",
    "\n",
    "plt.title(\"Conv-6 CNN: Percentage of weights pruned VS Accuracy\")\n",
    "plt.xlabel(\"percentage of weights pruned\")\n",
    "plt.ylabel(\"Accuracy\")\n",
    "plt.legend(loc = 'best')\n",
    "plt.show()"
   ]
  },
  {
   "cell_type": "code",
   "execution_count": null,
   "metadata": {},
   "outputs": [],
   "source": []
  },
  {
   "cell_type": "code",
   "execution_count": 60,
   "metadata": {},
   "outputs": [],
   "source": [
    "# Python 3 dict for training and testing loss visualization-\n",
    "plot_loss = {}\n",
    "plot_test_loss = {}"
   ]
  },
  {
   "cell_type": "code",
   "execution_count": 61,
   "metadata": {},
   "outputs": [],
   "source": [
    "# populate 'plot_loss'-\n",
    "for k in history_main.keys():\n",
    "    epoch_length = len(history_main[k]['loss'])\n",
    "    plot_loss[history_main[k]['percentage_wts_pruned']] = history_main[k]['loss'][epoch_length - 1]\n"
   ]
  },
  {
   "cell_type": "code",
   "execution_count": 62,
   "metadata": {},
   "outputs": [],
   "source": [
    "# populate 'plot_test_loss'-\n",
    "for k in history_main.keys():\n",
    "    epoch_length = len(history_main[k]['loss'])\n",
    "    plot_test_loss[history_main[k]['percentage_wts_pruned']] = history_main[k]['val_loss'][epoch_length - 1]\n"
   ]
  },
  {
   "cell_type": "code",
   "execution_count": 63,
   "metadata": {},
   "outputs": [
    {
     "data": {
      "image/png": "[encoded data removed]",
      "text/plain": [
       "<Figure size 800x560 with 1 Axes>"
      ]
     },
     "metadata": {},
     "output_type": "display_data"
    }
   ],
   "source": [
    "# Visualization of training and testing loss VS percentage of remaining weights-\n",
    "# pruned-\n",
    "fig=plt.figure(figsize=(10, 7), dpi= 80, facecolor='w', edgecolor='k')\n",
    "\n",
    "plt.plot(list(plot_loss.keys()), list(plot_loss.values()), label = 'training_loss')\n",
    "plt.plot(list(plot_test_loss.keys()), list(plot_test_loss.values()), label = 'testing_loss')\n",
    "\n",
    "plt.title(\"Conv-6 CNN: Percentage of weights pruned VS Loss\")\n",
    "plt.xlabel(\"percentage of weights pruned\")\n",
    "plt.ylabel(\"Loss\")\n",
    "plt.legend(loc = 'best')\n",
    "plt.show()"
   ]
  },
  {
   "cell_type": "code",
   "execution_count": null,
   "metadata": {},
   "outputs": [],
   "source": []
  },
  {
   "cell_type": "code",
   "execution_count": null,
   "metadata": {},
   "outputs": [],
   "source": []
  },
  {
   "cell_type": "code",
   "execution_count": 64,
   "metadata": {},
   "outputs": [],
   "source": [
    "# Plot number of epochs (Early Stopping) VS percentage of weights pruned-\n",
    "\n",
    "# Python 3 dict to hold number of epochs vs % of weights pruned-\n",
    "plot_num_epochs = {}\n",
    "plot_num_epochs_test = {}\n"
   ]
  },
  {
   "cell_type": "code",
   "execution_count": 65,
   "metadata": {},
   "outputs": [],
   "source": [
    "'''\n",
    "for k in history_main.keys():\n",
    "\tnum_epochs = len(history_main[k]['accuracy'])\n",
    "\tprint(\"number of epochs = {0}, % of weights remaining = {1:.4f}%\".format(num_epochs, history_main[k]['percentage_wts_pruned']))\n",
    "'''\n",
    "\n",
    "# populate 'plot_num_epochs'-\n",
    "for k in history_main.keys():\n",
    "    num_epochs = len(history_main[k]['accuracy'])\n",
    "    plot_num_epochs[history_main[k]['percentage_wts_pruned']] = num_epochs\n"
   ]
  },
  {
   "cell_type": "code",
   "execution_count": 66,
   "metadata": {},
   "outputs": [
    {
     "data": {
      "image/png": "[encoded data removed]",
      "text/plain": [
       "<Figure size 800x560 with 1 Axes>"
      ]
     },
     "metadata": {},
     "output_type": "display_data"
    }
   ],
   "source": [
    "# Visualize percentage of weights remaining VS number of epochs (Early Stopping)\n",
    "fig=plt.figure(figsize=(10, 7), dpi= 80, facecolor='w', edgecolor='k')\n",
    "\n",
    "plt.plot(list(plot_num_epochs.keys()), list(plot_num_epochs.values()))\n",
    "\n",
    "plt.title(\"Conv-6 CNN: Percentage of weights pruned VS number of epochs (Early Stopping)\")\n",
    "plt.xlabel(\"percentage of weights pruned\")\n",
    "plt.ylabel(\"number of epochs\")\n",
    "plt.show()\n"
   ]
  },
  {
   "cell_type": "code",
   "execution_count": null,
   "metadata": {},
   "outputs": [],
   "source": []
  },
  {
   "cell_type": "code",
   "execution_count": null,
   "metadata": {},
   "outputs": [],
   "source": []
  },
  {
   "cell_type": "code",
   "execution_count": 67,
   "metadata": {},
   "outputs": [],
   "source": [
    "# Try to visualize the STARTING training and testing accuracy VS percentage\n",
    "# of remaining weights-\n",
    "\n",
    "# Python 3 dict for visualization-\n",
    "plot_starting_accuracy = {}\n",
    "plot_starting_test_accuracy = {}\n",
    "\n",
    "# Key:    percentage of weights pruned\n",
    "# Value:  starting accuracy\n"
   ]
  },
  {
   "cell_type": "code",
   "execution_count": 68,
   "metadata": {},
   "outputs": [],
   "source": [
    "# populate 'plot_starting_accuracy'-\n",
    "for k in history_main.keys():\n",
    "    epoch_length = len(history_main[k]['loss'])\n",
    "    plot_starting_accuracy[history_main[k]['percentage_wts_pruned']] = history_main[k]['accuracy'][0]\n"
   ]
  },
  {
   "cell_type": "code",
   "execution_count": 69,
   "metadata": {},
   "outputs": [],
   "source": [
    "# populate 'plot_starting_test_accuracy'-\n",
    "for k in history_main.keys():\n",
    "    epoch_length = len(history_main[k]['loss'])\n",
    "    plot_starting_test_accuracy[history_main[k]['percentage_wts_pruned']] = history_main[k]['val_accuracy'][0]\n"
   ]
  },
  {
   "cell_type": "code",
   "execution_count": 70,
   "metadata": {},
   "outputs": [
    {
     "data": {
      "image/png": "[encoded data removed]",
      "text/plain": [
       "<Figure size 800x560 with 1 Axes>"
      ]
     },
     "metadata": {},
     "output_type": "display_data"
    }
   ],
   "source": [
    "# Visualize starting accuracy VS percentage of weights pruned-\n",
    "fig=plt.figure(figsize=(10, 7), dpi= 80, facecolor='w', edgecolor='k')\n",
    "\n",
    "plt.plot(list(plot_starting_accuracy.keys()), list(plot_starting_accuracy.values()), label = 'training starting accuracy')\n",
    "plt.plot(list(plot_starting_test_accuracy.keys()), list(plot_starting_test_accuracy.values()), label = 'testing starting accuracy')\n",
    "\n",
    "plt.title(\"Conv-6 CNN: Percentage of weights pruned VS. Starting Accuracy\")\n",
    "plt.xlabel(\"percentage of weights pruned\")\n",
    "plt.ylabel(\"Accuracy\")\n",
    "plt.legend(loc = 'best')\n",
    "plt.show()\n"
   ]
  },
  {
   "cell_type": "code",
   "execution_count": null,
   "metadata": {},
   "outputs": [],
   "source": []
  },
  {
   "cell_type": "code",
   "execution_count": 71,
   "metadata": {},
   "outputs": [],
   "source": [
    "# Try to visualize the STARTING training and testing loss VS percentage\n",
    "# of remaining weights-\n",
    "\n",
    "# Python 3 dict for visualization-\n",
    "plot_starting_loss = {}\n",
    "plot_starting_test_loss = {}\n",
    "\n",
    "# Key:\t\tpercentage of weights pruned\n",
    "# Value:\tstarting loss\n"
   ]
  },
  {
   "cell_type": "code",
   "execution_count": 72,
   "metadata": {},
   "outputs": [],
   "source": [
    "# Populate 'plot_starting_loss' Python 3 dict-\n",
    "for k in history_main.keys():\n",
    "    epoch_length = len(history_main[k]['loss'])\n",
    "    plot_starting_loss[history_main[k]['percentage_wts_pruned']] = history_main[k]['loss'][0]\n"
   ]
  },
  {
   "cell_type": "code",
   "execution_count": 73,
   "metadata": {},
   "outputs": [],
   "source": [
    "# Populate 'plot_starting_test_loss' Python 3 dict-\n",
    "for k in history_main.keys():\n",
    "    epoch_length = len(history_main[k]['loss'])\n",
    "    plot_starting_test_loss[history_main[k]['percentage_wts_pruned']] = history_main[k]['val_loss'][0]\n"
   ]
  },
  {
   "cell_type": "code",
   "execution_count": 74,
   "metadata": {},
   "outputs": [
    {
     "data": {
      "image/png": "[encoded data removed]",
      "text/plain": [
       "<Figure size 800x560 with 1 Axes>"
      ]
     },
     "metadata": {},
     "output_type": "display_data"
    }
   ],
   "source": [
    "# Visualize Starting training & testing loss VS percentage of weights pruned-\n",
    "fig=plt.figure(figsize=(10, 7), dpi= 80, facecolor='w', edgecolor='k')\n",
    "\n",
    "plt.plot(list(plot_starting_loss.keys()), list(plot_starting_loss.values()), label = 'training starting loss')\n",
    "plt.plot(list(plot_starting_test_loss.keys()), list(plot_starting_test_loss.values()), label = 'testing starting loss')\n",
    "\n",
    "plt.title(\"Conv-6 CNN: Percentage of weights pruned VS Starting Loss\")\n",
    "plt.xlabel(\"percentage of weights pruned\")\n",
    "plt.ylabel(\"Loss\")\n",
    "plt.legend(loc = 'best')\n",
    "plt.show()"
   ]
  },
  {
   "cell_type": "code",
   "execution_count": null,
   "metadata": {},
   "outputs": [],
   "source": []
  },
  {
   "cell_type": "code",
   "execution_count": null,
   "metadata": {},
   "outputs": [],
   "source": []
  },
  {
   "cell_type": "code",
   "execution_count": 75,
   "metadata": {},
   "outputs": [],
   "source": [
    "# Try to visualize: percentage of weights remaining VS BEST accuracy within each iterative\n",
    "# pruning round\n",
    "\n",
    "# Python 3 dict for visualization-\n",
    "plot_best_accuracy = {}\n",
    "plot_best_test_accuracy = {}\n",
    "\n",
    "# Key:\t\tpercentage of weights pruned\n",
    "# Value:\tbest accuracy"
   ]
  },
  {
   "cell_type": "code",
   "execution_count": 76,
   "metadata": {},
   "outputs": [],
   "source": [
    "# Populate 'plot_best_accuracy' Python 3 dict-\n",
    "for k in history_main.keys():\n",
    "    epoch_length = len(history_main[k]['accuracy'])\n",
    "    plot_best_accuracy[history_main[k]['percentage_wts_pruned']] = np.amax(history_main[k]['accuracy'])\n"
   ]
  },
  {
   "cell_type": "code",
   "execution_count": 77,
   "metadata": {},
   "outputs": [],
   "source": [
    "# Populate 'plot_best_test_accuracy' Python 3 dict-\n",
    "for k in history_main.keys():\n",
    "    epoch_length = len(history_main[k]['accuracy'])\n",
    "    plot_best_test_accuracy[history_main[k]['percentage_wts_pruned']] = np.amax(history_main[k]['val_accuracy'])\n"
   ]
  },
  {
   "cell_type": "code",
   "execution_count": 82,
   "metadata": {},
   "outputs": [
    {
     "data": {
      "image/png": "[encoded data removed]",
      "text/plain": [
       "<Figure size 800x560 with 1 Axes>"
      ]
     },
     "metadata": {},
     "output_type": "display_data"
    }
   ],
   "source": [
    "# Visualize best accuracy VS percentage of weights pruned-\n",
    "fig=plt.figure(figsize=(10, 7), dpi= 80, facecolor='w', edgecolor='k')\n",
    "\n",
    "plt.plot(list(plot_best_accuracy.keys()), list(plot_best_accuracy.values()), label = 'training best accuracy')\n",
    "plt.plot(list(plot_best_test_accuracy.keys()), list(plot_best_test_accuracy.values()), label = 'testing best accuracy')\n",
    "\n",
    "plt.title(\"Conv-6 CNN: Percentage of weights pruned VS. Best Accuracy\")\n",
    "plt.xlabel(\"percentage of weights pruned\")\n",
    "plt.ylabel(\"Accuracy\")\n",
    "plt.legend(loc = 'best')\n",
    "plt.show()\n"
   ]
  },
  {
   "cell_type": "code",
   "execution_count": null,
   "metadata": {},
   "outputs": [],
   "source": []
  },
  {
   "cell_type": "code",
   "execution_count": 79,
   "metadata": {},
   "outputs": [],
   "source": [
    "# Try to visualize: percentage of weights remaining VS LOWEST loss within each iterative\n",
    "# pruning round\n",
    "\n",
    "# Python 3 dict for visualization-\n",
    "plot_best_loss = {}\n",
    "plot_best_test_loss = {}\n",
    "\n",
    "# Key:\t\tpercentage of weights pruned\n",
    "# Value:\tbest loss"
   ]
  },
  {
   "cell_type": "code",
   "execution_count": 80,
   "metadata": {},
   "outputs": [],
   "source": [
    "# Populate 'plot_best_loss' Python 3 dict-\n",
    "for k in history_main.keys():\n",
    "    epoch_length = len(history_main[k]['loss'])\n",
    "    plot_best_loss[history_main[k]['percentage_wts_pruned']] = np.amin(history_main[k]['loss'])\n"
   ]
  },
  {
   "cell_type": "code",
   "execution_count": 81,
   "metadata": {},
   "outputs": [],
   "source": [
    "# Populate 'plot_best_test_loss' Python 3 dict-\n",
    "for k in history_main.keys():\n",
    "    epoch_length = len(history_main[k]['loss'])\n",
    "    plot_best_test_loss[history_main[k]['percentage_wts_pruned']] = np.amin(history_main[k]['val_loss'])\n"
   ]
  },
  {
   "cell_type": "code",
   "execution_count": 83,
   "metadata": {},
   "outputs": [
    {
     "data": {
      "image/png": "[encoded data removed]",
      "text/plain": [
       "<Figure size 800x720 with 1 Axes>"
      ]
     },
     "metadata": {},
     "output_type": "display_data"
    }
   ],
   "source": [
    "# Visualize best loss VS percentage of weights pruned-\n",
    "fig=plt.figure(figsize=(10, 9), dpi= 80, facecolor='w', edgecolor='k')\n",
    "\n",
    "plt.plot(list(plot_best_loss.keys()), list(plot_best_loss.values()), label = 'training best loss')\n",
    "plt.plot(list(plot_best_test_loss.keys()), list(plot_best_test_loss.values()), label = 'testing best loss')\n",
    "\n",
    "plt.title(\"Conv-6 CNN: Percentage of weights pruned VS. Best Loss\")\n",
    "plt.xlabel(\"percentage of weights pruned\")\n",
    "plt.ylabel(\"Loss\")\n",
    "plt.legend(loc = 'best')\n",
    "plt.show()\n"
   ]
  },
  {
   "cell_type": "code",
   "execution_count": null,
   "metadata": {},
   "outputs": [],
   "source": []
  },
  {
   "cell_type": "code",
   "execution_count": null,
   "metadata": {},
   "outputs": [],
   "source": []
  },
  {
   "cell_type": "markdown",
   "metadata": {},
   "source": [
    "### Find the iterative pruning round for which training and testing accuracy is highest:"
   ]
  },
  {
   "cell_type": "code",
   "execution_count": 84,
   "metadata": {},
   "outputs": [
    {
     "name": "stdout",
     "output_type": "stream",
     "text": [
      "\n",
      "Iterative round = 1 has highest training accuracy = 95.2640% at percentage of weights pruned = 17.4583%\n",
      "\n"
     ]
    }
   ],
   "source": [
    "# Find highest training and testing accuracy for all iterative pruning rounds-\n",
    "best_accuracy = 0\n",
    "iterative_round = 0\n",
    "\n",
    "\n",
    "for k in history_main.keys():\n",
    "\tepoch_length = len(history_main[k]['accuracy'])\n",
    "\tif history_main[k]['accuracy'][epoch_length - 1] > best_accuracy:\n",
    "\t\tbest_accuracy = history_main[k]['accuracy'][epoch_length - 1]\n",
    "\t\titerative_round = k\n",
    "\n",
    "\n",
    "print(\"\\nIterative round = {0} has highest training accuracy = {1:.4f}% at percentage of weights pruned = {2:.4f}%\\n\".format(\n",
    "    iterative_round, best_accuracy, history_main[iterative_round]['percentage_wts_pruned']))\n"
   ]
  },
  {
   "cell_type": "code",
   "execution_count": 85,
   "metadata": {},
   "outputs": [
    {
     "name": "stdout",
     "output_type": "stream",
     "text": [
      "\n",
      "Iterative round = 5 has highest testing accuracy = 80.4900% at percentage of weights pruned = 61.3208%\n",
      "\n"
     ]
    }
   ],
   "source": [
    "best_test_accuracy = 0\n",
    "iterative_round = 0\n",
    "\n",
    "\n",
    "for k in history_main.keys():\n",
    "\tepoch_length = len(history_main[k]['val_accuracy'])\n",
    "\tif history_main[k]['val_accuracy'][epoch_length - 1] > best_test_accuracy:\n",
    "\t\tbest_test_accuracy = history_main[k]['val_accuracy'][epoch_length - 1]\n",
    "\t\titerative_round = k\n",
    "\n",
    "\n",
    "print(\"\\nIterative round = {0} has highest testing accuracy = {1:.4f}% at percentage of weights pruned = {2:.4f}%\\n\".format(\n",
    "    iterative_round, best_test_accuracy, history_main[iterative_round]['percentage_wts_pruned']))\n"
   ]
  },
  {
   "cell_type": "code",
   "execution_count": null,
   "metadata": {},
   "outputs": [],
   "source": []
  },
  {
   "cell_type": "code",
   "execution_count": null,
   "metadata": {},
   "outputs": [],
   "source": []
  }
 ],
 "metadata": {
  "kernelspec": {
   "display_name": "Python 3",
   "language": "python",
   "name": "python3"
  },
  "language_info": {
   "codemirror_mode": {
    "name": "ipython",
    "version": 3
   },
   "file_extension": ".py",
   "mimetype": "text/x-python",
   "name": "python",
   "nbconvert_exporter": "python",
   "pygments_lexer": "ipython3",
   "version": "3.7.3"
  }
 },
 "nbformat": 4,
 "nbformat_minor": 4
}
