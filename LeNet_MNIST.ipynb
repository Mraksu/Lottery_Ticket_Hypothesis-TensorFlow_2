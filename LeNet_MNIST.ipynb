{
 "cells": [
  {
   "cell_type": "markdown",
   "metadata": {},
   "source": [
    "# Lottery Ticket Hypothesis: _LeNet_ Dense Fully-Connected Feed Forward Neural Network for MNIST\n",
    "\n",
    "Implementation of the hypothesis using the following architecture:\n",
    "\n",
    "__Fully Connected Layers:__ 300, 100, 10"
   ]
  },
  {
   "cell_type": "code",
   "execution_count": 1,
   "metadata": {},
   "outputs": [],
   "source": [
    "import tensorflow as tf\n",
    "import numpy as np\n",
    "import matplotlib.pyplot as plt\n",
    "import math\n",
    "import tensorflow_model_optimization as tfmot\n",
    "from tensorflow_model_optimization.sparsity import keras as sparsity\n",
    "# from tensorflow.keras import datasets, layers, models\n",
    "import matplotlib.pyplot as plt\n",
    "from tensorflow.keras.layers import AveragePooling2D, Conv2D, MaxPooling2D, ReLU\n",
    "from tensorflow.keras import models, layers, datasets\n",
    "from tensorflow.keras.layers import Dense, Flatten, Reshape, Input, InputLayer\n",
    "from tensorflow.keras.models import Sequential, Model\n",
    "from tensorflow.keras.initializers import RandomNormal\n",
    "# import math\n",
    "from sklearn.metrics import accuracy_score, precision_score, recall_score"
   ]
  },
  {
   "cell_type": "code",
   "execution_count": 2,
   "metadata": {},
   "outputs": [
    {
     "data": {
      "text/plain": [
       "'2.0.0'"
      ]
     },
     "execution_count": 2,
     "metadata": {},
     "output_type": "execute_result"
    }
   ],
   "source": [
    "tf.__version__"
   ]
  },
  {
   "cell_type": "code",
   "execution_count": 3,
   "metadata": {},
   "outputs": [
    {
     "name": "stdout",
     "output_type": "stream",
     "text": [
      "env: CUDA_DEVICE_ORDER=PCI_BUS_ID\n",
      "env: CUDA_VISIBLE_DEVICES=2\n"
     ]
    }
   ],
   "source": [
    "%env CUDA_DEVICE_ORDER=PCI_BUS_ID\n",
    "%env CUDA_VISIBLE_DEVICES=2"
   ]
  },
  {
   "cell_type": "code",
   "execution_count": 4,
   "metadata": {},
   "outputs": [],
   "source": [
    "batch_size = 60\n",
    "num_classes = 10\n",
    "num_epochs = 100"
   ]
  },
  {
   "cell_type": "code",
   "execution_count": 5,
   "metadata": {},
   "outputs": [],
   "source": [
    "# Data preprocessing and cleadning:\n",
    "# input image dimensions\n",
    "img_rows, img_cols = 28, 28\n",
    "\n",
    "# Load MNIST dataset-\n",
    "(X_train, y_train), (X_test, y_test) = tf.keras.datasets.mnist.load_data()"
   ]
  },
  {
   "cell_type": "code",
   "execution_count": 6,
   "metadata": {},
   "outputs": [
    {
     "name": "stdout",
     "output_type": "stream",
     "text": [
      "\n",
      "'input_shape' which will be used = (28, 28, 1)\n",
      "\n"
     ]
    }
   ],
   "source": [
    "if tf.keras.backend.image_data_format() == 'channels_first':\n",
    "    X_train = X_train.reshape(X_train.shape[0], 1, img_rows, img_cols)\n",
    "    X_test = X_test.reshape(X_test.shape[0], 1, img_rows, img_cols)\n",
    "    input_shape = (1, img_rows, img_cols)\n",
    "else:\n",
    "    X_train = X_train.reshape(X_train.shape[0], img_rows, img_cols, 1)\n",
    "    X_test = X_test.reshape(X_test.shape[0], img_rows, img_cols, 1)\n",
    "    input_shape = (img_rows, img_cols, 1)\n",
    "\n",
    "print(\"\\n'input_shape' which will be used = {0}\\n\".format(input_shape))"
   ]
  },
  {
   "cell_type": "code",
   "execution_count": 7,
   "metadata": {},
   "outputs": [],
   "source": [
    "# Convert datasets to floating point types-\n",
    "X_train = X_train.astype('float32')\n",
    "X_test = X_test.astype('float32')\n",
    "\n",
    "# Normalize the training and testing datasets-\n",
    "X_train /= 255.0\n",
    "X_test /= 255.0"
   ]
  },
  {
   "cell_type": "code",
   "execution_count": 8,
   "metadata": {},
   "outputs": [],
   "source": [
    "# convert class vectors/target to binary class matrices or one-hot encoded values-\n",
    "y_train = tf.keras.utils.to_categorical(y_train, num_classes)\n",
    "y_test = tf.keras.utils.to_categorical(y_test, num_classes)"
   ]
  },
  {
   "cell_type": "code",
   "execution_count": 9,
   "metadata": {},
   "outputs": [],
   "source": [
    "# Reshape training and testing sets-\n",
    "X_train = X_train.reshape(X_train.shape[0], 784)\n",
    "X_test = X_test.reshape(X_test.shape[0], 784)"
   ]
  },
  {
   "cell_type": "code",
   "execution_count": 10,
   "metadata": {},
   "outputs": [
    {
     "name": "stdout",
     "output_type": "stream",
     "text": [
      "\n",
      "Dimensions of training and testing sets are:\n",
      "X_train.shape = (60000, 784), y_train.shape = (60000, 10)\n",
      "X_test.shape = (10000, 784), y_test.shape = (10000, 10)\n"
     ]
    }
   ],
   "source": [
    "print(\"\\nDimensions of training and testing sets are:\")\n",
    "print(\"X_train.shape = {0}, y_train.shape = {1}\".format(X_train.shape, y_train.shape))\n",
    "print(\"X_test.shape = {0}, y_test.shape = {1}\".format(X_test.shape, y_test.shape))"
   ]
  },
  {
   "cell_type": "code",
   "execution_count": null,
   "metadata": {},
   "outputs": [],
   "source": []
  },
  {
   "cell_type": "code",
   "execution_count": null,
   "metadata": {},
   "outputs": [],
   "source": []
  },
  {
   "cell_type": "markdown",
   "metadata": {},
   "source": [
    "### Prepare MNIST dataset for _GradientTape_ training:"
   ]
  },
  {
   "cell_type": "code",
   "execution_count": 11,
   "metadata": {},
   "outputs": [],
   "source": [
    "# Create training and testing datasets-\n",
    "train_dataset = tf.data.Dataset.from_tensor_slices((X_train, y_train))\n",
    "test_dataset = tf.data.Dataset.from_tensor_slices((X_test, y_test))"
   ]
  },
  {
   "cell_type": "code",
   "execution_count": 12,
   "metadata": {},
   "outputs": [],
   "source": [
    "train_dataset = train_dataset.shuffle(buffer_size = 20000, reshuffle_each_iteration = True).batch(batch_size = batch_size, drop_remainder = False)"
   ]
  },
  {
   "cell_type": "code",
   "execution_count": 13,
   "metadata": {},
   "outputs": [],
   "source": [
    "test_dataset = test_dataset.batch(batch_size=batch_size, drop_remainder=False)"
   ]
  },
  {
   "cell_type": "code",
   "execution_count": 14,
   "metadata": {},
   "outputs": [],
   "source": [
    "# Choose an optimizer and loss function for training-\n",
    "loss_fn = tf.keras.losses.CategoricalCrossentropy()\n",
    "optimizer = tf.keras.optimizers.Adam(lr = 0.0012)"
   ]
  },
  {
   "cell_type": "code",
   "execution_count": 15,
   "metadata": {},
   "outputs": [],
   "source": [
    "# Select metrics to measure the error & accuracy of model.\n",
    "# These metrics accumulate the values over epochs and then\n",
    "# print the overall result-\n",
    "train_loss = tf.keras.metrics.Mean(name = 'train_loss')\n",
    "train_accuracy = tf.keras.metrics.CategoricalAccuracy(name = 'train_accuracy')\n",
    "\n",
    "test_loss = tf.keras.metrics.Mean(name = 'test_loss')\n",
    "test_accuracy = tf.keras.metrics.CategoricalAccuracy(name = 'test_accuracy')"
   ]
  },
  {
   "cell_type": "code",
   "execution_count": null,
   "metadata": {},
   "outputs": [],
   "source": []
  },
  {
   "cell_type": "code",
   "execution_count": null,
   "metadata": {},
   "outputs": [],
   "source": []
  },
  {
   "cell_type": "code",
   "execution_count": 16,
   "metadata": {},
   "outputs": [
    {
     "name": "stdout",
     "output_type": "stream",
     "text": [
      "'end_step parameter' for this dataset =  100000\n"
     ]
    }
   ],
   "source": [
    "# The model is first trained without any pruning for 'num_epochs' epochs-\n",
    "epochs = num_epochs\n",
    "\n",
    "num_train_samples = X_train.shape[0]\n",
    "\n",
    "end_step = np.ceil(1.0 * num_train_samples / batch_size).astype(np.int32) * epochs\n",
    "\n",
    "print(\"'end_step parameter' for this dataset =  {0}\".format(end_step))"
   ]
  },
  {
   "cell_type": "code",
   "execution_count": 17,
   "metadata": {},
   "outputs": [],
   "source": [
    "# Specify the parameters to be used for layer-wise pruning, NO PRUNING is done here:\n",
    "pruning_params_unpruned = {\n",
    "    'pruning_schedule': sparsity.ConstantSparsity(\n",
    "        target_sparsity=0.0, begin_step=0,\n",
    "        end_step = end_step, frequency=100\n",
    "    )\n",
    "}"
   ]
  },
  {
   "cell_type": "code",
   "execution_count": null,
   "metadata": {},
   "outputs": [],
   "source": []
  },
  {
   "cell_type": "code",
   "execution_count": 18,
   "metadata": {},
   "outputs": [],
   "source": [
    "l = tf.keras.layers"
   ]
  },
  {
   "cell_type": "code",
   "execution_count": null,
   "metadata": {},
   "outputs": [],
   "source": []
  },
  {
   "cell_type": "code",
   "execution_count": 19,
   "metadata": {},
   "outputs": [],
   "source": [
    "def pruned_nn(pruning_params):\n",
    "    \"\"\"\n",
    "    Function to define the architecture of a neural network model\n",
    "    following 300 100 architecture for MNIST dataset and using\n",
    "    provided parameter which are used to prune the model.\n",
    "    \n",
    "    Input: 'pruning_params' Python 3 dictionary containing parameters which are used for pruning\n",
    "    Output: Returns designed and compiled neural network model\n",
    "    \"\"\"\n",
    "    \n",
    "    pruned_model = Sequential()\n",
    "    pruned_model.add(l.InputLayer(input_shape=(784, )))\n",
    "    pruned_model.add(Flatten())\n",
    "    pruned_model.add(sparsity.prune_low_magnitude(\n",
    "        Dense(units = 300, activation='relu', kernel_initializer=tf.initializers.GlorotUniform()),\n",
    "        **pruning_params))\n",
    "    # pruned_model.add(l.Dropout(0.2))\n",
    "    pruned_model.add(sparsity.prune_low_magnitude(\n",
    "        Dense(units = 100, activation='relu', kernel_initializer=tf.initializers.GlorotUniform()),\n",
    "        **pruning_params))\n",
    "    # pruned_model.add(l.Dropout(0.1))\n",
    "    pruned_model.add(sparsity.prune_low_magnitude(\n",
    "        Dense(units = num_classes, activation='softmax'),\n",
    "        **pruning_params))\n",
    "    \n",
    "    # Compile pruned CNN-\n",
    "    pruned_model.compile(\n",
    "        loss=tf.keras.losses.categorical_crossentropy,\n",
    "        # optimizer='adam',\n",
    "        optimizer=tf.keras.optimizers.Adam(lr = 0.0012),\n",
    "        metrics=['accuracy'])\n",
    "    \n",
    "    return pruned_model\n"
   ]
  },
  {
   "cell_type": "code",
   "execution_count": null,
   "metadata": {},
   "outputs": [],
   "source": []
  },
  {
   "cell_type": "code",
   "execution_count": 20,
   "metadata": {},
   "outputs": [],
   "source": [
    "# Add a pruning step callback to peg the pruning step to the optimizer's\n",
    "# step. Also add a callback to add pruning summaries to tensorboard\n",
    "callback = [\n",
    "             sparsity.UpdatePruningStep(),\n",
    "             # sparsity.PruningSummaries(log_dir = logdir, profile_batch=0),\n",
    "             tf.keras.callbacks.EarlyStopping(\n",
    "                 monitor='val_loss', patience = 3,\n",
    "                 min_delta=0.001\n",
    "             )\n",
    "]"
   ]
  },
  {
   "cell_type": "code",
   "execution_count": null,
   "metadata": {},
   "outputs": [],
   "source": []
  },
  {
   "cell_type": "code",
   "execution_count": 21,
   "metadata": {},
   "outputs": [
    {
     "name": "stdout",
     "output_type": "stream",
     "text": [
      "WARNING:tensorflow:From /opt/conda/lib/python3.7/site-packages/tensorflow_model_optimization/python/core/sparsity/keras/pruning_wrapper.py:183: Layer.add_variable (from tensorflow.python.keras.engine.base_layer) is deprecated and will be removed in a future version.\n",
      "Instructions for updating:\n",
      "Please use `layer.add_weight` method instead.\n"
     ]
    }
   ],
   "source": [
    "# Initialize a CNN model-\n",
    "orig_model = pruned_nn(pruning_params_unpruned)"
   ]
  },
  {
   "cell_type": "code",
   "execution_count": 22,
   "metadata": {},
   "outputs": [],
   "source": [
    "# Strip model of it's pruning parameters\n",
    "orig_model_stripped = sparsity.strip_pruning(orig_model)"
   ]
  },
  {
   "cell_type": "code",
   "execution_count": 23,
   "metadata": {},
   "outputs": [],
   "source": [
    "# Save random weights-\n",
    "orig_model.save_weights(\"LeNet_MNIST_Ramdom_Weights.h5\", overwrite=True)"
   ]
  },
  {
   "cell_type": "code",
   "execution_count": 24,
   "metadata": {},
   "outputs": [],
   "source": [
    "# Save random weights-\n",
    "orig_model.save_weights(\"LeNet_MNIST_Winning_Ticket.h5\", overwrite=True)"
   ]
  },
  {
   "cell_type": "code",
   "execution_count": 25,
   "metadata": {},
   "outputs": [
    {
     "name": "stdout",
     "output_type": "stream",
     "text": [
      "Model: \"sequential\"\n",
      "_________________________________________________________________\n",
      "Layer (type)                 Output Shape              Param #   \n",
      "=================================================================\n",
      "flatten (Flatten)            (None, 784)               0         \n",
      "_________________________________________________________________\n",
      "dense (Dense)                (None, 300)               235500    \n",
      "_________________________________________________________________\n",
      "dense_1 (Dense)              (None, 100)               30100     \n",
      "_________________________________________________________________\n",
      "dense_2 (Dense)              (None, 10)                1010      \n",
      "=================================================================\n",
      "Total params: 266,610\n",
      "Trainable params: 266,610\n",
      "Non-trainable params: 0\n",
      "_________________________________________________________________\n"
     ]
    }
   ],
   "source": [
    "# Get CNN summary-\n",
    "orig_model_stripped.summary()"
   ]
  },
  {
   "cell_type": "code",
   "execution_count": null,
   "metadata": {},
   "outputs": [],
   "source": []
  },
  {
   "cell_type": "markdown",
   "metadata": {},
   "source": [
    "### Layer-wise pruning:\n",
    "The Lottery Ticket Hypothesis follows a _layer-wise pruning_ heuristic, where the fully-connected (fc) layers are pruned at the rate of 20% per iterative\n",
    "pruning round.\n",
    "\n",
    "Therefore, there is a need to compute the percentage of weights being pruned for each layer."
   ]
  },
  {
   "cell_type": "code",
   "execution_count": 26,
   "metadata": {},
   "outputs": [
    {
     "name": "stdout",
     "output_type": "stream",
     "text": [
      "\n",
      "Total number of trainable parameters = 266610\n",
      "\n"
     ]
    }
   ],
   "source": [
    "# number of fully-connected dense parameters-\n",
    "dense1 = 235500\n",
    "dense2 = 30100\n",
    "op_layer = 1010\n",
    "\n",
    "\n",
    "# total number of parameters-\n",
    "total_params = dense1 + dense2 + op_layer\n",
    "\n",
    "print(\"\\nTotal number of trainable parameters = {0}\\n\".format(total_params))"
   ]
  },
  {
   "cell_type": "code",
   "execution_count": 27,
   "metadata": {},
   "outputs": [],
   "source": [
    "# maximum pruning performed is till 0.5% of all parameters-\n",
    "max_pruned_params = 0.005 * total_params"
   ]
  },
  {
   "cell_type": "code",
   "execution_count": 28,
   "metadata": {},
   "outputs": [],
   "source": [
    "loc_tot_params = total_params\n",
    "loc_dense1 = dense1\n",
    "loc_dense2 = dense2\n",
    "loc_op_layer = op_layer\n",
    "\n",
    "# variable to count number of pruning rounds-\n",
    "n = 0"
   ]
  },
  {
   "cell_type": "code",
   "execution_count": 29,
   "metadata": {},
   "outputs": [],
   "source": [
    "# Lists to hold percentage of weights pruned in each round for all layers in CNN-\n",
    "dense1_pruning = []\n",
    "dense2_pruning = []\n",
    "op_layer_pruning = []\n"
   ]
  },
  {
   "cell_type": "code",
   "execution_count": 30,
   "metadata": {},
   "outputs": [
    {
     "name": "stdout",
     "output_type": "stream",
     "text": [
      "Dense1 = 188400.000, Dense2 = 24080.000 & O/p layer = 808.000\n",
      "Total number of parameters = 213288.000\n",
      "\n",
      "Dense1 = 150720.000, Dense2 = 19264.000 & O/p layer = 646.400\n",
      "Total number of parameters = 170630.400\n",
      "\n",
      "Dense1 = 120576.000, Dense2 = 15411.200 & O/p layer = 517.120\n",
      "Total number of parameters = 136504.320\n",
      "\n",
      "Dense1 = 96460.800, Dense2 = 12328.960 & O/p layer = 413.696\n",
      "Total number of parameters = 109203.456\n",
      "\n",
      "Dense1 = 77168.640, Dense2 = 9863.168 & O/p layer = 330.957\n",
      "Total number of parameters = 87362.765\n",
      "\n",
      "Dense1 = 61734.912, Dense2 = 7890.534 & O/p layer = 264.765\n",
      "Total number of parameters = 69890.212\n",
      "\n",
      "Dense1 = 49387.930, Dense2 = 6312.428 & O/p layer = 211.812\n",
      "Total number of parameters = 55912.169\n",
      "\n",
      "Dense1 = 39510.344, Dense2 = 5049.942 & O/p layer = 169.450\n",
      "Total number of parameters = 44729.736\n",
      "\n",
      "Dense1 = 31608.275, Dense2 = 4039.954 & O/p layer = 135.560\n",
      "Total number of parameters = 35783.788\n",
      "\n",
      "Dense1 = 25286.620, Dense2 = 3231.963 & O/p layer = 108.448\n",
      "Total number of parameters = 28627.031\n",
      "\n",
      "Dense1 = 20229.296, Dense2 = 2585.570 & O/p layer = 86.758\n",
      "Total number of parameters = 22901.625\n",
      "\n",
      "Dense1 = 16183.437, Dense2 = 2068.456 & O/p layer = 69.407\n",
      "Total number of parameters = 18321.300\n",
      "\n",
      "Dense1 = 12946.749, Dense2 = 1654.765 & O/p layer = 55.525\n",
      "Total number of parameters = 14657.040\n",
      "\n",
      "Dense1 = 10357.400, Dense2 = 1323.812 & O/p layer = 44.420\n",
      "Total number of parameters = 11725.632\n",
      "\n",
      "Dense1 = 8285.920, Dense2 = 1059.050 & O/p layer = 35.536\n",
      "Total number of parameters = 9380.505\n",
      "\n",
      "Dense1 = 6628.736, Dense2 = 847.240 & O/p layer = 28.429\n",
      "Total number of parameters = 7504.404\n",
      "\n",
      "Dense1 = 5302.989, Dense2 = 677.792 & O/p layer = 22.743\n",
      "Total number of parameters = 6003.523\n",
      "\n",
      "Dense1 = 4242.391, Dense2 = 542.233 & O/p layer = 18.195\n",
      "Total number of parameters = 4802.819\n",
      "\n",
      "Dense1 = 3393.913, Dense2 = 433.787 & O/p layer = 14.556\n",
      "Total number of parameters = 3842.255\n",
      "\n",
      "Dense1 = 2715.130, Dense2 = 347.029 & O/p layer = 11.645\n",
      "Total number of parameters = 3073.804\n",
      "\n",
      "Dense1 = 2172.104, Dense2 = 277.623 & O/p layer = 9.316\n",
      "Total number of parameters = 2459.043\n",
      "\n",
      "Dense1 = 1737.683, Dense2 = 222.099 & O/p layer = 7.452\n",
      "Total number of parameters = 1967.235\n",
      "\n",
      "Dense1 = 1390.147, Dense2 = 177.679 & O/p layer = 5.962\n",
      "Total number of parameters = 1573.788\n",
      "\n",
      "Dense1 = 1112.117, Dense2 = 142.143 & O/p layer = 4.770\n",
      "Total number of parameters = 1259.030\n",
      "\n"
     ]
    }
   ],
   "source": [
    "while loc_tot_params >= max_pruned_params:\n",
    "    loc_dense1 *= 0.8   # 20% weights are pruned\n",
    "    loc_dense2 *= 0.8   # 20% weights are pruned\n",
    "    loc_op_layer *= 0.8 # 20% weights are pruned\n",
    "    \n",
    "    dense1_pruning.append(((dense1 - loc_dense1) / dense1) * 100)\n",
    "    dense2_pruning.append(((dense2 - loc_dense2) / dense2) * 100)\n",
    "    op_layer_pruning.append(((op_layer - loc_op_layer) / op_layer) * 100)\n",
    "\n",
    "    loc_tot_params = loc_dense1 + loc_dense2 + loc_op_layer\n",
    "\n",
    "    n += 1\n",
    "\n",
    "    print(\"Dense1 = {0:.3f}, Dense2 = {1:.3f} & O/p layer = {2:.3f}\".format(\n",
    "        loc_dense1, loc_dense2, loc_op_layer))\n",
    "    print(\"Total number of parameters = {0:.3f}\\n\".format(loc_tot_params))\n",
    "    "
   ]
  },
  {
   "cell_type": "code",
   "execution_count": 31,
   "metadata": {},
   "outputs": [
    {
     "name": "stdout",
     "output_type": "stream",
     "text": [
      "\n",
      "number of pruning rounds = 24\n",
      "\n",
      "\n"
     ]
    }
   ],
   "source": [
    "print(\"\\nnumber of pruning rounds = {0}\\n\\n\".format(n))"
   ]
  },
  {
   "cell_type": "code",
   "execution_count": 32,
   "metadata": {},
   "outputs": [],
   "source": [
    "num_pruning_rounds = n"
   ]
  },
  {
   "cell_type": "code",
   "execution_count": null,
   "metadata": {},
   "outputs": [],
   "source": []
  },
  {
   "cell_type": "code",
   "execution_count": 33,
   "metadata": {},
   "outputs": [],
   "source": [
    "# Convert from list to np.array-\n",
    "dense1_pruning = np.array(dense1_pruning)\n",
    "dense2_pruning = np.array(dense2_pruning)\n",
    "op_layer_pruning = np.array(op_layer_pruning)"
   ]
  },
  {
   "cell_type": "code",
   "execution_count": 34,
   "metadata": {},
   "outputs": [],
   "source": [
    "# Round off numpy arrays to 3 decimal digits-\n",
    "dense1_pruning = np.round(dense1_pruning, decimals=3)\n",
    "dense2_pruning = np.round(dense2_pruning, decimals=3)\n",
    "op_layer_pruning = np.round(op_layer_pruning, decimals=3)"
   ]
  },
  {
   "cell_type": "code",
   "execution_count": 35,
   "metadata": {},
   "outputs": [
    {
     "data": {
      "text/plain": [
       "array([20.   , 36.   , 48.8  , 59.04 , 67.232, 73.786, 79.028, 83.223,\n",
       "       86.578, 89.263, 91.41 , 93.128, 94.502, 95.602, 96.482, 97.185,\n",
       "       97.748, 98.199, 98.559, 98.847, 99.078, 99.262, 99.41 , 99.528])"
      ]
     },
     "execution_count": 35,
     "metadata": {},
     "output_type": "execute_result"
    }
   ],
   "source": [
    "dense1_pruning"
   ]
  },
  {
   "cell_type": "markdown",
   "metadata": {},
   "source": [
    "### Note:\n",
    "\n",
    "For _tensorflow-model-optimization_ package to work, the pruning rates should be between 0 and 1, hence convert them"
   ]
  },
  {
   "cell_type": "code",
   "execution_count": 36,
   "metadata": {},
   "outputs": [],
   "source": [
    "dense1_pruning = dense1_pruning / 100\n",
    "dense2_pruning = dense2_pruning / 100\n",
    "op_layer_pruning = op_layer_pruning / 100\n"
   ]
  },
  {
   "cell_type": "code",
   "execution_count": 37,
   "metadata": {},
   "outputs": [
    {
     "data": {
      "text/plain": [
       "array([0.2    , 0.36   , 0.488  , 0.5904 , 0.67232, 0.73786, 0.79028,\n",
       "       0.83223, 0.86578, 0.89263, 0.9141 , 0.93128, 0.94502, 0.95602,\n",
       "       0.96482, 0.97185, 0.97748, 0.98199, 0.98559, 0.98847, 0.99078,\n",
       "       0.99262, 0.9941 , 0.99528])"
      ]
     },
     "execution_count": 37,
     "metadata": {},
     "output_type": "execute_result"
    }
   ],
   "source": [
    "dense1_pruning"
   ]
  },
  {
   "cell_type": "code",
   "execution_count": null,
   "metadata": {},
   "outputs": [],
   "source": []
  },
  {
   "cell_type": "code",
   "execution_count": null,
   "metadata": {},
   "outputs": [],
   "source": []
  },
  {
   "cell_type": "markdown",
   "metadata": {},
   "source": [
    "### Create a mask:\n",
    "A mask is created where all parameters equal to one.\n",
    "\n",
    "This will be used later by _GradientTape_ for training the defined neural network."
   ]
  },
  {
   "cell_type": "code",
   "execution_count": 38,
   "metadata": {},
   "outputs": [],
   "source": [
    "# Instantiate a new neural network model for which, the mask is to be created,\n",
    "# according to the paper-\n",
    "mask_model = pruned_nn(pruning_params_unpruned)"
   ]
  },
  {
   "cell_type": "code",
   "execution_count": 39,
   "metadata": {},
   "outputs": [],
   "source": [
    "# Strip the model of its pruning parameters-\n",
    "mask_model_stripped = sparsity.strip_pruning(mask_model)"
   ]
  },
  {
   "cell_type": "code",
   "execution_count": 40,
   "metadata": {},
   "outputs": [],
   "source": [
    "# Assign all masks to one-\n",
    "\n",
    "for wts in mask_model_stripped.trainable_weights:\n",
    "    wts.assign(\n",
    "        tf.ones_like(\n",
    "            input = wts,\n",
    "            dtype = tf.float32\n",
    "        )\n",
    "\n",
    "    )\n",
    "    # wts.assign(1.)\n",
    "    # wts.assign(tf.where(tf.equal(wts, 0.), 0., 1.))"
   ]
  },
  {
   "cell_type": "code",
   "execution_count": 41,
   "metadata": {},
   "outputs": [
    {
     "name": "stdout",
     "output_type": "stream",
     "text": [
      "\n",
      "Mask model metrics:\n",
      "layer-wise number of nonzero parameters in each layer are: \n",
      "\n",
      "235200\n",
      "300\n",
      "30000\n",
      "100\n",
      "1000\n",
      "10\n",
      "\n",
      "Total number of trainable parameters = 266610\n",
      "\n"
     ]
    }
   ],
   "source": [
    "print(\"\\nMask model metrics:\")\n",
    "print(\"layer-wise number of nonzero parameters in each layer are: \\n\")\n",
    "\n",
    "masked_sum_params = 0\n",
    "\n",
    "for layer in mask_model_stripped.trainable_weights:\n",
    "    print(tf.math.count_nonzero(layer, axis = None).numpy())\n",
    "    masked_sum_params += tf.math.count_nonzero(layer, axis = None).numpy()\n",
    "\n",
    "print(\"\\nTotal number of trainable parameters = {0}\\n\".format(masked_sum_params))"
   ]
  },
  {
   "cell_type": "code",
   "execution_count": null,
   "metadata": {},
   "outputs": [],
   "source": []
  },
  {
   "cell_type": "code",
   "execution_count": null,
   "metadata": {},
   "outputs": [],
   "source": []
  },
  {
   "cell_type": "code",
   "execution_count": 42,
   "metadata": {},
   "outputs": [
    {
     "name": "stdout",
     "output_type": "stream",
     "text": [
      "\n",
      "number of pruning rounds for LeNet NN = 24 and number of epochs = 100\n",
      "\n"
     ]
    }
   ],
   "source": [
    "print(\"\\nnumber of pruning rounds for LeNet NN = {0} and number of epochs = {1}\\n\".format(num_pruning_rounds, num_epochs))"
   ]
  },
  {
   "cell_type": "code",
   "execution_count": null,
   "metadata": {},
   "outputs": [],
   "source": []
  },
  {
   "cell_type": "code",
   "execution_count": null,
   "metadata": {},
   "outputs": [],
   "source": []
  },
  {
   "cell_type": "markdown",
   "metadata": {},
   "source": [
    "### Python 3 dictionary to hold model training metrics for each of _n_ rounds:"
   ]
  },
  {
   "cell_type": "code",
   "execution_count": 43,
   "metadata": {},
   "outputs": [],
   "source": [
    "# Method - 1: Nested Python 3 dictionaries:\n",
    "history_main = {}\n",
    "\n",
    "# for x in range(num_pruning_rounds + 1):\n",
    "for x in range(num_pruning_rounds):\n",
    "    history = {}\n",
    "    \n",
    "    # Neural Network model, scalar metrics-\n",
    "    history['accuracy'] = np.zeros(shape = num_epochs)\n",
    "    history['val_accuracy'] = np.zeros(shape = num_epochs)\n",
    "    history['loss'] = np.zeros(shape = num_epochs)\n",
    "    history['val_loss'] = np.zeros(shape = num_epochs)\n",
    "    \n",
    "    # compute % of weights pruned at the end of each iterative pruning round-\n",
    "    history['percentage_wts_pruned'] = 90\n",
    "\n",
    "    history_main[x + 1] = history\n"
   ]
  },
  {
   "cell_type": "code",
   "execution_count": 44,
   "metadata": {},
   "outputs": [
    {
     "data": {
      "text/plain": [
       "dict_keys([1, 2, 3, 4, 5, 6, 7, 8, 9, 10, 11, 12, 13, 14, 15, 16, 17, 18, 19, 20, 21, 22, 23, 24])"
      ]
     },
     "execution_count": 44,
     "metadata": {},
     "output_type": "execute_result"
    }
   ],
   "source": [
    "# Sanity check-\n",
    "history_main.keys()"
   ]
  },
  {
   "cell_type": "code",
   "execution_count": 45,
   "metadata": {},
   "outputs": [
    {
     "data": {
      "text/plain": [
       "(100,)"
      ]
     },
     "execution_count": 45,
     "metadata": {},
     "output_type": "execute_result"
    }
   ],
   "source": [
    "# Sanity check-\n",
    "history_main[10]['accuracy'].shape"
   ]
  },
  {
   "cell_type": "code",
   "execution_count": null,
   "metadata": {},
   "outputs": [],
   "source": []
  },
  {
   "cell_type": "code",
   "execution_count": 46,
   "metadata": {},
   "outputs": [],
   "source": [
    "# User input parameters for Early Stopping in manual implementation-\n",
    "minimum_delta = 0.001\n",
    "patience = 3"
   ]
  },
  {
   "cell_type": "code",
   "execution_count": 47,
   "metadata": {},
   "outputs": [],
   "source": [
    "best_val_loss = 100\n",
    "loc_patience = 0"
   ]
  },
  {
   "cell_type": "code",
   "execution_count": 48,
   "metadata": {},
   "outputs": [],
   "source": [
    "orig_sum_params = 266610"
   ]
  },
  {
   "cell_type": "code",
   "execution_count": null,
   "metadata": {},
   "outputs": [],
   "source": []
  },
  {
   "cell_type": "code",
   "execution_count": null,
   "metadata": {},
   "outputs": [],
   "source": []
  },
  {
   "cell_type": "code",
   "execution_count": 49,
   "metadata": {},
   "outputs": [
    {
     "name": "stdout",
     "output_type": "stream",
     "text": [
      "\n",
      "\n",
      "\n",
      "Iterative pruning round: 1\n",
      "\n",
      "\n",
      "Epoch 1, Loss: 0.2133, Accuracy: 93.6467, Test Loss: 0.1119, Test Accuracy: 96.500000\n",
      "Total number of trainable parameters = 266610\n",
      "\n",
      "Epoch 2, Loss: 0.0855, Accuracy: 97.3233, Test Loss: 0.0857, Test Accuracy: 97.330002\n",
      "Total number of trainable parameters = 266610\n",
      "\n",
      "Epoch 3, Loss: 0.0591, Accuracy: 98.1617, Test Loss: 0.0716, Test Accuracy: 97.790001\n",
      "Total number of trainable parameters = 266610\n",
      "\n",
      "Epoch 4, Loss: 0.0435, Accuracy: 98.5533, Test Loss: 0.0710, Test Accuracy: 97.989998\n",
      "Total number of trainable parameters = 266610\n",
      "\n",
      "Epoch 5, Loss: 0.0348, Accuracy: 98.8550, Test Loss: 0.1074, Test Accuracy: 96.790001\n",
      "Total number of trainable parameters = 266610\n",
      "\n",
      "Epoch 6, Loss: 0.0280, Accuracy: 99.0767, Test Loss: 0.0817, Test Accuracy: 97.629997\n",
      "Total number of trainable parameters = 266610\n",
      "\n",
      "Epoch 7, Loss: 0.0218, Accuracy: 99.2600, Test Loss: 0.0927, Test Accuracy: 97.860001\n",
      "Total number of trainable parameters = 266610\n",
      "\n",
      "\n",
      "'EarlyStopping' called!\n",
      "\n",
      "Train on 60000 samples, validate on 10000 samples\n",
      "Epoch 1/100\n",
      "60000/60000 [==============================] - 7s 109us/sample - loss: 0.0227 - accuracy: 0.9924 - val_loss: 0.0950 - val_accuracy: 0.9774\n",
      "Epoch 2/100\n",
      "60000/60000 [==============================] - 6s 97us/sample - loss: 0.0125 - accuracy: 0.9959 - val_loss: 0.0759 - val_accuracy: 0.9824\n",
      "Epoch 3/100\n",
      "60000/60000 [==============================] - 6s 98us/sample - loss: 0.0111 - accuracy: 0.9959 - val_loss: 0.0966 - val_accuracy: 0.9807\n",
      "Epoch 4/100\n",
      "60000/60000 [==============================] - 6s 97us/sample - loss: 0.0099 - accuracy: 0.9967 - val_loss: 0.0861 - val_accuracy: 0.9814\n",
      "Epoch 5/100\n",
      "60000/60000 [==============================] - 6s 99us/sample - loss: 0.0077 - accuracy: 0.9976 - val_loss: 0.0881 - val_accuracy: 0.9812\n",
      "\n",
      "Round = 1, total number of trainable parameters = 213370\n",
      "\n",
      "\n",
      "\n",
      "\n",
      "Iterative pruning round: 2\n",
      "\n",
      "\n",
      "Epoch 1, Loss: 0.1527, Accuracy: 95.3367, Test Loss: 0.0874, Test Accuracy: 97.369995\n",
      "Total number of trainable parameters = 213370\n",
      "\n",
      "Epoch 2, Loss: 0.0585, Accuracy: 98.1450, Test Loss: 0.0806, Test Accuracy: 97.419998\n",
      "Total number of trainable parameters = 213370\n",
      "\n",
      "Epoch 3, Loss: 0.0374, Accuracy: 98.8067, Test Loss: 0.0734, Test Accuracy: 97.680000\n",
      "Total number of trainable parameters = 213370\n",
      "\n",
      "Epoch 4, Loss: 0.0269, Accuracy: 99.1000, Test Loss: 0.0638, Test Accuracy: 97.889999\n",
      "Total number of trainable parameters = 213370\n",
      "\n",
      "Epoch 5, Loss: 0.0212, Accuracy: 99.2983, Test Loss: 0.0685, Test Accuracy: 98.009995\n",
      "Total number of trainable parameters = 213370\n",
      "\n",
      "Epoch 6, Loss: 0.0150, Accuracy: 99.4983, Test Loss: 0.0711, Test Accuracy: 98.089996\n",
      "Total number of trainable parameters = 213370\n",
      "\n",
      "Epoch 7, Loss: 0.0145, Accuracy: 99.5583, Test Loss: 0.0836, Test Accuracy: 97.849998\n",
      "Total number of trainable parameters = 213370\n",
      "\n",
      "\n",
      "'EarlyStopping' called!\n",
      "\n",
      "Train on 60000 samples, validate on 10000 samples\n",
      "Epoch 1/100\n",
      "60000/60000 [==============================] - 6s 105us/sample - loss: 0.0150 - accuracy: 0.9948 - val_loss: 0.0931 - val_accuracy: 0.9800\n",
      "Epoch 2/100\n",
      "60000/60000 [==============================] - 6s 98us/sample - loss: 0.0076 - accuracy: 0.9977 - val_loss: 0.0919 - val_accuracy: 0.9811\n",
      "Epoch 3/100\n",
      "60000/60000 [==============================] - 6s 98us/sample - loss: 0.0052 - accuracy: 0.9984 - val_loss: 0.0969 - val_accuracy: 0.9791\n",
      "Epoch 4/100\n",
      "60000/60000 [==============================] - 6s 96us/sample - loss: 0.0078 - accuracy: 0.9973 - val_loss: 0.0826 - val_accuracy: 0.9826\n",
      "Epoch 5/100\n",
      "60000/60000 [==============================] - 6s 97us/sample - loss: 0.0064 - accuracy: 0.9976 - val_loss: 0.1027 - val_accuracy: 0.9789\n",
      "Epoch 6/100\n",
      "60000/60000 [==============================] - 6s 97us/sample - loss: 0.0029 - accuracy: 0.9990 - val_loss: 0.1052 - val_accuracy: 0.9805\n",
      "Epoch 7/100\n",
      "60000/60000 [==============================] - 6s 98us/sample - loss: 0.0078 - accuracy: 0.9976 - val_loss: 0.0979 - val_accuracy: 0.9828\n",
      "\n",
      "Round = 2, total number of trainable parameters = 170778\n",
      "\n",
      "\n",
      "\n",
      "\n",
      "Iterative pruning round: 3\n",
      "\n",
      "\n",
      "Epoch 1, Loss: 0.1377, Accuracy: 95.8783, Test Loss: 0.0902, Test Accuracy: 97.150002\n",
      "Total number of trainable parameters = 170774\n",
      "\n",
      "Epoch 2, Loss: 0.0513, Accuracy: 98.3667, Test Loss: 0.0692, Test Accuracy: 97.750000\n",
      "Total number of trainable parameters = 170774\n",
      "\n",
      "Epoch 3, Loss: 0.0315, Accuracy: 99.0267, Test Loss: 0.0594, Test Accuracy: 98.259995\n",
      "Total number of trainable parameters = 170774\n",
      "\n",
      "Epoch 4, Loss: 0.0220, Accuracy: 99.2917, Test Loss: 0.0710, Test Accuracy: 97.959999\n",
      "Total number of trainable parameters = 170774\n",
      "\n",
      "Epoch 5, Loss: 0.0160, Accuracy: 99.5200, Test Loss: 0.0720, Test Accuracy: 98.229996\n",
      "Total number of trainable parameters = 170774\n",
      "\n",
      "Epoch 6, Loss: 0.0123, Accuracy: 99.6000, Test Loss: 0.0739, Test Accuracy: 98.129997\n",
      "Total number of trainable parameters = 170774\n",
      "\n",
      "\n",
      "'EarlyStopping' called!\n",
      "\n",
      "Train on 60000 samples, validate on 10000 samples\n",
      "Epoch 1/100\n",
      "60000/60000 [==============================] - 7s 108us/sample - loss: 0.0131 - accuracy: 0.9954 - val_loss: 0.0883 - val_accuracy: 0.9812\n",
      "Epoch 2/100\n",
      "60000/60000 [==============================] - 6s 98us/sample - loss: 0.0062 - accuracy: 0.9980 - val_loss: 0.0889 - val_accuracy: 0.9805\n",
      "Epoch 3/100\n",
      "60000/60000 [==============================] - 6s 98us/sample - loss: 0.0051 - accuracy: 0.9985 - val_loss: 0.0887 - val_accuracy: 0.9811\n",
      "Epoch 4/100\n",
      "60000/60000 [==============================] - 6s 98us/sample - loss: 0.0039 - accuracy: 0.9987 - val_loss: 0.0965 - val_accuracy: 0.9791\n",
      "\n",
      "Round = 3, total number of trainable parameters = 136701\n",
      "\n",
      "\n",
      "\n",
      "\n",
      "Iterative pruning round: 4\n",
      "\n",
      "\n",
      "Epoch 1, Loss: 0.1236, Accuracy: 96.3283, Test Loss: 0.0772, Test Accuracy: 97.649994\n",
      "Total number of trainable parameters = 136697\n",
      "\n",
      "Epoch 2, Loss: 0.0421, Accuracy: 98.6383, Test Loss: 0.0658, Test Accuracy: 97.889999\n",
      "Total number of trainable parameters = 136697\n",
      "\n",
      "Epoch 3, Loss: 0.0256, Accuracy: 99.1817, Test Loss: 0.0608, Test Accuracy: 98.079994\n",
      "Total number of trainable parameters = 136697\n",
      "\n",
      "Epoch 4, Loss: 0.0175, Accuracy: 99.4367, Test Loss: 0.0687, Test Accuracy: 98.049995\n",
      "Total number of trainable parameters = 136697\n",
      "\n",
      "Epoch 5, Loss: 0.0121, Accuracy: 99.6333, Test Loss: 0.0789, Test Accuracy: 97.930000\n",
      "Total number of trainable parameters = 136697\n",
      "\n",
      "Epoch 6, Loss: 0.0097, Accuracy: 99.7050, Test Loss: 0.0774, Test Accuracy: 98.059998\n",
      "Total number of trainable parameters = 136697\n",
      "\n",
      "\n",
      "'EarlyStopping' called!\n",
      "\n",
      "Train on 60000 samples, validate on 10000 samples\n",
      "Epoch 1/100\n",
      "60000/60000 [==============================] - 6s 106us/sample - loss: 0.0101 - accuracy: 0.9965 - val_loss: 0.0718 - val_accuracy: 0.9839\n",
      "Epoch 2/100\n",
      "60000/60000 [==============================] - 6s 97us/sample - loss: 0.0049 - accuracy: 0.9986 - val_loss: 0.0846 - val_accuracy: 0.9815\n",
      "Epoch 3/100\n",
      "60000/60000 [==============================] - 6s 96us/sample - loss: 0.0026 - accuracy: 0.9994 - val_loss: 0.0729 - val_accuracy: 0.9842\n",
      "Epoch 4/100\n",
      "60000/60000 [==============================] - 6s 98us/sample - loss: 0.0060 - accuracy: 0.9981 - val_loss: 0.0858 - val_accuracy: 0.9822\n",
      "\n",
      "Round = 4, total number of trainable parameters = 109441\n",
      "\n",
      "\n",
      "\n",
      "\n",
      "Iterative pruning round: 5\n",
      "\n",
      "\n",
      "Epoch 1, Loss: 0.1102, Accuracy: 96.6567, Test Loss: 0.0658, Test Accuracy: 98.059998\n",
      "Total number of trainable parameters = 109437\n",
      "\n",
      "Epoch 2, Loss: 0.0353, Accuracy: 98.9233, Test Loss: 0.0605, Test Accuracy: 98.159996\n",
      "Total number of trainable parameters = 109437\n",
      "\n",
      "Epoch 3, Loss: 0.0204, Accuracy: 99.3700, Test Loss: 0.0568, Test Accuracy: 98.369995\n",
      "Total number of trainable parameters = 109437\n",
      "\n",
      "Epoch 4, Loss: 0.0134, Accuracy: 99.6017, Test Loss: 0.0643, Test Accuracy: 98.169998\n",
      "Total number of trainable parameters = 109437\n",
      "\n",
      "Epoch 5, Loss: 0.0093, Accuracy: 99.7167, Test Loss: 0.0747, Test Accuracy: 98.099998\n",
      "Total number of trainable parameters = 109437\n",
      "\n",
      "Epoch 6, Loss: 0.0072, Accuracy: 99.7850, Test Loss: 0.0725, Test Accuracy: 98.329994\n",
      "Total number of trainable parameters = 109437\n",
      "\n",
      "\n",
      "'EarlyStopping' called!\n",
      "\n",
      "Train on 60000 samples, validate on 10000 samples\n",
      "Epoch 1/100\n",
      "60000/60000 [==============================] - 6s 106us/sample - loss: 0.0080 - accuracy: 0.9974 - val_loss: 0.0788 - val_accuracy: 0.9820\n",
      "Epoch 2/100\n",
      "60000/60000 [==============================] - 6s 99us/sample - loss: 0.0042 - accuracy: 0.9989 - val_loss: 0.0887 - val_accuracy: 0.9804\n",
      "Epoch 3/100\n",
      "60000/60000 [==============================] - 6s 98us/sample - loss: 0.0020 - accuracy: 0.9996 - val_loss: 0.0854 - val_accuracy: 0.9820\n",
      "Epoch 4/100\n",
      "60000/60000 [==============================] - 6s 97us/sample - loss: 0.0046 - accuracy: 0.9985 - val_loss: 0.0808 - val_accuracy: 0.9832\n",
      "\n",
      "Round = 5, total number of trainable parameters = 87634\n",
      "\n",
      "\n",
      "\n",
      "\n",
      "Iterative pruning round: 6\n",
      "\n",
      "\n",
      "Epoch 1, Loss: 0.1033, Accuracy: 96.9467, Test Loss: 0.0659, Test Accuracy: 97.809998\n",
      "Total number of trainable parameters = 87631\n",
      "\n",
      "Epoch 2, Loss: 0.0314, Accuracy: 99.0683, Test Loss: 0.0554, Test Accuracy: 98.199997\n",
      "Total number of trainable parameters = 87631\n",
      "\n",
      "Epoch 3, Loss: 0.0172, Accuracy: 99.5217, Test Loss: 0.0541, Test Accuracy: 98.259995\n",
      "Total number of trainable parameters = 87631\n",
      "\n",
      "Epoch 4, Loss: 0.0106, Accuracy: 99.7100, Test Loss: 0.0644, Test Accuracy: 98.129997\n",
      "Total number of trainable parameters = 87631\n",
      "\n",
      "Epoch 5, Loss: 0.0071, Accuracy: 99.8183, Test Loss: 0.0625, Test Accuracy: 98.369995\n",
      "Total number of trainable parameters = 87631\n",
      "\n",
      "Epoch 6, Loss: 0.0061, Accuracy: 99.8117, Test Loss: 0.0653, Test Accuracy: 98.329994\n",
      "Total number of trainable parameters = 87631\n",
      "\n",
      "\n",
      "'EarlyStopping' called!\n",
      "\n",
      "Train on 60000 samples, validate on 10000 samples\n",
      "Epoch 1/100\n",
      "60000/60000 [==============================] - 6s 107us/sample - loss: 0.0057 - accuracy: 0.9982 - val_loss: 0.0750 - val_accuracy: 0.9835\n",
      "Epoch 2/100\n",
      "60000/60000 [==============================] - 6s 98us/sample - loss: 0.0046 - accuracy: 0.9986 - val_loss: 0.0664 - val_accuracy: 0.9845\n",
      "Epoch 3/100\n",
      "60000/60000 [==============================] - 6s 97us/sample - loss: 0.0011 - accuracy: 0.9999 - val_loss: 0.0701 - val_accuracy: 0.9836\n",
      "Epoch 4/100\n",
      "60000/60000 [==============================] - 6s 96us/sample - loss: 0.0039 - accuracy: 0.9988 - val_loss: 0.0764 - val_accuracy: 0.9842\n",
      "Epoch 5/100\n",
      "60000/60000 [==============================] - 6s 96us/sample - loss: 0.0025 - accuracy: 0.9992 - val_loss: 0.0851 - val_accuracy: 0.9825\n",
      "\n",
      "Round = 6, total number of trainable parameters = 70188\n",
      "\n",
      "\n",
      "\n",
      "\n",
      "Iterative pruning round: 7\n",
      "\n",
      "\n",
      "Epoch 1, Loss: 0.1032, Accuracy: 97.0567, Test Loss: 0.0650, Test Accuracy: 97.939995\n",
      "Total number of trainable parameters = 70186\n",
      "\n",
      "Epoch 2, Loss: 0.0302, Accuracy: 99.1000, Test Loss: 0.0572, Test Accuracy: 98.159996\n",
      "Total number of trainable parameters = 70186\n",
      "\n",
      "Epoch 3, Loss: 0.0165, Accuracy: 99.5950, Test Loss: 0.0598, Test Accuracy: 98.129997\n",
      "Total number of trainable parameters = 70186\n",
      "\n",
      "Epoch 4, Loss: 0.0096, Accuracy: 99.7717, Test Loss: 0.0570, Test Accuracy: 98.379997\n",
      "Total number of trainable parameters = 70186\n",
      "\n",
      "Epoch 5, Loss: 0.0062, Accuracy: 99.8567, Test Loss: 0.0625, Test Accuracy: 98.339996\n",
      "Total number of trainable parameters = 70186\n",
      "\n",
      "Epoch 6, Loss: 0.0045, Accuracy: 99.9017, Test Loss: 0.0700, Test Accuracy: 98.209999\n",
      "Total number of trainable parameters = 70186\n",
      "\n",
      "Epoch 7, Loss: 0.0034, Accuracy: 99.9183, Test Loss: 0.0741, Test Accuracy: 98.239998\n",
      "Total number of trainable parameters = 70186\n",
      "\n",
      "\n",
      "'EarlyStopping' called!\n",
      "\n",
      "Train on 60000 samples, validate on 10000 samples\n",
      "Epoch 1/100\n",
      "60000/60000 [==============================] - 6s 106us/sample - loss: 0.0041 - accuracy: 0.9988 - val_loss: 0.0790 - val_accuracy: 0.9830\n",
      "Epoch 2/100\n",
      "60000/60000 [==============================] - 6s 99us/sample - loss: 0.0035 - accuracy: 0.9992 - val_loss: 0.0712 - val_accuracy: 0.9828\n",
      "Epoch 3/100\n",
      "60000/60000 [==============================] - 6s 96us/sample - loss: 0.0011 - accuracy: 0.9999 - val_loss: 0.0811 - val_accuracy: 0.9824\n",
      "Epoch 4/100\n",
      "60000/60000 [==============================] - 6s 97us/sample - loss: 8.8835e-04 - accuracy: 0.9998 - val_loss: 0.0876 - val_accuracy: 0.9819\n",
      "Epoch 5/100\n",
      "60000/60000 [==============================] - 6s 97us/sample - loss: 0.0028 - accuracy: 0.9994 - val_loss: 0.0845 - val_accuracy: 0.9827\n",
      "\n",
      "Round = 7, total number of trainable parameters = 56236\n",
      "\n",
      "\n",
      "\n",
      "\n",
      "Iterative pruning round: 8\n",
      "\n",
      "\n",
      "Epoch 1, Loss: 0.1077, Accuracy: 97.0517, Test Loss: 0.0613, Test Accuracy: 97.979996\n",
      "Total number of trainable parameters = 56234\n",
      "\n",
      "Epoch 2, Loss: 0.0305, Accuracy: 99.1317, Test Loss: 0.0545, Test Accuracy: 98.279999\n",
      "Total number of trainable parameters = 56234\n",
      "\n",
      "Epoch 3, Loss: 0.0167, Accuracy: 99.5633, Test Loss: 0.0566, Test Accuracy: 98.320000\n",
      "Total number of trainable parameters = 56234\n",
      "\n",
      "Epoch 4, Loss: 0.0096, Accuracy: 99.7750, Test Loss: 0.0590, Test Accuracy: 98.269997\n",
      "Total number of trainable parameters = 56234\n",
      "\n",
      "Epoch 5, Loss: 0.0057, Accuracy: 99.8933, Test Loss: 0.0632, Test Accuracy: 98.269997\n",
      "Total number of trainable parameters = 56234\n",
      "\n",
      "\n",
      "'EarlyStopping' called!\n",
      "\n",
      "Train on 60000 samples, validate on 10000 samples\n",
      "Epoch 1/100\n",
      "60000/60000 [==============================] - 6s 105us/sample - loss: 0.0054 - accuracy: 0.9985 - val_loss: 0.0676 - val_accuracy: 0.9843\n",
      "Epoch 2/100\n",
      "60000/60000 [==============================] - 6s 98us/sample - loss: 0.0050 - accuracy: 0.9990 - val_loss: 0.0638 - val_accuracy: 0.9844\n",
      "Epoch 3/100\n",
      "60000/60000 [==============================] - 6s 97us/sample - loss: 0.0024 - accuracy: 0.9995 - val_loss: 0.0689 - val_accuracy: 0.9832\n",
      "Epoch 4/100\n",
      "60000/60000 [==============================] - 6s 98us/sample - loss: 0.0012 - accuracy: 0.9999 - val_loss: 0.0740 - val_accuracy: 0.9831\n",
      "Epoch 5/100\n",
      "60000/60000 [==============================] - 6s 98us/sample - loss: 0.0026 - accuracy: 0.9993 - val_loss: 0.0804 - val_accuracy: 0.9826\n",
      "\n",
      "Round = 8, total number of trainable parameters = 45067\n",
      "\n",
      "\n",
      "\n",
      "\n",
      "Iterative pruning round: 9\n",
      "\n",
      "\n",
      "Epoch 1, Loss: 0.1123, Accuracy: 96.8233, Test Loss: 0.0635, Test Accuracy: 98.099998\n",
      "Total number of trainable parameters = 45063\n",
      "\n",
      "Epoch 2, Loss: 0.0335, Accuracy: 99.0217, Test Loss: 0.0566, Test Accuracy: 98.269997\n",
      "Total number of trainable parameters = 45063\n",
      "\n",
      "Epoch 3, Loss: 0.0183, Accuracy: 99.5000, Test Loss: 0.0537, Test Accuracy: 98.409996\n",
      "Total number of trainable parameters = 45063\n",
      "\n",
      "Epoch 4, Loss: 0.0112, Accuracy: 99.7350, Test Loss: 0.0583, Test Accuracy: 98.290001\n",
      "Total number of trainable parameters = 45063\n",
      "\n",
      "Epoch 5, Loss: 0.0069, Accuracy: 99.8517, Test Loss: 0.0614, Test Accuracy: 98.360001\n",
      "Total number of trainable parameters = 45063\n",
      "\n",
      "Epoch 6, Loss: 0.0044, Accuracy: 99.9250, Test Loss: 0.0701, Test Accuracy: 98.180000\n",
      "Total number of trainable parameters = 45063\n",
      "\n",
      "\n",
      "'EarlyStopping' called!\n",
      "\n",
      "Train on 60000 samples, validate on 10000 samples\n",
      "Epoch 1/100\n",
      "60000/60000 [==============================] - 6s 107us/sample - loss: 0.0041 - accuracy: 0.9991 - val_loss: 0.0804 - val_accuracy: 0.9810\n",
      "Epoch 2/100\n",
      "60000/60000 [==============================] - 6s 98us/sample - loss: 0.0058 - accuracy: 0.9986 - val_loss: 0.0700 - val_accuracy: 0.9820\n",
      "Epoch 3/100\n",
      "60000/60000 [==============================] - 6s 98us/sample - loss: 0.0018 - accuracy: 0.9998 - val_loss: 0.0672 - val_accuracy: 0.9833\n",
      "Epoch 4/100\n",
      "60000/60000 [==============================] - 6s 97us/sample - loss: 0.0010 - accuracy: 0.9999 - val_loss: 0.0715 - val_accuracy: 0.9836\n",
      "Epoch 5/100\n",
      "60000/60000 [==============================] - 6s 97us/sample - loss: 0.0024 - accuracy: 0.9993 - val_loss: 0.0819 - val_accuracy: 0.9828\n",
      "Epoch 6/100\n",
      "60000/60000 [==============================] - 6s 97us/sample - loss: 0.0018 - accuracy: 0.9997 - val_loss: 0.0777 - val_accuracy: 0.9841\n",
      "\n",
      "Round = 9, total number of trainable parameters = 36132\n",
      "\n",
      "\n",
      "\n",
      "\n",
      "Iterative pruning round: 10\n",
      "\n",
      "\n",
      "Epoch 1, Loss: 0.1222, Accuracy: 96.5867, Test Loss: 0.0706, Test Accuracy: 97.799995\n",
      "Total number of trainable parameters = 36124\n",
      "\n",
      "Epoch 2, Loss: 0.0369, Accuracy: 98.8983, Test Loss: 0.0587, Test Accuracy: 98.089996\n",
      "Total number of trainable parameters = 36124\n",
      "\n",
      "Epoch 3, Loss: 0.0217, Accuracy: 99.4050, Test Loss: 0.0553, Test Accuracy: 98.329994\n",
      "Total number of trainable parameters = 36124\n",
      "\n",
      "Epoch 4, Loss: 0.0130, Accuracy: 99.6783, Test Loss: 0.0580, Test Accuracy: 98.159996\n",
      "Total number of trainable parameters = 36124\n",
      "\n",
      "Epoch 5, Loss: 0.0090, Accuracy: 99.7883, Test Loss: 0.0620, Test Accuracy: 98.180000\n",
      "Total number of trainable parameters = 36124\n",
      "\n",
      "Epoch 6, Loss: 0.0056, Accuracy: 99.8800, Test Loss: 0.0665, Test Accuracy: 98.129997\n",
      "Total number of trainable parameters = 36124\n",
      "\n",
      "\n",
      "'EarlyStopping' called!\n",
      "\n",
      "Train on 60000 samples, validate on 10000 samples\n",
      "Epoch 1/100\n",
      "60000/60000 [==============================] - 7s 115us/sample - loss: 0.0050 - accuracy: 0.9990 - val_loss: 0.0734 - val_accuracy: 0.9807\n",
      "Epoch 2/100\n",
      "60000/60000 [==============================] - 6s 98us/sample - loss: 0.0068 - accuracy: 0.9983 - val_loss: 0.0641 - val_accuracy: 0.9825\n",
      "Epoch 3/100\n",
      "60000/60000 [==============================] - 6s 97us/sample - loss: 0.0027 - accuracy: 0.9997 - val_loss: 0.0679 - val_accuracy: 0.9826\n",
      "Epoch 4/100\n",
      "60000/60000 [==============================] - 6s 97us/sample - loss: 0.0019 - accuracy: 0.9998 - val_loss: 0.0744 - val_accuracy: 0.9820\n",
      "Epoch 5/100\n",
      "60000/60000 [==============================] - 6s 97us/sample - loss: 0.0019 - accuracy: 0.9997 - val_loss: 0.0787 - val_accuracy: 0.9821\n",
      "\n",
      "Round = 10, total number of trainable parameters = 28975\n",
      "\n",
      "\n",
      "\n",
      "\n",
      "Iterative pruning round: 11\n",
      "\n",
      "\n",
      "Epoch 1, Loss: 0.1364, Accuracy: 96.3317, Test Loss: 0.0751, Test Accuracy: 97.479996\n",
      "Total number of trainable parameters = 28969\n",
      "\n",
      "Epoch 2, Loss: 0.0442, Accuracy: 98.6483, Test Loss: 0.0662, Test Accuracy: 97.909996\n",
      "Total number of trainable parameters = 28969\n",
      "\n",
      "Epoch 3, Loss: 0.0269, Accuracy: 99.2400, Test Loss: 0.0574, Test Accuracy: 98.169998\n",
      "Total number of trainable parameters = 28969\n",
      "\n",
      "Epoch 4, Loss: 0.0183, Accuracy: 99.5033, Test Loss: 0.0613, Test Accuracy: 98.129997\n",
      "Total number of trainable parameters = 28969\n",
      "\n",
      "Epoch 5, Loss: 0.0121, Accuracy: 99.7100, Test Loss: 0.0624, Test Accuracy: 98.239998\n",
      "Total number of trainable parameters = 28969\n",
      "\n",
      "Epoch 6, Loss: 0.0084, Accuracy: 99.8283, Test Loss: 0.0656, Test Accuracy: 98.269997\n",
      "Total number of trainable parameters = 28969\n",
      "\n",
      "\n",
      "'EarlyStopping' called!\n",
      "\n",
      "Train on 60000 samples, validate on 10000 samples\n",
      "Epoch 1/100\n",
      "60000/60000 [==============================] - 6s 108us/sample - loss: 0.0068 - accuracy: 0.9984 - val_loss: 0.0673 - val_accuracy: 0.9825\n",
      "Epoch 2/100\n",
      "60000/60000 [==============================] - 6s 100us/sample - loss: 0.0078 - accuracy: 0.9982 - val_loss: 0.0670 - val_accuracy: 0.9827\n",
      "Epoch 3/100\n",
      "60000/60000 [==============================] - 6s 97us/sample - loss: 0.0040 - accuracy: 0.9995 - val_loss: 0.0723 - val_accuracy: 0.9817\n",
      "Epoch 4/100\n",
      "60000/60000 [==============================] - 6s 97us/sample - loss: 0.0029 - accuracy: 0.9996 - val_loss: 0.0770 - val_accuracy: 0.9822\n",
      "\n",
      "Round = 11, total number of trainable parameters = 23255\n",
      "\n",
      "\n",
      "\n",
      "\n",
      "Iterative pruning round: 12\n",
      "\n",
      "\n",
      "Epoch 1, Loss: 0.1480, Accuracy: 96.1833, Test Loss: 0.0780, Test Accuracy: 97.659996\n",
      "Total number of trainable parameters = 23240\n",
      "\n",
      "Epoch 2, Loss: 0.0503, Accuracy: 98.4750, Test Loss: 0.0666, Test Accuracy: 97.909996\n",
      "Total number of trainable parameters = 23240\n",
      "\n",
      "Epoch 3, Loss: 0.0333, Accuracy: 99.0067, Test Loss: 0.0631, Test Accuracy: 98.099998\n",
      "Total number of trainable parameters = 23240\n",
      "\n",
      "Epoch 4, Loss: 0.0233, Accuracy: 99.3450, Test Loss: 0.0640, Test Accuracy: 98.199997\n",
      "Total number of trainable parameters = 23240\n",
      "\n",
      "Epoch 5, Loss: 0.0168, Accuracy: 99.5517, Test Loss: 0.0653, Test Accuracy: 98.029999\n",
      "Total number of trainable parameters = 23240\n",
      "\n",
      "Epoch 6, Loss: 0.0121, Accuracy: 99.7000, Test Loss: 0.0666, Test Accuracy: 98.110001\n",
      "Total number of trainable parameters = 23240\n",
      "\n",
      "\n",
      "'EarlyStopping' called!\n",
      "\n",
      "Train on 60000 samples, validate on 10000 samples\n",
      "Epoch 1/100\n",
      "60000/60000 [==============================] - 6s 106us/sample - loss: 0.0095 - accuracy: 0.9977 - val_loss: 0.0716 - val_accuracy: 0.9828\n",
      "Epoch 2/100\n",
      "60000/60000 [==============================] - 6s 98us/sample - loss: 0.0143 - accuracy: 0.9964 - val_loss: 0.0679 - val_accuracy: 0.9801\n",
      "Epoch 3/100\n",
      "60000/60000 [==============================] - 6s 97us/sample - loss: 0.0075 - accuracy: 0.9985 - val_loss: 0.0693 - val_accuracy: 0.9807\n",
      "Epoch 4/100\n",
      "60000/60000 [==============================] - 6s 97us/sample - loss: 0.0054 - accuracy: 0.9991 - val_loss: 0.0772 - val_accuracy: 0.9803\n",
      "Epoch 5/100\n",
      "60000/60000 [==============================] - 6s 96us/sample - loss: 0.0045 - accuracy: 0.9991 - val_loss: 0.0799 - val_accuracy: 0.9807\n",
      "\n",
      "Round = 12, total number of trainable parameters = 18667\n",
      "\n",
      "\n",
      "\n",
      "\n",
      "Iterative pruning round: 13\n",
      "\n",
      "\n",
      "Epoch 1, Loss: 0.1566, Accuracy: 95.9650, Test Loss: 0.0901, Test Accuracy: 97.309998\n",
      "Total number of trainable parameters = 18654\n",
      "\n",
      "Epoch 2, Loss: 0.0556, Accuracy: 98.3433, Test Loss: 0.0705, Test Accuracy: 97.909996\n",
      "Total number of trainable parameters = 18654\n",
      "\n",
      "Epoch 3, Loss: 0.0371, Accuracy: 98.9550, Test Loss: 0.0665, Test Accuracy: 98.009995\n",
      "Total number of trainable parameters = 18654\n",
      "\n",
      "Epoch 4, Loss: 0.0279, Accuracy: 99.2233, Test Loss: 0.0647, Test Accuracy: 98.089996\n",
      "Total number of trainable parameters = 18654\n",
      "\n",
      "Epoch 5, Loss: 0.0208, Accuracy: 99.4400, Test Loss: 0.0651, Test Accuracy: 98.070000\n",
      "Total number of trainable parameters = 18654\n",
      "\n",
      "Epoch 6, Loss: 0.0159, Accuracy: 99.5717, Test Loss: 0.0667, Test Accuracy: 98.110001\n",
      "Total number of trainable parameters = 18654\n",
      "\n",
      "Epoch 7, Loss: 0.0126, Accuracy: 99.6950, Test Loss: 0.0677, Test Accuracy: 98.129997\n",
      "Total number of trainable parameters = 18654\n",
      "\n",
      "\n",
      "'EarlyStopping' called!\n",
      "\n",
      "Train on 60000 samples, validate on 10000 samples\n",
      "Epoch 1/100\n",
      "60000/60000 [==============================] - 7s 116us/sample - loss: 0.0104 - accuracy: 0.9973 - val_loss: 0.0730 - val_accuracy: 0.9808\n",
      "Epoch 2/100\n",
      "60000/60000 [==============================] - 6s 97us/sample - loss: 0.0161 - accuracy: 0.9957 - val_loss: 0.0712 - val_accuracy: 0.9806\n",
      "Epoch 3/100\n",
      "60000/60000 [==============================] - 6s 97us/sample - loss: 0.0099 - accuracy: 0.9979 - val_loss: 0.0743 - val_accuracy: 0.9795\n",
      "Epoch 4/100\n",
      "60000/60000 [==============================] - 6s 96us/sample - loss: 0.0074 - accuracy: 0.9986 - val_loss: 0.0754 - val_accuracy: 0.9812\n",
      "Epoch 5/100\n",
      "60000/60000 [==============================] - 6s 97us/sample - loss: 0.0058 - accuracy: 0.9989 - val_loss: 0.0778 - val_accuracy: 0.9811\n",
      "\n",
      "Round = 13, total number of trainable parameters = 14995\n",
      "\n",
      "\n",
      "\n",
      "\n",
      "Iterative pruning round: 14\n",
      "\n",
      "\n",
      "Epoch 1, Loss: 0.1804, Accuracy: 95.1967, Test Loss: 0.0926, Test Accuracy: 97.180000\n",
      "Total number of trainable parameters = 14976\n",
      "\n",
      "Epoch 2, Loss: 0.0657, Accuracy: 98.0350, Test Loss: 0.0758, Test Accuracy: 97.599998\n",
      "Total number of trainable parameters = 14976\n",
      "\n",
      "Epoch 3, Loss: 0.0468, Accuracy: 98.5800, Test Loss: 0.0693, Test Accuracy: 97.899994\n",
      "Total number of trainable parameters = 14976\n",
      "\n",
      "Epoch 4, Loss: 0.0357, Accuracy: 98.9283, Test Loss: 0.0646, Test Accuracy: 98.059998\n",
      "Total number of trainable parameters = 14976\n",
      "\n",
      "Epoch 5, Loss: 0.0281, Accuracy: 99.1950, Test Loss: 0.0665, Test Accuracy: 98.040001\n",
      "Total number of trainable parameters = 14976\n",
      "\n",
      "Epoch 6, Loss: 0.0226, Accuracy: 99.3883, Test Loss: 0.0683, Test Accuracy: 98.079994\n",
      "Total number of trainable parameters = 14976\n",
      "\n",
      "Epoch 7, Loss: 0.0184, Accuracy: 99.5117, Test Loss: 0.0690, Test Accuracy: 98.009995\n",
      "Total number of trainable parameters = 14976\n",
      "\n",
      "\n",
      "'EarlyStopping' called!\n",
      "\n",
      "Train on 60000 samples, validate on 10000 samples\n",
      "Epoch 1/100\n",
      "60000/60000 [==============================] - 6s 107us/sample - loss: 0.0156 - accuracy: 0.9956 - val_loss: 0.0716 - val_accuracy: 0.9803\n",
      "Epoch 2/100\n",
      "60000/60000 [==============================] - 6s 97us/sample - loss: 0.0292 - accuracy: 0.9913 - val_loss: 0.0731 - val_accuracy: 0.9784\n",
      "Epoch 3/100\n",
      "60000/60000 [==============================] - 6s 97us/sample - loss: 0.0176 - accuracy: 0.9956 - val_loss: 0.0730 - val_accuracy: 0.9783\n",
      "Epoch 4/100\n",
      "60000/60000 [==============================] - 6s 97us/sample - loss: 0.0142 - accuracy: 0.9964 - val_loss: 0.0757 - val_accuracy: 0.9793\n",
      "\n",
      "Round = 14, total number of trainable parameters = 12048\n",
      "\n",
      "\n",
      "\n",
      "\n",
      "Iterative pruning round: 15\n",
      "\n",
      "\n",
      "Epoch 1, Loss: 0.1929, Accuracy: 95.0717, Test Loss: 0.0963, Test Accuracy: 96.970001\n",
      "Total number of trainable parameters = 12028\n",
      "\n",
      "Epoch 2, Loss: 0.0685, Accuracy: 97.9050, Test Loss: 0.0776, Test Accuracy: 97.589996\n",
      "Total number of trainable parameters = 12028\n",
      "\n",
      "Epoch 3, Loss: 0.0500, Accuracy: 98.4567, Test Loss: 0.0734, Test Accuracy: 97.659996\n",
      "Total number of trainable parameters = 12028\n",
      "\n",
      "Epoch 4, Loss: 0.0393, Accuracy: 98.8500, Test Loss: 0.0716, Test Accuracy: 97.790001\n",
      "Total number of trainable parameters = 12028\n",
      "\n",
      "Epoch 5, Loss: 0.0325, Accuracy: 99.0450, Test Loss: 0.0694, Test Accuracy: 97.839996\n",
      "Total number of trainable parameters = 12028\n",
      "\n",
      "Epoch 6, Loss: 0.0269, Accuracy: 99.2567, Test Loss: 0.0696, Test Accuracy: 97.909996\n",
      "Total number of trainable parameters = 12028\n",
      "\n",
      "Epoch 7, Loss: 0.0231, Accuracy: 99.3500, Test Loss: 0.0733, Test Accuracy: 97.829994\n",
      "Total number of trainable parameters = 12028\n",
      "\n",
      "Epoch 8, Loss: 0.0198, Accuracy: 99.4700, Test Loss: 0.0749, Test Accuracy: 97.829994\n",
      "Total number of trainable parameters = 12028\n",
      "\n",
      "\n",
      "'EarlyStopping' called!\n",
      "\n",
      "Train on 60000 samples, validate on 10000 samples\n",
      "Epoch 1/100\n",
      "60000/60000 [==============================] - 7s 117us/sample - loss: 0.0175 - accuracy: 0.9953 - val_loss: 0.0799 - val_accuracy: 0.9788\n",
      "Epoch 2/100\n",
      "60000/60000 [==============================] - 6s 98us/sample - loss: 0.1755 - accuracy: 0.9672 - val_loss: 0.1311 - val_accuracy: 0.9708\n",
      "Epoch 3/100\n",
      "60000/60000 [==============================] - 6s 96us/sample - loss: 0.0708 - accuracy: 0.9859 - val_loss: 0.1022 - val_accuracy: 0.9738\n",
      "Epoch 4/100\n",
      "60000/60000 [==============================] - 6s 96us/sample - loss: 0.0493 - accuracy: 0.9892 - val_loss: 0.0923 - val_accuracy: 0.9759\n",
      "\n",
      "Round = 15, total number of trainable parameters = 9685\n",
      "\n",
      "\n",
      "\n",
      "\n",
      "Iterative pruning round: 16\n",
      "\n",
      "\n",
      "Epoch 1, Loss: 0.3353, Accuracy: 92.5983, Test Loss: 0.1562, Test Accuracy: 96.500000\n",
      "Total number of trainable parameters = 9650\n",
      "\n",
      "Epoch 2, Loss: 0.1132, Accuracy: 97.4717, Test Loss: 0.1109, Test Accuracy: 97.169998\n",
      "Total number of trainable parameters = 9650\n",
      "\n",
      "Epoch 3, Loss: 0.0793, Accuracy: 98.0750, Test Loss: 0.0954, Test Accuracy: 97.449997\n",
      "Total number of trainable parameters = 9650\n",
      "\n",
      "Epoch 4, Loss: 0.0621, Accuracy: 98.3983, Test Loss: 0.0870, Test Accuracy: 97.579994\n",
      "Total number of trainable parameters = 9650\n",
      "\n",
      "Epoch 5, Loss: 0.0511, Accuracy: 98.6750, Test Loss: 0.0824, Test Accuracy: 97.669998\n",
      "Total number of trainable parameters = 9650\n",
      "\n",
      "Epoch 6, Loss: 0.0435, Accuracy: 98.8150, Test Loss: 0.0797, Test Accuracy: 97.680000\n",
      "Total number of trainable parameters = 9650\n",
      "\n",
      "Epoch 7, Loss: 0.0379, Accuracy: 98.9717, Test Loss: 0.0798, Test Accuracy: 97.739998\n",
      "Total number of trainable parameters = 9650\n",
      "\n",
      "Epoch 8, Loss: 0.0337, Accuracy: 99.0683, Test Loss: 0.0786, Test Accuracy: 97.799995\n",
      "Total number of trainable parameters = 9650\n",
      "\n",
      "Epoch 9, Loss: 0.0301, Accuracy: 99.1733, Test Loss: 0.0803, Test Accuracy: 97.790001\n",
      "Total number of trainable parameters = 9650\n",
      "\n",
      "Epoch 10, Loss: 0.0270, Accuracy: 99.2967, Test Loss: 0.0830, Test Accuracy: 97.719994\n",
      "Total number of trainable parameters = 9650\n",
      "\n",
      "Epoch 11, Loss: 0.0249, Accuracy: 99.3067, Test Loss: 0.0837, Test Accuracy: 97.729996\n",
      "Total number of trainable parameters = 9650\n",
      "\n",
      "\n",
      "'EarlyStopping' called!\n",
      "\n",
      "Train on 60000 samples, validate on 10000 samples\n",
      "Epoch 1/100\n",
      "60000/60000 [==============================] - 6s 107us/sample - loss: 0.0229 - accuracy: 0.9938 - val_loss: 0.0859 - val_accuracy: 0.9771\n",
      "Epoch 2/100\n",
      "60000/60000 [==============================] - 6s 97us/sample - loss: 0.1401 - accuracy: 0.9704 - val_loss: 0.1333 - val_accuracy: 0.9678\n",
      "Epoch 3/100\n",
      "60000/60000 [==============================] - 6s 97us/sample - loss: 0.0666 - accuracy: 0.9852 - val_loss: 0.1137 - val_accuracy: 0.9708\n",
      "Epoch 4/100\n",
      "60000/60000 [==============================] - 6s 97us/sample - loss: 0.0501 - accuracy: 0.9881 - val_loss: 0.1085 - val_accuracy: 0.9714\n",
      "\n",
      "Round = 16, total number of trainable parameters = 7780\n",
      "\n",
      "\n",
      "\n",
      "\n",
      "Iterative pruning round: 17\n",
      "\n",
      "\n",
      "Epoch 1, Loss: 0.4705, Accuracy: 91.1317, Test Loss: 0.2077, Test Accuracy: 96.240005\n",
      "Total number of trainable parameters = 7758\n",
      "\n",
      "Epoch 2, Loss: 0.1523, Accuracy: 97.1833, Test Loss: 0.1376, Test Accuracy: 96.849998\n",
      "Total number of trainable parameters = 7758\n",
      "\n",
      "Epoch 3, Loss: 0.1041, Accuracy: 97.7567, Test Loss: 0.1114, Test Accuracy: 97.199997\n",
      "Total number of trainable parameters = 7758\n",
      "\n",
      "Epoch 4, Loss: 0.0804, Accuracy: 98.0983, Test Loss: 0.0997, Test Accuracy: 97.439995\n",
      "Total number of trainable parameters = 7758\n",
      "\n",
      "Epoch 5, Loss: 0.0669, Accuracy: 98.3150, Test Loss: 0.0927, Test Accuracy: 97.479996\n",
      "Total number of trainable parameters = 7758\n",
      "\n",
      "Epoch 6, Loss: 0.0572, Accuracy: 98.5350, Test Loss: 0.0897, Test Accuracy: 97.500000\n",
      "Total number of trainable parameters = 7758\n",
      "\n",
      "Epoch 7, Loss: 0.0505, Accuracy: 98.6817, Test Loss: 0.0878, Test Accuracy: 97.529999\n",
      "Total number of trainable parameters = 7758\n",
      "\n",
      "Epoch 8, Loss: 0.0452, Accuracy: 98.8033, Test Loss: 0.0871, Test Accuracy: 97.629997\n",
      "Total number of trainable parameters = 7758\n",
      "\n",
      "Epoch 9, Loss: 0.0409, Accuracy: 98.9100, Test Loss: 0.0871, Test Accuracy: 97.519997\n",
      "Total number of trainable parameters = 7758\n",
      "\n",
      "Epoch 10, Loss: 0.0379, Accuracy: 98.9750, Test Loss: 0.0880, Test Accuracy: 97.610001\n",
      "Total number of trainable parameters = 7758\n",
      "\n",
      "Epoch 11, Loss: 0.0350, Accuracy: 99.0750, Test Loss: 0.0894, Test Accuracy: 97.549995\n",
      "Total number of trainable parameters = 7758\n",
      "\n",
      "\n",
      "'EarlyStopping' called!\n",
      "\n",
      "Train on 60000 samples, validate on 10000 samples\n",
      "Epoch 1/100\n",
      "60000/60000 [==============================] - 6s 107us/sample - loss: 0.0327 - accuracy: 0.9912 - val_loss: 0.0913 - val_accuracy: 0.9751\n",
      "Epoch 2/100\n",
      "60000/60000 [==============================] - 6s 98us/sample - loss: 0.1689 - accuracy: 0.9718 - val_loss: 0.1491 - val_accuracy: 0.9676\n",
      "Epoch 3/100\n",
      "60000/60000 [==============================] - 6s 97us/sample - loss: 0.0787 - accuracy: 0.9845 - val_loss: 0.1252 - val_accuracy: 0.9705\n",
      "Epoch 4/100\n",
      "60000/60000 [==============================] - 6s 98us/sample - loss: 0.0588 - accuracy: 0.9872 - val_loss: 0.1146 - val_accuracy: 0.9713\n",
      "\n",
      "Round = 17, total number of trainable parameters = 6260\n",
      "\n",
      "\n",
      "\n",
      "\n",
      "Iterative pruning round: 18\n",
      "\n",
      "\n",
      "Epoch 1, Loss: 0.6104, Accuracy: 90.6367, Test Loss: 0.3099, Test Accuracy: 95.910004\n",
      "Total number of trainable parameters = 6239\n",
      "\n",
      "Epoch 2, Loss: 0.2315, Accuracy: 96.9500, Test Loss: 0.2025, Test Accuracy: 96.599998\n",
      "Total number of trainable parameters = 6239\n",
      "\n",
      "Epoch 3, Loss: 0.1572, Accuracy: 97.4850, Test Loss: 0.1585, Test Accuracy: 96.879997\n",
      "Total number of trainable parameters = 6239\n",
      "\n",
      "Epoch 4, Loss: 0.1197, Accuracy: 97.7683, Test Loss: 0.1357, Test Accuracy: 97.059998\n",
      "Total number of trainable parameters = 6239\n",
      "\n",
      "Epoch 5, Loss: 0.0967, Accuracy: 98.0217, Test Loss: 0.1201, Test Accuracy: 97.159996\n",
      "Total number of trainable parameters = 6239\n",
      "\n",
      "Epoch 6, Loss: 0.0814, Accuracy: 98.2717, Test Loss: 0.1126, Test Accuracy: 97.290001\n",
      "Total number of trainable parameters = 6239\n",
      "\n",
      "Epoch 7, Loss: 0.0703, Accuracy: 98.4317, Test Loss: 0.1072, Test Accuracy: 97.309998\n",
      "Total number of trainable parameters = 6239\n",
      "\n",
      "Epoch 8, Loss: 0.0625, Accuracy: 98.5633, Test Loss: 0.1036, Test Accuracy: 97.290001\n",
      "Total number of trainable parameters = 6239\n",
      "\n",
      "Epoch 9, Loss: 0.0565, Accuracy: 98.6483, Test Loss: 0.1009, Test Accuracy: 97.489998\n",
      "Total number of trainable parameters = 6239\n",
      "\n",
      "Epoch 10, Loss: 0.0518, Accuracy: 98.7850, Test Loss: 0.0999, Test Accuracy: 97.409996\n",
      "Total number of trainable parameters = 6239\n",
      "\n",
      "Epoch 11, Loss: 0.0480, Accuracy: 98.8667, Test Loss: 0.1005, Test Accuracy: 97.430000\n",
      "Total number of trainable parameters = 6239\n",
      "\n",
      "Epoch 12, Loss: 0.0449, Accuracy: 98.9050, Test Loss: 0.1002, Test Accuracy: 97.389999\n",
      "Total number of trainable parameters = 6239\n",
      "\n",
      "Epoch 13, Loss: 0.0422, Accuracy: 98.9817, Test Loss: 0.0998, Test Accuracy: 97.470001\n",
      "Total number of trainable parameters = 6239\n",
      "\n",
      "Epoch 14, Loss: 0.0401, Accuracy: 99.0317, Test Loss: 0.1017, Test Accuracy: 97.439995\n",
      "Total number of trainable parameters = 6239\n",
      "\n",
      "Epoch 15, Loss: 0.0380, Accuracy: 99.0650, Test Loss: 0.1024, Test Accuracy: 97.449997\n",
      "Total number of trainable parameters = 6239\n",
      "\n",
      "Epoch 16, Loss: 0.0362, Accuracy: 99.1517, Test Loss: 0.1038, Test Accuracy: 97.430000\n",
      "Total number of trainable parameters = 6239\n",
      "\n",
      "\n",
      "'EarlyStopping' called!\n",
      "\n",
      "Train on 60000 samples, validate on 10000 samples\n",
      "Epoch 1/100\n",
      "60000/60000 [==============================] - 6s 107us/sample - loss: 0.0349 - accuracy: 0.9912 - val_loss: 0.1072 - val_accuracy: 0.9732\n",
      "Epoch 2/100\n",
      "60000/60000 [==============================] - 6s 98us/sample - loss: 0.0604 - accuracy: 0.9818 - val_loss: 0.1176 - val_accuracy: 0.9700\n",
      "Epoch 3/100\n",
      "60000/60000 [==============================] - 6s 98us/sample - loss: 0.0484 - accuracy: 0.9859 - val_loss: 0.1183 - val_accuracy: 0.9694\n",
      "Epoch 4/100\n",
      "60000/60000 [==============================] - 6s 96us/sample - loss: 0.0451 - accuracy: 0.9873 - val_loss: 0.1189 - val_accuracy: 0.9702\n",
      "\n",
      "Round = 18, total number of trainable parameters = 5037\n",
      "\n",
      "\n",
      "\n",
      "\n",
      "Iterative pruning round: 19\n",
      "\n",
      "\n",
      "Epoch 1, Loss: 0.6629, Accuracy: 88.9017, Test Loss: 0.3431, Test Accuracy: 95.169998\n",
      "Total number of trainable parameters = 5016\n",
      "\n",
      "Epoch 2, Loss: 0.2618, Accuracy: 96.0883, Test Loss: 0.2281, Test Accuracy: 96.260002\n",
      "Total number of trainable parameters = 5016\n",
      "\n",
      "Epoch 3, Loss: 0.1812, Accuracy: 96.7850, Test Loss: 0.1827, Test Accuracy: 96.529999\n",
      "Total number of trainable parameters = 5016\n",
      "\n",
      "Epoch 4, Loss: 0.1407, Accuracy: 97.2583, Test Loss: 0.1547, Test Accuracy: 96.820000\n",
      "Total number of trainable parameters = 5016\n",
      "\n",
      "Epoch 5, Loss: 0.1156, Accuracy: 97.5383, Test Loss: 0.1386, Test Accuracy: 96.959999\n",
      "Total number of trainable parameters = 5016\n",
      "\n",
      "Epoch 6, Loss: 0.0991, Accuracy: 97.7300, Test Loss: 0.1277, Test Accuracy: 97.059998\n",
      "Total number of trainable parameters = 5016\n",
      "\n",
      "Epoch 7, Loss: 0.0876, Accuracy: 97.9133, Test Loss: 0.1225, Test Accuracy: 97.040001\n",
      "Total number of trainable parameters = 5016\n",
      "\n",
      "Epoch 8, Loss: 0.0792, Accuracy: 98.0783, Test Loss: 0.1185, Test Accuracy: 97.119995\n",
      "Total number of trainable parameters = 5016\n",
      "\n",
      "Epoch 9, Loss: 0.0727, Accuracy: 98.1900, Test Loss: 0.1147, Test Accuracy: 97.199997\n",
      "Total number of trainable parameters = 5016\n",
      "\n",
      "Epoch 10, Loss: 0.0677, Accuracy: 98.2983, Test Loss: 0.1134, Test Accuracy: 97.099998\n",
      "Total number of trainable parameters = 5016\n",
      "\n",
      "Epoch 11, Loss: 0.0635, Accuracy: 98.3517, Test Loss: 0.1144, Test Accuracy: 97.150002\n",
      "Total number of trainable parameters = 5016\n",
      "\n",
      "Epoch 12, Loss: 0.0604, Accuracy: 98.4183, Test Loss: 0.1116, Test Accuracy: 97.180000\n",
      "Total number of trainable parameters = 5016\n",
      "\n",
      "Epoch 13, Loss: 0.0575, Accuracy: 98.5000, Test Loss: 0.1109, Test Accuracy: 97.169998\n",
      "Total number of trainable parameters = 5016\n",
      "\n",
      "Epoch 14, Loss: 0.0550, Accuracy: 98.5517, Test Loss: 0.1108, Test Accuracy: 97.169998\n",
      "Total number of trainable parameters = 5016\n",
      "\n",
      "Epoch 15, Loss: 0.0530, Accuracy: 98.5550, Test Loss: 0.1112, Test Accuracy: 97.190002\n",
      "Total number of trainable parameters = 5016\n",
      "\n",
      "Epoch 16, Loss: 0.0512, Accuracy: 98.6117, Test Loss: 0.1110, Test Accuracy: 97.180000\n",
      "Total number of trainable parameters = 5016\n",
      "\n",
      "Epoch 17, Loss: 0.0495, Accuracy: 98.6367, Test Loss: 0.1148, Test Accuracy: 97.220001\n",
      "Total number of trainable parameters = 5016\n",
      "\n",
      "\n",
      "'EarlyStopping' called!\n",
      "\n",
      "Train on 60000 samples, validate on 10000 samples\n",
      "Epoch 1/100\n",
      "60000/60000 [==============================] - 6s 107us/sample - loss: 0.0484 - accuracy: 0.9865 - val_loss: 0.1136 - val_accuracy: 0.9713\n",
      "Epoch 2/100\n",
      "60000/60000 [==============================] - 6s 97us/sample - loss: 0.0704 - accuracy: 0.9791 - val_loss: 0.1289 - val_accuracy: 0.9666\n",
      "Epoch 3/100\n",
      "60000/60000 [==============================] - 6s 96us/sample - loss: 0.0608 - accuracy: 0.9824 - val_loss: 0.1275 - val_accuracy: 0.9676\n",
      "Epoch 4/100\n",
      "60000/60000 [==============================] - 6s 97us/sample - loss: 0.0580 - accuracy: 0.9833 - val_loss: 0.1255 - val_accuracy: 0.9685\n",
      "\n",
      "Round = 19, total number of trainable parameters = 4057\n",
      "\n",
      "\n",
      "\n",
      "\n",
      "Iterative pruning round: 20\n",
      "\n",
      "\n",
      "Epoch 1, Loss: 0.6981, Accuracy: 87.7017, Test Loss: 0.3648, Test Accuracy: 94.770004\n",
      "Total number of trainable parameters = 4036\n",
      "\n",
      "Epoch 2, Loss: 0.2816, Accuracy: 95.5833, Test Loss: 0.2506, Test Accuracy: 95.670006\n",
      "Total number of trainable parameters = 4036\n",
      "\n",
      "Epoch 3, Loss: 0.1994, Accuracy: 96.3500, Test Loss: 0.2015, Test Accuracy: 96.060005\n",
      "Total number of trainable parameters = 4036\n",
      "\n",
      "Epoch 4, Loss: 0.1577, Accuracy: 96.7867, Test Loss: 0.1743, Test Accuracy: 96.300003\n",
      "Total number of trainable parameters = 4036\n",
      "\n",
      "Epoch 5, Loss: 0.1322, Accuracy: 97.1050, Test Loss: 0.1583, Test Accuracy: 96.590004\n",
      "Total number of trainable parameters = 4036\n",
      "\n",
      "Epoch 6, Loss: 0.1147, Accuracy: 97.3133, Test Loss: 0.1468, Test Accuracy: 96.730003\n",
      "Total number of trainable parameters = 4036\n",
      "\n",
      "Epoch 7, Loss: 0.1028, Accuracy: 97.4367, Test Loss: 0.1416, Test Accuracy: 96.720001\n",
      "Total number of trainable parameters = 4036\n",
      "\n",
      "Epoch 8, Loss: 0.0942, Accuracy: 97.5817, Test Loss: 0.1361, Test Accuracy: 96.760002\n",
      "Total number of trainable parameters = 4036\n",
      "\n",
      "Epoch 9, Loss: 0.0873, Accuracy: 97.6733, Test Loss: 0.1334, Test Accuracy: 96.669998\n",
      "Total number of trainable parameters = 4036\n",
      "\n",
      "Epoch 10, Loss: 0.0822, Accuracy: 97.8200, Test Loss: 0.1316, Test Accuracy: 96.839996\n",
      "Total number of trainable parameters = 4036\n",
      "\n",
      "Epoch 11, Loss: 0.0777, Accuracy: 97.8850, Test Loss: 0.1317, Test Accuracy: 96.790001\n",
      "Total number of trainable parameters = 4036\n",
      "\n",
      "Epoch 12, Loss: 0.0742, Accuracy: 97.9333, Test Loss: 0.1290, Test Accuracy: 96.879997\n",
      "Total number of trainable parameters = 4036\n",
      "\n",
      "Epoch 13, Loss: 0.0715, Accuracy: 98.0067, Test Loss: 0.1292, Test Accuracy: 96.949997\n",
      "Total number of trainable parameters = 4036\n",
      "\n",
      "Epoch 14, Loss: 0.0691, Accuracy: 98.0717, Test Loss: 0.1301, Test Accuracy: 96.900002\n",
      "Total number of trainable parameters = 4036\n",
      "\n",
      "Epoch 15, Loss: 0.0669, Accuracy: 98.0933, Test Loss: 0.1290, Test Accuracy: 96.889999\n",
      "Total number of trainable parameters = 4036\n",
      "\n",
      "Epoch 16, Loss: 0.0652, Accuracy: 98.1717, Test Loss: 0.1288, Test Accuracy: 96.910004\n",
      "Total number of trainable parameters = 4036\n",
      "\n",
      "Epoch 17, Loss: 0.0636, Accuracy: 98.2083, Test Loss: 0.1305, Test Accuracy: 96.900002\n",
      "Total number of trainable parameters = 4036\n",
      "\n",
      "Epoch 18, Loss: 0.0622, Accuracy: 98.2950, Test Loss: 0.1298, Test Accuracy: 96.940002\n",
      "Total number of trainable parameters = 4036\n",
      "\n",
      "Epoch 19, Loss: 0.0610, Accuracy: 98.2650, Test Loss: 0.1352, Test Accuracy: 96.849998\n",
      "Total number of trainable parameters = 4036\n",
      "\n",
      "\n",
      "'EarlyStopping' called!\n",
      "\n",
      "Train on 60000 samples, validate on 10000 samples\n",
      "Epoch 1/100\n",
      "60000/60000 [==============================] - 6s 106us/sample - loss: 0.0600 - accuracy: 0.9830 - val_loss: 0.1335 - val_accuracy: 0.9690\n",
      "Epoch 2/100\n",
      "60000/60000 [==============================] - 6s 97us/sample - loss: 0.1021 - accuracy: 0.9675 - val_loss: 0.1521 - val_accuracy: 0.9624\n",
      "Epoch 3/100\n",
      "60000/60000 [==============================] - 6s 96us/sample - loss: 0.0855 - accuracy: 0.9738 - val_loss: 0.1506 - val_accuracy: 0.9622\n",
      "Epoch 4/100\n",
      "60000/60000 [==============================] - 6s 98us/sample - loss: 0.0823 - accuracy: 0.9755 - val_loss: 0.1493 - val_accuracy: 0.9633\n",
      "\n",
      "Round = 20, total number of trainable parameters = 3271\n",
      "\n",
      "\n",
      "\n",
      "\n",
      "Iterative pruning round: 21\n",
      "\n",
      "\n",
      "Epoch 1, Loss: 0.7527, Accuracy: 86.1250, Test Loss: 0.3975, Test Accuracy: 94.029999\n",
      "Total number of trainable parameters = 3254\n",
      "\n",
      "Epoch 2, Loss: 0.3160, Accuracy: 94.7783, Test Loss: 0.2758, Test Accuracy: 94.880005\n",
      "Total number of trainable parameters = 3254\n",
      "\n",
      "Epoch 3, Loss: 0.2293, Accuracy: 95.5833, Test Loss: 0.2258, Test Accuracy: 95.349998\n",
      "Total number of trainable parameters = 3254\n",
      "\n",
      "Epoch 4, Loss: 0.1853, Accuracy: 96.0117, Test Loss: 0.1980, Test Accuracy: 95.590004\n",
      "Total number of trainable parameters = 3254\n",
      "\n",
      "Epoch 5, Loss: 0.1581, Accuracy: 96.3783, Test Loss: 0.1801, Test Accuracy: 95.779999\n",
      "Total number of trainable parameters = 3254\n",
      "\n",
      "Epoch 6, Loss: 0.1397, Accuracy: 96.5983, Test Loss: 0.1675, Test Accuracy: 96.050003\n",
      "Total number of trainable parameters = 3254\n",
      "\n",
      "Epoch 7, Loss: 0.1272, Accuracy: 96.7983, Test Loss: 0.1594, Test Accuracy: 96.060005\n",
      "Total number of trainable parameters = 3254\n",
      "\n",
      "Epoch 8, Loss: 0.1180, Accuracy: 96.9300, Test Loss: 0.1567, Test Accuracy: 96.050003\n",
      "Total number of trainable parameters = 3254\n",
      "\n",
      "Epoch 9, Loss: 0.1108, Accuracy: 97.0450, Test Loss: 0.1539, Test Accuracy: 96.139999\n",
      "Total number of trainable parameters = 3254\n",
      "\n",
      "Epoch 10, Loss: 0.1058, Accuracy: 97.1133, Test Loss: 0.1506, Test Accuracy: 96.110001\n",
      "Total number of trainable parameters = 3254\n",
      "\n",
      "Epoch 11, Loss: 0.1018, Accuracy: 97.1900, Test Loss: 0.1490, Test Accuracy: 96.220001\n",
      "Total number of trainable parameters = 3254\n",
      "\n",
      "Epoch 12, Loss: 0.0982, Accuracy: 97.2767, Test Loss: 0.1496, Test Accuracy: 96.139999\n",
      "Total number of trainable parameters = 3254\n",
      "\n",
      "Epoch 13, Loss: 0.0955, Accuracy: 97.2717, Test Loss: 0.1471, Test Accuracy: 96.279999\n",
      "Total number of trainable parameters = 3254\n",
      "\n",
      "Epoch 14, Loss: 0.0929, Accuracy: 97.3367, Test Loss: 0.1462, Test Accuracy: 96.370003\n",
      "Total number of trainable parameters = 3254\n",
      "\n",
      "Epoch 15, Loss: 0.0907, Accuracy: 97.3767, Test Loss: 0.1454, Test Accuracy: 96.330002\n",
      "Total number of trainable parameters = 3254\n",
      "\n",
      "Epoch 16, Loss: 0.0889, Accuracy: 97.4533, Test Loss: 0.1468, Test Accuracy: 96.260002\n",
      "Total number of trainable parameters = 3254\n",
      "\n",
      "Epoch 17, Loss: 0.0872, Accuracy: 97.4517, Test Loss: 0.1486, Test Accuracy: 96.150002\n",
      "Total number of trainable parameters = 3254\n",
      "\n",
      "Epoch 18, Loss: 0.0855, Accuracy: 97.5050, Test Loss: 0.1460, Test Accuracy: 96.330002\n",
      "Total number of trainable parameters = 3254\n",
      "\n",
      "\n",
      "'EarlyStopping' called!\n",
      "\n",
      "Train on 60000 samples, validate on 10000 samples\n",
      "Epoch 1/100\n",
      "60000/60000 [==============================] - 6s 107us/sample - loss: 0.0846 - accuracy: 0.9756 - val_loss: 0.1465 - val_accuracy: 0.9627\n",
      "Epoch 2/100\n",
      "60000/60000 [==============================] - 6s 97us/sample - loss: 1.1412 - accuracy: 0.7031 - val_loss: 0.9222 - val_accuracy: 0.7389\n",
      "Epoch 3/100\n",
      "60000/60000 [==============================] - 6s 97us/sample - loss: 0.7322 - accuracy: 0.7509 - val_loss: 0.6652 - val_accuracy: 0.7437\n",
      "Epoch 4/100\n",
      "60000/60000 [==============================] - 6s 96us/sample - loss: 0.5459 - accuracy: 0.7533 - val_loss: 0.5471 - val_accuracy: 0.7459\n",
      "\n",
      "Round = 21, total number of trainable parameters = 2639\n",
      "\n",
      "\n",
      "\n",
      "\n",
      "Iterative pruning round: 22\n",
      "\n",
      "\n",
      "Epoch 1, Loss: 1.2425, Accuracy: 60.5050, Test Loss: 0.9550, Test Accuracy: 65.709999\n",
      "Total number of trainable parameters = 2608\n",
      "\n",
      "Epoch 2, Loss: 0.8869, Accuracy: 66.1750, Test Loss: 0.8475, Test Accuracy: 66.309998\n",
      "Total number of trainable parameters = 2608\n",
      "\n",
      "Epoch 3, Loss: 0.8156, Accuracy: 66.6417, Test Loss: 0.8087, Test Accuracy: 66.479996\n",
      "Total number of trainable parameters = 2608\n",
      "\n",
      "Epoch 4, Loss: 0.7825, Accuracy: 66.8367, Test Loss: 0.7896, Test Accuracy: 66.449997\n",
      "Total number of trainable parameters = 2608\n",
      "\n",
      "Epoch 5, Loss: 0.7643, Accuracy: 66.9133, Test Loss: 0.7788, Test Accuracy: 66.419998\n",
      "Total number of trainable parameters = 2608\n",
      "\n",
      "Epoch 6, Loss: 0.7527, Accuracy: 66.9950, Test Loss: 0.7725, Test Accuracy: 66.439995\n",
      "Total number of trainable parameters = 2608\n",
      "\n",
      "Epoch 7, Loss: 0.7446, Accuracy: 67.0700, Test Loss: 0.7711, Test Accuracy: 66.379997\n",
      "Total number of trainable parameters = 2608\n",
      "\n",
      "Epoch 8, Loss: 0.7391, Accuracy: 67.1300, Test Loss: 0.7700, Test Accuracy: 66.139999\n",
      "Total number of trainable parameters = 2608\n",
      "\n",
      "Epoch 9, Loss: 0.7348, Accuracy: 67.1383, Test Loss: 0.7638, Test Accuracy: 66.439995\n",
      "Total number of trainable parameters = 2608\n",
      "\n",
      "Epoch 10, Loss: 0.7317, Accuracy: 67.1467, Test Loss: 0.7630, Test Accuracy: 66.529999\n",
      "Total number of trainable parameters = 2608\n",
      "\n",
      "Epoch 11, Loss: 0.7292, Accuracy: 67.2050, Test Loss: 0.7615, Test Accuracy: 66.610001\n",
      "Total number of trainable parameters = 2608\n",
      "\n",
      "Epoch 12, Loss: 0.7271, Accuracy: 67.2100, Test Loss: 0.7597, Test Accuracy: 66.680000\n",
      "Total number of trainable parameters = 2608\n",
      "\n",
      "Epoch 13, Loss: 0.7253, Accuracy: 67.2433, Test Loss: 0.7607, Test Accuracy: 66.559998\n",
      "Total number of trainable parameters = 2608\n",
      "\n",
      "Epoch 14, Loss: 0.7236, Accuracy: 67.2883, Test Loss: 0.7598, Test Accuracy: 66.579994\n",
      "Total number of trainable parameters = 2608\n",
      "\n",
      "Epoch 15, Loss: 0.7220, Accuracy: 67.2817, Test Loss: 0.7607, Test Accuracy: 66.559998\n",
      "Total number of trainable parameters = 2608\n",
      "\n",
      "\n",
      "'EarlyStopping' called!\n",
      "\n",
      "Train on 60000 samples, validate on 10000 samples\n",
      "Epoch 1/100\n",
      "60000/60000 [==============================] - 6s 108us/sample - loss: 0.7213 - accuracy: 0.6729 - val_loss: 0.7604 - val_accuracy: 0.6654\n",
      "Epoch 2/100\n",
      "60000/60000 [==============================] - 6s 98us/sample - loss: 0.7232 - accuracy: 0.6725 - val_loss: 0.7629 - val_accuracy: 0.6650\n",
      "Epoch 3/100\n",
      "60000/60000 [==============================] - 6s 96us/sample - loss: 0.7213 - accuracy: 0.6722 - val_loss: 0.7610 - val_accuracy: 0.6657\n",
      "Epoch 4/100\n",
      "60000/60000 [==============================] - 6s 98us/sample - loss: 0.7203 - accuracy: 0.6727 - val_loss: 0.7612 - val_accuracy: 0.6660\n",
      "\n",
      "Round = 22, total number of trainable parameters = 2117\n",
      "\n",
      "\n",
      "\n",
      "\n",
      "Iterative pruning round: 23\n",
      "\n",
      "\n",
      "Epoch 1, Loss: 1.2609, Accuracy: 60.0767, Test Loss: 0.9638, Test Accuracy: 65.720001\n",
      "Total number of trainable parameters = 2100\n",
      "\n",
      "Epoch 2, Loss: 0.8903, Accuracy: 66.1600, Test Loss: 0.8499, Test Accuracy: 66.459999\n",
      "Total number of trainable parameters = 2100\n",
      "\n",
      "Epoch 3, Loss: 0.8158, Accuracy: 66.5900, Test Loss: 0.8077, Test Accuracy: 66.449997\n",
      "Total number of trainable parameters = 2100\n",
      "\n",
      "Epoch 4, Loss: 0.7817, Accuracy: 66.7633, Test Loss: 0.7888, Test Accuracy: 66.430000\n",
      "Total number of trainable parameters = 2100\n",
      "\n",
      "Epoch 5, Loss: 0.7630, Accuracy: 66.9067, Test Loss: 0.7755, Test Accuracy: 66.529999\n",
      "Total number of trainable parameters = 2100\n",
      "\n",
      "Epoch 6, Loss: 0.7513, Accuracy: 66.9800, Test Loss: 0.7697, Test Accuracy: 66.570000\n",
      "Total number of trainable parameters = 2100\n",
      "\n",
      "Epoch 7, Loss: 0.7437, Accuracy: 67.0233, Test Loss: 0.7648, Test Accuracy: 66.489998\n",
      "Total number of trainable parameters = 2100\n",
      "\n",
      "Epoch 8, Loss: 0.7379, Accuracy: 67.0117, Test Loss: 0.7607, Test Accuracy: 66.579994\n",
      "Total number of trainable parameters = 2100\n",
      "\n",
      "Epoch 9, Loss: 0.7339, Accuracy: 67.0567, Test Loss: 0.7608, Test Accuracy: 66.430000\n",
      "Total number of trainable parameters = 2100\n",
      "\n",
      "Epoch 10, Loss: 0.7309, Accuracy: 67.0850, Test Loss: 0.7594, Test Accuracy: 66.489998\n",
      "Total number of trainable parameters = 2100\n",
      "\n",
      "Epoch 11, Loss: 0.7287, Accuracy: 67.0917, Test Loss: 0.7575, Test Accuracy: 66.529999\n",
      "Total number of trainable parameters = 2100\n",
      "\n",
      "Epoch 12, Loss: 0.7266, Accuracy: 67.1317, Test Loss: 0.7573, Test Accuracy: 66.540001\n",
      "Total number of trainable parameters = 2100\n",
      "\n",
      "Epoch 13, Loss: 0.7249, Accuracy: 67.1767, Test Loss: 0.7583, Test Accuracy: 66.349998\n",
      "Total number of trainable parameters = 2100\n",
      "\n",
      "Epoch 14, Loss: 0.7238, Accuracy: 67.1833, Test Loss: 0.7573, Test Accuracy: 66.529999\n",
      "Total number of trainable parameters = 2100\n",
      "\n",
      "Epoch 15, Loss: 0.7223, Accuracy: 67.1967, Test Loss: 0.7578, Test Accuracy: 66.519997\n",
      "Total number of trainable parameters = 2100\n",
      "\n",
      "\n",
      "'EarlyStopping' called!\n",
      "\n",
      "Train on 60000 samples, validate on 10000 samples\n",
      "Epoch 1/100\n",
      "60000/60000 [==============================] - 7s 109us/sample - loss: 0.7216 - accuracy: 0.6722 - val_loss: 0.7562 - val_accuracy: 0.6657\n",
      "Epoch 2/100\n",
      "60000/60000 [==============================] - 6s 98us/sample - loss: 0.7283 - accuracy: 0.6701 - val_loss: 0.7624 - val_accuracy: 0.6658\n",
      "Epoch 3/100\n",
      "60000/60000 [==============================] - 6s 98us/sample - loss: 0.7251 - accuracy: 0.6713 - val_loss: 0.7638 - val_accuracy: 0.6635\n",
      "Epoch 4/100\n",
      "60000/60000 [==============================] - 6s 96us/sample - loss: 0.7237 - accuracy: 0.6714 - val_loss: 0.7635 - val_accuracy: 0.6643\n",
      "\n",
      "Round = 23, total number of trainable parameters = 1707\n",
      "\n",
      "\n",
      "\n",
      "\n",
      "Iterative pruning round: 24\n",
      "\n",
      "\n",
      "Epoch 1, Loss: 1.2648, Accuracy: 59.8967, Test Loss: 0.9632, Test Accuracy: 65.580002\n",
      "Total number of trainable parameters = 1697\n",
      "\n",
      "Epoch 2, Loss: 0.8898, Accuracy: 66.0950, Test Loss: 0.8521, Test Accuracy: 66.089996\n",
      "Total number of trainable parameters = 1697\n",
      "\n",
      "Epoch 3, Loss: 0.8164, Accuracy: 66.5050, Test Loss: 0.8085, Test Accuracy: 66.399994\n",
      "Total number of trainable parameters = 1697\n",
      "\n",
      "Epoch 4, Loss: 0.7835, Accuracy: 66.7367, Test Loss: 0.7891, Test Accuracy: 66.320000\n",
      "Total number of trainable parameters = 1697\n",
      "\n",
      "Epoch 5, Loss: 0.7654, Accuracy: 66.8183, Test Loss: 0.7796, Test Accuracy: 66.349998\n",
      "Total number of trainable parameters = 1697\n",
      "\n",
      "Epoch 6, Loss: 0.7543, Accuracy: 66.9167, Test Loss: 0.7726, Test Accuracy: 66.540001\n",
      "Total number of trainable parameters = 1697\n",
      "\n",
      "Epoch 7, Loss: 0.7468, Accuracy: 66.9433, Test Loss: 0.7702, Test Accuracy: 66.409996\n",
      "Total number of trainable parameters = 1697\n",
      "\n",
      "Epoch 8, Loss: 0.7417, Accuracy: 67.0033, Test Loss: 0.7665, Test Accuracy: 66.529999\n",
      "Total number of trainable parameters = 1697\n",
      "\n",
      "Epoch 9, Loss: 0.7379, Accuracy: 67.0233, Test Loss: 0.7661, Test Accuracy: 66.439995\n",
      "Total number of trainable parameters = 1697\n",
      "\n",
      "Epoch 10, Loss: 0.7351, Accuracy: 67.0750, Test Loss: 0.7648, Test Accuracy: 66.509995\n",
      "Total number of trainable parameters = 1697\n",
      "\n",
      "Epoch 11, Loss: 0.7328, Accuracy: 67.1050, Test Loss: 0.7676, Test Accuracy: 66.329994\n",
      "Total number of trainable parameters = 1697\n",
      "\n",
      "Epoch 12, Loss: 0.7311, Accuracy: 67.1133, Test Loss: 0.7649, Test Accuracy: 66.500000\n",
      "Total number of trainable parameters = 1697\n",
      "\n",
      "Epoch 13, Loss: 0.7297, Accuracy: 67.1150, Test Loss: 0.7646, Test Accuracy: 66.509995\n",
      "Total number of trainable parameters = 1697\n",
      "\n",
      "Epoch 14, Loss: 0.7288, Accuracy: 67.1167, Test Loss: 0.7633, Test Accuracy: 66.479996\n",
      "Total number of trainable parameters = 1697\n",
      "\n",
      "Epoch 15, Loss: 0.7278, Accuracy: 67.1250, Test Loss: 0.7641, Test Accuracy: 66.409996\n",
      "Total number of trainable parameters = 1697\n",
      "\n",
      "Epoch 16, Loss: 0.7266, Accuracy: 67.1450, Test Loss: 0.7669, Test Accuracy: 66.339996\n",
      "Total number of trainable parameters = 1697\n",
      "\n",
      "Epoch 17, Loss: 0.7262, Accuracy: 67.1350, Test Loss: 0.7654, Test Accuracy: 66.489998\n",
      "Total number of trainable parameters = 1697\n",
      "\n",
      "\n",
      "'EarlyStopping' called!\n",
      "\n",
      "Train on 60000 samples, validate on 10000 samples\n",
      "Epoch 1/100\n",
      "60000/60000 [==============================] - 6s 108us/sample - loss: 0.7257 - accuracy: 0.6713 - val_loss: 0.7649 - val_accuracy: 0.6645\n",
      "Epoch 2/100\n",
      "60000/60000 [==============================] - 6s 96us/sample - loss: 1.1986 - accuracy: 0.5735 - val_loss: 1.1395 - val_accuracy: 0.5645\n",
      "Epoch 3/100\n",
      "60000/60000 [==============================] - 6s 96us/sample - loss: 1.0391 - accuracy: 0.5740 - val_loss: 1.0361 - val_accuracy: 0.5688\n",
      "Epoch 4/100\n",
      "60000/60000 [==============================] - 6s 96us/sample - loss: 0.9911 - accuracy: 0.5742 - val_loss: 1.0208 - val_accuracy: 0.5676\n",
      "\n",
      "Round = 24, total number of trainable parameters = 1383\n",
      "\n"
     ]
    }
   ],
   "source": [
    "for i in range(1, num_pruning_rounds + 1):\n",
    "    \n",
    "    print(\"\\n\\n\\nIterative pruning round: {0}\\n\\n\".format(i))\n",
    "    \n",
    "    # Define 'train_one_step()' and 'test_step()' functions here-\n",
    "    @tf.function\n",
    "    def train_one_step(model, mask_model, optimizer, x, y):\n",
    "        '''\n",
    "        Function to compute one step of gradient descent optimization\n",
    "        '''\n",
    "        with tf.GradientTape() as tape:\n",
    "            # Make predictions using defined model-\n",
    "            y_pred = model(x)\n",
    "\n",
    "            # Compute loss-\n",
    "            loss = loss_fn(y, y_pred)\n",
    "        \n",
    "        # Compute gradients wrt defined loss and weights and biases-\n",
    "        grads = tape.gradient(loss, model.trainable_variables)\n",
    "    \n",
    "        # type(grads)\n",
    "        # list\n",
    "    \n",
    "        # List to hold element-wise multiplication between-\n",
    "        # computed gradient and masks-\n",
    "        grad_mask_mul = []\n",
    "    \n",
    "        # Perform element-wise multiplication between computed gradients and masks-\n",
    "        for grad_layer, mask in zip(grads, mask_model.trainable_weights):\n",
    "            grad_mask_mul.append(tf.math.multiply(grad_layer, mask))\n",
    "    \n",
    "        # Apply computed gradients to model's weights and biases-\n",
    "        optimizer.apply_gradients(zip(grad_mask_mul, model.trainable_variables))\n",
    "\n",
    "        # Compute accuracy-\n",
    "        train_loss(loss)\n",
    "        train_accuracy(y, y_pred)\n",
    "\n",
    "        return None\n",
    "    \n",
    "    \n",
    "    @tf.function\n",
    "    def test_step(model, optimizer, data, labels):\n",
    "        \"\"\"\n",
    "        Function to test model performance\n",
    "        on testing dataset\n",
    "        \"\"\"\n",
    "    \n",
    "        predictions = model(data)\n",
    "        t_loss = loss_fn(labels, predictions)\n",
    "\n",
    "        test_loss(t_loss)\n",
    "        test_accuracy(labels, predictions)\n",
    "\n",
    "        return None\n",
    "\n",
    "\n",
    "    # Instantiate a model\n",
    "    model_gt = pruned_nn(pruning_params_unpruned)\n",
    "    \n",
    "    # Load winning ticket (from above)-\n",
    "    model_gt.load_weights(\"LeNet_MNIST_Winning_Ticket.h5\")\n",
    "    \n",
    "    # Strip model of pruning parameters-\n",
    "    model_gt_stripped = sparsity.strip_pruning(model_gt)\n",
    "    \n",
    "    \n",
    "    # Train model using 'GradientTape'-\n",
    "    \n",
    "    # Initialize parameters for Early Stopping manual implementation-\n",
    "    best_val_loss = 100\n",
    "    loc_patience = 0\n",
    "    \n",
    "    for epoch in range(num_epochs):\n",
    "    \n",
    "        if loc_patience >= patience:\n",
    "            print(\"\\n'EarlyStopping' called!\\n\")\n",
    "            break\n",
    "        \n",
    "        # Reset the metrics at the start of the next epoch\n",
    "        train_loss.reset_states()\n",
    "        train_accuracy.reset_states()\n",
    "        test_loss.reset_states()\n",
    "        test_accuracy.reset_states()\n",
    "        \n",
    "        \n",
    "        for x, y in train_dataset:\n",
    "            # train_one_step(model_gt_stripped, mask_model, optimizer, x, y, grad_mask_mul)\n",
    "            train_one_step(model_gt_stripped, mask_model_stripped, optimizer, x, y)\n",
    "\n",
    "\n",
    "        for x_t, y_t in test_dataset:\n",
    "            # test_step(x_t, y_t)\n",
    "            test_step(model_gt_stripped, optimizer, x_t, y_t)\n",
    "\n",
    "        template = 'Epoch {0}, Loss: {1:.4f}, Accuracy: {2:.4f}, Test Loss: {3:.4f}, Test Accuracy: {4:4f}'\n",
    "    \n",
    "        # 'i' is the index for number of pruning rounds-\n",
    "        history_main[i]['accuracy'][epoch] = train_accuracy.result() * 100\n",
    "        history_main[i]['loss'][epoch] = train_loss.result()\n",
    "        history_main[i]['val_loss'][epoch] = test_loss.result()\n",
    "        history_main[i]['val_accuracy'][epoch] = test_accuracy.result() * 100\n",
    "        \n",
    "        print(template.format(epoch + 1, \n",
    "                              train_loss.result(), train_accuracy.result()*100,\n",
    "                              test_loss.result(), test_accuracy.result()*100))\n",
    "    \n",
    "        # Count number of non-zero parameters in each layer and in total-\n",
    "        # print(\"layer-wise manner model, number of nonzero parameters in each layer are: \\n\")\n",
    "\n",
    "        model_sum_params = 0\n",
    "    \n",
    "        for layer in model_gt_stripped.trainable_weights:\n",
    "            # print(tf.math.count_nonzero(layer, axis = None).numpy())\n",
    "            model_sum_params += tf.math.count_nonzero(layer, axis = None).numpy()\n",
    "    \n",
    "        print(\"Total number of trainable parameters = {0}\\n\".format(model_sum_params))\n",
    "\n",
    "    \n",
    "        # Code for manual Early Stopping:\n",
    "        if np.abs(test_loss.result() < best_val_loss) >= minimum_delta:\n",
    "            # update 'best_val_loss' variable to lowest loss encountered so far-\n",
    "            best_val_loss = test_loss.result()\n",
    "        \n",
    "            # reset 'loc_patience' variable-\n",
    "            loc_patience = 0\n",
    "        \n",
    "        else:  # there is no improvement in monitored metric 'val_loss'\n",
    "            loc_patience += 1  # number of epochs without any improvement\n",
    "\n",
    "    \n",
    "    # Resize numpy arrays according to the epoch when 'EarlyStopping' was called-\n",
    "    for metrics in history_main[i].keys():\n",
    "        history_main[i][metrics] = np.resize(history_main[i][metrics], new_shape = epoch)\n",
    "        # history[metrics] = np.resize(history[metrics], new_shape=epoch)\n",
    "     \n",
    "    \n",
    "    # Save trained model weights-\n",
    "    model_gt.save_weights(\"LeNet_MNIST_Trained_Weights.h5\", overwrite=True)\n",
    "    \n",
    "    \n",
    "    \n",
    "    \n",
    "    # Prune trained model:\n",
    "    \n",
    "    # print(\"\\n% of weights to be pruned in round = {0} is: {1:.4f}\\n\".format(i, wts_np[i - 1]))\n",
    "    \n",
    "    # Specify the parameters to be used for layer-wise pruning, Fully-Connected layer pruning-\n",
    "    pruning_params_fc = {\n",
    "        'pruning_schedule': sparsity.ConstantSparsity(\n",
    "            target_sparsity=dense1_pruning[i - 1], begin_step = 1000,\n",
    "            end_step = end_step, frequency=100\n",
    "        )\n",
    "    }\n",
    "    \n",
    "    \n",
    "    # Instantiate a Nueal Network model to be pruned using parameters from above-\n",
    "    pruned_model = pruned_nn(pruning_params_fc)\n",
    "    \n",
    "    # Load weights from original trained and unpruned model-\n",
    "    pruned_model.load_weights(\"LeNet_MNIST_Trained_Weights.h5\")\n",
    "    \n",
    "    # Train pruned NN-\n",
    "    history_pruned = pruned_model.fit(\n",
    "        x = X_train, y = y_train,\n",
    "        batch_size = batch_size,\n",
    "        epochs = epochs,\n",
    "        verbose = 1,\n",
    "        callbacks = callback,\n",
    "        validation_data = (X_test, y_test),\n",
    "        shuffle = True\n",
    "    )\n",
    "    \n",
    "    # Strip the pruning wrappers from pruned model-\n",
    "    pruned_model_stripped = sparsity.strip_pruning(pruned_model)\n",
    "    \n",
    "    # print(\"\\nIn pruned model, number of nonzero parameters in each layer are: \\n\")\n",
    "    pruned_sum_params = 0\n",
    "    \n",
    "    for layer in pruned_model_stripped.trainable_weights:\n",
    "        # print(tf.math.count_nonzero(layer, axis = None).numpy())\n",
    "        pruned_sum_params += tf.math.count_nonzero(layer, axis = None).numpy()\n",
    "    \n",
    "    print(\"\\nRound = {0}, total number of trainable parameters = {1}\\n\".format(i, pruned_sum_params))\n",
    "    # print(\"\\nTotal number of trainable parameters = {0}\\n\".format(pruned_sum_params))\n",
    "    \n",
    "    '''\n",
    "    # Sanity-check: confirm that the weights are actually pruned away from the network-\n",
    "    print(\"\\nRound = {0}, % of weights pruned away = {1:.2f}%\\n\".format( \\\n",
    "                                                i, (orig_sum_params - pruned_sum_params) / orig_sum_params * 100))\n",
    "    '''\n",
    "    \n",
    "    # 'i' is the index for number of pruning rounds-\n",
    "    history_main[i]['percentage_wts_pruned'] = ((orig_sum_params - pruned_sum_params) / orig_sum_params) * 100\n",
    "\n",
    "    # Save weights of PRUNED and Trained model BEFORE stripping-\n",
    "    pruned_model.save_weights(\"LeNet_MNIST_Pruned_Weights.h5\", overwrite = True)\n",
    "    \n",
    "    \n",
    "    # Create a mask:\n",
    "    \n",
    "    # Instantiate a new neural network model for which, the mask is to be created,\n",
    "    mask_model = pruned_nn(pruning_params_unpruned)\n",
    "    \n",
    "    # Load weights of PRUNED model-\n",
    "    mask_model.load_weights(\"LeNet_MNIST_Pruned_Weights.h5\")\n",
    "    \n",
    "    # Strip the model of its pruning parameters-\n",
    "    mask_model_stripped = sparsity.strip_pruning(mask_model)\n",
    "    \n",
    "    # For each layer, for each weight which is 0, leave it, as is.\n",
    "    # And for weights which survive the pruning,reinitialize it to ONE (1)-\n",
    "    for wts in mask_model_stripped.trainable_weights:\n",
    "        wts.assign(tf.where(tf.equal(wts, 0.), 0., 1.))\n",
    "    \n",
    "    \n",
    "    \n",
    "    \n",
    "    # Extract Winning Ticket:\n",
    "    \n",
    "    # Instantiate a new neural network model for which, the weights are to be extracted-\n",
    "    winning_ticket_model = pruned_nn(pruning_params_unpruned)\n",
    "    \n",
    "    # Load weights of PRUNED model-\n",
    "    winning_ticket_model.load_weights(\"LeNet_MNIST_Pruned_Weights.h5\")\n",
    "    \n",
    "    # Strip the model of its pruning parameters-\n",
    "    winning_ticket_model_stripped = sparsity.strip_pruning(winning_ticket_model)\n",
    "    \n",
    "    # For each layer, for each weight which is 0, leave it, as is. And for weights which survive the pruning,\n",
    "    # reinitialize it to the value, the model received BEFORE it was trained and pruned-\n",
    "    for orig_wts, pruned_wts in zip(orig_model_stripped.trainable_weights,\n",
    "                                    winning_ticket_model_stripped.trainable_weights):\n",
    "        pruned_wts.assign(tf.where(tf.equal(pruned_wts, 0), pruned_wts, orig_wts))\n",
    "    \n",
    "    \n",
    "    # Save the weights (with pruning parameters) extracted to a file-\n",
    "    winning_ticket_model.save_weights(\"LeNet_MNIST_Winning_Ticket.h5\", overwrite=True)\n",
    "    \n",
    "    \n",
    "    \n",
    "    "
   ]
  },
  {
   "cell_type": "code",
   "execution_count": 62,
   "metadata": {},
   "outputs": [],
   "source": []
  },
  {
   "cell_type": "code",
   "execution_count": 64,
   "metadata": {},
   "outputs": [],
   "source": []
  },
  {
   "cell_type": "code",
   "execution_count": 53,
   "metadata": {},
   "outputs": [
    {
     "name": "stdout",
     "output_type": "stream",
     "text": [
      "\n",
      "Iterative-pruning for LeNet-300-100-10 using Lottery Ticket Hypothesis is now complete.\n",
      "\n"
     ]
    }
   ],
   "source": [
    "print(\"\\nIterative-pruning for LeNet-300-100-10 using Lottery Ticket Hypothesis is now complete.\\n\")"
   ]
  },
  {
   "cell_type": "code",
   "execution_count": null,
   "metadata": {},
   "outputs": [],
   "source": []
  },
  {
   "cell_type": "code",
   "execution_count": null,
   "metadata": {},
   "outputs": [],
   "source": []
  },
  {
   "cell_type": "code",
   "execution_count": 50,
   "metadata": {},
   "outputs": [],
   "source": [
    "import os\n",
    "import pickle"
   ]
  },
  {
   "cell_type": "code",
   "execution_count": 51,
   "metadata": {},
   "outputs": [
    {
     "data": {
      "text/plain": [
       "'/home/majumdar/The_Lottery_Ticket_Hypothesis-Resources'"
      ]
     },
     "execution_count": 51,
     "metadata": {},
     "output_type": "execute_result"
    }
   ],
   "source": [
    "os.getcwd()"
   ]
  },
  {
   "cell_type": "code",
   "execution_count": 52,
   "metadata": {},
   "outputs": [],
   "source": [
    "with open(\"/home/majumdar/The_Lottery_Ticket_Hypothesis-Resources/LeNet_MNIST_history_main_Experiment_3.pkl\", \"wb\") as f:\n",
    "    pickle.dump(history_main, f)"
   ]
  },
  {
   "cell_type": "code",
   "execution_count": null,
   "metadata": {},
   "outputs": [],
   "source": []
  },
  {
   "cell_type": "code",
   "execution_count": 4,
   "metadata": {},
   "outputs": [],
   "source": [
    "with open(\"/home/majumdar/The_Lottery_Ticket_Hypothesis-Resources/LeNet_MNIST_history_main_Experiment_3.pkl\", \"rb\") as f:\n",
    "    history_main = pickle.load(f)"
   ]
  },
  {
   "cell_type": "code",
   "execution_count": 54,
   "metadata": {},
   "outputs": [
    {
     "data": {
      "text/plain": [
       "89.13206556393234"
      ]
     },
     "execution_count": 54,
     "metadata": {},
     "output_type": "execute_result"
    }
   ],
   "source": [
    "# Sanity check-\n",
    "history_main[10]['percentage_wts_pruned']"
   ]
  },
  {
   "cell_type": "code",
   "execution_count": null,
   "metadata": {},
   "outputs": [],
   "source": []
  },
  {
   "cell_type": "code",
   "execution_count": null,
   "metadata": {},
   "outputs": [],
   "source": []
  },
  {
   "cell_type": "markdown",
   "metadata": {},
   "source": [
    "### Visualizations for _Iterative Pruning Rounds_:"
   ]
  },
  {
   "cell_type": "code",
   "execution_count": 6,
   "metadata": {},
   "outputs": [],
   "source": [
    "# Python 3 dict for training and testing accuracy visualization-\n",
    "# key is 'percentage_wts_pruned' and value is accuracy\n",
    "plot_accuracy = {}\n",
    "plot_test_accuracy = {}"
   ]
  },
  {
   "cell_type": "code",
   "execution_count": 7,
   "metadata": {},
   "outputs": [],
   "source": [
    "# populate 'plot_accuracy'-\n",
    "for k in history_main.keys():\n",
    "    epoch_length = len(history_main[k]['accuracy'])\n",
    "    plot_accuracy[history_main[k]['percentage_wts_pruned']] = history_main[k]['accuracy'][epoch_length - 1]"
   ]
  },
  {
   "cell_type": "code",
   "execution_count": 8,
   "metadata": {},
   "outputs": [],
   "source": [
    "# populate 'plot_test_accuracy'-\n",
    "for k in history_main.keys():\n",
    "    epoch_length = len(history_main[k]['accuracy'])\n",
    "    plot_test_accuracy[history_main[k]['percentage_wts_pruned']] = history_main[k]['val_accuracy'][epoch_length - 1]\n"
   ]
  },
  {
   "cell_type": "code",
   "execution_count": 10,
   "metadata": {},
   "outputs": [
    {
     "data": {
      "image/png": "[encoded data removed]",
      "text/plain": [
       "<Figure size 720x560 with 1 Axes>"
      ]
     },
     "metadata": {},
     "output_type": "display_data"
    }
   ],
   "source": [
    "# Visualization of training and testing accuracy VS percentage of weights\n",
    "# pruned-\n",
    "fig=plt.figure(figsize=(9, 7), dpi= 80, facecolor='w', edgecolor='k')\n",
    "\n",
    "plt.plot(list(plot_accuracy.keys()), list(plot_accuracy.values()), label = 'training_accuracy')\n",
    "plt.plot(list(plot_test_accuracy.keys()), list(plot_test_accuracy.values()), label = 'testing_accuracy')\n",
    "\n",
    "plt.title(\"LeNet : Percentage of weights pruned VS Accuracy (at convergence)\")\n",
    "plt.xlabel(\"percentage of weights remaining\")\n",
    "plt.ylabel(\"Accuracy\")\n",
    "plt.legend(loc = 'best')\n",
    "plt.show()"
   ]
  },
  {
   "cell_type": "code",
   "execution_count": null,
   "metadata": {},
   "outputs": [],
   "source": []
  },
  {
   "cell_type": "code",
   "execution_count": null,
   "metadata": {},
   "outputs": [],
   "source": []
  },
  {
   "cell_type": "code",
   "execution_count": 11,
   "metadata": {},
   "outputs": [],
   "source": [
    "# Python 3 dict for training and testing loss visualization-\n",
    "plot_loss = {}\n",
    "plot_test_loss = {}"
   ]
  },
  {
   "cell_type": "code",
   "execution_count": 12,
   "metadata": {},
   "outputs": [],
   "source": [
    "# populate 'plot_loss'-\n",
    "for k in history_main.keys():\n",
    "    epoch_length = len(history_main[k]['loss'])\n",
    "    plot_loss[history_main[k]['percentage_wts_pruned']] = history_main[k]['loss'][epoch_length - 1]\n"
   ]
  },
  {
   "cell_type": "code",
   "execution_count": 13,
   "metadata": {},
   "outputs": [],
   "source": [
    "# populate 'plot_test_loss'-\n",
    "for k in history_main.keys():\n",
    "    epoch_length = len(history_main[k]['loss'])\n",
    "    plot_test_loss[history_main[k]['percentage_wts_pruned']] = history_main[k]['val_loss'][epoch_length - 1]\n"
   ]
  },
  {
   "cell_type": "code",
   "execution_count": 14,
   "metadata": {},
   "outputs": [
    {
     "data": {
      "image/png": "[encoded data removed]",
      "text/plain": [
       "<Figure size 720x560 with 1 Axes>"
      ]
     },
     "metadata": {},
     "output_type": "display_data"
    }
   ],
   "source": [
    "# Visualization of training and testing loss VS percentage of remaining weights-\n",
    "# pruned-\n",
    "fig=plt.figure(figsize=(9, 7), dpi= 80, facecolor='w', edgecolor='k')\n",
    "\n",
    "plt.plot(list(plot_loss.keys()), list(plot_loss.values()), label = 'training_loss')\n",
    "plt.plot(list(plot_test_loss.keys()), list(plot_test_loss.values()), label = 'testing_loss')\n",
    "\n",
    "plt.title(\"LeNet: Percentage of weights pruned VS Loss (at convergence)\")\n",
    "plt.xlabel(\"percentage of weights remaining\")\n",
    "plt.ylabel(\"Loss\")\n",
    "plt.legend(loc = 'best')\n",
    "plt.show()"
   ]
  },
  {
   "cell_type": "code",
   "execution_count": null,
   "metadata": {},
   "outputs": [],
   "source": []
  },
  {
   "cell_type": "code",
   "execution_count": 15,
   "metadata": {},
   "outputs": [],
   "source": [
    "# Plot number of epochs (Early Stopping) VS percentage of weights pruned-\n",
    "\n",
    "# Python 3 dict to hold number of epochs vs % of weights pruned-\n",
    "plot_num_epochs = {}\n",
    "plot_num_epochs_test = {}\n"
   ]
  },
  {
   "cell_type": "code",
   "execution_count": 16,
   "metadata": {},
   "outputs": [],
   "source": [
    "# populate 'plot_num_epochs'-\n",
    "for k in history_main.keys():\n",
    "    num_epochs = len(history_main[k]['accuracy'])\n",
    "    plot_num_epochs[history_main[k]['percentage_wts_pruned']] = num_epochs\n"
   ]
  },
  {
   "cell_type": "code",
   "execution_count": null,
   "metadata": {},
   "outputs": [],
   "source": [
    "# populate 'plot_num_epochs_test'-\n",
    "for k in history_main.keys():\n",
    "    num_epochs = len(history_main[k]['val_accuracy'])\n",
    "    plot_num_epochs_test[history[k]['percentage_wts_pruned']] = num_epochs"
   ]
  },
  {
   "cell_type": "code",
   "execution_count": 17,
   "metadata": {},
   "outputs": [
    {
     "data": {
      "image/png": "[encoded data removed]",
      "text/plain": [
       "<Figure size 720x560 with 1 Axes>"
      ]
     },
     "metadata": {},
     "output_type": "display_data"
    }
   ],
   "source": [
    "# Visualize percentage of weights remaining VS number of epochs (Early Stopping)\n",
    "fig=plt.figure(figsize=(9, 7), dpi= 80, facecolor='w', edgecolor='k')\n",
    "\n",
    "plt.plot(list(plot_num_epochs.keys()), list(plot_num_epochs.values()), label = 'training set')\n",
    "plt.plot(list(plot_num_epochs_test.keys()), list(plot_num_epochs_test.values()), label = 'testing set')\n",
    "\n",
    "plt.title(\"LeNet: Percentage of weights pruned VS number of epochs (Early Stopping) until convergence\")\n",
    "plt.xlabel(\"percentage of weights remaining\")\n",
    "plt.ylabel(\"number of epochs\")\n",
    "plt.legend(loc = 'best')\n",
    "plt.show()\n"
   ]
  },
  {
   "cell_type": "code",
   "execution_count": null,
   "metadata": {},
   "outputs": [],
   "source": []
  },
  {
   "cell_type": "code",
   "execution_count": null,
   "metadata": {},
   "outputs": [],
   "source": []
  },
  {
   "cell_type": "code",
   "execution_count": 18,
   "metadata": {},
   "outputs": [],
   "source": [
    "# Try to visualize the STARTING training and testing accuracy VS percentage\n",
    "# of remaining weights-\n",
    "\n",
    "# Python 3 dict for visualization-\n",
    "plot_starting_accuracy = {}\n",
    "plot_starting_test_accuracy = {}\n",
    "\n",
    "# Key:    percentage of weights pruned\n",
    "# Value:  starting accuracy\n"
   ]
  },
  {
   "cell_type": "code",
   "execution_count": 19,
   "metadata": {},
   "outputs": [],
   "source": [
    "# populate 'plot_starting_accuracy'-\n",
    "for k in history_main.keys():\n",
    "    epoch_length = len(history_main[k]['loss'])\n",
    "    plot_starting_accuracy[history_main[k]['percentage_wts_pruned']] = history_main[k]['accuracy'][0]\n"
   ]
  },
  {
   "cell_type": "code",
   "execution_count": 20,
   "metadata": {},
   "outputs": [],
   "source": [
    "# populate 'plot_starting_test_accuracy'-\n",
    "for k in history_main.keys():\n",
    "    epoch_length = len(history_main[k]['loss'])\n",
    "    plot_starting_test_accuracy[history_main[k]['percentage_wts_pruned']] = history_main[k]['val_accuracy'][0]\n"
   ]
  },
  {
   "cell_type": "code",
   "execution_count": 21,
   "metadata": {},
   "outputs": [
    {
     "data": {
      "image/png": "[encoded data removed]",
      "text/plain": [
       "<Figure size 720x560 with 1 Axes>"
      ]
     },
     "metadata": {},
     "output_type": "display_data"
    }
   ],
   "source": [
    "# Visualize starting accuracy VS percentage of weights pruned-\n",
    "fig=plt.figure(figsize=(9, 7), dpi= 80, facecolor='w', edgecolor='k')\n",
    "\n",
    "plt.plot(list(plot_starting_accuracy.keys()), list(plot_starting_accuracy.values()), label = 'training starting accuracy')\n",
    "plt.plot(list(plot_starting_test_accuracy.keys()), list(plot_starting_test_accuracy.values()), label = 'testing starting accuracy')\n",
    "\n",
    "plt.title(\"LeNet: Percentage of weights pruned VS Starting Accuracy\")\n",
    "plt.xlabel(\"percentage of weights remaining\")\n",
    "plt.ylabel(\"Accuracy\")\n",
    "plt.legend(loc = 'best')\n",
    "plt.show()\n"
   ]
  },
  {
   "cell_type": "code",
   "execution_count": null,
   "metadata": {},
   "outputs": [],
   "source": []
  },
  {
   "cell_type": "code",
   "execution_count": null,
   "metadata": {},
   "outputs": [],
   "source": []
  },
  {
   "cell_type": "code",
   "execution_count": 22,
   "metadata": {},
   "outputs": [],
   "source": [
    "# Try to visualize the STARTING training and testing loss VS percentage\n",
    "# of remaining weights-\n",
    "\n",
    "# Python 3 dict for visualization-\n",
    "plot_starting_loss = {}\n",
    "plot_starting_test_loss = {}\n",
    "\n",
    "# Key:\t\tpercentage of weights pruned\n",
    "# Value:\tstarting loss\n"
   ]
  },
  {
   "cell_type": "code",
   "execution_count": 23,
   "metadata": {},
   "outputs": [],
   "source": [
    "# Populate 'plot_starting_loss' Python 3 dict-\n",
    "for k in history_main.keys():\n",
    "    epoch_length = len(history_main[k]['loss'])\n",
    "    plot_starting_loss[history_main[k]['percentage_wts_pruned']] = history_main[k]['loss'][0]\n"
   ]
  },
  {
   "cell_type": "code",
   "execution_count": 24,
   "metadata": {},
   "outputs": [],
   "source": [
    "# Populate 'plot_starting_test_loss' Python 3 dict-\n",
    "for k in history_main.keys():\n",
    "    epoch_length = len(history_main[k]['loss'])\n",
    "    plot_starting_test_loss[history_main[k]['percentage_wts_pruned']] = history_main[k]['val_loss'][0]\n"
   ]
  },
  {
   "cell_type": "code",
   "execution_count": 25,
   "metadata": {},
   "outputs": [
    {
     "data": {
      "image/png": "[encoded data removed]",
      "text/plain": [
       "<Figure size 720x560 with 1 Axes>"
      ]
     },
     "metadata": {},
     "output_type": "display_data"
    }
   ],
   "source": [
    "# Visualize Starting training & testing loss VS percentage of weights pruned-\n",
    "fig=plt.figure(figsize=(9, 7), dpi= 80, facecolor='w', edgecolor='k')\n",
    "\n",
    "plt.plot(list(plot_starting_loss.keys()), list(plot_starting_loss.values()), label = 'training starting loss')\n",
    "plt.plot(list(plot_starting_test_loss.keys()), list(plot_starting_test_loss.values()), label = 'testing starting loss')\n",
    "\n",
    "plt.title(\"LeNet: Percentage of weights pruned VS Starting Loss\")\n",
    "plt.xlabel(\"percentage of weights remaining\")\n",
    "plt.ylabel(\"Loss\")\n",
    "plt.legend(loc = 'best')\n",
    "plt.show()"
   ]
  },
  {
   "cell_type": "code",
   "execution_count": null,
   "metadata": {},
   "outputs": [],
   "source": []
  },
  {
   "cell_type": "code",
   "execution_count": null,
   "metadata": {},
   "outputs": [],
   "source": []
  },
  {
   "cell_type": "code",
   "execution_count": 73,
   "metadata": {},
   "outputs": [],
   "source": [
    "# Try to visualize: percentage of weights remaining VS BEST accuracy within each iterative\n",
    "# pruning round\n",
    "\n",
    "# Python 3 dict for visualization-\n",
    "plot_best_accuracy = {}\n",
    "plot_best_test_accuracy = {}\n",
    "\n",
    "# Key:\t\tpercentage of weights pruned\n",
    "# Value:\tbest accuracy"
   ]
  },
  {
   "cell_type": "code",
   "execution_count": 74,
   "metadata": {},
   "outputs": [],
   "source": [
    "# Populate 'plot_best_accuracy' Python 3 dict-\n",
    "for k in history_main.keys():\n",
    "    epoch_length = len(history_main[k]['accuracy'])\n",
    "    plot_best_accuracy[history_main[k]['percentage_wts_pruned']] = np.amax(history_main[k]['accuracy'])\n"
   ]
  },
  {
   "cell_type": "code",
   "execution_count": 75,
   "metadata": {},
   "outputs": [],
   "source": [
    "# Populate 'plot_best_test_accuracy' Python 3 dict-\n",
    "for k in history_main.keys():\n",
    "    epoch_length = len(history_main[k]['accuracy'])\n",
    "    plot_best_test_accuracy[history_main[k]['percentage_wts_pruned']] = np.amax(history_main[k]['val_accuracy'])\n"
   ]
  },
  {
   "cell_type": "code",
   "execution_count": 76,
   "metadata": {},
   "outputs": [
    {
     "data": {
      "image/png": "[encoded data removed]",
      "text/plain": [
       "<Figure size 800x720 with 1 Axes>"
      ]
     },
     "metadata": {},
     "output_type": "display_data"
    }
   ],
   "source": [
    "# Visualize best accuracy VS percentage of weights pruned-\n",
    "fig=plt.figure(figsize=(10, 9), dpi= 80, facecolor='w', edgecolor='k')\n",
    "\n",
    "plt.plot(list(plot_best_accuracy.keys()), list(plot_best_accuracy.values()), label = 'training best accuracy')\n",
    "plt.plot(list(plot_best_test_accuracy.keys()), list(plot_best_test_accuracy.values()), label = 'testing best accuracy')\n",
    "\n",
    "plt.title(\"LeNet: Percentage of weights pruned VS Best Accuracy\")\n",
    "plt.xlabel(\"percentage of weights remaining\")\n",
    "plt.ylabel(\"Accuracy\")\n",
    "plt.legend(loc = 'best')\n",
    "plt.show()\n"
   ]
  },
  {
   "cell_type": "code",
   "execution_count": null,
   "metadata": {},
   "outputs": [],
   "source": []
  },
  {
   "cell_type": "code",
   "execution_count": null,
   "metadata": {},
   "outputs": [],
   "source": []
  },
  {
   "cell_type": "code",
   "execution_count": 77,
   "metadata": {},
   "outputs": [],
   "source": [
    "# Try to visualize: percentage of weights remaining VS LOWEST loss within each iterative\n",
    "# pruning round\n",
    "\n",
    "# Python 3 dict for visualization-\n",
    "plot_best_loss = {}\n",
    "plot_best_test_loss = {}\n",
    "\n",
    "# Key:\t\tpercentage of weights pruned\n",
    "# Value:\tbest loss"
   ]
  },
  {
   "cell_type": "code",
   "execution_count": 78,
   "metadata": {},
   "outputs": [],
   "source": [
    "# Populate 'plot_best_loss' Python 3 dict-\n",
    "for k in history_main.keys():\n",
    "    epoch_length = len(history_main[k]['loss'])\n",
    "    plot_best_loss[history_main[k]['percentage_wts_pruned']] = np.amin(history_main[k]['loss'])\n"
   ]
  },
  {
   "cell_type": "code",
   "execution_count": 79,
   "metadata": {},
   "outputs": [],
   "source": [
    "# Populate 'plot_best_test_loss' Python 3 dict-\n",
    "for k in history_main.keys():\n",
    "    epoch_length = len(history_main[k]['loss'])\n",
    "    plot_best_test_loss[history_main[k]['percentage_wts_pruned']] = np.amin(history_main[k]['val_loss'])\n"
   ]
  },
  {
   "cell_type": "code",
   "execution_count": 80,
   "metadata": {},
   "outputs": [
    {
     "data": {
      "image/png": "[encoded data removed]",
      "text/plain": [
       "<Figure size 800x720 with 1 Axes>"
      ]
     },
     "metadata": {},
     "output_type": "display_data"
    }
   ],
   "source": [
    "# Visualize best loss VS percentage of weights pruned-\n",
    "fig=plt.figure(figsize=(10, 9), dpi= 80, facecolor='w', edgecolor='k')\n",
    "\n",
    "plt.plot(list(plot_best_loss.keys()), list(plot_best_loss.values()), label = 'training best loss')\n",
    "plt.plot(list(plot_best_test_loss.keys()), list(plot_best_test_loss.values()), label = 'testing best loss')\n",
    "\n",
    "plt.title(\"LeNet: Percentage of weights pruned VS Best Loss\")\n",
    "plt.xlabel(\"percentage of weights remaining\")\n",
    "plt.ylabel(\"Loss\")\n",
    "plt.legend(loc = 'best')\n",
    "plt.show()\n"
   ]
  },
  {
   "cell_type": "code",
   "execution_count": null,
   "metadata": {},
   "outputs": [],
   "source": []
  },
  {
   "cell_type": "code",
   "execution_count": null,
   "metadata": {},
   "outputs": [],
   "source": []
  },
  {
   "cell_type": "markdown",
   "metadata": {},
   "source": [
    "### Find the iterative pruning round for which training and testing accuracy is highest:"
   ]
  },
  {
   "cell_type": "code",
   "execution_count": 81,
   "metadata": {},
   "outputs": [
    {
     "name": "stdout",
     "output_type": "stream",
     "text": [
      "\n",
      "Iterative round = 8 has highest training accuracy = 99.9183% at percentage of weights pruned = 83.0967%\n",
      "\n"
     ]
    }
   ],
   "source": [
    "# Find highest training and testing accuracy for all iterative pruning rounds-\n",
    "best_accuracy = 0\n",
    "iterative_round = 0\n",
    "\n",
    "\n",
    "for k in history_main.keys():\n",
    "\tepoch_length = len(history_main[k]['accuracy'])\n",
    "\tif history_main[k]['accuracy'][epoch_length - 1] > best_accuracy:\n",
    "\t\tbest_accuracy = history_main[k]['accuracy'][epoch_length - 1]\n",
    "\t\titerative_round = k\n",
    "\n",
    "\n",
    "print(\"\\nIterative round = {0} has highest training accuracy = {1:.4f}% at percentage of weights pruned = {2:.4f}%\\n\".format(\n",
    "    iterative_round, best_accuracy, history_main[iterative_round]['percentage_wts_pruned']))\n"
   ]
  },
  {
   "cell_type": "code",
   "execution_count": 82,
   "metadata": {},
   "outputs": [
    {
     "name": "stdout",
     "output_type": "stream",
     "text": [
      "\n",
      "Iterative round = 8 has highest testing accuracy = 98.3000% at percentage of weights pruned = 83.0967%\n",
      "\n"
     ]
    }
   ],
   "source": [
    "best_test_accuracy = 0\n",
    "iterative_round = 0\n",
    "\n",
    "\n",
    "for k in history_main.keys():\n",
    "\tepoch_length = len(history_main[k]['val_accuracy'])\n",
    "\tif history_main[k]['val_accuracy'][epoch_length - 1] > best_test_accuracy:\n",
    "\t\tbest_test_accuracy = history_main[k]['val_accuracy'][epoch_length - 1]\n",
    "\t\titerative_round = k\n",
    "\n",
    "\n",
    "print(\"\\nIterative round = {0} has highest testing accuracy = {1:.4f}% at percentage of weights pruned = {2:.4f}%\\n\".format(\n",
    "    iterative_round, best_test_accuracy, history_main[iterative_round]['percentage_wts_pruned']))\n"
   ]
  },
  {
   "cell_type": "code",
   "execution_count": 83,
   "metadata": {},
   "outputs": [
    {
     "data": {
      "image/png": "[encoded data removed]",
      "text/plain": [
       "<Figure size 800x720 with 1 Axes>"
      ]
     },
     "metadata": {},
     "output_type": "display_data"
    }
   ],
   "source": [
    "\n",
    "fig=plt.figure(figsize=(10, 9), dpi= 80, facecolor='w', edgecolor='k')\n",
    "\n",
    "for k in history_main.keys():\n",
    "    plt.plot(history_main[k]['accuracy'], label = 'training_accuracy_epoch-{0}'.format(k))\n",
    "    # plt.plot(history_main[k]['val_accuracy'], label = 'testing_accuracy_epoch-{0}'.format(k))\n",
    "\n",
    "plt.title(\"Conv-2 CNN - Training Visualization [Scalar Metrics]\")\n",
    "plt.xlabel(\"number of epochs\")\n",
    "plt.ylabel(\"accuracy accuracy\")\n",
    "plt.legend(loc = 'best')\n",
    "plt.show()"
   ]
  },
  {
   "cell_type": "code",
   "execution_count": 84,
   "metadata": {},
   "outputs": [
    {
     "data": {
      "image/png": "[encoded data removed]",
      "text/plain": [
       "<Figure size 800x720 with 1 Axes>"
      ]
     },
     "metadata": {},
     "output_type": "display_data"
    }
   ],
   "source": [
    "\n",
    "fig=plt.figure(figsize=(10, 9), dpi= 80, facecolor='w', edgecolor='k')\n",
    "\n",
    "for k in history_main.keys():\n",
    "    # plt.plot(history_main[k]['accuracy'], label = 'training_accuracy_epoch-{0}'.format(k))\n",
    "    plt.plot(history_main[k]['val_accuracy'], label = 'testing_accuracy_epoch-{0}'.format(k))\n",
    "\n",
    "plt.title(\"Conv-2 CNN - Testing Visualization [Scalar Metrics]\")\n",
    "plt.xlabel(\"number of epochs\")\n",
    "plt.ylabel(\"validation accuracy\")\n",
    "plt.legend(loc = 'best')\n",
    "plt.show()"
   ]
  },
  {
   "cell_type": "code",
   "execution_count": null,
   "metadata": {},
   "outputs": [],
   "source": []
  },
  {
   "cell_type": "code",
   "execution_count": null,
   "metadata": {},
   "outputs": [],
   "source": []
  },
  {
   "cell_type": "code",
   "execution_count": null,
   "metadata": {},
   "outputs": [],
   "source": []
  }
 ],
 "metadata": {
  "kernelspec": {
   "display_name": "Python 3",
   "language": "python",
   "name": "python3"
  },
  "language_info": {
   "codemirror_mode": {
    "name": "ipython",
    "version": 3
   },
   "file_extension": ".py",
   "mimetype": "text/x-python",
   "name": "python",
   "nbconvert_exporter": "python",
   "pygments_lexer": "ipython3",
   "version": "3.7.3"
  }
 },
 "nbformat": 4,
 "nbformat_minor": 4
}
