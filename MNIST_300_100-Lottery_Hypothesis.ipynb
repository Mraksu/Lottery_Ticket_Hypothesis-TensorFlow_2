{
 "cells": [
  {
   "cell_type": "markdown",
   "metadata": {},
   "source": [
    "# __The Lottery Ticket Hypothesis__ _TensorFlow 2.0_ implementation:\n",
    "The following code implements __The Lottery Ticket Hypothesis: Finding Sparse, Trainable Neural Networks__ research paper by: _Jonathan Frankle, Michael Carbin_\n",
    "\n",
    "Refer: _arXiv:1803.03635_\n",
    "\n",
    "\n",
    "This code implements the hypothesis for _LeNet 300-100-10_ Dense Fully Connected neural network for MNIST multi-class classification"
   ]
  },
  {
   "cell_type": "code",
   "execution_count": 1,
   "metadata": {},
   "outputs": [],
   "source": [
    "import tensorflow as tf\n",
    "import numpy as np\n",
    "import math\n",
    "import tensorflow_model_optimization as tfmot\n",
    "from tensorflow_model_optimization.sparsity import keras as sparsity\n",
    "# from tensorflow.keras import datasets, layers, models\n",
    "import matplotlib.pyplot as plt\n",
    "from tensorflow.keras.layers import AveragePooling2D, Conv2D\n",
    "from tensorflow.keras import models, layers, datasets\n",
    "from tensorflow.keras.layers import Dense, Flatten, Reshape, Input, InputLayer\n",
    "from tensorflow.keras.models import Sequential, Model\n",
    "from tensorflow.keras.initializers import RandomNormal\n",
    "# import math\n",
    "from sklearn.metrics import accuracy_score, precision_score, recall_score"
   ]
  },
  {
   "cell_type": "code",
   "execution_count": 2,
   "metadata": {},
   "outputs": [
    {
     "data": {
      "text/plain": [
       "'2.0.0'"
      ]
     },
     "execution_count": 2,
     "metadata": {},
     "output_type": "execute_result"
    }
   ],
   "source": [
    "tf.__version__"
   ]
  },
  {
   "cell_type": "code",
   "execution_count": 3,
   "metadata": {},
   "outputs": [],
   "source": [
    "batch_size = 32\n",
    "num_classes = 10\n",
    "num_epochs = 50"
   ]
  },
  {
   "cell_type": "code",
   "execution_count": 4,
   "metadata": {},
   "outputs": [],
   "source": [
    "# Data preprocessing and cleadning:\n",
    "# input image dimensions\n",
    "img_rows, img_cols = 28, 28\n",
    "\n",
    "# Load MNIST dataset-\n",
    "(X_train, y_train), (X_test, y_test) = tf.keras.datasets.mnist.load_data()"
   ]
  },
  {
   "cell_type": "code",
   "execution_count": 5,
   "metadata": {},
   "outputs": [
    {
     "name": "stdout",
     "output_type": "stream",
     "text": [
      "\n",
      "'input_shape' which will be used = (28, 28, 1)\n",
      "\n"
     ]
    }
   ],
   "source": [
    "if tf.keras.backend.image_data_format() == 'channels_first':\n",
    "    X_train = X_train.reshape(X_train.shape[0], 1, img_rows, img_cols)\n",
    "    X_test = X_test.reshape(X_test.shape[0], 1, img_rows, img_cols)\n",
    "    input_shape = (1, img_rows, img_cols)\n",
    "else:\n",
    "    X_train = X_train.reshape(X_train.shape[0], img_rows, img_cols, 1)\n",
    "    X_test = X_test.reshape(X_test.shape[0], img_rows, img_cols, 1)\n",
    "    input_shape = (img_rows, img_cols, 1)\n",
    "\n",
    "print(\"\\n'input_shape' which will be used = {0}\\n\".format(input_shape))"
   ]
  },
  {
   "cell_type": "code",
   "execution_count": 6,
   "metadata": {},
   "outputs": [],
   "source": [
    "# Convert datasets to floating point types-\n",
    "X_train = X_train.astype('float32')\n",
    "X_test = X_test.astype('float32')\n",
    "\n",
    "# Normalize the training and testing datasets-\n",
    "X_train /= 255.0\n",
    "X_test /= 255.0"
   ]
  },
  {
   "cell_type": "code",
   "execution_count": 7,
   "metadata": {},
   "outputs": [],
   "source": [
    "# convert class vectors/target to binary class matrices or one-hot encoded values-\n",
    "y_train = tf.keras.utils.to_categorical(y_train, num_classes)\n",
    "y_test = tf.keras.utils.to_categorical(y_test, num_classes)"
   ]
  },
  {
   "cell_type": "code",
   "execution_count": 8,
   "metadata": {},
   "outputs": [],
   "source": [
    "# Reshape training and testing sets-\n",
    "X_train = X_train.reshape(X_train.shape[0], 784)\n",
    "X_test = X_test.reshape(X_test.shape[0], 784)"
   ]
  },
  {
   "cell_type": "code",
   "execution_count": 9,
   "metadata": {},
   "outputs": [
    {
     "name": "stdout",
     "output_type": "stream",
     "text": [
      "\n",
      "Dimensions of training and testing sets are:\n",
      "X_train.shape = (60000, 784), y_train = (60000, 10)\n",
      "X_test.shape = (10000, 784), y_test = (10000, 10)\n"
     ]
    }
   ],
   "source": [
    "print(\"\\nDimensions of training and testing sets are:\")\n",
    "print(\"X_train.shape = {0}, y_train = {1}\".format(X_train.shape, y_train.shape))\n",
    "print(\"X_test.shape = {0}, y_test = {1}\".format(X_test.shape, y_test.shape))"
   ]
  },
  {
   "cell_type": "code",
   "execution_count": null,
   "metadata": {},
   "outputs": [],
   "source": []
  },
  {
   "cell_type": "code",
   "execution_count": null,
   "metadata": {},
   "outputs": [],
   "source": []
  },
  {
   "cell_type": "markdown",
   "metadata": {},
   "source": [
    "### Prepare MNIST dataset for _GradientTape_ training:"
   ]
  },
  {
   "cell_type": "code",
   "execution_count": 10,
   "metadata": {},
   "outputs": [],
   "source": [
    "# Create training and testing datasets-\n",
    "train_dataset = tf.data.Dataset.from_tensor_slices((X_train, y_train))\n",
    "test_dataset = tf.data.Dataset.from_tensor_slices((X_test, y_test))"
   ]
  },
  {
   "cell_type": "code",
   "execution_count": 11,
   "metadata": {},
   "outputs": [],
   "source": [
    "train_dataset = train_dataset.shuffle(buffer_size = 20000, reshuffle_each_iteration = True).batch(batch_size = batch_size, drop_remainder = False)"
   ]
  },
  {
   "cell_type": "code",
   "execution_count": 12,
   "metadata": {},
   "outputs": [],
   "source": [
    "test_dataset = test_dataset.batch(batch_size=batch_size, drop_remainder=False)"
   ]
  },
  {
   "cell_type": "code",
   "execution_count": 13,
   "metadata": {},
   "outputs": [],
   "source": [
    "# Choose an optimizer and loss function for training-\n",
    "loss_fn = tf.keras.losses.CategoricalCrossentropy()\n",
    "optimizer = tf.keras.optimizers.Adam(lr = 0.001)"
   ]
  },
  {
   "cell_type": "code",
   "execution_count": 14,
   "metadata": {},
   "outputs": [],
   "source": [
    "# Select metrics to measure the error & accuracy of model.\n",
    "# These metrics accumulate the values over epochs and then\n",
    "# print the overall result-\n",
    "train_loss = tf.keras.metrics.Mean(name = 'train_loss')\n",
    "train_accuracy = tf.keras.metrics.CategoricalAccuracy(name = 'train_accuracy')\n",
    "\n",
    "test_loss = tf.keras.metrics.Mean(name = 'test_loss')\n",
    "test_accuracy = tf.keras.metrics.CategoricalAccuracy(name = 'test_accuracy')"
   ]
  },
  {
   "cell_type": "code",
   "execution_count": null,
   "metadata": {},
   "outputs": [],
   "source": []
  },
  {
   "cell_type": "code",
   "execution_count": null,
   "metadata": {},
   "outputs": [],
   "source": []
  },
  {
   "cell_type": "code",
   "execution_count": 15,
   "metadata": {},
   "outputs": [
    {
     "name": "stdout",
     "output_type": "stream",
     "text": [
      "'end_step parameter' for this dataset =  93750\n"
     ]
    }
   ],
   "source": [
    "# The model is first trained without any pruning for 'num_epochs' epochs-\n",
    "epochs = num_epochs\n",
    "\n",
    "num_train_samples = X_train.shape[0]\n",
    "\n",
    "end_step = np.ceil(1.0 * num_train_samples / batch_size).astype(np.int32) * epochs\n",
    "\n",
    "print(\"'end_step parameter' for this dataset =  {0}\".format(end_step))"
   ]
  },
  {
   "cell_type": "code",
   "execution_count": 16,
   "metadata": {},
   "outputs": [],
   "source": [
    "# Specify the parameters to be used for layer-wise pruning, NO PRUNING is done here:\n",
    "pruning_params_unpruned = {\n",
    "    'pruning_schedule': sparsity.ConstantSparsity(\n",
    "        target_sparsity=0.0, begin_step=0,\n",
    "        end_step = 0, frequency=100\n",
    "    )\n",
    "}"
   ]
  },
  {
   "cell_type": "code",
   "execution_count": null,
   "metadata": {},
   "outputs": [],
   "source": []
  },
  {
   "cell_type": "code",
   "execution_count": null,
   "metadata": {},
   "outputs": [],
   "source": []
  },
  {
   "cell_type": "code",
   "execution_count": 17,
   "metadata": {},
   "outputs": [],
   "source": [
    "l = tf.keras.layers"
   ]
  },
  {
   "cell_type": "code",
   "execution_count": 18,
   "metadata": {},
   "outputs": [],
   "source": [
    "def pruned_nn(pruning_params):\n",
    "    \"\"\"\n",
    "    Function to define the architecture of a neural network model\n",
    "    following 300 100 architecture for MNIST dataset and using\n",
    "    provided parameter which are used to prune the model.\n",
    "    \n",
    "    Input: 'pruning_params' Python 3 dictionary containing parameters which are used for pruning\n",
    "    Output: Returns designed and compiled neural network model\n",
    "    \"\"\"\n",
    "    \n",
    "    pruned_model = Sequential()\n",
    "    pruned_model.add(l.InputLayer(input_shape=(784, )))\n",
    "    pruned_model.add(Flatten())\n",
    "    pruned_model.add(sparsity.prune_low_magnitude(\n",
    "        Dense(units = 300, activation='relu', kernel_initializer=tf.initializers.GlorotUniform()),\n",
    "        **pruning_params))\n",
    "    # pruned_model.add(l.Dropout(0.2))\n",
    "    pruned_model.add(sparsity.prune_low_magnitude(\n",
    "        Dense(units = 100, activation='relu', kernel_initializer=tf.initializers.GlorotUniform()),\n",
    "        **pruning_params))\n",
    "    # pruned_model.add(l.Dropout(0.1))\n",
    "    pruned_model.add(sparsity.prune_low_magnitude(\n",
    "        Dense(units = num_classes, activation='softmax'),\n",
    "        **pruning_params))\n",
    "    \n",
    "    # Compile pruned CNN-\n",
    "    pruned_model.compile(\n",
    "        loss=tf.keras.losses.categorical_crossentropy,\n",
    "        # optimizer='adam',\n",
    "        optimizer=tf.keras.optimizers.Adam(lr = 0.001),\n",
    "        metrics=['accuracy'])\n",
    "    \n",
    "    return pruned_model\n"
   ]
  },
  {
   "cell_type": "code",
   "execution_count": 19,
   "metadata": {},
   "outputs": [],
   "source": [
    "# Add a pruning step callback to peg the pruning step to the optimizer's\n",
    "# step. Also add a callback to add pruning summaries to tensorboard\n",
    "callbacks = [\n",
    "             sparsity.UpdatePruningStep(),\n",
    "             # sparsity.PruningSummaries(log_dir = logdir, profile_batch=0),\n",
    "             tf.keras.callbacks.EarlyStopping(\n",
    "                 monitor='val_loss', patience = 3,\n",
    "                 min_delta=0.001\n",
    "             )\n",
    "]"
   ]
  },
  {
   "cell_type": "code",
   "execution_count": null,
   "metadata": {},
   "outputs": [],
   "source": []
  },
  {
   "cell_type": "code",
   "execution_count": null,
   "metadata": {},
   "outputs": [],
   "source": []
  },
  {
   "cell_type": "code",
   "execution_count": 20,
   "metadata": {},
   "outputs": [
    {
     "name": "stdout",
     "output_type": "stream",
     "text": [
      "WARNING:tensorflow:From /opt/conda/lib/python3.7/site-packages/tensorflow_model_optimization/python/core/sparsity/keras/pruning_wrapper.py:183: Layer.add_variable (from tensorflow.python.keras.engine.base_layer) is deprecated and will be removed in a future version.\n",
      "Instructions for updating:\n",
      "Please use `layer.add_weight` method instead.\n"
     ]
    }
   ],
   "source": [
    "# Instantiate a Neural Network-\n",
    "orig_model = pruned_nn(pruning_params_unpruned)"
   ]
  },
  {
   "cell_type": "code",
   "execution_count": 21,
   "metadata": {},
   "outputs": [],
   "source": [
    "# Strip model of it's pruning parameters-\n",
    "orig_model_stripped = sparsity.strip_pruning(orig_model)"
   ]
  },
  {
   "cell_type": "code",
   "execution_count": 22,
   "metadata": {},
   "outputs": [],
   "source": [
    "# Save random weights-\n",
    "orig_model.save_weights(\"Random_Weights_Experimental.h5\", overwrite=True)"
   ]
  },
  {
   "cell_type": "code",
   "execution_count": 23,
   "metadata": {},
   "outputs": [],
   "source": [
    "# Save random weights-\n",
    "orig_model.save_weights(\"Winning_Ticket_Weights_Experimental.h5\", overwrite=True)"
   ]
  },
  {
   "cell_type": "code",
   "execution_count": 24,
   "metadata": {},
   "outputs": [
    {
     "name": "stdout",
     "output_type": "stream",
     "text": [
      "(784, 300)\n",
      "(300,)\n",
      "(300, 100)\n",
      "(100,)\n",
      "(100, 10)\n",
      "(10,)\n"
     ]
    }
   ],
   "source": [
    "for layer in orig_model_stripped.trainable_weights:\n",
    "    print(layer.shape)"
   ]
  },
  {
   "cell_type": "code",
   "execution_count": 25,
   "metadata": {},
   "outputs": [],
   "source": [
    "orig_sum_params = 266610"
   ]
  },
  {
   "cell_type": "code",
   "execution_count": 26,
   "metadata": {},
   "outputs": [
    {
     "name": "stdout",
     "output_type": "stream",
     "text": [
      "\n",
      "In original unpruned model, number of nonzero parameters in each layer are: \n",
      "\n",
      "235200\n",
      "0\n",
      "30000\n",
      "0\n",
      "1000\n",
      "0\n",
      "\n",
      "Total number of trainable parameters = 266200\n",
      "\n"
     ]
    }
   ],
   "source": [
    "# Count number of non-zero parameters in trained neural network-\n",
    "\n",
    "print(\"\\nIn original unpruned model, number of nonzero parameters in each layer are: \\n\")\n",
    "\n",
    "orig_sum_params = 0\n",
    "\n",
    "for layer in orig_model.trainable_weights:\n",
    "    print(tf.math.count_nonzero(layer, axis = None).numpy())\n",
    "    orig_sum_params += tf.math.count_nonzero(layer, axis = None).numpy()\n",
    "\n",
    "print(\"\\nTotal number of trainable parameters = {0}\\n\".format(orig_sum_params))"
   ]
  },
  {
   "cell_type": "code",
   "execution_count": 27,
   "metadata": {},
   "outputs": [
    {
     "name": "stdout",
     "output_type": "stream",
     "text": [
      "Difference =  410\n"
     ]
    }
   ],
   "source": [
    "print(\"Difference = \", 266610 - 266200)"
   ]
  },
  {
   "cell_type": "code",
   "execution_count": null,
   "metadata": {},
   "outputs": [],
   "source": []
  },
  {
   "cell_type": "markdown",
   "metadata": {},
   "source": [
    "### Create a mask:\n",
    "A mask is created where all parameters equal to one.\n",
    "\n",
    "This will be used later by _GradientTape_ for training the defined neural network."
   ]
  },
  {
   "cell_type": "code",
   "execution_count": 28,
   "metadata": {},
   "outputs": [],
   "source": [
    "# Instantiate a new neural network model for which, the mask is to be created,\n",
    "# according to the paper-\n",
    "mask_model = pruned_nn(pruning_params_unpruned)"
   ]
  },
  {
   "cell_type": "code",
   "execution_count": 29,
   "metadata": {},
   "outputs": [],
   "source": [
    "# Strip the model of its pruning parameters-\n",
    "mask_model_stripped = sparsity.strip_pruning(mask_model)"
   ]
  },
  {
   "cell_type": "code",
   "execution_count": 30,
   "metadata": {},
   "outputs": [],
   "source": [
    "# Assign all masks to one-\n",
    "\n",
    "for wts in mask_model_stripped.trainable_weights:\n",
    "    wts.assign(\n",
    "        tf.ones_like(\n",
    "            input = wts,\n",
    "            dtype = tf.float32\n",
    "        )\n",
    "\n",
    "    )\n",
    "    # wts.assign(1.)\n",
    "    # wts.assign(tf.where(tf.equal(wts, 0.), 0., 1.))"
   ]
  },
  {
   "cell_type": "code",
   "execution_count": 31,
   "metadata": {},
   "outputs": [
    {
     "name": "stdout",
     "output_type": "stream",
     "text": [
      "\n",
      "Mask model metrics:\n",
      "layer-wise manner model, number of nonzero parameters in each layer are: \n",
      "\n",
      "235200\n",
      "300\n",
      "30000\n",
      "100\n",
      "1000\n",
      "10\n",
      "\n",
      "Total number of trainable parameters = 266610\n",
      "\n"
     ]
    }
   ],
   "source": [
    "print(\"\\nMask model metrics:\")\n",
    "print(\"layer-wise manner model, number of nonzero parameters in each layer are: \\n\")\n",
    "\n",
    "masked_sum_params = 0\n",
    "\n",
    "for layer in mask_model_stripped.trainable_weights:\n",
    "    print(tf.math.count_nonzero(layer, axis = None).numpy())\n",
    "    masked_sum_params += tf.math.count_nonzero(layer, axis = None).numpy()\n",
    "\n",
    "print(\"\\nTotal number of trainable parameters = {0}\\n\".format(masked_sum_params))"
   ]
  },
  {
   "cell_type": "code",
   "execution_count": null,
   "metadata": {},
   "outputs": [],
   "source": []
  },
  {
   "cell_type": "code",
   "execution_count": null,
   "metadata": {},
   "outputs": [],
   "source": []
  },
  {
   "cell_type": "markdown",
   "metadata": {},
   "source": [
    "### Input values for pruning given neural network:"
   ]
  },
  {
   "cell_type": "code",
   "execution_count": 32,
   "metadata": {},
   "outputs": [],
   "source": [
    "def compute_weights_pruned_each_round(orig_params, p, n):\n",
    "    '''\n",
    "    Function to compute % of weights pruned in each round\n",
    "\n",
    "    Input:\n",
    "    orig_params:    number of parameters in model BEFORE any pruning\n",
    "    p:              final sparsity desired AFTER 'n' rounds of iterative pruning\n",
    "    n:              number of icterative pruning rounds\n",
    "\n",
    "\n",
    "    Returns:\n",
    "    numpy array holding % of weights pruned in each round\n",
    "    '''\n",
    "\n",
    "    if p > 1:\n",
    "        p = p / 100\n",
    "\n",
    "    # numpy array to hold % of weights pruned in each of 'n' round-\n",
    "    # wts_pruned = np.zeros(shape = n)\n",
    "    wts_pruned = np.zeros(shape = n + 1)\n",
    "\n",
    "    params = orig_params\n",
    "\n",
    "    for i in range(n):\n",
    "        wts_remain = params * (1 - p) ** (1/n)\t# % of weights surviving each round\n",
    "        params = wts_remain\n",
    "        wts_pruned[i] = (orig_params - params) / orig_params\n",
    "\n",
    "        # print(\"\\nwts remaining = {0:.2f} after round = {1}\".format(wts_remain, i))\n",
    "        # print(\"wts pruned = {0:.2f} in round = {1}\".format(((orig_params - params)/orig_params * 100), i))\n",
    "\n",
    "\n",
    "    return wts_pruned\n"
   ]
  },
  {
   "cell_type": "code",
   "execution_count": null,
   "metadata": {},
   "outputs": [],
   "source": []
  },
  {
   "cell_type": "markdown",
   "metadata": {},
   "source": [
    "### __Iterative Pruning parameters:__"
   ]
  },
  {
   "cell_type": "code",
   "execution_count": 33,
   "metadata": {},
   "outputs": [],
   "source": [
    "# Desired final sparsity in neural network-\n",
    "p = 0.789\n",
    "\n",
    "# Number of iterative pruning rounds-\n",
    "num_pruning_rounds = 5"
   ]
  },
  {
   "cell_type": "code",
   "execution_count": 34,
   "metadata": {},
   "outputs": [],
   "source": [
    "wts_np = compute_weights_pruned_each_round(\n",
    "    orig_params=266610,\n",
    "    p = p, n = num_pruning_rounds)\n"
   ]
  },
  {
   "cell_type": "code",
   "execution_count": 35,
   "metadata": {},
   "outputs": [],
   "source": [
    "# You prune more than 78.9% to show validity of hypothesis-\n",
    "wts_np[5] = 0.8"
   ]
  },
  {
   "cell_type": "code",
   "execution_count": 36,
   "metadata": {},
   "outputs": [
    {
     "name": "stdout",
     "output_type": "stream",
     "text": [
      "\n",
      "% of weights to be pruned in each round:\n",
      "\n",
      "Round 1 prunes = 26.7418%\n",
      "Round 2 prunes = 46.3323%\n",
      "Round 3 prunes = 60.6840%\n",
      "Round 4 prunes = 71.1978%\n",
      "Round 5 prunes = 78.9000%\n",
      "Round 6 prunes = 80.0000%\n"
     ]
    }
   ],
   "source": [
    "print(\"\\n% of weights to be pruned in each round:\\n\")\n",
    "for i in range(wts_np.shape[0]):\n",
    "    print(\"Round {0} prunes = {1:.4f}%\".format(i + 1, wts_np[i] * 100))"
   ]
  },
  {
   "cell_type": "code",
   "execution_count": null,
   "metadata": {},
   "outputs": [],
   "source": []
  },
  {
   "cell_type": "markdown",
   "metadata": {},
   "source": [
    "### Python 3 dictionary to hold model training metrics for each of _n_ rounds:"
   ]
  },
  {
   "cell_type": "code",
   "execution_count": 37,
   "metadata": {},
   "outputs": [],
   "source": [
    "# Method - 1: Nested Python 3 dictionaries:\n",
    "history_main = {}\n",
    "\n",
    "for x in range(num_pruning_rounds + 1):\n",
    "    history = {}\n",
    "    history['accuracy'] = np.zeros(shape = num_epochs)\n",
    "    history['val_accuracy'] = np.zeros(shape = num_epochs)\n",
    "    history['loss'] = np.zeros(shape = num_epochs)\n",
    "    history['val_loss'] = np.zeros(shape = num_epochs)\n",
    "\n",
    "    history_main[x + 1] = history\n"
   ]
  },
  {
   "cell_type": "code",
   "execution_count": 38,
   "metadata": {},
   "outputs": [
    {
     "data": {
      "text/plain": [
       "array([0., 0., 0., 0., 0., 0., 0., 0., 0., 0., 0., 0., 0., 0., 0., 0., 0.,\n",
       "       0., 0., 0., 0., 0., 0., 0., 0., 0., 0., 0., 0., 0., 0., 0., 0., 0.,\n",
       "       0., 0., 0., 0., 0., 0., 0., 0., 0., 0., 0., 0., 0., 0., 0., 0.])"
      ]
     },
     "execution_count": 38,
     "metadata": {},
     "output_type": "execute_result"
    }
   ],
   "source": [
    "# Sanity check-\n",
    "history_main[2]['val_loss']"
   ]
  },
  {
   "cell_type": "code",
   "execution_count": null,
   "metadata": {},
   "outputs": [],
   "source": []
  },
  {
   "cell_type": "code",
   "execution_count": null,
   "metadata": {},
   "outputs": [],
   "source": []
  },
  {
   "cell_type": "code",
   "execution_count": 40,
   "metadata": {},
   "outputs": [],
   "source": [
    "# User input parameters for Early Stopping in manual implementation-\n",
    "minimum_delta = 0.001\n",
    "patience = 3"
   ]
  },
  {
   "cell_type": "code",
   "execution_count": 41,
   "metadata": {},
   "outputs": [],
   "source": [
    "best_val_loss = 1\n",
    "loc_patience = 0"
   ]
  },
  {
   "cell_type": "code",
   "execution_count": null,
   "metadata": {},
   "outputs": [],
   "source": []
  },
  {
   "cell_type": "code",
   "execution_count": 42,
   "metadata": {},
   "outputs": [
    {
     "name": "stdout",
     "output_type": "stream",
     "text": [
      "\n",
      "\n",
      "\n",
      "Iterative pruning round: 1\n",
      "\n",
      "\n",
      "Epoch 1, Loss: 0.2008, Accuracy: 98.8314, Test Loss: 0.1255, Test Accuracy: 99.215981\n",
      "Total number of trainable parameters = 266610\n",
      "\n",
      "Epoch 2, Loss: 0.0831, Accuracy: 99.5003, Test Loss: 0.0867, Test Accuracy: 99.503967\n",
      "Total number of trainable parameters = 266610\n",
      "\n",
      "Epoch 3, Loss: 0.0598, Accuracy: 99.6267, Test Loss: 0.0839, Test Accuracy: 99.488937\n",
      "Total number of trainable parameters = 266610\n",
      "\n",
      "Epoch 4, Loss: 0.0440, Accuracy: 99.7223, Test Loss: 0.0732, Test Accuracy: 99.569954\n",
      "Total number of trainable parameters = 266610\n",
      "\n",
      "Epoch 5, Loss: 0.0335, Accuracy: 99.7789, Test Loss: 0.0845, Test Accuracy: 99.549934\n",
      "Total number of trainable parameters = 266610\n",
      "\n",
      "Epoch 6, Loss: 0.0282, Accuracy: 99.8145, Test Loss: 0.1000, Test Accuracy: 99.506897\n",
      "Total number of trainable parameters = 266610\n",
      "\n",
      "Epoch 7, Loss: 0.0248, Accuracy: 99.8464, Test Loss: 0.0793, Test Accuracy: 99.591949\n",
      "Total number of trainable parameters = 266610\n",
      "\n",
      "\n",
      "'EarlyStopping' called!\n",
      "\n",
      "\n",
      "% of weights to be pruned in round = 1 is: 0.2674\n",
      "\n",
      "Train on 60000 samples, validate on 10000 samples\n",
      "Epoch 1/50\n",
      "60000/60000 [==============================] - 11s 175us/sample - loss: 0.0163 - accuracy: 0.9944 - val_loss: 0.0920 - val_accuracy: 0.9809\n",
      "Epoch 2/50\n",
      "60000/60000 [==============================] - 10s 164us/sample - loss: 0.0122 - accuracy: 0.9957 - val_loss: 0.0805 - val_accuracy: 0.9814\n",
      "Epoch 3/50\n",
      "60000/60000 [==============================] - 10s 162us/sample - loss: 0.0099 - accuracy: 0.9964 - val_loss: 0.1084 - val_accuracy: 0.9803\n",
      "Epoch 4/50\n",
      "60000/60000 [==============================] - 10s 162us/sample - loss: 0.0094 - accuracy: 0.9970 - val_loss: 0.0982 - val_accuracy: 0.9805\n",
      "Epoch 5/50\n",
      "60000/60000 [==============================] - 10s 163us/sample - loss: 0.0083 - accuracy: 0.9973 - val_loss: 0.1070 - val_accuracy: 0.9810\n",
      "\n",
      "Round = 1, total number of trainable parameters = 195423\n",
      "\n",
      "\n",
      "Round = 1, % of weights pruned away = 26.59%\n",
      "\n",
      "\n",
      "\n",
      "\n",
      "Iterative pruning round: 2\n",
      "\n",
      "\n",
      "Epoch 1, Loss: 0.1426, Accuracy: 99.1411, Test Loss: 0.0823, Test Accuracy: 99.487961\n",
      "Total number of trainable parameters = 195423\n",
      "\n",
      "Epoch 2, Loss: 0.0567, Accuracy: 99.6534, Test Loss: 0.0765, Test Accuracy: 99.523941\n",
      "Total number of trainable parameters = 195423\n",
      "\n",
      "Epoch 3, Loss: 0.0372, Accuracy: 99.7664, Test Loss: 0.0733, Test Accuracy: 99.567932\n",
      "Total number of trainable parameters = 195423\n",
      "\n",
      "Epoch 4, Loss: 0.0265, Accuracy: 99.8261, Test Loss: 0.0785, Test Accuracy: 99.554947\n",
      "Total number of trainable parameters = 195423\n",
      "\n",
      "Epoch 5, Loss: 0.0216, Accuracy: 99.8538, Test Loss: 0.0799, Test Accuracy: 99.584946\n",
      "Total number of trainable parameters = 195423\n",
      "\n",
      "Epoch 6, Loss: 0.0172, Accuracy: 99.8851, Test Loss: 0.0845, Test Accuracy: 99.594933\n",
      "Total number of trainable parameters = 195423\n",
      "\n",
      "\n",
      "'EarlyStopping' called!\n",
      "\n",
      "\n",
      "% of weights to be pruned in round = 2 is: 0.4633\n",
      "\n",
      "Train on 60000 samples, validate on 10000 samples\n",
      "Epoch 1/50\n",
      "60000/60000 [==============================] - 10s 173us/sample - loss: 0.0122 - accuracy: 0.9959 - val_loss: 0.0889 - val_accuracy: 0.9789\n",
      "Epoch 2/50\n",
      "60000/60000 [==============================] - 10s 162us/sample - loss: 0.0081 - accuracy: 0.9973 - val_loss: 0.0756 - val_accuracy: 0.9839\n",
      "Epoch 3/50\n",
      "60000/60000 [==============================] - 10s 161us/sample - loss: 0.0069 - accuracy: 0.9979 - val_loss: 0.0896 - val_accuracy: 0.9812\n",
      "Epoch 4/50\n",
      "60000/60000 [==============================] - 10s 161us/sample - loss: 0.0057 - accuracy: 0.9981 - val_loss: 0.0904 - val_accuracy: 0.9816\n",
      "Epoch 5/50\n",
      "60000/60000 [==============================] - 10s 162us/sample - loss: 0.0052 - accuracy: 0.9983 - val_loss: 0.1036 - val_accuracy: 0.9799\n",
      "\n",
      "Round = 2, total number of trainable parameters = 143273\n",
      "\n",
      "\n",
      "Round = 2, % of weights pruned away = 46.18%\n",
      "\n",
      "\n",
      "\n",
      "\n",
      "Iterative pruning round: 3\n",
      "\n",
      "\n",
      "Epoch 1, Loss: 0.1183, Accuracy: 99.2837, Test Loss: 0.0719, Test Accuracy: 99.540977\n",
      "Total number of trainable parameters = 143259\n",
      "\n",
      "Epoch 2, Loss: 0.0432, Accuracy: 99.7225, Test Loss: 0.0653, Test Accuracy: 99.599937\n",
      "Total number of trainable parameters = 143259\n",
      "\n",
      "Epoch 3, Loss: 0.0271, Accuracy: 99.8261, Test Loss: 0.0684, Test Accuracy: 99.620972\n",
      "Total number of trainable parameters = 143259\n",
      "\n",
      "Epoch 4, Loss: 0.0190, Accuracy: 99.8767, Test Loss: 0.0677, Test Accuracy: 99.594963\n",
      "Total number of trainable parameters = 143259\n",
      "\n",
      "Epoch 5, Loss: 0.0150, Accuracy: 99.9042, Test Loss: 0.0683, Test Accuracy: 99.660957\n",
      "Total number of trainable parameters = 143259\n",
      "\n",
      "\n",
      "'EarlyStopping' called!\n",
      "\n",
      "\n",
      "% of weights to be pruned in round = 3 is: 0.6068\n",
      "\n",
      "Train on 60000 samples, validate on 10000 samples\n",
      "Epoch 1/50\n",
      "60000/60000 [==============================] - 11s 179us/sample - loss: 0.0104 - accuracy: 0.9964 - val_loss: 0.0715 - val_accuracy: 0.9820\n",
      "Epoch 2/50\n",
      "60000/60000 [==============================] - 10s 162us/sample - loss: 0.0067 - accuracy: 0.9980 - val_loss: 0.0858 - val_accuracy: 0.9808\n",
      "Epoch 3/50\n",
      "60000/60000 [==============================] - 10s 163us/sample - loss: 0.0051 - accuracy: 0.9984 - val_loss: 0.0780 - val_accuracy: 0.9834\n",
      "Epoch 4/50\n",
      "60000/60000 [==============================] - 10s 161us/sample - loss: 0.0036 - accuracy: 0.9989 - val_loss: 0.0903 - val_accuracy: 0.9820\n",
      "\n",
      "Round = 3, total number of trainable parameters = 105067\n",
      "\n",
      "\n",
      "Round = 3, % of weights pruned away = 60.53%\n",
      "\n",
      "\n",
      "\n",
      "\n",
      "Iterative pruning round: 4\n",
      "\n",
      "\n",
      "Epoch 1, Loss: 0.1021, Accuracy: 99.3775, Test Loss: 0.0663, Test Accuracy: 99.561974\n",
      "Total number of trainable parameters = 105058\n",
      "\n",
      "Epoch 2, Loss: 0.0342, Accuracy: 99.7836, Test Loss: 0.0590, Test Accuracy: 99.618950\n",
      "Total number of trainable parameters = 105058\n",
      "\n",
      "Epoch 3, Loss: 0.0211, Accuracy: 99.8696, Test Loss: 0.0613, Test Accuracy: 99.619949\n",
      "Total number of trainable parameters = 105058\n",
      "\n",
      "Epoch 4, Loss: 0.0136, Accuracy: 99.9150, Test Loss: 0.0668, Test Accuracy: 99.614960\n",
      "Total number of trainable parameters = 105058\n",
      "\n",
      "Epoch 5, Loss: 0.0110, Accuracy: 99.9295, Test Loss: 0.0781, Test Accuracy: 99.614944\n",
      "Total number of trainable parameters = 105058\n",
      "\n",
      "\n",
      "'EarlyStopping' called!\n",
      "\n",
      "\n",
      "% of weights to be pruned in round = 4 is: 0.7120\n",
      "\n",
      "Train on 60000 samples, validate on 10000 samples\n",
      "Epoch 1/50\n",
      "60000/60000 [==============================] - 10s 174us/sample - loss: 0.0091 - accuracy: 0.9974 - val_loss: 0.0675 - val_accuracy: 0.9824\n",
      "Epoch 2/50\n",
      "60000/60000 [==============================] - 10s 159us/sample - loss: 0.0047 - accuracy: 0.9987 - val_loss: 0.0671 - val_accuracy: 0.9827\n",
      "Epoch 3/50\n",
      "60000/60000 [==============================] - 10s 159us/sample - loss: 0.0035 - accuracy: 0.9990 - val_loss: 0.0766 - val_accuracy: 0.9816\n",
      "Epoch 4/50\n",
      "60000/60000 [==============================] - 9s 158us/sample - loss: 0.0033 - accuracy: 0.9991 - val_loss: 0.0797 - val_accuracy: 0.9826\n",
      "\n",
      "Round = 4, total number of trainable parameters = 77080\n",
      "\n",
      "\n",
      "Round = 4, % of weights pruned away = 71.04%\n",
      "\n",
      "\n",
      "\n",
      "\n",
      "Iterative pruning round: 5\n",
      "\n",
      "\n",
      "Epoch 1, Loss: 0.0994, Accuracy: 99.3925, Test Loss: 0.0667, Test Accuracy: 99.559937\n",
      "Total number of trainable parameters = 77078\n",
      "\n",
      "Epoch 2, Loss: 0.0315, Accuracy: 99.8077, Test Loss: 0.0665, Test Accuracy: 99.623962\n",
      "Total number of trainable parameters = 77078\n",
      "\n",
      "Epoch 3, Loss: 0.0182, Accuracy: 99.8929, Test Loss: 0.0593, Test Accuracy: 99.644951\n",
      "Total number of trainable parameters = 77078\n",
      "\n",
      "Epoch 4, Loss: 0.0117, Accuracy: 99.9355, Test Loss: 0.0676, Test Accuracy: 99.622955\n",
      "Total number of trainable parameters = 77078\n",
      "\n",
      "Epoch 5, Loss: 0.0081, Accuracy: 99.9561, Test Loss: 0.0688, Test Accuracy: 99.627960\n",
      "Total number of trainable parameters = 77078\n",
      "\n",
      "Epoch 6, Loss: 0.0065, Accuracy: 99.9614, Test Loss: 0.0819, Test Accuracy: 99.633972\n",
      "Total number of trainable parameters = 77078\n",
      "\n",
      "\n",
      "'EarlyStopping' called!\n",
      "\n",
      "\n",
      "% of weights to be pruned in round = 5 is: 0.7890\n",
      "\n",
      "Train on 60000 samples, validate on 10000 samples\n",
      "Epoch 1/50\n",
      "60000/60000 [==============================] - 10s 174us/sample - loss: 0.0073 - accuracy: 0.9980 - val_loss: 0.0689 - val_accuracy: 0.9822\n",
      "Epoch 2/50\n",
      "60000/60000 [==============================] - 10s 161us/sample - loss: 0.0030 - accuracy: 0.9993 - val_loss: 0.0802 - val_accuracy: 0.9806\n",
      "Epoch 3/50\n",
      "60000/60000 [==============================] - 10s 160us/sample - loss: 0.0029 - accuracy: 0.9992 - val_loss: 0.0811 - val_accuracy: 0.9807\n",
      "Epoch 4/50\n",
      "60000/60000 [==============================] - 9s 158us/sample - loss: 0.0023 - accuracy: 0.9994 - val_loss: 0.0874 - val_accuracy: 0.9812\n",
      "\n",
      "Round = 5, total number of trainable parameters = 56574\n",
      "\n",
      "\n",
      "Round = 5, % of weights pruned away = 78.75%\n",
      "\n"
     ]
    }
   ],
   "source": [
    "for i in range(1, num_pruning_rounds + 1):\n",
    "    \n",
    "    print(\"\\n\\n\\nIterative pruning round: {0}\\n\\n\".format(i))\n",
    "    \n",
    "    # Define 'train_one_step()' and 'test_step()' functions here-\n",
    "    @tf.function\n",
    "    def train_one_step(model, mask_model, optimizer, x, y):\n",
    "        '''\n",
    "        Function to compute one step of gradient descent optimization\n",
    "        '''\n",
    "        with tf.GradientTape() as tape:\n",
    "            # Make predictions using defined model-\n",
    "            y_pred = model(x)\n",
    "\n",
    "            # Compute loss-\n",
    "            loss = loss_fn(y, y_pred)\n",
    "        \n",
    "        # Compute gradients wrt defined loss and weights and biases-\n",
    "        grads = tape.gradient(loss, model.trainable_variables)\n",
    "    \n",
    "        # type(grads)\n",
    "        # list\n",
    "    \n",
    "        # List to hold element-wise multiplication between-\n",
    "        # computed gradient and masks-\n",
    "        grad_mask_mul = []\n",
    "    \n",
    "        # Perform element-wise multiplication between computed gradients and masks-\n",
    "        for grad_layer, mask in zip(grads, mask_model.trainable_weights):\n",
    "            grad_mask_mul.append(tf.math.multiply(grad_layer, mask))\n",
    "    \n",
    "        # Apply computed gradients to model's weights and biases-\n",
    "        optimizer.apply_gradients(zip(grad_mask_mul, model.trainable_variables))\n",
    "\n",
    "        # Compute accuracy-\n",
    "        train_loss(loss)\n",
    "        train_accuracy(y, y_pred)\n",
    "\n",
    "        return None\n",
    "    \n",
    "    \n",
    "    @tf.function\n",
    "    def test_step(model, optimizer, data, labels):\n",
    "        \"\"\"\n",
    "        Function to test model performance\n",
    "        on testing dataset\n",
    "        \"\"\"\n",
    "    \n",
    "        predictions = model(data)\n",
    "        t_loss = loss_fn(labels, predictions)\n",
    "\n",
    "        test_loss(t_loss)\n",
    "        test_accuracy(labels, predictions)\n",
    "\n",
    "        return None\n",
    "\n",
    "\n",
    "    # Instantiate a model\n",
    "    model_gt = pruned_nn(pruning_params_unpruned)\n",
    "    \n",
    "    # Load winning ticket (from above-)\n",
    "    model_gt.load_weights(\"Winning_Ticket_Weights_Experimental.h5\")\n",
    "    \n",
    "    # Strip model of pruning parameters-\n",
    "    model_gt_stripped = sparsity.strip_pruning(model_gt)\n",
    "    \n",
    "    \n",
    "    # Train model using 'GradientTape'-\n",
    "    \n",
    "    # Initialize parameters for Early Stopping manual implementation-\n",
    "    best_val_loss = 1\n",
    "    loc_patience = 0\n",
    "    \n",
    "    for epoch in range(num_epochs):\n",
    "    \n",
    "        if loc_patience >= patience:\n",
    "            print(\"\\n'EarlyStopping' called!\\n\")\n",
    "            break\n",
    "        \n",
    "        # Reset the metrics at the start of the next epoch\n",
    "        train_loss.reset_states()\n",
    "        train_accuracy.reset_states()\n",
    "        test_loss.reset_states()\n",
    "        test_accuracy.reset_states()\n",
    "        \n",
    "        \n",
    "        '''\n",
    "        # Initialize 'grad_mask_mul' list-\n",
    "        grad_mask_mul = []\n",
    "    \n",
    "        # Initialize all values to one-\n",
    "        for wts in mask_model_stripped.trainable_weights:\n",
    "            grad_mask_mul.append(wts.assign(tf.ones_like(input = wts,dtype = tf.float32)))\n",
    "    \n",
    "        # Convert from Python list to tf.Tensor-\n",
    "        grad_mask_mul = tf.convert_to_tensor(grad_mask_mul, dtype=tf.float32)\n",
    "    \n",
    "        print(\"type(grad_mask_mul): {0}\".format(type(grad_mask_mul)))\n",
    "        '''\n",
    "    \n",
    "        for x, y in train_dataset:\n",
    "            # train_one_step(model_gt_stripped, mask_model, optimizer, x, y, grad_mask_mul)\n",
    "            train_one_step(model_gt_stripped, mask_model_stripped, optimizer, x, y)\n",
    "\n",
    "\n",
    "        for x_t, y_t in test_dataset:\n",
    "            # test_step(x_t, y_t)\n",
    "            test_step(model_gt_stripped, optimizer, x_t, y_t)\n",
    "\n",
    "        template = 'Epoch {0}, Loss: {1:.4f}, Accuracy: {2:.4f}, Test Loss: {3:.4f}, Test Accuracy: {4:4f}'\n",
    "    \n",
    "        history_main[i]['accuracy'][epoch] = train_accuracy.result() * 100\n",
    "        history_main[i]['loss'][epoch] = train_loss.result()\n",
    "        history_main[i]['val_loss'][epoch] = test_loss.result()\n",
    "        history_main[i]['val_accuracy'][epoch] = test_accuracy.result() * 100\n",
    "        '''\n",
    "        history['accuracy'][epoch] = train_accuracy.result() * 100\n",
    "        history['loss'][epoch] = train_loss.result()\n",
    "        history['val_loss'][epoch] = test_loss.result()\n",
    "        history['val_accuracy'][epoch] = test_accuracy.result() * 100     \n",
    "        '''\n",
    "        \n",
    "        print(template.format(epoch + 1, \n",
    "                              train_loss.result(), train_accuracy.result()*100,\n",
    "                              test_loss.result(), test_accuracy.result()*100))\n",
    "    \n",
    "        # Count number of non-zero parameters in each layer and in total-\n",
    "        # print(\"layer-wise manner model, number of nonzero parameters in each layer are: \\n\")\n",
    "\n",
    "        model_sum_params = 0\n",
    "    \n",
    "        for layer in model_gt_stripped.trainable_weights:\n",
    "            # print(tf.math.count_nonzero(layer, axis = None).numpy())\n",
    "            model_sum_params += tf.math.count_nonzero(layer, axis = None).numpy()\n",
    "    \n",
    "        print(\"Total number of trainable parameters = {0}\\n\".format(model_sum_params))\n",
    "\n",
    "    \n",
    "        # Code for manual Early Stopping:\n",
    "        if np.abs(test_loss.result() < best_val_loss) >= minimum_delta:\n",
    "            # update 'best_val_loss' variable to lowest loss encountered so far-\n",
    "            best_val_loss = test_loss.result()\n",
    "        \n",
    "            # reset 'loc_patience' variable-\n",
    "            loc_patience = 0\n",
    "        \n",
    "        else:  # there is no improvement in monitored metric 'val_loss'\n",
    "            loc_patience += 1  # number of epochs without any improvement\n",
    "\n",
    "    \n",
    "    # Resize numpy arrays according to the epoch when 'EarlyStopping' was called-\n",
    "    for metrics in history.keys():\n",
    "        history_main[i][metrics] = np.resize(history_main[i][metrics], new_shape = epoch)\n",
    "        # history[metrics] = np.resize(history[metrics], new_shape=epoch)\n",
    "     \n",
    "    \n",
    "    # Save trained model weights-\n",
    "    model_gt.save_weights(\"Trained_Weights_Experimental.h5\", overwrite=True)\n",
    "    \n",
    "    \n",
    "    \n",
    "    \n",
    "    # Prune trained model:\n",
    "    \n",
    "    print(\"\\n% of weights to be pruned in round = {0} is: {1:.4f}\\n\".format(i, wts_np[i - 1]))\n",
    "    \n",
    "    # Specify the parameters to be used for layer-wise pruning, NO PRUNING is done here:\n",
    "    pruning_params_constantsparsity = {\n",
    "        'pruning_schedule': sparsity.ConstantSparsity(\n",
    "            target_sparsity=wts_np[i - 1], begin_step=100,\n",
    "            end_step = end_step, frequency=100\n",
    "        )\n",
    "    }\n",
    "    \n",
    "    # Instantiate a Nueal Network model to be pruned using parameters from above-\n",
    "    pruned_model = pruned_nn(pruning_params_constantsparsity)\n",
    "    \n",
    "    # Load weights from original trained and unpruned model-\n",
    "    pruned_model.load_weights(\"Trained_Weights_Experimental.h5\")\n",
    "    \n",
    "    # Train pruned NN-\n",
    "    history_pruned = pruned_model.fit(\n",
    "        x = X_train, y = y_train,\n",
    "        batch_size = batch_size,\n",
    "        epochs = epochs,\n",
    "        verbose = 1,\n",
    "        callbacks = callbacks,\n",
    "        validation_data = (X_test, y_test),\n",
    "        shuffle = True\n",
    "    )\n",
    "    \n",
    "    # Strip the pruning wrappers from pruned model-\n",
    "    pruned_model_stripped = sparsity.strip_pruning(pruned_model)\n",
    "    \n",
    "    # print(\"\\nIn pruned model, number of nonzero parameters in each layer are: \\n\")\n",
    "    pruned_sum_params = 0\n",
    "    \n",
    "    for layer in pruned_model_stripped.trainable_weights:\n",
    "        # print(tf.math.count_nonzero(layer, axis = None).numpy())\n",
    "        pruned_sum_params += tf.math.count_nonzero(layer, axis = None).numpy()\n",
    "    \n",
    "    print(\"\\nRound = {0}, total number of trainable parameters = {1}\\n\".format(i, pruned_sum_params))\n",
    "    # print(\"\\nTotal number of trainable parameters = {0}\\n\".format(pruned_sum_params))\n",
    "    \n",
    "    # Sanity-check: confirm that p = 30% of the weights are actually pruned away from the network-\n",
    "    print(\"\\nRound = {0}, % of weights pruned away = {1:.2f}%\\n\".format( \\\n",
    "                                                i, (orig_sum_params - pruned_sum_params) / orig_sum_params * 100))\n",
    "    \n",
    "    # Save weights of PRUNED and Trained model BEFORE stripping-\n",
    "    pruned_model.save_weights(\"Pruned_Weights_Experimental.h5\", overwrite = True)\n",
    "    \n",
    "    \n",
    "    # Create a mask:\n",
    "    \n",
    "    # Instantiate a new neural network model for which, the mask is to be created,\n",
    "    mask_model = pruned_nn(pruning_params_unpruned)\n",
    "    \n",
    "    # Load weights of PRUNED model-\n",
    "    mask_model.load_weights(\"Pruned_Weights_Experimental.h5\")\n",
    "    \n",
    "    # Strip the model of its pruning parameters-\n",
    "    mask_model_stripped = sparsity.strip_pruning(mask_model)\n",
    "    \n",
    "    # For each layer, for each weight which is 0, leave it, as is.\n",
    "    # And for weights which survive the pruning,reinitialize it to ONE (1)-\n",
    "    for wts in mask_model_stripped.trainable_weights:\n",
    "        wts.assign(tf.where(tf.equal(wts, 0.), 0., 1.))\n",
    "    \n",
    "    \n",
    "    \n",
    "    \n",
    "    # Extract Winning Ticket:\n",
    "    \n",
    "    # Instantiate a new neural network model for which, the weights are to be extracted-\n",
    "    winning_ticket_model = pruned_nn(pruning_params_unpruned)\n",
    "    \n",
    "    # Load weights of PRUNED model-\n",
    "    winning_ticket_model.load_weights(\"Pruned_Weights_Experimental.h5\")\n",
    "    \n",
    "    # Strip the model of its pruning parameters-\n",
    "    winning_ticket_model_stripped = sparsity.strip_pruning(winning_ticket_model)\n",
    "    \n",
    "    # For each layer, for each weight which is 0, leave it, as is. And for weights which survive the pruning,\n",
    "    # reinitialize it to the value, the model received BEFORE it was trained and pruned-\n",
    "    for orig_wts, pruned_wts in zip(orig_model_stripped.trainable_weights,\n",
    "                                    winning_ticket_model_stripped.trainable_weights):\n",
    "        pruned_wts.assign(tf.where(tf.equal(pruned_wts, 0), pruned_wts, orig_wts))\n",
    "    \n",
    "    \n",
    "    # Save the weights (with pruning parameters) extracted to a file-\n",
    "    winning_ticket_model.save_weights(\"Winning_Ticket_Weights_Experimental.h5\", overwrite=True)\n",
    "    \n",
    "    \n",
    "    \n",
    "    "
   ]
  },
  {
   "cell_type": "code",
   "execution_count": null,
   "metadata": {},
   "outputs": [],
   "source": []
  },
  {
   "cell_type": "code",
   "execution_count": null,
   "metadata": {},
   "outputs": [],
   "source": []
  },
  {
   "cell_type": "markdown",
   "metadata": {},
   "source": [
    "### Next Steps:\n",
    "The paper states that the maximum pruning that can be achieved before the neural network performance drops is 78.9%. This means that if the sparsity/pruning is greater than 78.9%, then the trained neural network model's performance (in terms of Early Stopping and Testing dataset accuracy and loss) should go down.\n",
    "\n",
    "The next lines of code, attempts to validate this:"
   ]
  },
  {
   "cell_type": "code",
   "execution_count": 63,
   "metadata": {},
   "outputs": [],
   "source": [
    "# Instantiate NN-\n",
    "winning_ticket_model = pruned_nn(pruning_params_unpruned)"
   ]
  },
  {
   "cell_type": "code",
   "execution_count": 64,
   "metadata": {},
   "outputs": [],
   "source": [
    "# Load winning ticket from above-\n",
    "winning_ticket_model.load_weights(\"Winning_Ticket_Weights_Experimental.h5\")"
   ]
  },
  {
   "cell_type": "code",
   "execution_count": 65,
   "metadata": {},
   "outputs": [],
   "source": [
    "# Strip model of pruning parameters-\n",
    "winning_ticket_model_stripped = sparsity.strip_pruning(winning_ticket_model)"
   ]
  },
  {
   "cell_type": "code",
   "execution_count": 66,
   "metadata": {},
   "outputs": [
    {
     "name": "stdout",
     "output_type": "stream",
     "text": [
      "\n",
      "Winning Ticket model, number of nonzero parameter in each layer are:\n",
      "\n",
      "49627\n",
      "0\n",
      "6330\n",
      "0\n",
      "211\n",
      "0\n",
      "\n",
      "Total number of trainable parameters = 56168\n",
      "\n"
     ]
    }
   ],
   "source": [
    "# Count number of non-zero parameters in winning ticket (sanity check)-\n",
    "\n",
    "print(\"\\nWinning Ticket model, number of nonzero parameter in each layer are:\\n\")\n",
    "\n",
    "winning_tkt_sum_params = 0\n",
    "\n",
    "for layer in winning_ticket_model_stripped.trainable_weights:\n",
    "    print(tf.math.count_nonzero(layer, axis = None).numpy())\n",
    "    winning_tkt_sum_params += tf.math.count_nonzero(layer, axis = None).numpy()\n",
    "\n",
    "print(\"\\nTotal number of trainable parameters = {0}\\n\".format(winning_tkt_sum_params))"
   ]
  },
  {
   "cell_type": "code",
   "execution_count": 67,
   "metadata": {},
   "outputs": [
    {
     "name": "stdout",
     "output_type": "stream",
     "text": [
      "\n",
      "Winning ticket after 5 rounds has 78.9001% of weights pruned off\n",
      "\n"
     ]
    }
   ],
   "source": [
    "print(\"\\nWinning ticket after {0} rounds has {1:.4f}% of weights pruned off\\n\".format(\n",
    "    num_pruning_rounds, ((orig_sum_params - winning_tkt_sum_params) / orig_sum_params * 100)\n",
    "))"
   ]
  },
  {
   "cell_type": "code",
   "execution_count": 68,
   "metadata": {},
   "outputs": [],
   "source": [
    "# Instantiate a mask model-\n",
    "mask_model = pruned_nn(pruning_params_unpruned)"
   ]
  },
  {
   "cell_type": "code",
   "execution_count": 69,
   "metadata": {},
   "outputs": [],
   "source": [
    "# Load winning ticket weights-\n",
    "mask_model.load_weights(\"Winning_Ticket_Weights_Experimental.h5\")"
   ]
  },
  {
   "cell_type": "code",
   "execution_count": 70,
   "metadata": {},
   "outputs": [],
   "source": [
    "# Strip pruning parameters-\n",
    "mask_model_stripped = sparsity.strip_pruning(mask_model)"
   ]
  },
  {
   "cell_type": "code",
   "execution_count": 71,
   "metadata": {},
   "outputs": [],
   "source": [
    "# For each layer, for each weight which is 0, leave it, as is.\n",
    "# And for weights which survive the pruning,reinitialize it to ONE (1)-\n",
    "\n",
    "for wts in mask_model_stripped.trainable_weights:\n",
    "    wts.assign(tf.where(tf.equal(wts, 0.), 0., 1.))"
   ]
  },
  {
   "cell_type": "code",
   "execution_count": 72,
   "metadata": {},
   "outputs": [
    {
     "name": "stdout",
     "output_type": "stream",
     "text": [
      "\n",
      "Mask model, number of nonzero parameter in each layer are:\n",
      "\n",
      "49627\n",
      "0\n",
      "6330\n",
      "0\n",
      "211\n",
      "0\n",
      "\n",
      "Total number of trainable parameters = 56168\n",
      "\n"
     ]
    }
   ],
   "source": [
    "# Count number of non-zero parameters in winning ticket (sanity check)-\n",
    "\n",
    "print(\"\\nMask model, number of nonzero parameter in each layer are:\\n\")\n",
    "\n",
    "mask_model_sum_params = 0\n",
    "\n",
    "for layer in mask_model_stripped.trainable_weights:\n",
    "    print(tf.math.count_nonzero(layer, axis = None).numpy())\n",
    "    mask_model_sum_params += tf.math.count_nonzero(layer, axis = None).numpy()\n",
    "\n",
    "print(\"\\nTotal number of trainable parameters = {0}\\n\".format(mask_model_sum_params))"
   ]
  },
  {
   "cell_type": "code",
   "execution_count": 77,
   "metadata": {},
   "outputs": [],
   "source": [
    "assert(winning_tkt_sum_params == mask_model_sum_params), \"number of parameters in winning ticket model and mask model should match\""
   ]
  },
  {
   "cell_type": "code",
   "execution_count": null,
   "metadata": {},
   "outputs": [],
   "source": []
  },
  {
   "cell_type": "code",
   "execution_count": 78,
   "metadata": {},
   "outputs": [],
   "source": [
    "@tf.function\n",
    "def train_one_step(model, mask_model, optimizer, x, y):\n",
    "    '''\n",
    "    def train_step(data, labels):\n",
    "    Function to compute one step of gradient descent optimization\n",
    "    '''\n",
    "    with tf.GradientTape() as tape:\n",
    "        # Make predictions using defined model-\n",
    "        y_pred = model(x)\n",
    "\n",
    "        # Compute loss-\n",
    "        loss = loss_fn(y, y_pred)\n",
    "        \n",
    "    # Compute gradients wrt defined loss and weights and biases-\n",
    "    grads = tape.gradient(loss, model.trainable_variables)\n",
    "    \n",
    "    # type(grads)\n",
    "    # list\n",
    "    \n",
    "    # List to hold element-wise multiplication between-\n",
    "    # computed gradient and masks-\n",
    "    grad_mask_mul = []\n",
    "    \n",
    "    # Perform element-wise multiplication between computed gradients and masks-\n",
    "    for grad_layer, mask in zip(grads, mask_model.trainable_weights):\n",
    "        grad_mask_mul.append(tf.math.multiply(grad_layer, mask))\n",
    "    \n",
    "    # Apply computed gradients to model's weights and biases-\n",
    "    optimizer.apply_gradients(zip(grad_mask_mul, model.trainable_variables))\n",
    "\n",
    "    # Compute accuracy-\n",
    "    train_loss(loss)\n",
    "    train_accuracy(y, y_pred)\n",
    "\n",
    "    return None"
   ]
  },
  {
   "cell_type": "code",
   "execution_count": 79,
   "metadata": {},
   "outputs": [],
   "source": [
    "@tf.function\n",
    "def test_step(model, optimizer, data, labels):\n",
    "    \"\"\"\n",
    "    Function to test model performance\n",
    "    on testing dataset\n",
    "    \"\"\"\n",
    "    \n",
    "    predictions = model(data)\n",
    "    t_loss = loss_fn(labels, predictions)\n",
    "\n",
    "    test_loss(t_loss)\n",
    "    test_accuracy(labels, predictions)\n",
    "\n",
    "    return None\n"
   ]
  },
  {
   "cell_type": "code",
   "execution_count": null,
   "metadata": {},
   "outputs": [],
   "source": []
  },
  {
   "cell_type": "code",
   "execution_count": 80,
   "metadata": {},
   "outputs": [],
   "source": [
    "# Define variables for manual Early Stopping-\n",
    "best_val_loss = 1\n",
    "loc_patience = 0"
   ]
  },
  {
   "cell_type": "code",
   "execution_count": null,
   "metadata": {},
   "outputs": [],
   "source": []
  },
  {
   "cell_type": "code",
   "execution_count": 81,
   "metadata": {},
   "outputs": [
    {
     "name": "stdout",
     "output_type": "stream",
     "text": [
      "Epoch 1, Loss: 0.1061, Accuracy: 99.3802, Test Loss: 0.0676, Test Accuracy: 99.573967\n",
      "Total number of trainable parameters = 56168\n",
      "\n",
      "Epoch 2, Loss: 0.0335, Accuracy: 99.7997, Test Loss: 0.0598, Test Accuracy: 99.618950\n",
      "Total number of trainable parameters = 56168\n",
      "\n",
      "Epoch 3, Loss: 0.0184, Accuracy: 99.8988, Test Loss: 0.0600, Test Accuracy: 99.628952\n",
      "Total number of trainable parameters = 56168\n",
      "\n",
      "Epoch 4, Loss: 0.0113, Accuracy: 99.9428, Test Loss: 0.0647, Test Accuracy: 99.650955\n",
      "Total number of trainable parameters = 56168\n",
      "\n",
      "Epoch 5, Loss: 0.0079, Accuracy: 99.9589, Test Loss: 0.0676, Test Accuracy: 99.640938\n",
      "Total number of trainable parameters = 56168\n",
      "\n",
      "\n",
      "'EarlyStopping' called!\n",
      "\n"
     ]
    }
   ],
   "source": [
    "for epoch in range(num_epochs):\n",
    "    \n",
    "    if loc_patience >= patience:\n",
    "        print(\"\\n'EarlyStopping' called!\\n\")\n",
    "        break\n",
    "        \n",
    "    # Reset the metrics at the start of the next epoch\n",
    "    train_loss.reset_states()\n",
    "    train_accuracy.reset_states()\n",
    "    test_loss.reset_states()\n",
    "    test_accuracy.reset_states()\n",
    "        \n",
    "    for x, y in train_dataset:\n",
    "        # train_one_step(model_gt_stripped, mask_model_stripped, optimizer, x, y)\n",
    "        train_one_step(winning_ticket_model_stripped, mask_model_stripped, optimizer, x, y)\n",
    "\n",
    "    for x_t, y_t in test_dataset:\n",
    "        # test_step(model_gt_stripped, optimizer, x_t, y_t)\n",
    "        test_step(winning_ticket_model_stripped, optimizer, x_t, y_t)\n",
    "    \n",
    "    history_main[num_pruning_rounds + 1]['accuracy'][epoch] = train_accuracy.result() * 100\n",
    "    history_main[num_pruning_rounds + 1]['loss'][epoch] = train_loss.result()\n",
    "    history_main[num_pruning_rounds + 1]['val_loss'][epoch] = test_loss.result()\n",
    "    history_main[num_pruning_rounds + 1]['val_accuracy'][epoch] = test_accuracy.result() * 100\n",
    "\n",
    "    template = 'Epoch {0}, Loss: {1:.4f}, Accuracy: {2:.4f}, Test Loss: {3:.4f}, Test Accuracy: {4:4f}'\n",
    "    \n",
    "    print(template.format(epoch + 1, \n",
    "                              train_loss.result(), train_accuracy.result()*100,\n",
    "                              test_loss.result(), test_accuracy.result()*100))\n",
    "    \n",
    "    # Count number of non-zero parameters in each layer and in total-\n",
    "    # print(\"layer-wise manner model, number of nonzero parameters in each layer are: \\n\")\n",
    "\n",
    "    model_sum_params = 0\n",
    "    \n",
    "    for layer in winning_ticket_model_stripped.trainable_weights:\n",
    "        # print(tf.math.count_nonzero(layer, axis = None).numpy())\n",
    "        model_sum_params += tf.math.count_nonzero(layer, axis = None).numpy()\n",
    "    \n",
    "    print(\"Total number of trainable parameters = {0}\\n\".format(model_sum_params))\n",
    "\n",
    "    \n",
    "    # Code for manual Early Stopping:\n",
    "    if np.abs(test_loss.result() < best_val_loss) >= minimum_delta:\n",
    "        # update 'best_val_loss' variable to lowest loss encountered so far-\n",
    "        best_val_loss = test_loss.result()\n",
    "        \n",
    "        # reset 'loc_patience' variable-\n",
    "        loc_patience = 0\n",
    "        \n",
    "    else:  # there is no improvement in monitored metric 'val_loss'\n",
    "        loc_patience += 1  # number of epochs without any improvement\n",
    "    \n"
   ]
  },
  {
   "cell_type": "code",
   "execution_count": 82,
   "metadata": {},
   "outputs": [],
   "source": [
    "# Save trained model-\n",
    "winning_ticket_model.save_weights(\"Winning_Ticket_Weights_Pruned_more_80_Experimental.h5\", overwrite=True)"
   ]
  },
  {
   "cell_type": "code",
   "execution_count": null,
   "metadata": {},
   "outputs": [],
   "source": []
  },
  {
   "cell_type": "code",
   "execution_count": 85,
   "metadata": {},
   "outputs": [],
   "source": [
    "# Specify the parameters to be used for layer-wise pruning-\n",
    "pruning_params_constantsparsity = {\n",
    "    'pruning_schedule': sparsity.ConstantSparsity(\n",
    "        target_sparsity=wts_np[num_pruning_rounds], begin_step=100,\n",
    "        end_step = end_step, frequency=100\n",
    "    )\n",
    "}"
   ]
  },
  {
   "cell_type": "code",
   "execution_count": null,
   "metadata": {},
   "outputs": [],
   "source": []
  },
  {
   "cell_type": "code",
   "execution_count": 86,
   "metadata": {},
   "outputs": [],
   "source": [
    "# Instantiate a Neural Network model to be pruned-\n",
    "pruned_model = pruned_nn(pruning_params_constantsparsity)"
   ]
  },
  {
   "cell_type": "code",
   "execution_count": 87,
   "metadata": {},
   "outputs": [],
   "source": [
    "# Load weights of winning ticket from previous round to be PRUNED-\n",
    "pruned_model.load_weights(\"Winning_Ticket_Weights_Pruned_more_80_Experimental.h5\")"
   ]
  },
  {
   "cell_type": "code",
   "execution_count": 88,
   "metadata": {},
   "outputs": [
    {
     "name": "stdout",
     "output_type": "stream",
     "text": [
      "Pruning parameters of (GradientTape) trained model\n",
      "\n",
      "Train on 60000 samples, validate on 10000 samples\n",
      "Epoch 1/50\n",
      "60000/60000 [==============================] - 10s 172us/sample - loss: 0.0064 - accuracy: 0.9982 - val_loss: 0.0792 - val_accuracy: 0.9808\n",
      "Epoch 2/50\n",
      "60000/60000 [==============================] - 10s 159us/sample - loss: 0.0039 - accuracy: 0.9990 - val_loss: 0.0775 - val_accuracy: 0.9818\n",
      "Epoch 3/50\n",
      "60000/60000 [==============================] - 10s 161us/sample - loss: 0.0035 - accuracy: 0.9991 - val_loss: 0.0958 - val_accuracy: 0.9807\n",
      "Epoch 4/50\n",
      "60000/60000 [==============================] - 10s 159us/sample - loss: 0.0024 - accuracy: 0.9995 - val_loss: 0.0819 - val_accuracy: 0.9823\n",
      "Epoch 5/50\n",
      "60000/60000 [==============================] - 10s 159us/sample - loss: 0.0020 - accuracy: 0.9996 - val_loss: 0.0939 - val_accuracy: 0.9821\n"
     ]
    }
   ],
   "source": [
    "print(\"Pruning parameters of (GradientTape) trained model\\n\")\n",
    "\n",
    "# Train pruned Neural Network-\n",
    "history_pruned_gt = pruned_model.fit(\n",
    "    x = X_train, y = y_train,\n",
    "    batch_size = batch_size,\n",
    "    epochs = epochs,\n",
    "    verbose = 1,\n",
    "    callbacks = callbacks,\n",
    "    validation_data = (X_test, y_test),\n",
    "    shuffle = True\n",
    ")"
   ]
  },
  {
   "cell_type": "code",
   "execution_count": null,
   "metadata": {},
   "outputs": [],
   "source": []
  },
  {
   "cell_type": "code",
   "execution_count": 89,
   "metadata": {},
   "outputs": [],
   "source": [
    "# Strip pruning wrapper off-\n",
    "pruned_model_stripped = sparsity.strip_pruning(pruned_model)"
   ]
  },
  {
   "cell_type": "code",
   "execution_count": 90,
   "metadata": {},
   "outputs": [
    {
     "name": "stdout",
     "output_type": "stream",
     "text": [
      "\n",
      "Pruned model, # of non-zero trainable parameters = 53645\n"
     ]
    }
   ],
   "source": [
    "# Count number of non-zero parameters [Round - 2]-\n",
    "pruned_sum_params = 0\n",
    "    \n",
    "for layer in pruned_model_stripped.trainable_weights:\n",
    "    pruned_sum_params += tf.math.count_nonzero(layer, axis = None).numpy()\n",
    "\n",
    "print(\"\\nPruned model, # of non-zero trainable parameters = {0}\".format(pruned_sum_params))"
   ]
  },
  {
   "cell_type": "code",
   "execution_count": 91,
   "metadata": {},
   "outputs": [
    {
     "name": "stdout",
     "output_type": "stream",
     "text": [
      "\n",
      "% of weights pruned in 6 round = 79.8479%\n",
      "\n"
     ]
    }
   ],
   "source": [
    "print(\"\\n% of weights pruned in {0} round = {1:.4f}%\\n\".format(\n",
    "    num_pruning_rounds + 1, ((orig_sum_params - pruned_sum_params) / orig_sum_params * 100)\n",
    "))"
   ]
  },
  {
   "cell_type": "code",
   "execution_count": 92,
   "metadata": {},
   "outputs": [],
   "source": [
    "# Save weights-\n",
    "pruned_model.save_weights(\"Pruned_Weights_Pruned_more_80_Experimental.h5\")"
   ]
  },
  {
   "cell_type": "code",
   "execution_count": null,
   "metadata": {},
   "outputs": [],
   "source": []
  },
  {
   "cell_type": "code",
   "execution_count": null,
   "metadata": {},
   "outputs": [],
   "source": []
  },
  {
   "cell_type": "code",
   "execution_count": 93,
   "metadata": {},
   "outputs": [],
   "source": [
    "# Instantiate a new neural network model for which, the weights are to be extracted, according to the paper-\n",
    "winning_ticket_model = pruned_nn(pruning_params_unpruned)"
   ]
  },
  {
   "cell_type": "code",
   "execution_count": 94,
   "metadata": {},
   "outputs": [],
   "source": [
    "# Load weights of PRUNED model-\n",
    "winning_ticket_model.load_weights(\"Pruned_Weights_Pruned_more_80_Experimental.h5\")"
   ]
  },
  {
   "cell_type": "code",
   "execution_count": 95,
   "metadata": {},
   "outputs": [],
   "source": [
    "# Strip the model of its pruning parameters-\n",
    "winning_ticket_model_stripped = sparsity.strip_pruning(winning_ticket_model)"
   ]
  },
  {
   "cell_type": "code",
   "execution_count": 97,
   "metadata": {},
   "outputs": [],
   "source": [
    "# For each layer, for each weight which is 0, leave it, as is. And for weights which survive the pruning,\n",
    "# reinitialize it to the value, the model received BEFORE it was trained and pruned-\n",
    "for orig_wts, pruned_wts in zip(orig_model_stripped.trainable_weights, winning_ticket_model_stripped.trainable_weights):\n",
    "    pruned_wts.assign(tf.where(tf.equal(pruned_wts, 0), pruned_wts, orig_wts))"
   ]
  },
  {
   "cell_type": "code",
   "execution_count": 98,
   "metadata": {},
   "outputs": [],
   "source": [
    "# Save the weights (with pruning parameters) extracted to a file-\n",
    "winning_ticket_model.save_weights(\"Winning_Ticket_Weights_more_80_Experimental.h5\", overwrite=True)"
   ]
  },
  {
   "cell_type": "code",
   "execution_count": null,
   "metadata": {},
   "outputs": [],
   "source": []
  },
  {
   "cell_type": "code",
   "execution_count": null,
   "metadata": {},
   "outputs": [],
   "source": []
  },
  {
   "cell_type": "code",
   "execution_count": 128,
   "metadata": {},
   "outputs": [],
   "source": [
    "# Instantiate NN-\n",
    "winning_ticket_model = pruned_nn(pruning_params_unpruned)"
   ]
  },
  {
   "cell_type": "code",
   "execution_count": 129,
   "metadata": {},
   "outputs": [],
   "source": [
    "# Load winning ticket from above-\n",
    "winning_ticket_model.load_weights(\"Winning_Ticket_Weights_more_80_Experimental.h5\")"
   ]
  },
  {
   "cell_type": "code",
   "execution_count": 130,
   "metadata": {},
   "outputs": [],
   "source": [
    "# Strip model of pruning parameters-\n",
    "winning_ticket_model_stripped = sparsity.strip_pruning(winning_ticket_model)"
   ]
  },
  {
   "cell_type": "code",
   "execution_count": 131,
   "metadata": {},
   "outputs": [
    {
     "name": "stdout",
     "output_type": "stream",
     "text": [
      "\n",
      "Winning Ticket model, number of nonzero parameter in each layer are:\n",
      "\n",
      "47040\n",
      "0\n",
      "6000\n",
      "0\n",
      "200\n",
      "0\n",
      "\n",
      "Total number of trainable parameters = 53240\n",
      "\n"
     ]
    }
   ],
   "source": [
    "# Count number of non-zero parameters in winning ticket (sanity check)-\n",
    "\n",
    "print(\"\\nWinning Ticket model, number of nonzero parameter in each layer are:\\n\")\n",
    "\n",
    "winning_tkt_sum_params = 0\n",
    "\n",
    "for layer in winning_ticket_model_stripped.trainable_weights:\n",
    "    print(tf.math.count_nonzero(layer, axis = None).numpy())\n",
    "    winning_tkt_sum_params += tf.math.count_nonzero(layer, axis = None).numpy()\n",
    "\n",
    "print(\"\\nTotal number of trainable parameters = {0}\\n\".format(winning_tkt_sum_params))"
   ]
  },
  {
   "cell_type": "code",
   "execution_count": 133,
   "metadata": {},
   "outputs": [
    {
     "name": "stdout",
     "output_type": "stream",
     "text": [
      "\n",
      "Winning ticket after 5 rounds has 80.0000% of weights pruned off\n",
      "\n"
     ]
    }
   ],
   "source": [
    "print(\"\\nWinning ticket after {0} rounds has {1:.4f}% of weights pruned off\\n\".format(\n",
    "    num_pruning_rounds, ((orig_sum_params - winning_tkt_sum_params) / orig_sum_params * 100)\n",
    "))"
   ]
  },
  {
   "cell_type": "code",
   "execution_count": null,
   "metadata": {},
   "outputs": [],
   "source": []
  },
  {
   "cell_type": "code",
   "execution_count": null,
   "metadata": {},
   "outputs": [],
   "source": []
  },
  {
   "cell_type": "code",
   "execution_count": 134,
   "metadata": {},
   "outputs": [],
   "source": [
    "# Instantiate a mask model-\n",
    "mask_model = pruned_nn(pruning_params_unpruned)"
   ]
  },
  {
   "cell_type": "code",
   "execution_count": 135,
   "metadata": {},
   "outputs": [],
   "source": [
    "# Load winning ticket weights-\n",
    "mask_model.load_weights(\"Winning_Ticket_Weights_more_80_Experimental.h5\")"
   ]
  },
  {
   "cell_type": "code",
   "execution_count": 136,
   "metadata": {},
   "outputs": [],
   "source": [
    "# Strip pruning parameters-\n",
    "mask_model_stripped = sparsity.strip_pruning(mask_model)"
   ]
  },
  {
   "cell_type": "code",
   "execution_count": 137,
   "metadata": {},
   "outputs": [],
   "source": [
    "# For each layer, for each weight which is 0, leave it, as is.\n",
    "# And for weights which survive the pruning,reinitialize it to ONE (1)-\n",
    "\n",
    "for wts in mask_model_stripped.trainable_weights:\n",
    "    wts.assign(tf.where(tf.equal(wts, 0.), 0., 1.))"
   ]
  },
  {
   "cell_type": "code",
   "execution_count": 138,
   "metadata": {},
   "outputs": [
    {
     "name": "stdout",
     "output_type": "stream",
     "text": [
      "\n",
      "Mask model, number of nonzero parameter in each layer are:\n",
      "\n",
      "47040\n",
      "0\n",
      "6000\n",
      "0\n",
      "200\n",
      "0\n",
      "\n",
      "Total number of trainable parameters = 53240\n",
      "\n"
     ]
    }
   ],
   "source": [
    "# Count number of non-zero parameters in winning ticket (sanity check)-\n",
    "\n",
    "print(\"\\nMask model, number of nonzero parameter in each layer are:\\n\")\n",
    "\n",
    "mask_model_sum_params = 0\n",
    "\n",
    "for layer in mask_model_stripped.trainable_weights:\n",
    "    print(tf.math.count_nonzero(layer, axis = None).numpy())\n",
    "    mask_model_sum_params += tf.math.count_nonzero(layer, axis = None).numpy()\n",
    "\n",
    "print(\"\\nTotal number of trainable parameters = {0}\\n\".format(mask_model_sum_params))"
   ]
  },
  {
   "cell_type": "code",
   "execution_count": 139,
   "metadata": {},
   "outputs": [],
   "source": [
    "assert(winning_tkt_sum_params == mask_model_sum_params), \"number of parameters in winning ticket model and mask model should match\""
   ]
  },
  {
   "cell_type": "code",
   "execution_count": null,
   "metadata": {},
   "outputs": [],
   "source": []
  },
  {
   "cell_type": "code",
   "execution_count": 140,
   "metadata": {},
   "outputs": [],
   "source": [
    "@tf.function\n",
    "def train_one_step(model, mask_model, optimizer, x, y):\n",
    "    '''\n",
    "    def train_step(data, labels):\n",
    "    Function to compute one step of gradient descent optimization\n",
    "    '''\n",
    "    with tf.GradientTape() as tape:\n",
    "        # Make predictions using defined model-\n",
    "        y_pred = model(x)\n",
    "\n",
    "        # Compute loss-\n",
    "        loss = loss_fn(y, y_pred)\n",
    "        \n",
    "    # Compute gradients wrt defined loss and weights and biases-\n",
    "    grads = tape.gradient(loss, model.trainable_variables)\n",
    "    \n",
    "    # type(grads)\n",
    "    # list\n",
    "    \n",
    "    # List to hold element-wise multiplication between-\n",
    "    # computed gradient and masks-\n",
    "    grad_mask_mul = []\n",
    "    \n",
    "    # Perform element-wise multiplication between computed gradients and masks-\n",
    "    for grad_layer, mask in zip(grads, mask_model.trainable_weights):\n",
    "        grad_mask_mul.append(tf.math.multiply(grad_layer, mask))\n",
    "    \n",
    "    # Apply computed gradients to model's weights and biases-\n",
    "    optimizer.apply_gradients(zip(grad_mask_mul, model.trainable_variables))\n",
    "\n",
    "    # Compute accuracy-\n",
    "    train_loss(loss)\n",
    "    train_accuracy(y, y_pred)\n",
    "\n",
    "    return None"
   ]
  },
  {
   "cell_type": "code",
   "execution_count": 141,
   "metadata": {},
   "outputs": [],
   "source": [
    "@tf.function\n",
    "def test_step(model, optimizer, data, labels):\n",
    "    \"\"\"\n",
    "    Function to test model performance\n",
    "    on testing dataset\n",
    "    \"\"\"\n",
    "    \n",
    "    predictions = model(data)\n",
    "    t_loss = loss_fn(labels, predictions)\n",
    "\n",
    "    test_loss(t_loss)\n",
    "    test_accuracy(labels, predictions)\n",
    "\n",
    "    return None\n"
   ]
  },
  {
   "cell_type": "code",
   "execution_count": null,
   "metadata": {},
   "outputs": [],
   "source": []
  },
  {
   "cell_type": "code",
   "execution_count": 142,
   "metadata": {},
   "outputs": [],
   "source": [
    "# Define variables for manual Early Stopping-\n",
    "best_val_loss = 1\n",
    "loc_patience = 0"
   ]
  },
  {
   "cell_type": "code",
   "execution_count": null,
   "metadata": {},
   "outputs": [],
   "source": []
  },
  {
   "cell_type": "code",
   "execution_count": 143,
   "metadata": {},
   "outputs": [
    {
     "name": "stdout",
     "output_type": "stream",
     "text": [
      "Epoch 1, Loss: 0.1035, Accuracy: 99.3867, Test Loss: 0.0654, Test Accuracy: 99.600967\n",
      "Total number of trainable parameters = 53240\n",
      "\n",
      "Epoch 2, Loss: 0.0319, Accuracy: 99.8091, Test Loss: 0.0574, Test Accuracy: 99.646935\n",
      "Total number of trainable parameters = 53240\n",
      "\n",
      "Epoch 3, Loss: 0.0173, Accuracy: 99.9105, Test Loss: 0.0650, Test Accuracy: 99.621964\n",
      "Total number of trainable parameters = 53240\n",
      "\n",
      "Epoch 4, Loss: 0.0107, Accuracy: 99.9456, Test Loss: 0.0663, Test Accuracy: 99.619942\n",
      "Total number of trainable parameters = 53240\n",
      "\n",
      "Epoch 5, Loss: 0.0069, Accuracy: 99.9659, Test Loss: 0.0699, Test Accuracy: 99.626938\n",
      "Total number of trainable parameters = 53240\n",
      "\n",
      "\n",
      "'EarlyStopping' called!\n",
      "\n"
     ]
    }
   ],
   "source": [
    "for epoch in range(num_epochs):\n",
    "    \n",
    "    if loc_patience >= patience:\n",
    "        print(\"\\n'EarlyStopping' called!\\n\")\n",
    "        break\n",
    "        \n",
    "    # Reset the metrics at the start of the next epoch\n",
    "    train_loss.reset_states()\n",
    "    train_accuracy.reset_states()\n",
    "    test_loss.reset_states()\n",
    "    test_accuracy.reset_states()\n",
    "        \n",
    "    for x, y in train_dataset:\n",
    "        # train_one_step(model_gt_stripped, mask_model_stripped, optimizer, x, y)\n",
    "        train_one_step(winning_ticket_model_stripped, mask_model_stripped, optimizer, x, y)\n",
    "\n",
    "    for x_t, y_t in test_dataset:\n",
    "        # test_step(model_gt_stripped, optimizer, x_t, y_t)\n",
    "        test_step(winning_ticket_model_stripped, optimizer, x_t, y_t)\n",
    "    \n",
    "    history_main[num_pruning_rounds + 1]['accuracy'][epoch] = train_accuracy.result() * 100\n",
    "    history_main[num_pruning_rounds + 1]['loss'][epoch] = train_loss.result()\n",
    "    history_main[num_pruning_rounds + 1]['val_loss'][epoch] = test_loss.result()\n",
    "    history_main[num_pruning_rounds + 1]['val_accuracy'][epoch] = test_accuracy.result() * 100\n",
    "\n",
    "    template = 'Epoch {0}, Loss: {1:.4f}, Accuracy: {2:.4f}, Test Loss: {3:.4f}, Test Accuracy: {4:4f}'\n",
    "    \n",
    "    print(template.format(epoch + 1, \n",
    "                              train_loss.result(), train_accuracy.result()*100,\n",
    "                              test_loss.result(), test_accuracy.result()*100))\n",
    "    \n",
    "    # Count number of non-zero parameters in each layer and in total-\n",
    "    # print(\"layer-wise manner model, number of nonzero parameters in each layer are: \\n\")\n",
    "\n",
    "    model_sum_params = 0\n",
    "    \n",
    "    for layer in winning_ticket_model_stripped.trainable_weights:\n",
    "        # print(tf.math.count_nonzero(layer, axis = None).numpy())\n",
    "        model_sum_params += tf.math.count_nonzero(layer, axis = None).numpy()\n",
    "    \n",
    "    print(\"Total number of trainable parameters = {0}\\n\".format(model_sum_params))\n",
    "\n",
    "    \n",
    "    # Code for manual Early Stopping:\n",
    "    if np.abs(test_loss.result() < best_val_loss) >= minimum_delta:\n",
    "        # update 'best_val_loss' variable to lowest loss encountered so far-\n",
    "        best_val_loss = test_loss.result()\n",
    "        \n",
    "        # reset 'loc_patience' variable-\n",
    "        loc_patience = 0\n",
    "        \n",
    "    else:  # there is no improvement in monitored metric 'val_loss'\n",
    "        loc_patience += 1  # number of epochs without any improvement\n",
    "    \n"
   ]
  },
  {
   "cell_type": "code",
   "execution_count": 144,
   "metadata": {},
   "outputs": [
    {
     "data": {
      "text/plain": [
       "5"
      ]
     },
     "execution_count": 144,
     "metadata": {},
     "output_type": "execute_result"
    }
   ],
   "source": [
    "epoch"
   ]
  },
  {
   "cell_type": "code",
   "execution_count": 145,
   "metadata": {},
   "outputs": [],
   "source": [
    "# Resize numpy arrays according to the epoch when 'EarlyStopping' was called-\n",
    "for metrics in history_main[num_pruning_rounds + 1].keys():\n",
    "# for metrics in history.keys():\n",
    "    history_main[num_pruning_rounds + 1][metrics ] = np.resize(history_main[num_pruning_rounds + 1][metrics], new_shape = epoch)\n",
    "    # history[metrics] = np.resize(history[metrics], new_shape=epoch)\n"
   ]
  },
  {
   "cell_type": "code",
   "execution_count": 82,
   "metadata": {},
   "outputs": [],
   "source": [
    "# Save trained model-\n",
    "winning_ticket_model.save_weights(\"Winning_Ticket_Weights_Pruned_more_80_Experimental.h5\", overwrite=True)"
   ]
  },
  {
   "cell_type": "code",
   "execution_count": null,
   "metadata": {},
   "outputs": [],
   "source": []
  },
  {
   "cell_type": "code",
   "execution_count": null,
   "metadata": {},
   "outputs": [],
   "source": []
  },
  {
   "cell_type": "markdown",
   "metadata": {},
   "source": [
    "## Visualize: Training Process [Scalar Metrics]"
   ]
  },
  {
   "cell_type": "code",
   "execution_count": 147,
   "metadata": {},
   "outputs": [
    {
     "data": {
      "image/png": "[encoded data removed]",
      "text/plain": [
       "<Figure size 800x720 with 1 Axes>"
      ]
     },
     "metadata": {},
     "output_type": "display_data"
    }
   ],
   "source": [
    "# Plot the different epoch's training accuracy:\n",
    "\n",
    "fig=plt.figure(figsize=(10, 9), dpi= 80, facecolor='w', edgecolor='k')\n",
    "\n",
    "for epoch in history_main.keys():\n",
    "    plt.plot(history_main[epoch]['accuracy'], label = \"training accuracy epoch = {0}\".format(epoch))\n",
    "\n",
    "plt.legend(loc = 'best')\n",
    "plt.xlabel(\"number of epochs\")\n",
    "plt.ylabel(\"Training Accuracy (%)\")\n",
    "plt.show()"
   ]
  },
  {
   "cell_type": "code",
   "execution_count": 148,
   "metadata": {},
   "outputs": [
    {
     "data": {
      "image/png": "[encoded data removed]",
      "text/plain": [
       "<Figure size 800x720 with 1 Axes>"
      ]
     },
     "metadata": {},
     "output_type": "display_data"
    }
   ],
   "source": [
    "# Plot the different epoch's testing accuracy:\n",
    "\n",
    "fig=plt.figure(figsize=(10, 9), dpi= 80, facecolor='w', edgecolor='k')\n",
    "\n",
    "for epoch in history_main.keys():\n",
    "    plt.plot(history_main[epoch]['val_accuracy'], label = \"testing accuracy epoch = {0}\".format(epoch))\n",
    "\n",
    "plt.legend(loc = 'best')\n",
    "plt.xlabel(\"number of epochs\")\n",
    "plt.ylabel(\"Testing Accuracy (%)\")\n",
    "plt.show()"
   ]
  },
  {
   "cell_type": "code",
   "execution_count": 149,
   "metadata": {},
   "outputs": [
    {
     "data": {
      "image/png": "[encoded data removed]",
      "text/plain": [
       "<Figure size 800x720 with 1 Axes>"
      ]
     },
     "metadata": {},
     "output_type": "display_data"
    }
   ],
   "source": [
    "# Plot the different epoch's training loss:\n",
    "\n",
    "fig=plt.figure(figsize=(10, 9), dpi= 80, facecolor='w', edgecolor='k')\n",
    "\n",
    "for epoch in history_main.keys():\n",
    "    plt.plot(history_main[epoch]['loss'], label = \"training loss epoch = {0}\".format(epoch))\n",
    "\n",
    "plt.legend(loc = 'best')\n",
    "plt.xlabel(\"number of epochs\")\n",
    "plt.ylabel(\"Training Loss\")\n",
    "plt.show()"
   ]
  },
  {
   "cell_type": "code",
   "execution_count": 150,
   "metadata": {},
   "outputs": [
    {
     "data": {
      "image/png": "[encoded data removed]",
      "text/plain": [
       "<Figure size 800x720 with 1 Axes>"
      ]
     },
     "metadata": {},
     "output_type": "display_data"
    }
   ],
   "source": [
    "# Plot the different epoch's testing loss:\n",
    "\n",
    "fig=plt.figure(figsize=(10, 9), dpi= 80, facecolor='w', edgecolor='k')\n",
    "\n",
    "for epoch in history_main.keys():\n",
    "    plt.plot(history_main[epoch]['val_loss'], label = \"testing loss epoch = {0}\".format(epoch))\n",
    "\n",
    "plt.legend(loc = 'best')\n",
    "plt.xlabel(\"number of epochs\")\n",
    "plt.ylabel(\"Testing Loss\")\n",
    "plt.show()"
   ]
  },
  {
   "cell_type": "code",
   "execution_count": null,
   "metadata": {},
   "outputs": [],
   "source": []
  },
  {
   "cell_type": "code",
   "execution_count": null,
   "metadata": {},
   "outputs": [],
   "source": []
  }
 ],
 "metadata": {
  "kernelspec": {
   "display_name": "Python 3",
   "language": "python",
   "name": "python3"
  },
  "language_info": {
   "codemirror_mode": {
    "name": "ipython",
    "version": 3
   },
   "file_extension": ".py",
   "mimetype": "text/x-python",
   "name": "python",
   "nbconvert_exporter": "python",
   "pygments_lexer": "ipython3",
   "version": "3.7.6"
  }
 },
 "nbformat": 4,
 "nbformat_minor": 4
}
