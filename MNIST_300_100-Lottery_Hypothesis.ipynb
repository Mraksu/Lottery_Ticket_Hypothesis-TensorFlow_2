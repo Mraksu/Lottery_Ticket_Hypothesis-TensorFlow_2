{
 "cells": [
  {
   "cell_type": "markdown",
   "metadata": {},
   "source": [
    "# Lottery Hypothesis: MNIST [300 100] classification"
   ]
  },
  {
   "cell_type": "code",
   "execution_count": 1,
   "metadata": {},
   "outputs": [],
   "source": [
    "import tensorflow as tf\n",
    "import numpy as np\n",
    "\n",
    "import matplotlib.pyplot as plt\n",
    "from tensorflow.keras.models import Sequential, Model\n",
    "from tensorflow.keras.layers import Input, Dense, Activation, Dropout, BatchNormalization\n",
    "from tensorflow.keras.datasets import mnist\n",
    "from tensorflow_model_optimization.sparsity import keras as sparsity"
   ]
  },
  {
   "cell_type": "code",
   "execution_count": 2,
   "metadata": {},
   "outputs": [],
   "source": [
    "batch_size = 128\n",
    "num_classes = 10\n",
    "epochs = 50"
   ]
  },
  {
   "cell_type": "code",
   "execution_count": 3,
   "metadata": {},
   "outputs": [],
   "source": [
    "# Data preprocessing and cleadning:\n",
    "# input image dimensions\n",
    "img_rows, img_cols = 28, 28"
   ]
  },
  {
   "cell_type": "code",
   "execution_count": 4,
   "metadata": {},
   "outputs": [],
   "source": [
    "# Download the data, shuffled and split between train and test sets\n",
    "(X_train, y_train), (X_test, y_test) = tf.keras.datasets.mnist.load_data()"
   ]
  },
  {
   "cell_type": "code",
   "execution_count": 5,
   "metadata": {},
   "outputs": [
    {
     "name": "stdout",
     "output_type": "stream",
     "text": [
      "\n",
      "'input_shape' which will be used = (28, 28, 1)\n",
      "\n"
     ]
    }
   ],
   "source": [
    "if tf.keras.backend.image_data_format() == 'channels_first':\n",
    "    X_train = X_train.reshape(X_train.shape[0], 1, img_rows, img_cols)\n",
    "    X_test = X_test.reshape(X_test.shape[0], 1, img_rows, img_cols)\n",
    "    input_shape = (1, img_rows, img_cols)\n",
    "else:\n",
    "    X_train = X_train.reshape(X_train.shape[0], img_rows, img_cols, 1)\n",
    "    X_test = X_test.reshape(X_test.shape[0], img_rows, img_cols, 1)\n",
    "    input_shape = (img_rows, img_cols, 1)\n",
    "\n",
    "print(\"\\n'input_shape' which will be used = {0}\\n\".format(input_shape))"
   ]
  },
  {
   "cell_type": "markdown",
   "metadata": {},
   "source": [
    "### Data preprocessing:"
   ]
  },
  {
   "cell_type": "code",
   "execution_count": 6,
   "metadata": {},
   "outputs": [],
   "source": [
    "# Convert datasets to floating point types-\n",
    "X_train = X_train.astype('float32')\n",
    "X_test = X_test.astype('float32')"
   ]
  },
  {
   "cell_type": "code",
   "execution_count": 7,
   "metadata": {},
   "outputs": [],
   "source": [
    "# Normalize the training and testing datasets-\n",
    "X_train /= 255.0\n",
    "X_test /= 255.0"
   ]
  },
  {
   "cell_type": "code",
   "execution_count": 8,
   "metadata": {},
   "outputs": [],
   "source": [
    "# convert class vectors/target to binary class matrices or one-hot encoded values-\n",
    "y_train = tf.keras.utils.to_categorical(y_train, num_classes)\n",
    "y_test = tf.keras.utils.to_categorical(y_test, num_classes)"
   ]
  },
  {
   "cell_type": "code",
   "execution_count": 9,
   "metadata": {},
   "outputs": [],
   "source": [
    "# Reshape training and testing sets-\n",
    "X_train = X_train.reshape(X_train.shape[0], 784)\n",
    "X_test = X_test.reshape(X_test.shape[0], 784)"
   ]
  },
  {
   "cell_type": "code",
   "execution_count": 10,
   "metadata": {},
   "outputs": [
    {
     "name": "stdout",
     "output_type": "stream",
     "text": [
      "\n",
      "Dimensions of training and testing sets are:\n",
      "X_train.shape = (60000, 784), y_train = (60000, 10)\n",
      "X_test.shape = (10000, 784), y_test = (10000, 10)\n"
     ]
    }
   ],
   "source": [
    "print(\"\\nDimensions of training and testing sets are:\")\n",
    "print(\"X_train.shape = {0}, y_train = {1}\".format(X_train.shape, y_train.shape))\n",
    "print(\"X_test.shape = {0}, y_test = {1}\".format(X_test.shape, y_test.shape))"
   ]
  },
  {
   "cell_type": "code",
   "execution_count": null,
   "metadata": {},
   "outputs": [],
   "source": []
  },
  {
   "cell_type": "markdown",
   "metadata": {},
   "source": [
    "### Define Neural Network to be used for training:"
   ]
  },
  {
   "cell_type": "code",
   "execution_count": 11,
   "metadata": {},
   "outputs": [
    {
     "name": "stdout",
     "output_type": "stream",
     "text": [
      "\n",
      "'end_step' = 23450\n",
      "\n"
     ]
    }
   ],
   "source": [
    "# Compute 'end_step' parameter needed for pruning-\n",
    "num_train_samples = X_train.shape[0]\n",
    "end_step = np.ceil(1.0 * num_train_samples / batch_size).astype(np.int32) * epochs\n",
    "print(\"\\n'end_step' = {0}\\n\".format(end_step))"
   ]
  },
  {
   "cell_type": "code",
   "execution_count": 12,
   "metadata": {},
   "outputs": [],
   "source": [
    "# Parameters to be used for pruning neural network-\n",
    "pruning_params = {\n",
    "    'pruning_schedule': sparsity.PolynomialDecay(\n",
    "        initial_sparsity = 0.0, final_sparsity = 0.70,\n",
    "        begin_step = 2000, end_step = end_step,\n",
    "        frequency=100)\n",
    "}"
   ]
  },
  {
   "cell_type": "code",
   "execution_count": 13,
   "metadata": {},
   "outputs": [],
   "source": [
    "# Parameters to be used for NOT pruning neural network-\n",
    "pruning_params_unpruned = {\n",
    "    'pruning_schedule': sparsity.PolynomialDecay(\n",
    "        initial_sparsity = 0.0, final_sparsity = 0.0,\n",
    "        begin_step = 2000, end_step = end_step,\n",
    "        frequency=100)\n",
    "}"
   ]
  },
  {
   "cell_type": "code",
   "execution_count": 14,
   "metadata": {},
   "outputs": [],
   "source": [
    "def create_nn_pruning(pruning_params):\n",
    "    \"\"\"\n",
    "    Function to define a 300 100 dense\n",
    "    fully connected architecture for MNIST\n",
    "    classification\n",
    "    \"\"\"\n",
    "    pruned_model = Sequential()\n",
    "    \n",
    "    pruned_model.add(\n",
    "        sparsity.prune_low_magnitude(\n",
    "            Dense(units = 300, activation = 'relu',\n",
    "                  kernel_initializer = tf.keras.initializers.GlorotUniform,\n",
    "                  input_shape = (784,)\n",
    "                 ), \n",
    "            **pruning_params)\n",
    "    )\n",
    "\n",
    "    pruned_model.add(\n",
    "        sparsity.prune_low_magnitude(\n",
    "            Dense(\n",
    "                units = 100, activation = 'relu',\n",
    "                kernel_initializer = tf.keras.initializers.GlorotUniform\n",
    "            ),\n",
    "            **pruning_params))\n",
    "    \n",
    "    pruned_model.add(\n",
    "        sparsity.prune_low_magnitude(\n",
    "            Dense(\n",
    "                units = 10, activation = 'softmax'\n",
    "            ),\n",
    "            **pruning_params))\n",
    "    \n",
    "    # Compile defined model-\n",
    "    pruned_model.compile(\n",
    "        loss = tf.keras.losses.categorical_crossentropy,\n",
    "        optimizer=tf.keras.optimizers.Adam(lr = 0.001),\n",
    "        metrics = ['accuracy'])\n",
    "\n",
    "    return pruned_model\n",
    "\n"
   ]
  },
  {
   "cell_type": "markdown",
   "metadata": {},
   "source": [
    "# _One Shot_ pruning approach: Lottery Ticket Hypothesis"
   ]
  },
  {
   "cell_type": "markdown",
   "metadata": {},
   "source": [
    "### Step - 1: Randomly initialize a neural network\n",
    "Randomly initialize the weights of the defined neural network WITHOUT pruning"
   ]
  },
  {
   "cell_type": "code",
   "execution_count": 15,
   "metadata": {},
   "outputs": [
    {
     "name": "stderr",
     "output_type": "stream",
     "text": [
      "WARNING: Logging before flag parsing goes to stderr.\n",
      "W0121 14:18:00.570797 139866708326208 deprecation.py:323] From /home/arjun/.local/lib/python3.7/site-packages/tensorflow_model_optimization/python/core/sparsity/keras/pruning_wrapper.py:185: Layer.add_variable (from tensorflow.python.keras.engine.base_layer) is deprecated and will be removed in a future version.\n",
      "Instructions for updating:\n",
      "Please use `layer.add_weight` method instead.\n",
      "W0121 14:18:00.871846 139866708326208 deprecation.py:323] From /home/arjun/.local/lib/python3.7/site-packages/tensorflow_model_optimization/python/core/sparsity/keras/pruning_schedule.py:240: div (from tensorflow.python.ops.math_ops) is deprecated and will be removed in a future version.\n",
      "Instructions for updating:\n",
      "Deprecated in favor of operator or tf.math.divide.\n"
     ]
    }
   ],
   "source": [
    "# Instantiate \n",
    "orig_model = create_nn_pruning(pruning_params_unpruned)"
   ]
  },
  {
   "cell_type": "code",
   "execution_count": 16,
   "metadata": {},
   "outputs": [],
   "source": [
    "# Save weights of randomly initialized, untrained, unpruned model with pruning parameters-\n",
    "orig_model.save_weights(\"Weights_Resources/MNIST_300_100_Randomly_Initialized_with_pruning_params.h5\",\n",
    "                       overwrite=True)"
   ]
  },
  {
   "cell_type": "markdown",
   "metadata": {},
   "source": [
    "### Early Stopping:\n",
    "Early stopping is a technique used to terminate the training before overfitting occurs.\n",
    "\n",
    "1. _monitor_ keeps track of the quantity that is used to decide if the training should be terminated. In this case, we use the validation loss.\n",
    "\n",
    "1. _min_delta_ is the threshold that triggers the termination. In this case, we require that the loss should at least improve by 0.0001.\n",
    "\n",
    "1. _patience_ is the number of \"no improvement epochs\" to wait until training is stopped. With patience = 3, training terminates immediately after the first three epochs with no improvement.\n",
    "\n",
    "\n",
    "__Summary:__\n",
    "\n",
    "The key takeaway is to use the _tf.keras.EarlyStopping_ callback. Early stopping is triggered by monitoring if a certain value (for example, validation accuracy) has improved over the latest period of time (controlled by the patience argument).\n",
    "\n",
    "\n",
    "\n",
    "https://lambdalabs.com/blog/tensorflow-2-0-tutorial-04-early-stopping/"
   ]
  },
  {
   "cell_type": "code",
   "execution_count": 17,
   "metadata": {},
   "outputs": [],
   "source": [
    "# Add a pruning step callback to peg the pruning step to the optimizer's\n",
    "# step. Also add a callback to add pruning summaries to tensorboard\n",
    "callbacks = [\n",
    "    sparsity.UpdatePruningStep(),\n",
    "    # sparsity.PruningSummaries(log_dir=logdir, profile_batch=0)\n",
    "    tf.keras.callbacks.EarlyStopping(monitor='val_loss', patience=3,\n",
    "                                    min_delta=0.0001)\n",
    "]\n"
   ]
  },
  {
   "cell_type": "markdown",
   "metadata": {},
   "source": [
    "### Step - 2: Train the (defined) network for _j_ iterations, arriving at parameters _theta_j_:"
   ]
  },
  {
   "cell_type": "code",
   "execution_count": 18,
   "metadata": {},
   "outputs": [],
   "source": [
    "# Train original unpruned model-\n",
    "history_orig = orig_model.fit(\n",
    "    x = X_train, y = y_train,\n",
    "    batch_size=batch_size,\n",
    "    epochs=epochs,\n",
    "    verbose=0,\n",
    "    callbacks=callbacks,\n",
    "    validation_data=(X_test, y_test))\n"
   ]
  },
  {
   "cell_type": "code",
   "execution_count": 19,
   "metadata": {},
   "outputs": [
    {
     "data": {
      "text/plain": [
       "dict_keys(['loss', 'accuracy', 'val_loss', 'val_accuracy'])"
      ]
     },
     "execution_count": 19,
     "metadata": {},
     "output_type": "execute_result"
    }
   ],
   "source": [
    "history_orig.history.keys()"
   ]
  },
  {
   "cell_type": "code",
   "execution_count": 26,
   "metadata": {},
   "outputs": [
    {
     "data": {
      "image/png": "[encoded data removed]",
      "text/plain": [
       "<Figure size 800x720 with 1 Axes>"
      ]
     },
     "metadata": {},
     "output_type": "display_data"
    }
   ],
   "source": [
    "# Visualize training - [Scalar metrics]:\n",
    "\n",
    "fig=plt.figure(figsize=(10, 9), dpi= 80, facecolor='w', edgecolor='k')\n",
    "\n",
    "plt.plot(history_orig.history['accuracy'], label = 'training accuracy')\n",
    "plt.plot(history_orig.history['val_accuracy'], label = 'testing accuracy')\n",
    "plt.plot(history_orig.history['loss'], label = 'training loss')\n",
    "plt.plot(history_orig.history['val_loss'], label = 'testing loss')\n",
    "\n",
    "plt.title(\"MNIST 300 100: Training Visualizations [Scalar Metrics]\")\n",
    "plt.xlabel(\"number of epochs\")\n",
    "plt.ylabel(\"Accuracy/Loss\")\n",
    "plt.legend(loc = 'best')\n",
    "plt.show()"
   ]
  },
  {
   "cell_type": "code",
   "execution_count": 20,
   "metadata": {},
   "outputs": [],
   "source": [
    "# Save trained unpruned model with pruning parameters-\n",
    "orig_model.save_weights(\"Weights_Resources/MNIST_300_100_Trained_with_pruning_params.h5\",\n",
    "                       overwrite=True)"
   ]
  },
  {
   "cell_type": "markdown",
   "metadata": {},
   "source": [
    "### Step - 3: Prune _p%_ of the parameters in _theta_j_ (from step - 2), creating a mask _m_\n",
    "\n",
    "The mask is created as follows-\n",
    "1. Weights surviving the pruning are initialized to one (1)\n",
    "1. Weights which are pruned are initialized to zero (0)"
   ]
  },
  {
   "cell_type": "code",
   "execution_count": 21,
   "metadata": {},
   "outputs": [],
   "source": [
    "# Instantiate a network which loads weights of already trained model for pruning-\n",
    "pruned_model = create_nn_pruning(pruning_params)"
   ]
  },
  {
   "cell_type": "code",
   "execution_count": 22,
   "metadata": {},
   "outputs": [],
   "source": [
    "# Load weights of already trained model which is to be pruned-\n",
    "pruned_model.load_weights(\"Weights_Resources/MNIST_300_100_Trained_with_pruning_params.h5\")"
   ]
  },
  {
   "cell_type": "code",
   "execution_count": 23,
   "metadata": {},
   "outputs": [],
   "source": [
    "history_pruned = pruned_model.fit(\n",
    "    x = X_train, y = y_train,\n",
    "    batch_size=batch_size,\n",
    "    epochs=epochs,\n",
    "    verbose=0,\n",
    "    callbacks=callbacks,\n",
    "    validation_data=(X_test, y_test))\n"
   ]
  },
  {
   "cell_type": "code",
   "execution_count": 24,
   "metadata": {},
   "outputs": [
    {
     "data": {
      "image/png": "[encoded data removed]",
      "text/plain": [
       "<Figure size 800x720 with 1 Axes>"
      ]
     },
     "metadata": {},
     "output_type": "display_data"
    }
   ],
   "source": [
    "# Visualize training - [Scalar metrics]:\n",
    "\n",
    "fig=plt.figure(figsize=(10, 9), dpi= 80, facecolor='w', edgecolor='k')\n",
    "\n",
    "plt.plot(history_pruned.history['accuracy'], label = 'training accuracy')\n",
    "plt.plot(history_pruned.history['val_accuracy'], label = 'testing accuracy')\n",
    "plt.plot(history_pruned.history['loss'], label = 'training loss')\n",
    "plt.plot(history_pruned.history['val_loss'], label = 'testing loss')\n",
    "\n",
    "plt.title(\"MNIST 300 100: Training Visualizations - PRUNED network [Scalar Metrics]\")\n",
    "plt.xlabel(\"number of epochs\")\n",
    "plt.ylabel(\"Accuracy/Loss\")\n",
    "plt.legend(loc = 'best')\n",
    "plt.show()"
   ]
  },
  {
   "cell_type": "code",
   "execution_count": 48,
   "metadata": {},
   "outputs": [
    {
     "name": "stdout",
     "output_type": "stream",
     "text": [
      "\n",
      "Pruned model metrics:\n",
      "Testing dataset loss = 0.0807 and accuracy = 0.9832\n",
      "\n"
     ]
    }
   ],
   "source": [
    "# Evaluate pruned trained model on testing dataset-\n",
    "score = pruned_model.evaluate(X_test, y_test, verbose=0)\n",
    "\n",
    "print(\"\\nPruned model metrics:\")\n",
    "print(\"Testing dataset loss = {0:.4f} and accuracy = {1:.4f}\\n\".format(score[0], score[1]))"
   ]
  },
  {
   "cell_type": "code",
   "execution_count": 49,
   "metadata": {},
   "outputs": [
    {
     "name": "stdout",
     "output_type": "stream",
     "text": [
      "\n",
      "Original Unpruned model metrics:\n",
      "Testing dataset loss = 0.0804 and accuracy = 0.9776\n",
      "\n"
     ]
    }
   ],
   "source": [
    "# Evaluate original unpruned model on testing dataset-\n",
    "score_orig = orig_model.evaluate(X_test, y_test, verbose=0)\n",
    "\n",
    "print(\"\\nOriginal Unpruned model metrics:\")\n",
    "print(\"Testing dataset loss = {0:.4f} and accuracy = {1:.4f}\\n\".format(score_orig[0], score_orig[1]))"
   ]
  },
  {
   "cell_type": "code",
   "execution_count": 25,
   "metadata": {},
   "outputs": [],
   "source": [
    "# Save trained pruned model with pruning parameters-\n",
    "pruned_model.save_weights(\"Weights_Resources/MNIST_300_100_Trained_Pruned_with_pruning_params.h5\",\n",
    "                       overwrite=True)"
   ]
  },
  {
   "cell_type": "code",
   "execution_count": 35,
   "metadata": {},
   "outputs": [],
   "source": [
    "# Strip pruning network of the pruning parameters-\n",
    "pruned_model_stripped = sparsity.strip_pruning(pruned_model)"
   ]
  },
  {
   "cell_type": "code",
   "execution_count": 36,
   "metadata": {},
   "outputs": [],
   "source": [
    "# Strip original network of the pruning parameters-\n",
    "orig_model_stripped = sparsity.strip_pruning(orig_model)"
   ]
  },
  {
   "cell_type": "code",
   "execution_count": 37,
   "metadata": {},
   "outputs": [
    {
     "name": "stdout",
     "output_type": "stream",
     "text": [
      "\n",
      "Number of non-zero trainable parameters in Original Unpruned Model:\n",
      "\n",
      "235200\n",
      "300\n",
      "30000\n",
      "100\n",
      "1000\n",
      "10\n",
      "\n",
      "Total number of non-zero trainable parameters in model: 266610\n",
      "\n"
     ]
    }
   ],
   "source": [
    "print(\"\\nNumber of non-zero trainable parameters in Original Unpruned Model:\\n\")\n",
    "\n",
    "orig_model_sum_params = 0\n",
    "\n",
    "for layer in orig_model_stripped.trainable_weights:\n",
    "    print(tf.math.count_nonzero(layer, axis = None).numpy())\n",
    "    orig_model_sum_params += tf.math.count_nonzero(layer, axis = None).numpy()\n",
    "\n",
    "print(\"\\nTotal number of non-zero trainable parameters in model: {0}\\n\".format(orig_model_sum_params))"
   ]
  },
  {
   "cell_type": "code",
   "execution_count": null,
   "metadata": {},
   "outputs": [],
   "source": [
    "orig_model.summary()"
   ]
  },
  {
   "cell_type": "code",
   "execution_count": 38,
   "metadata": {},
   "outputs": [
    {
     "name": "stdout",
     "output_type": "stream",
     "text": [
      "\n",
      "Number of non-zero trainable parameters in Pruned Model:\n",
      "\n",
      "217457\n",
      "300\n",
      "27737\n",
      "100\n",
      "925\n",
      "10\n",
      "\n",
      "Total number of non-zero trainable parameters in model: 246529\n",
      "\n"
     ]
    }
   ],
   "source": [
    "print(\"\\nNumber of non-zero trainable parameters in Pruned Model:\\n\")\n",
    "\n",
    "pruned_model_sum_params = 0\n",
    "\n",
    "for layer in pruned_model_stripped.trainable_weights:\n",
    "    print(tf.math.count_nonzero(layer, axis = None).numpy())\n",
    "    pruned_model_sum_params += tf.math.count_nonzero(layer, axis = None).numpy()\n",
    "\n",
    "print(\"\\nTotal number of non-zero trainable parameters in model: {0}\\n\".format(pruned_model_sum_params))"
   ]
  },
  {
   "cell_type": "code",
   "execution_count": 39,
   "metadata": {},
   "outputs": [
    {
     "name": "stdout",
     "output_type": "stream",
     "text": [
      "\n",
      "% of connections pruned away = 7.5320%\n",
      "\n"
     ]
    }
   ],
   "source": [
    "print(\"\\n% of connections pruned away = {0:.4f}%\\n\".format(\n",
    "    ((orig_model_sum_params - pruned_model_sum_params) / orig_model_sum_params) * 100))"
   ]
  },
  {
   "cell_type": "code",
   "execution_count": 40,
   "metadata": {},
   "outputs": [],
   "source": [
    "# Instantiate a new neural network model for which, the mask is to be created,\n",
    "# according to the paper-\n",
    "mask_model = create_nn_pruning(pruning_params_unpruned)"
   ]
  },
  {
   "cell_type": "code",
   "execution_count": 41,
   "metadata": {},
   "outputs": [],
   "source": [
    "# Load weights of PRUNED model-\n",
    "mask_model.load_weights(\"Weights_Resources/MNIST_300_100_Trained_Pruned_with_pruning_params.h5\")"
   ]
  },
  {
   "cell_type": "code",
   "execution_count": 42,
   "metadata": {},
   "outputs": [],
   "source": [
    "# Strip the model of its pruning parameters-\n",
    "mask_model_stripped = sparsity.strip_pruning(mask_model)"
   ]
  },
  {
   "cell_type": "markdown",
   "metadata": {},
   "source": [
    "### Creating mask:\n",
    "To create masks, iterate through each layer of defined model and wherever there is a non-zero weight,\n",
    "use one and for zero weight, leave as it is.\n",
    "\n",
    "Using _assign_ method of the _Variable_ class in TensorFlow 2.0"
   ]
  },
  {
   "cell_type": "code",
   "execution_count": 43,
   "metadata": {},
   "outputs": [],
   "source": [
    "# Create mask:\n",
    "for pruned_layer, orig_layer in zip(mask_model_stripped.trainable_weights,\n",
    "                                   orig_model_stripped.trainable_weights):\n",
    "    pruned_layer.assign(tf.cast(tf.where(tf.equal(pruned_layer, 0), 0, 1), dtype = tf.float32))"
   ]
  },
  {
   "cell_type": "markdown",
   "metadata": {},
   "source": [
    "### Sanity check: See if the mask _m_ is created:"
   ]
  },
  {
   "cell_type": "code",
   "execution_count": 44,
   "metadata": {},
   "outputs": [
    {
     "data": {
      "text/plain": [
       "array([[1., 1., 1., ..., 0., 1., 1.],\n",
       "       [1., 1., 1., ..., 1., 1., 1.],\n",
       "       [1., 1., 1., ..., 1., 1., 0.],\n",
       "       ...,\n",
       "       [1., 1., 1., ..., 1., 1., 1.],\n",
       "       [1., 1., 1., ..., 1., 0., 1.],\n",
       "       [1., 1., 1., ..., 1., 1., 0.]], dtype=float32)"
      ]
     },
     "execution_count": 44,
     "metadata": {},
     "output_type": "execute_result"
    }
   ],
   "source": [
    "mask_model_stripped.trainable_weights[0].numpy()"
   ]
  },
  {
   "cell_type": "code",
   "execution_count": 47,
   "metadata": {},
   "outputs": [
    {
     "data": {
      "text/plain": [
       "array([[1., 0., 1., 1., 1., 1., 1., 1., 1., 1.],\n",
       "       [1., 1., 1., 1., 1., 1., 1., 1., 1., 1.],\n",
       "       [1., 1., 1., 1., 1., 1., 1., 1., 1., 0.],\n",
       "       [1., 1., 0., 0., 1., 1., 1., 1., 1., 1.],\n",
       "       [1., 1., 1., 1., 1., 1., 1., 1., 0., 1.],\n",
       "       [1., 1., 1., 0., 1., 1., 1., 1., 0., 1.],\n",
       "       [1., 1., 0., 1., 1., 1., 1., 1., 1., 1.],\n",
       "       [1., 1., 1., 1., 1., 0., 1., 1., 1., 1.],\n",
       "       [1., 1., 1., 0., 1., 1., 1., 1., 1., 1.],\n",
       "       [1., 1., 1., 1., 1., 1., 1., 1., 1., 0.],\n",
       "       [1., 1., 1., 1., 1., 0., 1., 1., 1., 1.],\n",
       "       [1., 0., 1., 1., 1., 0., 0., 1., 1., 1.],\n",
       "       [1., 1., 1., 1., 1., 1., 1., 1., 1., 1.],\n",
       "       [1., 1., 0., 1., 1., 1., 1., 1., 1., 1.],\n",
       "       [1., 1., 1., 1., 1., 1., 0., 1., 1., 1.],\n",
       "       [1., 1., 1., 1., 1., 1., 1., 1., 1., 1.],\n",
       "       [1., 1., 1., 1., 1., 1., 1., 1., 0., 1.],\n",
       "       [1., 1., 1., 0., 1., 1., 1., 1., 1., 1.],\n",
       "       [1., 1., 1., 1., 1., 1., 1., 1., 1., 1.],\n",
       "       [1., 1., 1., 1., 0., 1., 1., 1., 1., 0.],\n",
       "       [1., 1., 1., 1., 0., 1., 1., 1., 1., 1.],\n",
       "       [1., 1., 0., 1., 1., 1., 1., 1., 1., 1.],\n",
       "       [1., 1., 1., 1., 1., 1., 0., 1., 1., 1.],\n",
       "       [1., 1., 1., 1., 1., 1., 1., 1., 0., 1.],\n",
       "       [1., 1., 0., 1., 1., 1., 1., 1., 1., 1.],\n",
       "       [1., 1., 1., 0., 1., 1., 1., 0., 1., 1.],\n",
       "       [1., 1., 1., 1., 1., 1., 1., 1., 0., 1.],\n",
       "       [1., 1., 1., 1., 1., 1., 1., 1., 1., 1.],\n",
       "       [1., 1., 1., 1., 1., 1., 1., 1., 1., 1.],\n",
       "       [1., 1., 1., 1., 1., 1., 1., 1., 1., 1.],\n",
       "       [1., 1., 1., 1., 0., 1., 1., 1., 1., 1.],\n",
       "       [1., 1., 1., 1., 1., 1., 1., 1., 1., 1.],\n",
       "       [1., 1., 1., 0., 1., 1., 1., 1., 1., 1.],\n",
       "       [1., 1., 1., 0., 1., 1., 1., 1., 1., 1.],\n",
       "       [1., 1., 1., 1., 1., 1., 1., 1., 1., 1.],\n",
       "       [1., 1., 1., 1., 1., 1., 1., 0., 1., 1.],\n",
       "       [1., 1., 1., 1., 1., 1., 0., 1., 1., 1.],\n",
       "       [1., 1., 1., 1., 0., 1., 1., 1., 0., 1.],\n",
       "       [1., 1., 1., 1., 1., 1., 0., 1., 1., 1.],\n",
       "       [1., 1., 1., 1., 1., 1., 1., 1., 1., 1.],\n",
       "       [1., 1., 1., 1., 1., 1., 1., 1., 1., 0.],\n",
       "       [1., 1., 1., 1., 1., 1., 1., 1., 1., 1.],\n",
       "       [1., 1., 1., 1., 1., 1., 1., 1., 1., 1.],\n",
       "       [1., 1., 1., 1., 1., 1., 1., 1., 1., 1.],\n",
       "       [0., 1., 1., 1., 1., 1., 1., 1., 1., 1.],\n",
       "       [1., 1., 1., 0., 1., 1., 1., 0., 0., 1.],\n",
       "       [1., 1., 1., 1., 1., 1., 1., 1., 1., 1.],\n",
       "       [1., 1., 1., 1., 1., 1., 1., 1., 1., 1.],\n",
       "       [1., 1., 1., 1., 1., 1., 1., 1., 1., 1.],\n",
       "       [1., 0., 1., 1., 1., 1., 1., 1., 1., 1.],\n",
       "       [1., 1., 1., 1., 1., 1., 1., 1., 1., 1.],\n",
       "       [0., 1., 1., 1., 1., 1., 1., 1., 1., 1.],\n",
       "       [1., 1., 1., 1., 1., 1., 1., 1., 1., 1.],\n",
       "       [1., 1., 1., 1., 1., 1., 1., 1., 1., 1.],\n",
       "       [1., 1., 1., 1., 1., 1., 1., 1., 1., 1.],\n",
       "       [1., 1., 1., 1., 1., 0., 1., 1., 1., 1.],\n",
       "       [1., 1., 1., 0., 1., 1., 1., 1., 1., 1.],\n",
       "       [1., 1., 1., 1., 1., 1., 1., 1., 1., 1.],\n",
       "       [1., 1., 1., 1., 1., 0., 1., 1., 1., 1.],\n",
       "       [1., 1., 1., 1., 1., 1., 1., 1., 1., 1.],\n",
       "       [1., 1., 1., 1., 1., 1., 1., 1., 1., 1.],\n",
       "       [1., 1., 1., 1., 1., 1., 1., 1., 1., 0.],\n",
       "       [1., 1., 1., 1., 1., 1., 1., 1., 1., 1.],\n",
       "       [1., 0., 1., 1., 1., 1., 1., 1., 1., 1.],\n",
       "       [1., 1., 1., 1., 1., 1., 1., 1., 1., 1.],\n",
       "       [1., 1., 1., 1., 0., 1., 0., 0., 1., 1.],\n",
       "       [1., 1., 1., 1., 1., 1., 1., 1., 0., 1.],\n",
       "       [1., 1., 0., 1., 1., 1., 1., 1., 1., 0.],\n",
       "       [0., 1., 1., 1., 1., 1., 1., 1., 1., 0.],\n",
       "       [1., 1., 1., 0., 1., 1., 1., 1., 1., 1.],\n",
       "       [1., 1., 1., 1., 0., 1., 1., 0., 1., 1.],\n",
       "       [1., 1., 1., 1., 1., 1., 1., 1., 1., 1.],\n",
       "       [1., 1., 1., 0., 1., 1., 1., 1., 1., 1.],\n",
       "       [1., 1., 1., 1., 1., 1., 1., 1., 1., 1.],\n",
       "       [1., 1., 1., 1., 1., 1., 1., 1., 1., 0.],\n",
       "       [1., 1., 1., 1., 0., 1., 1., 1., 1., 1.],\n",
       "       [1., 1., 1., 1., 1., 1., 1., 1., 1., 1.],\n",
       "       [1., 1., 1., 1., 1., 1., 1., 1., 1., 0.],\n",
       "       [1., 1., 1., 0., 1., 1., 1., 1., 1., 1.],\n",
       "       [1., 1., 1., 1., 1., 1., 1., 1., 1., 1.],\n",
       "       [1., 1., 1., 1., 1., 1., 1., 1., 1., 1.],\n",
       "       [1., 1., 1., 1., 1., 1., 1., 1., 1., 1.],\n",
       "       [1., 1., 1., 1., 1., 1., 1., 1., 1., 1.],\n",
       "       [1., 1., 1., 1., 1., 1., 1., 1., 1., 1.],\n",
       "       [1., 1., 0., 1., 1., 1., 1., 1., 1., 1.],\n",
       "       [1., 1., 1., 1., 1., 1., 1., 1., 1., 1.],\n",
       "       [1., 1., 1., 0., 1., 1., 1., 1., 1., 1.],\n",
       "       [1., 1., 1., 1., 1., 1., 1., 1., 1., 1.],\n",
       "       [1., 0., 1., 1., 1., 1., 1., 1., 1., 1.],\n",
       "       [1., 1., 1., 0., 1., 1., 1., 1., 0., 1.],\n",
       "       [1., 1., 1., 1., 1., 1., 1., 1., 1., 1.],\n",
       "       [1., 1., 1., 1., 1., 1., 1., 0., 1., 1.],\n",
       "       [1., 1., 1., 1., 1., 1., 1., 1., 1., 1.],\n",
       "       [1., 1., 1., 1., 1., 1., 1., 1., 1., 1.],\n",
       "       [1., 1., 1., 1., 1., 1., 1., 1., 1., 1.],\n",
       "       [1., 1., 1., 1., 1., 1., 1., 1., 1., 1.],\n",
       "       [0., 1., 1., 0., 1., 1., 1., 1., 1., 1.],\n",
       "       [1., 1., 1., 1., 1., 1., 1., 1., 1., 1.],\n",
       "       [1., 1., 1., 1., 1., 1., 1., 1., 1., 1.],\n",
       "       [0., 1., 1., 1., 1., 0., 1., 1., 1., 1.]], dtype=float32)"
      ]
     },
     "execution_count": 47,
     "metadata": {},
     "output_type": "execute_result"
    }
   ],
   "source": [
    "mask_model_stripped.trainable_weights[4].numpy()"
   ]
  },
  {
   "cell_type": "code",
   "execution_count": null,
   "metadata": {},
   "outputs": [],
   "source": []
  },
  {
   "cell_type": "markdown",
   "metadata": {},
   "source": [
    "### Step - 4: Reset the remaining parameters to their original values (from Step - 1, _theta_0_), creating the winning ticket\n",
    "\n",
    "For each layer, for each weight which is 0, leave it, as is. And for weights which survive the pruning,\n",
    "reinitialize it to the randomly initialized value, the model received BEFORE it was trained and pruned-"
   ]
  },
  {
   "cell_type": "code",
   "execution_count": 51,
   "metadata": {},
   "outputs": [],
   "source": [
    "# Instantiate a Neural Network model for extraction of winning ticket-\n",
    "winning_ticket = create_nn_pruning(pruning_params_unpruned)"
   ]
  },
  {
   "cell_type": "code",
   "execution_count": 52,
   "metadata": {},
   "outputs": [],
   "source": [
    "# Load weights of trained and pruned model with pruning parameters-\n",
    "winning_ticket.load_weights(\"Weights_Resources/MNIST_300_100_Trained_Pruned_with_pruning_params.h5\")"
   ]
  },
  {
   "cell_type": "code",
   "execution_count": 53,
   "metadata": {},
   "outputs": [],
   "source": [
    "# Strip model of pruning extra parameters-\n",
    "winning_ticket_stripped = sparsity.strip_pruning(winning_ticket)"
   ]
  },
  {
   "cell_type": "code",
   "execution_count": 54,
   "metadata": {},
   "outputs": [],
   "source": [
    "# Extract winning ticket-\n",
    "for pruned_layer, orig_layer in zip(winning_ticket_stripped.trainable_weights,\n",
    "                                   orig_model_stripped.trainable_weights):\n",
    "    pruned_layer.assign(tf.where(tf.equal(pruned_layer, 0.), 0., orig_layer))"
   ]
  },
  {
   "cell_type": "markdown",
   "metadata": {},
   "source": [
    "### Sanity check: Check whether number of non-zero parameters in _winning_ticket_ & _pruned_model_ are same:"
   ]
  },
  {
   "cell_type": "code",
   "execution_count": 55,
   "metadata": {},
   "outputs": [
    {
     "name": "stdout",
     "output_type": "stream",
     "text": [
      "\n",
      "Number of non-zero trainable parameters in Winning Ticket Model:\n",
      "\n",
      "217457\n",
      "300\n",
      "27737\n",
      "100\n",
      "925\n",
      "10\n",
      "\n",
      "Total number of non-zero trainable parameters in model: 246529\n",
      "\n"
     ]
    }
   ],
   "source": [
    "print(\"\\nNumber of non-zero trainable parameters in Winning Ticket Model:\\n\")\n",
    "\n",
    "winning_tkt_model_sum_params = 0\n",
    "\n",
    "for layer in winning_ticket_stripped.trainable_weights:\n",
    "    print(tf.math.count_nonzero(layer, axis = None).numpy())\n",
    "    winning_tkt_model_sum_params += tf.math.count_nonzero(layer, axis = None).numpy()\n",
    "\n",
    "print(\"\\nTotal number of non-zero trainable parameters in model: {0}\\n\".format(winning_tkt_model_sum_params))"
   ]
  },
  {
   "cell_type": "code",
   "execution_count": 58,
   "metadata": {},
   "outputs": [],
   "source": [
    "assert (winning_tkt_model_sum_params == pruned_model_sum_params), \\\n",
    "    \"Parameters in winning ticket and pruned model do NOT match! Critical Error!\""
   ]
  },
  {
   "cell_type": "code",
   "execution_count": 61,
   "metadata": {},
   "outputs": [],
   "source": [
    "# Save winning ticket WITHOUT pruning parameters-\n",
    "winning_ticket_stripped.save_weights(\"Weights_Resources/MNIST_300_100_Winning_Ticket_without_pruning_params.h5\",\n",
    "                                    overwrite=True)"
   ]
  },
  {
   "cell_type": "code",
   "execution_count": null,
   "metadata": {},
   "outputs": [],
   "source": []
  },
  {
   "cell_type": "code",
   "execution_count": null,
   "metadata": {},
   "outputs": [],
   "source": []
  },
  {
   "cell_type": "markdown",
   "metadata": {},
   "source": [
    "### Use _GradientTape_ for manual training of neural network:"
   ]
  },
  {
   "cell_type": "code",
   "execution_count": 59,
   "metadata": {},
   "outputs": [],
   "source": [
    "# Use tf.data to batch and shuffle the dataset\n",
    "train_ds = tf.data.Dataset.from_tensor_slices((X_train, y_train)).shuffle(100).batch(batch_size)\n",
    "\n",
    "test_ds = tf.data.Dataset.from_tensor_slices((X_test, y_test)).batch(batch_size)"
   ]
  },
  {
   "cell_type": "code",
   "execution_count": 60,
   "metadata": {},
   "outputs": [],
   "source": [
    "#  Choose an optimizer and loss function for training-\n",
    "loss_fn = tf.keras.losses.BinaryCrossentropy()\n",
    "optimizer = tf.keras.optimizers.Adam(lr = 0.001)"
   ]
  },
  {
   "cell_type": "code",
   "execution_count": 63,
   "metadata": {},
   "outputs": [],
   "source": [
    "def create_nn_gradienttape():\n",
    "    \"\"\"\n",
    "    Function to create neural network for use\n",
    "    with GradientTape API following MNIST\n",
    "    300 100 architecture\n",
    "    \"\"\"\n",
    "    model = Sequential()\n",
    "    \n",
    "    model.add(\n",
    "        Dense(\n",
    "            units = 300, activation = 'relu',\n",
    "            kernel_initializer = tf.keras.initializers.GlorotNormal,\n",
    "            input_shape = (784,)\n",
    "        )\n",
    "    )\n",
    "    \n",
    "    model.add(\n",
    "        Dense(\n",
    "            units = 100, activation = 'relu',\n",
    "            kernel_initializer = tf.keras.initializers.GlorotNormal\n",
    "        )\n",
    "    )\n",
    "    \n",
    "    model.add(\n",
    "        Dense(\n",
    "            units = 10, activation = 'softmax'\n",
    "        )\n",
    "    )\n",
    "    \n",
    "    return model"
   ]
  },
  {
   "cell_type": "code",
   "execution_count": 64,
   "metadata": {},
   "outputs": [],
   "source": [
    "# Instantiate the model to be trained using GradientTape-\n",
    "model = create_nn_gradienttape()"
   ]
  },
  {
   "cell_type": "code",
   "execution_count": 65,
   "metadata": {},
   "outputs": [],
   "source": [
    "# Load weights from weight extracted model-\n",
    "model.load_weights(\"Weights_Resources/MNIST_300_100_Winning_Ticket_without_pruning_params.h5\")"
   ]
  },
  {
   "cell_type": "code",
   "execution_count": 66,
   "metadata": {},
   "outputs": [],
   "source": [
    "# Select metrics to measure the error & accuracy of model.\n",
    "# These metrics accumulate the values over epochs and then\n",
    "# print the overall result-\n",
    "train_loss = tf.keras.metrics.Mean(name = 'train_loss')\n",
    "train_accuracy = tf.keras.metrics.BinaryAccuracy(name = 'train_accuracy')\n",
    "\n",
    "test_loss = tf.keras.metrics.Mean(name = 'test_loss')\n",
    "test_accuracy = tf.keras.metrics.BinaryAccuracy(name = 'train_accuracy')"
   ]
  },
  {
   "cell_type": "code",
   "execution_count": 73,
   "metadata": {},
   "outputs": [],
   "source": [
    "# Use tf.GradientTape to train the model-\n",
    "\n",
    "@tf.function\n",
    "def train_step(data, labels):\n",
    "    \"\"\"\n",
    "    Function to perform one step of Gradient\n",
    "    Descent optimization\n",
    "    \"\"\"\n",
    "\n",
    "    with tf.GradientTape() as tape:\n",
    "        # 'training=True' is only needed if there are layers with different\n",
    "        # behavior during training versus inference (e.g. Dropout).\n",
    "        # predictions = model(data, training=True)\n",
    "        predictions = model(data)\n",
    "        loss = loss_fn(labels, predictions)\n",
    "\n",
    "    # 'gradients' is a list variable!\n",
    "    gradients = tape.gradient(loss, model.trainable_variables)\n",
    "    \n",
    "    # IMPORTANT:\n",
    "    # Multiply mask with computed gradients-\n",
    "    \n",
    "    # THIS IS WRONG-\n",
    "    # gradients = tf.math.multiply(tape.gradient(loss, model.trainable_variables), mask_model_stripped)\n",
    "    \n",
    "    # THIS IS CORRECT-\n",
    "    # List to hold element-wise multiplication between-\n",
    "    # computed gradient and masks-\n",
    "    grad_mask_mul = []\n",
    "    \n",
    "    # Perform element-wise multiplication between computed gradients and masks-\n",
    "    for grad_layer, mask in zip(gradients, mask_model_stripped.trainable_weights):\n",
    "        grad_mask_mul.append(tf.math.multiply(grad_layer, mask))\n",
    "\n",
    "    # optimizer.apply_gradients(zip(gradients, model.trainable_variables))\n",
    "    optimizer.apply_gradients(zip(grad_mask_mul, model.trainable_variables))\n",
    "\n",
    "    train_loss(loss)\n",
    "    train_accuracy(labels, predictions)\n"
   ]
  },
  {
   "cell_type": "code",
   "execution_count": 68,
   "metadata": {},
   "outputs": [],
   "source": [
    "@tf.function\n",
    "def test_step(data, labels):\n",
    "    \"\"\"\n",
    "    Function to test model performance\n",
    "    on testing dataset\n",
    "    \"\"\"\n",
    "    # training=False is only needed if there are layers with different\n",
    "    # behavior during training versus inference (e.g. Dropout).\n",
    "    predictions = model(data)\n",
    "    t_loss = loss_fn(labels, predictions)\n",
    "\n",
    "    test_loss(t_loss)\n",
    "    test_accuracy(labels, predictions)\n"
   ]
  },
  {
   "cell_type": "code",
   "execution_count": 69,
   "metadata": {},
   "outputs": [],
   "source": [
    "EPOCHS = 15"
   ]
  },
  {
   "cell_type": "code",
   "execution_count": 71,
   "metadata": {},
   "outputs": [
    {
     "name": "stdout",
     "output_type": "stream",
     "text": [
      "\n",
      "Original model has = 266610 trainable parameters\n",
      "Pruned model has = 246529 has trainable parameters\n"
     ]
    }
   ],
   "source": [
    "print(\"\\nOriginal model has = {0} trainable parameters\".format(orig_model_sum_params))\n",
    "print(\"Pruned model has = {0} has trainable parameters\".format(pruned_model_sum_params))"
   ]
  },
  {
   "cell_type": "code",
   "execution_count": null,
   "metadata": {},
   "outputs": [],
   "source": []
  },
  {
   "cell_type": "code",
   "execution_count": 74,
   "metadata": {},
   "outputs": [
    {
     "name": "stdout",
     "output_type": "stream",
     "text": [
      "Epoch 1, Loss: 0.0026, Accuracy: 99.9083, Test Loss: 0.0155, Test Accuracy: 99.580994\n",
      "Total number of trainable parameters = 246529\n",
      "\n",
      "Epoch 2, Loss: 0.0014, Accuracy: 99.9557, Test Loss: 0.0149, Test Accuracy: 99.618980\n",
      "Total number of trainable parameters = 246529\n",
      "\n",
      "Epoch 3, Loss: 0.0021, Accuracy: 99.9244, Test Loss: 0.0150, Test Accuracy: 99.574982\n",
      "Total number of trainable parameters = 246529\n",
      "\n",
      "Epoch 4, Loss: 0.0015, Accuracy: 99.9506, Test Loss: 0.0161, Test Accuracy: 99.598984\n",
      "Total number of trainable parameters = 246529\n",
      "\n",
      "Epoch 5, Loss: 0.0016, Accuracy: 99.9459, Test Loss: 0.0208, Test Accuracy: 99.502968\n",
      "Total number of trainable parameters = 246529\n",
      "\n",
      "Epoch 6, Loss: 0.0011, Accuracy: 99.9614, Test Loss: 0.0138, Test Accuracy: 99.655983\n",
      "Total number of trainable parameters = 246529\n",
      "\n",
      "Epoch 7, Loss: 0.0005, Accuracy: 99.9849, Test Loss: 0.0160, Test Accuracy: 99.630989\n",
      "Total number of trainable parameters = 246529\n",
      "\n",
      "Epoch 8, Loss: 0.0027, Accuracy: 99.9031, Test Loss: 0.0176, Test Accuracy: 99.559998\n",
      "Total number of trainable parameters = 246529\n",
      "\n",
      "Epoch 9, Loss: 0.0007, Accuracy: 99.9759, Test Loss: 0.0149, Test Accuracy: 99.664993\n",
      "Total number of trainable parameters = 246529\n",
      "\n",
      "Epoch 10, Loss: 0.0010, Accuracy: 99.9669, Test Loss: 0.0175, Test Accuracy: 99.616982\n",
      "Total number of trainable parameters = 246529\n",
      "\n",
      "Epoch 11, Loss: 0.0008, Accuracy: 99.9747, Test Loss: 0.0176, Test Accuracy: 99.614975\n",
      "Total number of trainable parameters = 246529\n",
      "\n",
      "Epoch 12, Loss: 0.0009, Accuracy: 99.9714, Test Loss: 0.0160, Test Accuracy: 99.652977\n",
      "Total number of trainable parameters = 246529\n",
      "\n",
      "Epoch 13, Loss: 0.0011, Accuracy: 99.9607, Test Loss: 0.0175, Test Accuracy: 99.604988\n",
      "Total number of trainable parameters = 246529\n",
      "\n",
      "Epoch 14, Loss: 0.0009, Accuracy: 99.9722, Test Loss: 0.0185, Test Accuracy: 99.624992\n",
      "Total number of trainable parameters = 246529\n",
      "\n",
      "Epoch 15, Loss: 0.0013, Accuracy: 99.9573, Test Loss: 0.0158, Test Accuracy: 99.639984\n",
      "Total number of trainable parameters = 246529\n",
      "\n"
     ]
    }
   ],
   "source": [
    "for epoch in range(EPOCHS):\n",
    "    # Reset the metrics at the start of the next epoch\n",
    "    train_loss.reset_states()\n",
    "    train_accuracy.reset_states()\n",
    "    test_loss.reset_states()\n",
    "    test_accuracy.reset_states()\n",
    "\n",
    "    for x, y in train_ds:\n",
    "        train_step(x, y)\n",
    "\n",
    "    for x_t, y_t in test_ds:\n",
    "        test_step(x_t, y_t)\n",
    "\n",
    "    template = 'Epoch {0}, Loss: {1:.4f}, Accuracy: {2:.4f}, Test Loss: {3:.4f}, Test Accuracy: {4:4f}'\n",
    "\n",
    "    print(template.format(epoch + 1, \n",
    "                          train_loss.result(), train_accuracy.result()*100,\n",
    "                          test_loss.result(), test_accuracy.result()*100))\n",
    "    \n",
    "    \n",
    "    # Count number of non-zero parameters in each layer and in total-\n",
    "    # print(\"layer-wise manner model, number of nonzero parameters in each layer are: \\n\")\n",
    "\n",
    "    model_sum_params = 0\n",
    "    \n",
    "    for layer in model.trainable_weights:\n",
    "        # print(tf.math.count_nonzero(layer, axis = None).numpy())\n",
    "        model_sum_params += tf.math.count_nonzero(layer, axis = None).numpy()\n",
    "    \n",
    "    print(\"Total number of trainable parameters = {0}\\n\".format(model_sum_params))\n",
    "\n"
   ]
  },
  {
   "cell_type": "markdown",
   "metadata": {},
   "source": [
    "### Sanity check: Check whether the number of trainable parameters DO NOT increase while training using _GradientTape_ API:"
   ]
  },
  {
   "cell_type": "code",
   "execution_count": 75,
   "metadata": {},
   "outputs": [
    {
     "name": "stdout",
     "output_type": "stream",
     "text": [
      "\n",
      "Number of non-zero trainable parameters in Winning Ticket Model (Gradient Tape using masks):\n",
      "\n",
      "217457\n",
      "300\n",
      "27737\n",
      "100\n",
      "925\n",
      "10\n",
      "\n",
      "Total number of non-zero trainable parameters in model: 246529\n",
      "\n"
     ]
    }
   ],
   "source": [
    "print(\"\\nNumber of non-zero trainable parameters in Winning Ticket Model (Gradient Tape using masks):\\n\")\n",
    "\n",
    "winning_tkt_model_sum_params2 = 0\n",
    "\n",
    "for layer in model.trainable_weights:\n",
    "    print(tf.math.count_nonzero(layer, axis = None).numpy())\n",
    "    winning_tkt_model_sum_params2 += tf.math.count_nonzero(layer, axis = None).numpy()\n",
    "\n",
    "print(\"\\nTotal number of non-zero trainable parameters in model: {0}\\n\".format(winning_tkt_model_sum_params2))"
   ]
  },
  {
   "cell_type": "code",
   "execution_count": 77,
   "metadata": {},
   "outputs": [],
   "source": [
    "assert (winning_tkt_model_sum_params == winning_tkt_model_sum_params2), \\\n",
    "    \"Parameters in winning ticket using masks are INCREASING! Critical Error!!\""
   ]
  },
  {
   "cell_type": "code",
   "execution_count": 78,
   "metadata": {},
   "outputs": [],
   "source": [
    "model.save_weights(\"Weights_Resources/MNIST_300_100_Winning_Ticket_Trained_using_GradientTape_without_pruning_params.h5\",\n",
    "                  overwrite=True)"
   ]
  },
  {
   "cell_type": "code",
   "execution_count": null,
   "metadata": {},
   "outputs": [],
   "source": []
  }
 ],
 "metadata": {
  "kernelspec": {
   "display_name": "Python 3",
   "language": "python",
   "name": "python3"
  },
  "language_info": {
   "codemirror_mode": {
    "name": "ipython",
    "version": 3
   },
   "file_extension": ".py",
   "mimetype": "text/x-python",
   "name": "python",
   "nbconvert_exporter": "python",
   "pygments_lexer": "ipython3",
   "version": "3.7.5"
  }
 },
 "nbformat": 4,
 "nbformat_minor": 4
}
