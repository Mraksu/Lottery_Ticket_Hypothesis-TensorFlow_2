{
  "nbformat": 4,
  "nbformat_minor": 0,
  "metadata": {
    "kernelspec": {
      "name": "python3",
      "display_name": "Python 3"
    },
    "language_info": {
      "codemirror_mode": {
        "name": "ipython",
        "version": 3
      },
      "file_extension": ".py",
      "mimetype": "text/x-python",
      "name": "python",
      "nbconvert_exporter": "python",
      "pygments_lexer": "ipython3",
      "version": "3.7.6"
    },
    "colab": {
      "name": "LeNet_MNIST-Optimization_Experiment.ipynb",
      "provenance": [],
      "collapsed_sections": [],
      "toc_visible": true
    },
    "accelerator": "TPU"
  },
  "cells": [
    {
      "cell_type": "markdown",
      "metadata": {
        "id": "oc_q-vSYIwoL",
        "colab_type": "text"
      },
      "source": [
        "# Lottery Ticket Hypothesis: _LeNet_ Dense Fully-Connected Feed Forward Neural Network for MNIST\n",
        "\n",
        "Multi-class classification of MNIST dataset by following the implementation of the hypothesis using the following architecture:\n",
        "\n",
        "__Fully Connected Layers:__ 300, 100, 10\n",
        "\n",
        "This code is optimized where the weights of the trained neural network are _not_ saved to disk, but rather used in a sequential manner, while training using the _iterative pruning rounds_.\n",
        "\n",
        "This will reduce the time taken to:\n",
        "\n",
        "1. Save weights on disk\n",
        "1. Load weights from disk"
      ]
    },
    {
      "cell_type": "code",
      "metadata": {
        "id": "R3scUag1I1j3",
        "colab_type": "code",
        "colab": {
          "base_uri": "https://localhost:8080/",
          "height": 34
        },
        "outputId": "8bfa3ef2-8299-4e5a-b983-0de433c7c64c"
      },
      "source": [
        "%tensorflow_version 2.x"
      ],
      "execution_count": 1,
      "outputs": [
        {
          "output_type": "stream",
          "text": [
            "TensorFlow 2.x selected.\n"
          ],
          "name": "stdout"
        }
      ]
    },
    {
      "cell_type": "code",
      "metadata": {
        "id": "OII2KxjHIwoT",
        "colab_type": "code",
        "colab": {}
      },
      "source": [
        "import tensorflow as tf\n",
        "import numpy as np\n",
        "import matplotlib.pyplot as plt\n",
        "import math\n",
        "import tensorflow_model_optimization as tfmot\n",
        "from tensorflow_model_optimization.sparsity import keras as sparsity\n",
        "# from tensorflow.keras import datasets, layers, models\n",
        "import matplotlib.pyplot as plt\n",
        "from tensorflow.keras.layers import AveragePooling2D, Conv2D, MaxPooling2D, ReLU\n",
        "from tensorflow.keras import models, layers, datasets\n",
        "from tensorflow.keras.layers import Dense, Flatten, Reshape, Input, InputLayer\n",
        "from tensorflow.keras.models import Sequential, Model\n",
        "# from tensorflow.keras.initializers import RandomNormal\n",
        "# import math\n",
        "from sklearn.metrics import accuracy_score, precision_score, recall_score"
      ],
      "execution_count": 0,
      "outputs": []
    },
    {
      "cell_type": "code",
      "metadata": {
        "id": "RFNDOrRaIwom",
        "colab_type": "code",
        "colab": {
          "base_uri": "https://localhost:8080/",
          "height": 34
        },
        "outputId": "f8c6e4fe-68b6-4075-d708-08c583f8ba5a"
      },
      "source": [
        "tf.__version__"
      ],
      "execution_count": 3,
      "outputs": [
        {
          "output_type": "execute_result",
          "data": {
            "text/plain": [
              "'2.1.0'"
            ]
          },
          "metadata": {
            "tags": []
          },
          "execution_count": 3
        }
      ]
    },
    {
      "cell_type": "code",
      "metadata": {
        "id": "AMria2VnIwo1",
        "colab_type": "code",
        "colab": {},
        "outputId": "8a9af62d-be08-4f7d-8fe3-3f74dad78b22"
      },
      "source": [
        "%env CUDA_DEVICE_ORDER=PCI_BUS_ID\n",
        "%env CUDA_VISIBLE_DEVICES=2"
      ],
      "execution_count": 0,
      "outputs": [
        {
          "output_type": "stream",
          "text": [
            "env: CUDA_DEVICE_ORDER=PCI_BUS_ID\n",
            "env: CUDA_VISIBLE_DEVICES=2\n"
          ],
          "name": "stdout"
        }
      ]
    },
    {
      "cell_type": "code",
      "metadata": {
        "id": "gEi8K75_IwpA",
        "colab_type": "code",
        "colab": {}
      },
      "source": [
        "batch_size = 60\n",
        "num_classes = 10\n",
        "num_epochs = 100"
      ],
      "execution_count": 0,
      "outputs": []
    },
    {
      "cell_type": "code",
      "metadata": {
        "id": "d7tgalWEIwpO",
        "colab_type": "code",
        "colab": {
          "base_uri": "https://localhost:8080/",
          "height": 52
        },
        "outputId": "7a1aa13d-646d-4851-c570-e88457260d47"
      },
      "source": [
        "# Data preprocessing and cleadning:\n",
        "# input image dimensions\n",
        "img_rows, img_cols = 28, 28\n",
        "\n",
        "# Load MNIST dataset-\n",
        "(X_train, y_train), (X_test, y_test) = tf.keras.datasets.mnist.load_data()"
      ],
      "execution_count": 5,
      "outputs": [
        {
          "output_type": "stream",
          "text": [
            "Downloading data from https://storage.googleapis.com/tensorflow/tf-keras-datasets/mnist.npz\n",
            "11493376/11490434 [==============================] - 0s 0us/step\n"
          ],
          "name": "stdout"
        }
      ]
    },
    {
      "cell_type": "code",
      "metadata": {
        "id": "jMvyvwOgIwpZ",
        "colab_type": "code",
        "colab": {
          "base_uri": "https://localhost:8080/",
          "height": 69
        },
        "outputId": "d534daa0-48f0-49be-841b-a99a3919e0c0"
      },
      "source": [
        "if tf.keras.backend.image_data_format() == 'channels_first':\n",
        "    X_train = X_train.reshape(X_train.shape[0], 1, img_rows, img_cols)\n",
        "    X_test = X_test.reshape(X_test.shape[0], 1, img_rows, img_cols)\n",
        "    input_shape = (1, img_rows, img_cols)\n",
        "else:\n",
        "    X_train = X_train.reshape(X_train.shape[0], img_rows, img_cols, 1)\n",
        "    X_test = X_test.reshape(X_test.shape[0], img_rows, img_cols, 1)\n",
        "    input_shape = (img_rows, img_cols, 1)\n",
        "\n",
        "print(\"\\n'input_shape' which will be used = {0}\\n\".format(input_shape))"
      ],
      "execution_count": 6,
      "outputs": [
        {
          "output_type": "stream",
          "text": [
            "\n",
            "'input_shape' which will be used = (28, 28, 1)\n",
            "\n"
          ],
          "name": "stdout"
        }
      ]
    },
    {
      "cell_type": "code",
      "metadata": {
        "id": "_XgxWo8zIwph",
        "colab_type": "code",
        "colab": {}
      },
      "source": [
        "# Convert datasets to floating point types-\n",
        "X_train = X_train.astype('float32')\n",
        "X_test = X_test.astype('float32')\n",
        "\n",
        "# Normalize the training and testing datasets-\n",
        "X_train /= 255.0\n",
        "X_test /= 255.0"
      ],
      "execution_count": 0,
      "outputs": []
    },
    {
      "cell_type": "code",
      "metadata": {
        "id": "1QkXJLllIwpq",
        "colab_type": "code",
        "colab": {}
      },
      "source": [
        "# convert class vectors/target to binary class matrices or one-hot encoded values-\n",
        "y_train = tf.keras.utils.to_categorical(y_train, num_classes)\n",
        "y_test = tf.keras.utils.to_categorical(y_test, num_classes)"
      ],
      "execution_count": 0,
      "outputs": []
    },
    {
      "cell_type": "code",
      "metadata": {
        "id": "afPACTGVIwp0",
        "colab_type": "code",
        "colab": {}
      },
      "source": [
        "# Reshape training and testing sets-\n",
        "X_train = X_train.reshape(X_train.shape[0], 784)\n",
        "X_test = X_test.reshape(X_test.shape[0], 784)"
      ],
      "execution_count": 0,
      "outputs": []
    },
    {
      "cell_type": "code",
      "metadata": {
        "id": "EyVIuGDmIwp-",
        "colab_type": "code",
        "colab": {
          "base_uri": "https://localhost:8080/",
          "height": 86
        },
        "outputId": "a4537063-f5be-4749-96eb-0f959344e6c2"
      },
      "source": [
        "print(\"\\nDimensions of training and testing sets are:\")\n",
        "print(\"X_train.shape = {0}, y_train.shape = {1}\".format(X_train.shape, y_train.shape))\n",
        "print(\"X_test.shape = {0}, y_test.shape = {1}\".format(X_test.shape, y_test.shape))"
      ],
      "execution_count": 10,
      "outputs": [
        {
          "output_type": "stream",
          "text": [
            "\n",
            "Dimensions of training and testing sets are:\n",
            "X_train.shape = (60000, 784), y_train.shape = (60000, 10)\n",
            "X_test.shape = (10000, 784), y_test.shape = (10000, 10)\n"
          ],
          "name": "stdout"
        }
      ]
    },
    {
      "cell_type": "code",
      "metadata": {
        "id": "hVAgRgoMIwqJ",
        "colab_type": "code",
        "colab": {}
      },
      "source": [
        ""
      ],
      "execution_count": 0,
      "outputs": []
    },
    {
      "cell_type": "code",
      "metadata": {
        "id": "tcb-v8r8IwqS",
        "colab_type": "code",
        "colab": {}
      },
      "source": [
        ""
      ],
      "execution_count": 0,
      "outputs": []
    },
    {
      "cell_type": "markdown",
      "metadata": {
        "id": "VN8U5n-DIwqb",
        "colab_type": "text"
      },
      "source": [
        "### Prepare MNIST dataset for _GradientTape_ training:"
      ]
    },
    {
      "cell_type": "code",
      "metadata": {
        "id": "UJXCrvB8Iwqg",
        "colab_type": "code",
        "colab": {}
      },
      "source": [
        "# Create training and testing datasets-\n",
        "train_dataset = tf.data.Dataset.from_tensor_slices((X_train, y_train))\n",
        "test_dataset = tf.data.Dataset.from_tensor_slices((X_test, y_test))"
      ],
      "execution_count": 0,
      "outputs": []
    },
    {
      "cell_type": "code",
      "metadata": {
        "id": "qN69v2j-Iwqo",
        "colab_type": "code",
        "colab": {}
      },
      "source": [
        "train_dataset = train_dataset.shuffle(buffer_size = 20000, reshuffle_each_iteration = True).batch(batch_size = batch_size, drop_remainder = False)"
      ],
      "execution_count": 0,
      "outputs": []
    },
    {
      "cell_type": "code",
      "metadata": {
        "id": "Uj8ly5IHIwqx",
        "colab_type": "code",
        "colab": {}
      },
      "source": [
        "test_dataset = test_dataset.batch(batch_size=batch_size, drop_remainder=False)"
      ],
      "execution_count": 0,
      "outputs": []
    },
    {
      "cell_type": "code",
      "metadata": {
        "id": "3x3thjbdIwq5",
        "colab_type": "code",
        "colab": {}
      },
      "source": [
        "# Choose an optimizer and loss function for training-\n",
        "loss_fn = tf.keras.losses.CategoricalCrossentropy()\n",
        "optimizer = tf.keras.optimizers.Adam(lr = 0.0012)"
      ],
      "execution_count": 0,
      "outputs": []
    },
    {
      "cell_type": "code",
      "metadata": {
        "id": "mPiwLvOKIwrA",
        "colab_type": "code",
        "colab": {}
      },
      "source": [
        "# Select metrics to measure the error & accuracy of model.\n",
        "# These metrics accumulate the values over epochs and then\n",
        "# print the overall result-\n",
        "train_loss = tf.keras.metrics.Mean(name = 'train_loss')\n",
        "train_accuracy = tf.keras.metrics.CategoricalAccuracy(name = 'train_accuracy')\n",
        "\n",
        "test_loss = tf.keras.metrics.Mean(name = 'test_loss')\n",
        "test_accuracy = tf.keras.metrics.CategoricalAccuracy(name = 'test_accuracy')"
      ],
      "execution_count": 0,
      "outputs": []
    },
    {
      "cell_type": "code",
      "metadata": {
        "id": "cZsRaagaIwrJ",
        "colab_type": "code",
        "colab": {}
      },
      "source": [
        ""
      ],
      "execution_count": 0,
      "outputs": []
    },
    {
      "cell_type": "code",
      "metadata": {
        "id": "lG_caIjYIwrS",
        "colab_type": "code",
        "colab": {}
      },
      "source": [
        ""
      ],
      "execution_count": 0,
      "outputs": []
    },
    {
      "cell_type": "code",
      "metadata": {
        "id": "ND2k8VZXIwrZ",
        "colab_type": "code",
        "colab": {
          "base_uri": "https://localhost:8080/",
          "height": 34
        },
        "outputId": "67818ee7-1ec1-44ea-ea0d-5946ee4cd3d9"
      },
      "source": [
        "# The model is first trained without any pruning for 'num_epochs' epochs-\n",
        "epochs = num_epochs\n",
        "\n",
        "num_train_samples = X_train.shape[0]\n",
        "\n",
        "end_step = np.ceil(1.0 * num_train_samples / batch_size).astype(np.int32) * epochs\n",
        "\n",
        "print(\"'end_step parameter' for this dataset =  {0}\".format(end_step))"
      ],
      "execution_count": 16,
      "outputs": [
        {
          "output_type": "stream",
          "text": [
            "'end_step parameter' for this dataset =  100000\n"
          ],
          "name": "stdout"
        }
      ]
    },
    {
      "cell_type": "code",
      "metadata": {
        "id": "ZVlZb33mIwrj",
        "colab_type": "code",
        "colab": {}
      },
      "source": [
        "# Specify the parameters to be used for layer-wise pruning, NO PRUNING is done here:\n",
        "pruning_params_unpruned = {\n",
        "    'pruning_schedule': sparsity.ConstantSparsity(\n",
        "        target_sparsity=0.0, begin_step=0,\n",
        "        end_step = end_step, frequency=100\n",
        "    )\n",
        "}"
      ],
      "execution_count": 0,
      "outputs": []
    },
    {
      "cell_type": "code",
      "metadata": {
        "id": "Ays34e0oIwrr",
        "colab_type": "code",
        "colab": {}
      },
      "source": [
        ""
      ],
      "execution_count": 0,
      "outputs": []
    },
    {
      "cell_type": "code",
      "metadata": {
        "id": "zWFkh9kWIwry",
        "colab_type": "code",
        "colab": {}
      },
      "source": [
        "l = tf.keras.layers"
      ],
      "execution_count": 0,
      "outputs": []
    },
    {
      "cell_type": "code",
      "metadata": {
        "id": "KV-xYRWdIwr6",
        "colab_type": "code",
        "colab": {}
      },
      "source": [
        ""
      ],
      "execution_count": 0,
      "outputs": []
    },
    {
      "cell_type": "code",
      "metadata": {
        "id": "xfozKePcIwr_",
        "colab_type": "code",
        "colab": {}
      },
      "source": [
        "def pruned_nn(pruning_params):\n",
        "    \"\"\"\n",
        "    Function to define the architecture of a neural network model\n",
        "    following 300 100 architecture for MNIST dataset and using\n",
        "    provided parameter which are used to prune the model.\n",
        "    \n",
        "    Input: 'pruning_params' Python 3 dictionary containing parameters which are used for pruning\n",
        "    Output: Returns designed and compiled neural network model\n",
        "    \"\"\"\n",
        "    \n",
        "    pruned_model = Sequential()\n",
        "    pruned_model.add(l.InputLayer(input_shape=(784, )))\n",
        "    pruned_model.add(Flatten())\n",
        "    pruned_model.add(sparsity.prune_low_magnitude(\n",
        "        Dense(units = 300, activation='relu', kernel_initializer=tf.initializers.GlorotUniform()),\n",
        "        **pruning_params))\n",
        "    # pruned_model.add(l.Dropout(0.2))\n",
        "    pruned_model.add(sparsity.prune_low_magnitude(\n",
        "        Dense(units = 100, activation='relu', kernel_initializer=tf.initializers.GlorotUniform()),\n",
        "        **pruning_params))\n",
        "    # pruned_model.add(l.Dropout(0.1))\n",
        "    pruned_model.add(sparsity.prune_low_magnitude(\n",
        "        Dense(units = num_classes, activation='softmax'),\n",
        "        **pruning_params))\n",
        "    \n",
        "    # Compile pruned CNN-\n",
        "    pruned_model.compile(\n",
        "        loss=tf.keras.losses.categorical_crossentropy,\n",
        "        # optimizer='adam',\n",
        "        optimizer=tf.keras.optimizers.Adam(lr = 0.0012),\n",
        "        metrics=['accuracy'])\n",
        "    \n",
        "    return pruned_model\n"
      ],
      "execution_count": 0,
      "outputs": []
    },
    {
      "cell_type": "code",
      "metadata": {
        "id": "Qj5hyhd9IwsE",
        "colab_type": "code",
        "colab": {}
      },
      "source": [
        ""
      ],
      "execution_count": 0,
      "outputs": []
    },
    {
      "cell_type": "code",
      "metadata": {
        "id": "nDOWeP1iIwsL",
        "colab_type": "code",
        "colab": {}
      },
      "source": [
        "# Add a pruning step callback to peg the pruning step to the optimizer's\n",
        "# step. Also add a callback to add pruning summaries to tensorboard\n",
        "callback = [\n",
        "             sparsity.UpdatePruningStep(),\n",
        "             # sparsity.PruningSummaries(log_dir = logdir, profile_batch=0),\n",
        "             tf.keras.callbacks.EarlyStopping(\n",
        "                 monitor='val_loss', patience = 3,\n",
        "                 min_delta=0.001\n",
        "             )\n",
        "]"
      ],
      "execution_count": 0,
      "outputs": []
    },
    {
      "cell_type": "code",
      "metadata": {
        "id": "TrkP-XUhIwsP",
        "colab_type": "code",
        "colab": {}
      },
      "source": [
        ""
      ],
      "execution_count": 0,
      "outputs": []
    },
    {
      "cell_type": "code",
      "metadata": {
        "id": "wupE7JytIwsk",
        "colab_type": "code",
        "colab": {
          "base_uri": "https://localhost:8080/",
          "height": 89
        },
        "outputId": "60e5e3f1-ff26-4996-a503-5b4fac86cd8a"
      },
      "source": [
        "# Initialize a CNN model-\n",
        "orig_model = pruned_nn(pruning_params_unpruned)"
      ],
      "execution_count": 21,
      "outputs": [
        {
          "output_type": "stream",
          "text": [
            "WARNING:tensorflow:From /usr/local/lib/python3.6/dist-packages/tensorflow_model_optimization/python/core/sparsity/keras/pruning_wrapper.py:183: Layer.add_variable (from tensorflow.python.keras.engine.base_layer) is deprecated and will be removed in a future version.\n",
            "Instructions for updating:\n",
            "Please use `layer.add_weight` method instead.\n"
          ],
          "name": "stdout"
        }
      ]
    },
    {
      "cell_type": "code",
      "metadata": {
        "id": "cjO7k1maIwss",
        "colab_type": "code",
        "colab": {}
      },
      "source": [
        "# Strip model of it's pruning parameters\n",
        "orig_model_stripped = sparsity.strip_pruning(orig_model)"
      ],
      "execution_count": 0,
      "outputs": []
    },
    {
      "cell_type": "code",
      "metadata": {
        "id": "LArs9L-FIwsy",
        "colab_type": "code",
        "colab": {}
      },
      "source": [
        "# Save random weights-\n",
        "orig_model.save_weights(\"LeNet_MNIST_Random_Weights.h5\", overwrite=True)"
      ],
      "execution_count": 0,
      "outputs": []
    },
    {
      "cell_type": "code",
      "metadata": {
        "id": "xbnfR3wzIws5",
        "colab_type": "code",
        "colab": {}
      },
      "source": [
        "# Save random weights-\n",
        "# orig_model.save_weights(\"LeNet_MNIST_Winning_Ticket.h5\", overwrite=True)"
      ],
      "execution_count": 0,
      "outputs": []
    },
    {
      "cell_type": "code",
      "metadata": {
        "id": "AIu6z1HxIws9",
        "colab_type": "code",
        "colab": {
          "base_uri": "https://localhost:8080/",
          "height": 295
        },
        "outputId": "00b2ac3e-2851-4e1c-95ea-439738aeb3b2"
      },
      "source": [
        "# Get CNN summary-\n",
        "orig_model_stripped.summary()"
      ],
      "execution_count": 26,
      "outputs": [
        {
          "output_type": "stream",
          "text": [
            "Model: \"sequential\"\n",
            "_________________________________________________________________\n",
            "Layer (type)                 Output Shape              Param #   \n",
            "=================================================================\n",
            "flatten (Flatten)            (None, 784)               0         \n",
            "_________________________________________________________________\n",
            "dense (Dense)                (None, 300)               235500    \n",
            "_________________________________________________________________\n",
            "dense_1 (Dense)              (None, 100)               30100     \n",
            "_________________________________________________________________\n",
            "dense_2 (Dense)              (None, 10)                1010      \n",
            "=================================================================\n",
            "Total params: 266,610\n",
            "Trainable params: 266,610\n",
            "Non-trainable params: 0\n",
            "_________________________________________________________________\n"
          ],
          "name": "stdout"
        }
      ]
    },
    {
      "cell_type": "code",
      "metadata": {
        "id": "tlVLmrRlIwtD",
        "colab_type": "code",
        "colab": {}
      },
      "source": [
        ""
      ],
      "execution_count": 0,
      "outputs": []
    },
    {
      "cell_type": "markdown",
      "metadata": {
        "id": "VhY6atf7IwtH",
        "colab_type": "text"
      },
      "source": [
        "### Layer-wise pruning:\n",
        "The Lottery Ticket Hypothesis follows a _layer-wise pruning_ heuristic, where the fully-connected (fc) layers are pruned at the rate of 20% per iterative\n",
        "pruning round.\n",
        "\n",
        "Therefore, there is a need to compute the percentage of weights being pruned for each layer."
      ]
    },
    {
      "cell_type": "code",
      "metadata": {
        "id": "PiloUG9GIwtI",
        "colab_type": "code",
        "colab": {
          "base_uri": "https://localhost:8080/",
          "height": 69
        },
        "outputId": "a320d992-f7bb-4bf5-aa4e-0181c7f9df03"
      },
      "source": [
        "# number of fully-connected dense parameters-\n",
        "dense1 = 235500\n",
        "dense2 = 30100\n",
        "op_layer = 1010\n",
        "\n",
        "\n",
        "# total number of parameters-\n",
        "total_params = dense1 + dense2 + op_layer\n",
        "\n",
        "print(\"\\nTotal number of trainable parameters = {0}\\n\".format(total_params))"
      ],
      "execution_count": 27,
      "outputs": [
        {
          "output_type": "stream",
          "text": [
            "\n",
            "Total number of trainable parameters = 266610\n",
            "\n"
          ],
          "name": "stdout"
        }
      ]
    },
    {
      "cell_type": "code",
      "metadata": {
        "id": "idTP01B5IwtO",
        "colab_type": "code",
        "colab": {}
      },
      "source": [
        "# maximum pruning performed is till 0.5% of all parameters-\n",
        "max_pruned_params = 0.005 * total_params"
      ],
      "execution_count": 0,
      "outputs": []
    },
    {
      "cell_type": "code",
      "metadata": {
        "id": "p27ZlhebIwtR",
        "colab_type": "code",
        "colab": {}
      },
      "source": [
        "loc_tot_params = total_params\n",
        "loc_dense1 = dense1\n",
        "loc_dense2 = dense2\n",
        "loc_op_layer = op_layer\n",
        "\n",
        "# variable to count number of pruning rounds-\n",
        "n = 0"
      ],
      "execution_count": 0,
      "outputs": []
    },
    {
      "cell_type": "code",
      "metadata": {
        "id": "RtYl-QsvIwtX",
        "colab_type": "code",
        "colab": {}
      },
      "source": [
        "# Lists to hold percentage of weights pruned in each round for all layers in CNN-\n",
        "dense1_pruning = []\n",
        "dense2_pruning = []\n",
        "op_layer_pruning = []\n"
      ],
      "execution_count": 0,
      "outputs": []
    },
    {
      "cell_type": "code",
      "metadata": {
        "id": "-OtVfhV5Iwta",
        "colab_type": "code",
        "colab": {
          "base_uri": "https://localhost:8080/",
          "height": 1000
        },
        "outputId": "548ab0fc-1d7a-4ca2-f506-88464db7dca0"
      },
      "source": [
        "while loc_tot_params >= max_pruned_params:\n",
        "    loc_dense1 *= 0.8   # 20% weights are pruned\n",
        "    loc_dense2 *= 0.8   # 20% weights are pruned\n",
        "    loc_op_layer *= 0.8 # 20% weights are pruned\n",
        "    \n",
        "    dense1_pruning.append(((dense1 - loc_dense1) / dense1) * 100)\n",
        "    dense2_pruning.append(((dense2 - loc_dense2) / dense2) * 100)\n",
        "    op_layer_pruning.append(((op_layer - loc_op_layer) / op_layer) * 100)\n",
        "\n",
        "    loc_tot_params = loc_dense1 + loc_dense2 + loc_op_layer\n",
        "\n",
        "    n += 1\n",
        "\n",
        "    print(\"Dense1 = {0:.3f}, Dense2 = {1:.3f} & O/p layer = {2:.3f}\".format(\n",
        "        loc_dense1, loc_dense2, loc_op_layer))\n",
        "    print(\"Total number of parameters = {0:.3f}\\n\".format(loc_tot_params))\n",
        "    "
      ],
      "execution_count": 31,
      "outputs": [
        {
          "output_type": "stream",
          "text": [
            "Dense1 = 188400.000, Dense2 = 24080.000 & O/p layer = 808.000\n",
            "Total number of parameters = 213288.000\n",
            "\n",
            "Dense1 = 150720.000, Dense2 = 19264.000 & O/p layer = 646.400\n",
            "Total number of parameters = 170630.400\n",
            "\n",
            "Dense1 = 120576.000, Dense2 = 15411.200 & O/p layer = 517.120\n",
            "Total number of parameters = 136504.320\n",
            "\n",
            "Dense1 = 96460.800, Dense2 = 12328.960 & O/p layer = 413.696\n",
            "Total number of parameters = 109203.456\n",
            "\n",
            "Dense1 = 77168.640, Dense2 = 9863.168 & O/p layer = 330.957\n",
            "Total number of parameters = 87362.765\n",
            "\n",
            "Dense1 = 61734.912, Dense2 = 7890.534 & O/p layer = 264.765\n",
            "Total number of parameters = 69890.212\n",
            "\n",
            "Dense1 = 49387.930, Dense2 = 6312.428 & O/p layer = 211.812\n",
            "Total number of parameters = 55912.169\n",
            "\n",
            "Dense1 = 39510.344, Dense2 = 5049.942 & O/p layer = 169.450\n",
            "Total number of parameters = 44729.736\n",
            "\n",
            "Dense1 = 31608.275, Dense2 = 4039.954 & O/p layer = 135.560\n",
            "Total number of parameters = 35783.788\n",
            "\n",
            "Dense1 = 25286.620, Dense2 = 3231.963 & O/p layer = 108.448\n",
            "Total number of parameters = 28627.031\n",
            "\n",
            "Dense1 = 20229.296, Dense2 = 2585.570 & O/p layer = 86.758\n",
            "Total number of parameters = 22901.625\n",
            "\n",
            "Dense1 = 16183.437, Dense2 = 2068.456 & O/p layer = 69.407\n",
            "Total number of parameters = 18321.300\n",
            "\n",
            "Dense1 = 12946.749, Dense2 = 1654.765 & O/p layer = 55.525\n",
            "Total number of parameters = 14657.040\n",
            "\n",
            "Dense1 = 10357.400, Dense2 = 1323.812 & O/p layer = 44.420\n",
            "Total number of parameters = 11725.632\n",
            "\n",
            "Dense1 = 8285.920, Dense2 = 1059.050 & O/p layer = 35.536\n",
            "Total number of parameters = 9380.505\n",
            "\n",
            "Dense1 = 6628.736, Dense2 = 847.240 & O/p layer = 28.429\n",
            "Total number of parameters = 7504.404\n",
            "\n",
            "Dense1 = 5302.989, Dense2 = 677.792 & O/p layer = 22.743\n",
            "Total number of parameters = 6003.523\n",
            "\n",
            "Dense1 = 4242.391, Dense2 = 542.233 & O/p layer = 18.195\n",
            "Total number of parameters = 4802.819\n",
            "\n",
            "Dense1 = 3393.913, Dense2 = 433.787 & O/p layer = 14.556\n",
            "Total number of parameters = 3842.255\n",
            "\n",
            "Dense1 = 2715.130, Dense2 = 347.029 & O/p layer = 11.645\n",
            "Total number of parameters = 3073.804\n",
            "\n",
            "Dense1 = 2172.104, Dense2 = 277.623 & O/p layer = 9.316\n",
            "Total number of parameters = 2459.043\n",
            "\n",
            "Dense1 = 1737.683, Dense2 = 222.099 & O/p layer = 7.452\n",
            "Total number of parameters = 1967.235\n",
            "\n",
            "Dense1 = 1390.147, Dense2 = 177.679 & O/p layer = 5.962\n",
            "Total number of parameters = 1573.788\n",
            "\n",
            "Dense1 = 1112.117, Dense2 = 142.143 & O/p layer = 4.770\n",
            "Total number of parameters = 1259.030\n",
            "\n"
          ],
          "name": "stdout"
        }
      ]
    },
    {
      "cell_type": "code",
      "metadata": {
        "id": "CM0yUpMgIwtg",
        "colab_type": "code",
        "colab": {
          "base_uri": "https://localhost:8080/",
          "height": 86
        },
        "outputId": "75b495b5-308c-41d5-f530-2ec091b733bc"
      },
      "source": [
        "print(\"\\nnumber of pruning rounds = {0}\\n\\n\".format(n))"
      ],
      "execution_count": 32,
      "outputs": [
        {
          "output_type": "stream",
          "text": [
            "\n",
            "number of pruning rounds = 24\n",
            "\n",
            "\n"
          ],
          "name": "stdout"
        }
      ]
    },
    {
      "cell_type": "code",
      "metadata": {
        "id": "mlknOX0OIwtj",
        "colab_type": "code",
        "colab": {}
      },
      "source": [
        "num_pruning_rounds = n"
      ],
      "execution_count": 0,
      "outputs": []
    },
    {
      "cell_type": "code",
      "metadata": {
        "id": "Ga6nUT4RIwts",
        "colab_type": "code",
        "colab": {}
      },
      "source": [
        ""
      ],
      "execution_count": 0,
      "outputs": []
    },
    {
      "cell_type": "code",
      "metadata": {
        "id": "1XX4XOfrIwtx",
        "colab_type": "code",
        "colab": {}
      },
      "source": [
        "# Convert from list to np.array-\n",
        "dense1_pruning = np.array(dense1_pruning)\n",
        "dense2_pruning = np.array(dense2_pruning)\n",
        "op_layer_pruning = np.array(op_layer_pruning)"
      ],
      "execution_count": 0,
      "outputs": []
    },
    {
      "cell_type": "code",
      "metadata": {
        "id": "uSQAKBCSIwt3",
        "colab_type": "code",
        "colab": {}
      },
      "source": [
        "# Round off numpy arrays to 3 decimal digits-\n",
        "dense1_pruning = np.round(dense1_pruning, decimals=3)\n",
        "dense2_pruning = np.round(dense2_pruning, decimals=3)\n",
        "op_layer_pruning = np.round(op_layer_pruning, decimals=3)"
      ],
      "execution_count": 0,
      "outputs": []
    },
    {
      "cell_type": "code",
      "metadata": {
        "id": "AyvbdnrDIwt7",
        "colab_type": "code",
        "colab": {
          "base_uri": "https://localhost:8080/",
          "height": 69
        },
        "outputId": "94f1a9d7-9e41-4228-d193-29b227b674a7"
      },
      "source": [
        "dense1_pruning"
      ],
      "execution_count": 36,
      "outputs": [
        {
          "output_type": "execute_result",
          "data": {
            "text/plain": [
              "array([20.   , 36.   , 48.8  , 59.04 , 67.232, 73.786, 79.028, 83.223,\n",
              "       86.578, 89.263, 91.41 , 93.128, 94.502, 95.602, 96.482, 97.185,\n",
              "       97.748, 98.199, 98.559, 98.847, 99.078, 99.262, 99.41 , 99.528])"
            ]
          },
          "metadata": {
            "tags": []
          },
          "execution_count": 36
        }
      ]
    },
    {
      "cell_type": "markdown",
      "metadata": {
        "id": "KprBtCp3IwuB",
        "colab_type": "text"
      },
      "source": [
        "### Note:\n",
        "\n",
        "For _tensorflow-model-optimization_ package to work, the pruning rates should be between 0 and 1, hence convert them"
      ]
    },
    {
      "cell_type": "code",
      "metadata": {
        "id": "SCLvUVAgIwuD",
        "colab_type": "code",
        "colab": {}
      },
      "source": [
        "dense1_pruning = dense1_pruning / 100\n",
        "dense2_pruning = dense2_pruning / 100\n",
        "op_layer_pruning = op_layer_pruning / 100\n"
      ],
      "execution_count": 0,
      "outputs": []
    },
    {
      "cell_type": "code",
      "metadata": {
        "id": "BoxnAV7vIwuJ",
        "colab_type": "code",
        "colab": {
          "base_uri": "https://localhost:8080/",
          "height": 86
        },
        "outputId": "6f9d98ac-f46e-498b-d0e9-00e553aff709"
      },
      "source": [
        "dense1_pruning"
      ],
      "execution_count": 38,
      "outputs": [
        {
          "output_type": "execute_result",
          "data": {
            "text/plain": [
              "array([0.2    , 0.36   , 0.488  , 0.5904 , 0.67232, 0.73786, 0.79028,\n",
              "       0.83223, 0.86578, 0.89263, 0.9141 , 0.93128, 0.94502, 0.95602,\n",
              "       0.96482, 0.97185, 0.97748, 0.98199, 0.98559, 0.98847, 0.99078,\n",
              "       0.99262, 0.9941 , 0.99528])"
            ]
          },
          "metadata": {
            "tags": []
          },
          "execution_count": 38
        }
      ]
    },
    {
      "cell_type": "code",
      "metadata": {
        "id": "bhGfvFJsIwuO",
        "colab_type": "code",
        "colab": {}
      },
      "source": [
        ""
      ],
      "execution_count": 0,
      "outputs": []
    },
    {
      "cell_type": "code",
      "metadata": {
        "id": "9iQuerFjIwuS",
        "colab_type": "code",
        "colab": {}
      },
      "source": [
        ""
      ],
      "execution_count": 0,
      "outputs": []
    },
    {
      "cell_type": "markdown",
      "metadata": {
        "id": "D_a9U-v6IwuX",
        "colab_type": "text"
      },
      "source": [
        "### Create a mask:\n",
        "A mask is created where all parameters equal to one.\n",
        "\n",
        "This will be used later by _GradientTape_ for training the defined neural network."
      ]
    },
    {
      "cell_type": "code",
      "metadata": {
        "id": "kldJJlWDIwuZ",
        "colab_type": "code",
        "colab": {}
      },
      "source": [
        "# Instantiate a new neural network model for which, the mask is to be created,\n",
        "# according to the paper-\n",
        "mask_model = pruned_nn(pruning_params_unpruned)"
      ],
      "execution_count": 0,
      "outputs": []
    },
    {
      "cell_type": "code",
      "metadata": {
        "id": "6jVx_odGIwuc",
        "colab_type": "code",
        "colab": {}
      },
      "source": [
        "# Strip the model of its pruning parameters-\n",
        "mask_model_stripped = sparsity.strip_pruning(mask_model)"
      ],
      "execution_count": 0,
      "outputs": []
    },
    {
      "cell_type": "code",
      "metadata": {
        "id": "wbFaaDCDIwuh",
        "colab_type": "code",
        "colab": {}
      },
      "source": [
        "# Assign all masks to one-\n",
        "\n",
        "for wts in mask_model_stripped.trainable_weights:\n",
        "    wts.assign(\n",
        "        tf.ones_like(\n",
        "            input = wts,\n",
        "            dtype = tf.float32\n",
        "        )\n",
        "\n",
        "    )\n",
        "    # wts.assign(1.)\n",
        "    # wts.assign(tf.where(tf.equal(wts, 0.), 0., 1.))"
      ],
      "execution_count": 0,
      "outputs": []
    },
    {
      "cell_type": "code",
      "metadata": {
        "id": "8bMozWg0Iwul",
        "colab_type": "code",
        "colab": {
          "base_uri": "https://localhost:8080/",
          "height": 243
        },
        "outputId": "299da626-9140-4ecd-b621-1f37a343ca9d"
      },
      "source": [
        "print(\"\\nMask model metrics:\")\n",
        "print(\"layer-wise number of nonzero parameters in each layer are: \\n\")\n",
        "\n",
        "masked_sum_params = 0\n",
        "\n",
        "for layer in mask_model_stripped.trainable_weights:\n",
        "    print(tf.math.count_nonzero(layer, axis = None).numpy())\n",
        "    masked_sum_params += tf.math.count_nonzero(layer, axis = None).numpy()\n",
        "\n",
        "print(\"\\nTotal number of trainable parameters = {0}\\n\".format(masked_sum_params))"
      ],
      "execution_count": 42,
      "outputs": [
        {
          "output_type": "stream",
          "text": [
            "\n",
            "Mask model metrics:\n",
            "layer-wise number of nonzero parameters in each layer are: \n",
            "\n",
            "235200\n",
            "300\n",
            "30000\n",
            "100\n",
            "1000\n",
            "10\n",
            "\n",
            "Total number of trainable parameters = 266610\n",
            "\n"
          ],
          "name": "stdout"
        }
      ]
    },
    {
      "cell_type": "code",
      "metadata": {
        "id": "VuDWceRtIwup",
        "colab_type": "code",
        "colab": {}
      },
      "source": [
        ""
      ],
      "execution_count": 0,
      "outputs": []
    },
    {
      "cell_type": "code",
      "metadata": {
        "id": "P9swbfX9Iwus",
        "colab_type": "code",
        "colab": {}
      },
      "source": [
        ""
      ],
      "execution_count": 0,
      "outputs": []
    },
    {
      "cell_type": "code",
      "metadata": {
        "id": "U2DgEFZIIwuw",
        "colab_type": "code",
        "colab": {
          "base_uri": "https://localhost:8080/",
          "height": 69
        },
        "outputId": "7620b008-1b40-4c4a-e87f-f307f41aad3f"
      },
      "source": [
        "print(\"\\nnumber of pruning rounds for LeNet NN = {0} and number of epochs = {1}\\n\".format(num_pruning_rounds, num_epochs))"
      ],
      "execution_count": 43,
      "outputs": [
        {
          "output_type": "stream",
          "text": [
            "\n",
            "number of pruning rounds for LeNet NN = 24 and number of epochs = 100\n",
            "\n"
          ],
          "name": "stdout"
        }
      ]
    },
    {
      "cell_type": "code",
      "metadata": {
        "id": "NwGhUzDgIwu1",
        "colab_type": "code",
        "colab": {}
      },
      "source": [
        ""
      ],
      "execution_count": 0,
      "outputs": []
    },
    {
      "cell_type": "code",
      "metadata": {
        "id": "S7E5a4GKIwu5",
        "colab_type": "code",
        "colab": {}
      },
      "source": [
        ""
      ],
      "execution_count": 0,
      "outputs": []
    },
    {
      "cell_type": "markdown",
      "metadata": {
        "id": "ghAWZVe4IwvC",
        "colab_type": "text"
      },
      "source": [
        "### Python 3 dictionary to hold model training metrics for each of _n_ rounds:"
      ]
    },
    {
      "cell_type": "code",
      "metadata": {
        "id": "StajMbeaIwvD",
        "colab_type": "code",
        "colab": {}
      },
      "source": [
        "# Method - 1: Nested Python 3 dictionaries:\n",
        "history_main = {}\n",
        "\n",
        "# for x in range(num_pruning_rounds + 1):\n",
        "for x in range(num_pruning_rounds):\n",
        "    history = {}\n",
        "    \n",
        "    # Neural Network model, scalar metrics-\n",
        "    history['accuracy'] = np.zeros(shape = num_epochs)\n",
        "    history['val_accuracy'] = np.zeros(shape = num_epochs)\n",
        "    history['loss'] = np.zeros(shape = num_epochs)\n",
        "    history['val_loss'] = np.zeros(shape = num_epochs)\n",
        "    \n",
        "    # compute % of weights pruned at the end of each iterative pruning round-\n",
        "    history['percentage_wts_pruned'] = 90\n",
        "\n",
        "    history_main[x + 1] = history\n"
      ],
      "execution_count": 0,
      "outputs": []
    },
    {
      "cell_type": "code",
      "metadata": {
        "id": "ZLyojYkNIwvH",
        "colab_type": "code",
        "colab": {
          "base_uri": "https://localhost:8080/",
          "height": 34
        },
        "outputId": "24dba34b-f7c7-4afb-817f-d3866557e39a"
      },
      "source": [
        "# Sanity check-\n",
        "history_main.keys()"
      ],
      "execution_count": 45,
      "outputs": [
        {
          "output_type": "execute_result",
          "data": {
            "text/plain": [
              "dict_keys([1, 2, 3, 4, 5, 6, 7, 8, 9, 10, 11, 12, 13, 14, 15, 16, 17, 18, 19, 20, 21, 22, 23, 24])"
            ]
          },
          "metadata": {
            "tags": []
          },
          "execution_count": 45
        }
      ]
    },
    {
      "cell_type": "code",
      "metadata": {
        "id": "wv8qGKoKIwvM",
        "colab_type": "code",
        "colab": {
          "base_uri": "https://localhost:8080/",
          "height": 34
        },
        "outputId": "5b849b81-bc13-426f-d127-6d5f6e073944"
      },
      "source": [
        "# Sanity check-\n",
        "history_main[10]['accuracy'].shape"
      ],
      "execution_count": 46,
      "outputs": [
        {
          "output_type": "execute_result",
          "data": {
            "text/plain": [
              "(100,)"
            ]
          },
          "metadata": {
            "tags": []
          },
          "execution_count": 46
        }
      ]
    },
    {
      "cell_type": "code",
      "metadata": {
        "id": "1u2l-jKVIwvQ",
        "colab_type": "code",
        "colab": {}
      },
      "source": [
        ""
      ],
      "execution_count": 0,
      "outputs": []
    },
    {
      "cell_type": "code",
      "metadata": {
        "id": "4_mYz3rnIwvS",
        "colab_type": "code",
        "colab": {}
      },
      "source": [
        "# User input parameters for Early Stopping in manual implementation-\n",
        "minimum_delta = 0.001\n",
        "patience = 3"
      ],
      "execution_count": 0,
      "outputs": []
    },
    {
      "cell_type": "code",
      "metadata": {
        "id": "7uaicTPKIwvX",
        "colab_type": "code",
        "colab": {}
      },
      "source": [
        "best_val_loss = 100\n",
        "loc_patience = 0"
      ],
      "execution_count": 0,
      "outputs": []
    },
    {
      "cell_type": "code",
      "metadata": {
        "id": "naHBb_DLIwva",
        "colab_type": "code",
        "colab": {}
      },
      "source": [
        "orig_sum_params = 266610"
      ],
      "execution_count": 0,
      "outputs": []
    },
    {
      "cell_type": "code",
      "metadata": {
        "id": "w-tMeu0VIwvd",
        "colab_type": "code",
        "colab": {}
      },
      "source": [
        ""
      ],
      "execution_count": 0,
      "outputs": []
    },
    {
      "cell_type": "code",
      "metadata": {
        "id": "sns8zCq1Iwvg",
        "colab_type": "code",
        "colab": {}
      },
      "source": [
        ""
      ],
      "execution_count": 0,
      "outputs": []
    },
    {
      "cell_type": "code",
      "metadata": {
        "id": "ytsZoBHjXP6c",
        "colab_type": "code",
        "colab": {}
      },
      "source": [
        "# Instantiate a model-\n",
        "winning_ticket_model = pruned_nn(pruning_params_unpruned)"
      ],
      "execution_count": 0,
      "outputs": []
    },
    {
      "cell_type": "code",
      "metadata": {
        "id": "o5K8E0N1XXjs",
        "colab_type": "code",
        "colab": {}
      },
      "source": [
        "# Use Randomly initialized weights-\n",
        "winning_ticket_model.set_weights(orig_model.get_weights())"
      ],
      "execution_count": 0,
      "outputs": []
    },
    {
      "cell_type": "code",
      "metadata": {
        "id": "-8C_U0mDXell",
        "colab_type": "code",
        "colab": {}
      },
      "source": [
        ""
      ],
      "execution_count": 0,
      "outputs": []
    },
    {
      "cell_type": "code",
      "metadata": {
        "id": "CSnCEsFtXfGs",
        "colab_type": "code",
        "colab": {}
      },
      "source": [
        ""
      ],
      "execution_count": 0,
      "outputs": []
    },
    {
      "cell_type": "code",
      "metadata": {
        "id": "lcVracjVIwvk",
        "colab_type": "code",
        "colab": {
          "base_uri": "https://localhost:8080/",
          "height": 1000
        },
        "outputId": "1a3fe483-ad0c-44c6-ddf1-8896fa22d882"
      },
      "source": [
        "for i in range(1, num_pruning_rounds + 1):\n",
        "    \n",
        "    print(\"\\n\\n\\nIterative pruning round: {0}\\n\\n\".format(i))\n",
        "    \n",
        "    # Define 'train_one_step()' and 'test_step()' functions here-\n",
        "    @tf.function\n",
        "    def train_one_step(model, mask_model, optimizer, x, y):\n",
        "        '''\n",
        "        Function to compute one step of gradient descent optimization\n",
        "        '''\n",
        "        with tf.GradientTape() as tape:\n",
        "            # Make predictions using defined model-\n",
        "            y_pred = model(x)\n",
        "\n",
        "            # Compute loss-\n",
        "            loss = loss_fn(y, y_pred)\n",
        "        \n",
        "        # Compute gradients wrt defined loss and weights and biases-\n",
        "        grads = tape.gradient(loss, model.trainable_variables)\n",
        "    \n",
        "        # type(grads)\n",
        "        # list\n",
        "    \n",
        "        # List to hold element-wise multiplication between-\n",
        "        # computed gradient and masks-\n",
        "        grad_mask_mul = []\n",
        "    \n",
        "        # Perform element-wise multiplication between computed gradients and masks-\n",
        "        for grad_layer, mask in zip(grads, mask_model.trainable_weights):\n",
        "            grad_mask_mul.append(tf.math.multiply(grad_layer, mask))\n",
        "    \n",
        "        # Apply computed gradients to model's weights and biases-\n",
        "        optimizer.apply_gradients(zip(grad_mask_mul, model.trainable_variables))\n",
        "\n",
        "        # Compute accuracy-\n",
        "        train_loss(loss)\n",
        "        train_accuracy(y, y_pred)\n",
        "\n",
        "        return None\n",
        "    \n",
        "    \n",
        "    @tf.function\n",
        "    def test_step(model, optimizer, data, labels):\n",
        "        \"\"\"\n",
        "        Function to test model performance\n",
        "        on testing dataset\n",
        "        \"\"\"\n",
        "    \n",
        "        predictions = model(data)\n",
        "        t_loss = loss_fn(labels, predictions)\n",
        "\n",
        "        test_loss(t_loss)\n",
        "        test_accuracy(labels, predictions)\n",
        "\n",
        "        return None\n",
        "\n",
        "\n",
        "    # Instantiate a model\n",
        "    model_gt = pruned_nn(pruning_params_unpruned)\n",
        "    \n",
        "    # Load winning ticket (from above)-\n",
        "    # model_gt.load_weights(\"LeNet_MNIST_Winning_Ticket.h5\")\n",
        "    model_gt.set_weights(winning_ticket_model.get_weights())\n",
        "    \n",
        "    # Strip model of pruning parameters-\n",
        "    model_gt_stripped = sparsity.strip_pruning(model_gt)\n",
        "    \n",
        "    \n",
        "    # Train model using 'GradientTape'-\n",
        "    \n",
        "    # Initialize parameters for Early Stopping manual implementation-\n",
        "    best_val_loss = 100\n",
        "    loc_patience = 0\n",
        "    \n",
        "    for epoch in range(num_epochs):\n",
        "    \n",
        "        if loc_patience >= patience:\n",
        "            print(\"\\n'EarlyStopping' called!\\n\")\n",
        "            break\n",
        "        \n",
        "        # Reset the metrics at the start of the next epoch\n",
        "        train_loss.reset_states()\n",
        "        train_accuracy.reset_states()\n",
        "        test_loss.reset_states()\n",
        "        test_accuracy.reset_states()\n",
        "        \n",
        "        \n",
        "        for x, y in train_dataset:\n",
        "            # train_one_step(model_gt_stripped, mask_model, optimizer, x, y, grad_mask_mul)\n",
        "            train_one_step(model_gt_stripped, mask_model_stripped, optimizer, x, y)\n",
        "\n",
        "\n",
        "        for x_t, y_t in test_dataset:\n",
        "            # test_step(x_t, y_t)\n",
        "            test_step(model_gt_stripped, optimizer, x_t, y_t)\n",
        "\n",
        "        template = 'Epoch {0}, Loss: {1:.4f}, Accuracy: {2:.4f}, Test Loss: {3:.4f}, Test Accuracy: {4:4f}'\n",
        "    \n",
        "        # 'i' is the index for number of pruning rounds-\n",
        "        history_main[i]['accuracy'][epoch] = train_accuracy.result() * 100\n",
        "        history_main[i]['loss'][epoch] = train_loss.result()\n",
        "        history_main[i]['val_loss'][epoch] = test_loss.result()\n",
        "        history_main[i]['val_accuracy'][epoch] = test_accuracy.result() * 100\n",
        "        \n",
        "        print(template.format(epoch + 1, \n",
        "                              train_loss.result(), train_accuracy.result()*100,\n",
        "                              test_loss.result(), test_accuracy.result()*100))\n",
        "    \n",
        "        # Count number of non-zero parameters in each layer and in total-\n",
        "        # print(\"layer-wise manner model, number of nonzero parameters in each layer are: \\n\")\n",
        "\n",
        "        model_sum_params = 0\n",
        "    \n",
        "        for layer in model_gt_stripped.trainable_weights:\n",
        "            # print(tf.math.count_nonzero(layer, axis = None).numpy())\n",
        "            model_sum_params += tf.math.count_nonzero(layer, axis = None).numpy()\n",
        "    \n",
        "        print(\"Total number of trainable parameters = {0}\\n\".format(model_sum_params))\n",
        "\n",
        "    \n",
        "        # Code for manual Early Stopping:\n",
        "        if np.abs(test_loss.result() < best_val_loss) >= minimum_delta:\n",
        "            # update 'best_val_loss' variable to lowest loss encountered so far-\n",
        "            best_val_loss = test_loss.result()\n",
        "        \n",
        "            # reset 'loc_patience' variable-\n",
        "            loc_patience = 0\n",
        "        \n",
        "        else:  # there is no improvement in monitored metric 'val_loss'\n",
        "            loc_patience += 1  # number of epochs without any improvement\n",
        "\n",
        "    \n",
        "    # Resize numpy arrays according to the epoch when 'EarlyStopping' was called-\n",
        "    for metrics in history_main[i].keys():\n",
        "        history_main[i][metrics] = np.resize(history_main[i][metrics], new_shape = epoch)\n",
        "        # history[metrics] = np.resize(history[metrics], new_shape=epoch)\n",
        "     \n",
        "    \n",
        "    # Save trained model weights-\n",
        "    # model_gt.save_weights(\"LeNet_MNIST_Trained_Weights.h5\", overwrite=True)\n",
        "    \n",
        "    \n",
        "    \n",
        "    \n",
        "    # Prune trained model:\n",
        "    \n",
        "    # print(\"\\n% of weights to be pruned in round = {0} is: {1:.4f}\\n\".format(i, wts_np[i - 1]))\n",
        "    \n",
        "    # Specify the parameters to be used for layer-wise pruning, Fully-Connected layer pruning-\n",
        "    pruning_params_fc = {\n",
        "        'pruning_schedule': sparsity.ConstantSparsity(\n",
        "            target_sparsity=dense1_pruning[i - 1], begin_step = 1000,\n",
        "            end_step = end_step, frequency=100\n",
        "        )\n",
        "    }\n",
        "    \n",
        "    \n",
        "    # Instantiate a Nueal Network model to be pruned using parameters from above-\n",
        "    pruned_model = pruned_nn(pruning_params_fc)\n",
        "    \n",
        "    # Load weights from original trained and unpruned model-\n",
        "    # pruned_model.load_weights(\"LeNet_MNIST_Trained_Weights.h5\")\n",
        "    pruned_model.set_weights(model_gt.get_weights())\n",
        "    \n",
        "    # Train pruned NN-\n",
        "    history_pruned = pruned_model.fit(\n",
        "        x = X_train, y = y_train,\n",
        "        batch_size = batch_size,\n",
        "        epochs = epochs,\n",
        "        verbose = 1,\n",
        "        callbacks = callback,\n",
        "        validation_data = (X_test, y_test),\n",
        "        shuffle = True\n",
        "    )\n",
        "    \n",
        "    # Strip the pruning wrappers from pruned model-\n",
        "    pruned_model_stripped = sparsity.strip_pruning(pruned_model)\n",
        "    \n",
        "    # print(\"\\nIn pruned model, number of nonzero parameters in each layer are: \\n\")\n",
        "    pruned_sum_params = 0\n",
        "    \n",
        "    for layer in pruned_model_stripped.trainable_weights:\n",
        "        # print(tf.math.count_nonzero(layer, axis = None).numpy())\n",
        "        pruned_sum_params += tf.math.count_nonzero(layer, axis = None).numpy()\n",
        "    \n",
        "    print(\"\\nRound = {0}, total number of trainable parameters = {1}\\n\".format(i, pruned_sum_params))\n",
        "    # print(\"\\nTotal number of trainable parameters = {0}\\n\".format(pruned_sum_params))\n",
        "    \n",
        "    '''\n",
        "    # Sanity-check: confirm that the weights are actually pruned away from the network-\n",
        "    print(\"\\nRound = {0}, % of weights pruned away = {1:.2f}%\\n\".format( \\\n",
        "                                                i, (orig_sum_params - pruned_sum_params) / orig_sum_params * 100))\n",
        "    '''\n",
        "    \n",
        "    # 'i' is the index for number of pruning rounds-\n",
        "    history_main[i]['percentage_wts_pruned'] = ((orig_sum_params - pruned_sum_params) / orig_sum_params) * 100\n",
        "\n",
        "    # Save weights of PRUNED and Trained model BEFORE stripping-\n",
        "    # pruned_model.save_weights(\"LeNet_MNIST_Pruned_Weights.h5\", overwrite = True)\n",
        "    \n",
        "    \n",
        "    # Create a mask:\n",
        "    \n",
        "    # Instantiate a new neural network model for which, the mask is to be created,\n",
        "    mask_model = pruned_nn(pruning_params_unpruned)\n",
        "    \n",
        "    # Load weights of PRUNED model-\n",
        "    # mask_model.load_weights(\"LeNet_MNIST_Pruned_Weights.h5\")\n",
        "    mask_model.set_weights(pruned_model.get_weights())\n",
        "    \n",
        "    # Strip the model of its pruning parameters-\n",
        "    mask_model_stripped = sparsity.strip_pruning(mask_model)\n",
        "    \n",
        "    # For each layer, for each weight which is 0, leave it, as is.\n",
        "    # And for weights which survive the pruning,reinitialize it to ONE (1)-\n",
        "    for wts in mask_model_stripped.trainable_weights:\n",
        "        wts.assign(tf.where(tf.equal(wts, 0.), 0., 1.))\n",
        "    \n",
        "    \n",
        "    \n",
        "    \n",
        "    # Extract Winning Ticket:\n",
        "    \n",
        "    # Instantiate a new neural network model for which, the weights are to be extracted-\n",
        "    winning_ticket_model = pruned_nn(pruning_params_unpruned)\n",
        "    \n",
        "    # Load weights of PRUNED model-\n",
        "    # winning_ticket_model.load_weights(\"LeNet_MNIST_Pruned_Weights.h5\")\n",
        "    winning_ticket_model.set_weights(pruned_model.get_weights())\n",
        "    \n",
        "    # Strip the model of its pruning parameters-\n",
        "    winning_ticket_model_stripped = sparsity.strip_pruning(winning_ticket_model)\n",
        "    \n",
        "    # For each layer, for each weight which is 0, leave it, as is. And for weights which survive the pruning,\n",
        "    # reinitialize it to the value, the model received BEFORE it was trained and pruned-\n",
        "    for orig_wts, pruned_wts in zip(orig_model_stripped.trainable_weights,\n",
        "                                    winning_ticket_model_stripped.trainable_weights):\n",
        "        pruned_wts.assign(tf.where(tf.equal(pruned_wts, 0), pruned_wts, orig_wts))\n",
        "    \n",
        "    \n",
        "    # Save the weights (with pruning parameters) extracted to a file-\n",
        "    # winning_ticket_model.save_weights(\"LeNet_MNIST_Winning_Ticket.h5\", overwrite=True)\n",
        "    \n",
        "    \n",
        "    \n",
        "    "
      ],
      "execution_count": 52,
      "outputs": [
        {
          "output_type": "stream",
          "text": [
            "\n",
            "\n",
            "\n",
            "Iterative pruning round: 1\n",
            "\n",
            "\n",
            "Epoch 1, Loss: 0.2171, Accuracy: 93.5783, Test Loss: 0.1154, Test Accuracy: 96.630005\n",
            "Total number of trainable parameters = 266610\n",
            "\n",
            "Epoch 2, Loss: 0.0842, Accuracy: 97.3450, Test Loss: 0.0859, Test Accuracy: 97.389999\n",
            "Total number of trainable parameters = 266610\n",
            "\n",
            "Epoch 3, Loss: 0.0578, Accuracy: 98.1433, Test Loss: 0.0773, Test Accuracy: 97.509995\n",
            "Total number of trainable parameters = 266610\n",
            "\n",
            "Epoch 4, Loss: 0.0429, Accuracy: 98.6250, Test Loss: 0.0767, Test Accuracy: 97.909996\n",
            "Total number of trainable parameters = 266610\n",
            "\n",
            "Epoch 5, Loss: 0.0332, Accuracy: 98.9083, Test Loss: 0.0911, Test Accuracy: 97.500000\n",
            "Total number of trainable parameters = 266610\n",
            "\n",
            "Epoch 6, Loss: 0.0260, Accuracy: 99.1667, Test Loss: 0.0813, Test Accuracy: 98.000000\n",
            "Total number of trainable parameters = 266610\n",
            "\n",
            "Epoch 7, Loss: 0.0239, Accuracy: 99.1933, Test Loss: 0.0781, Test Accuracy: 97.799995\n",
            "Total number of trainable parameters = 266610\n",
            "\n",
            "\n",
            "'EarlyStopping' called!\n",
            "\n",
            "Train on 60000 samples, validate on 10000 samples\n",
            "Epoch 1/100\n",
            "60000/60000 [==============================] - 10s 165us/sample - loss: 0.0231 - accuracy: 0.9921 - val_loss: 0.0954 - val_accuracy: 0.9784\n",
            "Epoch 2/100\n",
            "60000/60000 [==============================] - 9s 145us/sample - loss: 0.0118 - accuracy: 0.9961 - val_loss: 0.0912 - val_accuracy: 0.9791\n",
            "Epoch 3/100\n",
            "60000/60000 [==============================] - 9s 142us/sample - loss: 0.0104 - accuracy: 0.9964 - val_loss: 0.0829 - val_accuracy: 0.9817\n",
            "Epoch 4/100\n",
            "60000/60000 [==============================] - 9s 147us/sample - loss: 0.0101 - accuracy: 0.9966 - val_loss: 0.0954 - val_accuracy: 0.9793\n",
            "Epoch 5/100\n",
            "60000/60000 [==============================] - 8s 138us/sample - loss: 0.0092 - accuracy: 0.9967 - val_loss: 0.1210 - val_accuracy: 0.9753\n",
            "Epoch 6/100\n",
            "60000/60000 [==============================] - 10s 161us/sample - loss: 0.0098 - accuracy: 0.9971 - val_loss: 0.0953 - val_accuracy: 0.9815\n",
            "\n",
            "Round = 1, total number of trainable parameters = 213370\n",
            "\n",
            "\n",
            "\n",
            "\n",
            "Iterative pruning round: 2\n",
            "\n",
            "\n",
            "Epoch 1, Loss: 0.1557, Accuracy: 95.1983, Test Loss: 0.0989, Test Accuracy: 96.919998\n",
            "Total number of trainable parameters = 213370\n",
            "\n",
            "Epoch 2, Loss: 0.0613, Accuracy: 98.0183, Test Loss: 0.0746, Test Accuracy: 97.669998\n",
            "Total number of trainable parameters = 213370\n",
            "\n",
            "Epoch 3, Loss: 0.0408, Accuracy: 98.6850, Test Loss: 0.0779, Test Accuracy: 97.689995\n",
            "Total number of trainable parameters = 213370\n",
            "\n",
            "Epoch 4, Loss: 0.0276, Accuracy: 99.1167, Test Loss: 0.0759, Test Accuracy: 97.879997\n",
            "Total number of trainable parameters = 213370\n",
            "\n",
            "Epoch 5, Loss: 0.0206, Accuracy: 99.3683, Test Loss: 0.0822, Test Accuracy: 97.680000\n",
            "Total number of trainable parameters = 213370\n",
            "\n",
            "\n",
            "'EarlyStopping' called!\n",
            "\n",
            "Train on 60000 samples, validate on 10000 samples\n",
            "Epoch 1/100\n",
            "60000/60000 [==============================] - 10s 166us/sample - loss: 0.0191 - accuracy: 0.9937 - val_loss: 0.0685 - val_accuracy: 0.9829\n",
            "Epoch 2/100\n",
            "60000/60000 [==============================] - 9s 143us/sample - loss: 0.0097 - accuracy: 0.9968 - val_loss: 0.0765 - val_accuracy: 0.9808\n",
            "Epoch 3/100\n",
            "60000/60000 [==============================] - 9s 149us/sample - loss: 0.0095 - accuracy: 0.9969 - val_loss: 0.0897 - val_accuracy: 0.9805\n",
            "Epoch 4/100\n",
            "60000/60000 [==============================] - 9s 150us/sample - loss: 0.0089 - accuracy: 0.9970 - val_loss: 0.0936 - val_accuracy: 0.9794\n",
            "\n",
            "Round = 2, total number of trainable parameters = 170778\n",
            "\n",
            "\n",
            "\n",
            "\n",
            "Iterative pruning round: 3\n",
            "\n",
            "\n",
            "Epoch 1, Loss: 0.1382, Accuracy: 95.8383, Test Loss: 0.0798, Test Accuracy: 97.479996\n",
            "Total number of trainable parameters = 170771\n",
            "\n",
            "Epoch 2, Loss: 0.0519, Accuracy: 98.3800, Test Loss: 0.0675, Test Accuracy: 97.899994\n",
            "Total number of trainable parameters = 170771\n",
            "\n",
            "Epoch 3, Loss: 0.0327, Accuracy: 98.9367, Test Loss: 0.0720, Test Accuracy: 97.820000\n",
            "Total number of trainable parameters = 170771\n",
            "\n",
            "Epoch 4, Loss: 0.0218, Accuracy: 99.2900, Test Loss: 0.0774, Test Accuracy: 97.709999\n",
            "Total number of trainable parameters = 170771\n",
            "\n",
            "Epoch 5, Loss: 0.0171, Accuracy: 99.4683, Test Loss: 0.0678, Test Accuracy: 98.119995\n",
            "Total number of trainable parameters = 170771\n",
            "\n",
            "\n",
            "'EarlyStopping' called!\n",
            "\n",
            "Train on 60000 samples, validate on 10000 samples\n",
            "Epoch 1/100\n",
            "60000/60000 [==============================] - 10s 172us/sample - loss: 0.0151 - accuracy: 0.9950 - val_loss: 0.0849 - val_accuracy: 0.9802\n",
            "Epoch 2/100\n",
            "60000/60000 [==============================] - 9s 148us/sample - loss: 0.0082 - accuracy: 0.9976 - val_loss: 0.0774 - val_accuracy: 0.9803\n",
            "Epoch 3/100\n",
            "60000/60000 [==============================] - 9s 149us/sample - loss: 0.0070 - accuracy: 0.9979 - val_loss: 0.0898 - val_accuracy: 0.9814\n",
            "Epoch 4/100\n",
            "60000/60000 [==============================] - 8s 139us/sample - loss: 0.0053 - accuracy: 0.9983 - val_loss: 0.0960 - val_accuracy: 0.9800\n",
            "Epoch 5/100\n",
            "60000/60000 [==============================] - 9s 148us/sample - loss: 0.0053 - accuracy: 0.9982 - val_loss: 0.0910 - val_accuracy: 0.9816\n",
            "\n",
            "Round = 3, total number of trainable parameters = 136700\n",
            "\n",
            "\n",
            "\n",
            "\n",
            "Iterative pruning round: 4\n",
            "\n",
            "\n",
            "Epoch 1, Loss: 0.1260, Accuracy: 96.1617, Test Loss: 0.0786, Test Accuracy: 97.589996\n",
            "Total number of trainable parameters = 136693\n",
            "\n",
            "Epoch 2, Loss: 0.0433, Accuracy: 98.6183, Test Loss: 0.0678, Test Accuracy: 97.949997\n",
            "Total number of trainable parameters = 136693\n",
            "\n",
            "Epoch 3, Loss: 0.0262, Accuracy: 99.1600, Test Loss: 0.0629, Test Accuracy: 98.019997\n",
            "Total number of trainable parameters = 136693\n",
            "\n",
            "Epoch 4, Loss: 0.0166, Accuracy: 99.4767, Test Loss: 0.0728, Test Accuracy: 98.150002\n",
            "Total number of trainable parameters = 136693\n",
            "\n",
            "Epoch 5, Loss: 0.0133, Accuracy: 99.5783, Test Loss: 0.0690, Test Accuracy: 98.119995\n",
            "Total number of trainable parameters = 136693\n",
            "\n",
            "Epoch 6, Loss: 0.0106, Accuracy: 99.6433, Test Loss: 0.0751, Test Accuracy: 98.159996\n",
            "Total number of trainable parameters = 136693\n",
            "\n",
            "\n",
            "'EarlyStopping' called!\n",
            "\n",
            "Train on 60000 samples, validate on 10000 samples\n",
            "Epoch 1/100\n",
            "60000/60000 [==============================] - 11s 176us/sample - loss: 0.0099 - accuracy: 0.9965 - val_loss: 0.0915 - val_accuracy: 0.9791\n",
            "Epoch 2/100\n",
            "60000/60000 [==============================] - 9s 146us/sample - loss: 0.0052 - accuracy: 0.9986 - val_loss: 0.0755 - val_accuracy: 0.9821\n",
            "Epoch 3/100\n",
            "60000/60000 [==============================] - 8s 139us/sample - loss: 0.0039 - accuracy: 0.9989 - val_loss: 0.0845 - val_accuracy: 0.9819\n",
            "Epoch 4/100\n",
            "60000/60000 [==============================] - 8s 136us/sample - loss: 0.0037 - accuracy: 0.9989 - val_loss: 0.0919 - val_accuracy: 0.9820\n",
            "Epoch 5/100\n",
            "60000/60000 [==============================] - 8s 129us/sample - loss: 0.0061 - accuracy: 0.9981 - val_loss: 0.1046 - val_accuracy: 0.9808\n",
            "\n",
            "Round = 4, total number of trainable parameters = 109437\n",
            "\n",
            "\n",
            "\n",
            "\n",
            "Iterative pruning round: 5\n",
            "\n",
            "\n",
            "Epoch 1, Loss: 0.1171, Accuracy: 96.4467, Test Loss: 0.0682, Test Accuracy: 97.820000\n",
            "Total number of trainable parameters = 109434\n",
            "\n",
            "Epoch 2, Loss: 0.0367, Accuracy: 98.8217, Test Loss: 0.0584, Test Accuracy: 98.269997\n",
            "Total number of trainable parameters = 109434\n",
            "\n",
            "Epoch 3, Loss: 0.0207, Accuracy: 99.3867, Test Loss: 0.0585, Test Accuracy: 98.180000\n",
            "Total number of trainable parameters = 109434\n",
            "\n",
            "Epoch 4, Loss: 0.0139, Accuracy: 99.5717, Test Loss: 0.0640, Test Accuracy: 98.209999\n",
            "Total number of trainable parameters = 109434\n",
            "\n",
            "Epoch 5, Loss: 0.0109, Accuracy: 99.6650, Test Loss: 0.0838, Test Accuracy: 97.949997\n",
            "Total number of trainable parameters = 109434\n",
            "\n",
            "\n",
            "'EarlyStopping' called!\n",
            "\n",
            "Train on 60000 samples, validate on 10000 samples\n",
            "Epoch 1/100\n",
            "60000/60000 [==============================] - 10s 167us/sample - loss: 0.0086 - accuracy: 0.9971 - val_loss: 0.0778 - val_accuracy: 0.9795\n",
            "Epoch 2/100\n",
            "60000/60000 [==============================] - 10s 165us/sample - loss: 0.0057 - accuracy: 0.9982 - val_loss: 0.0726 - val_accuracy: 0.9820\n",
            "Epoch 3/100\n",
            "60000/60000 [==============================] - 8s 138us/sample - loss: 0.0049 - accuracy: 0.9986 - val_loss: 0.0778 - val_accuracy: 0.9824\n",
            "Epoch 4/100\n",
            "60000/60000 [==============================] - 9s 158us/sample - loss: 0.0032 - accuracy: 0.9991 - val_loss: 0.0850 - val_accuracy: 0.9811\n",
            "Epoch 5/100\n",
            "60000/60000 [==============================] - 8s 128us/sample - loss: 0.0040 - accuracy: 0.9987 - val_loss: 0.1005 - val_accuracy: 0.9799\n",
            "\n",
            "Round = 5, total number of trainable parameters = 87631\n",
            "\n",
            "\n",
            "\n",
            "\n",
            "Iterative pruning round: 6\n",
            "\n",
            "\n",
            "Epoch 1, Loss: 0.1062, Accuracy: 96.8550, Test Loss: 0.0659, Test Accuracy: 97.939995\n",
            "Total number of trainable parameters = 87628\n",
            "\n",
            "Epoch 2, Loss: 0.0311, Accuracy: 99.0467, Test Loss: 0.0581, Test Accuracy: 98.189995\n",
            "Total number of trainable parameters = 87628\n",
            "\n",
            "Epoch 3, Loss: 0.0171, Accuracy: 99.4950, Test Loss: 0.0628, Test Accuracy: 98.199997\n",
            "Total number of trainable parameters = 87628\n",
            "\n",
            "Epoch 4, Loss: 0.0104, Accuracy: 99.7083, Test Loss: 0.0639, Test Accuracy: 98.309998\n",
            "Total number of trainable parameters = 87628\n",
            "\n",
            "Epoch 5, Loss: 0.0073, Accuracy: 99.7983, Test Loss: 0.0757, Test Accuracy: 98.199997\n",
            "Total number of trainable parameters = 87628\n",
            "\n",
            "\n",
            "'EarlyStopping' called!\n",
            "\n",
            "Train on 60000 samples, validate on 10000 samples\n",
            "Epoch 1/100\n",
            "60000/60000 [==============================] - 10s 168us/sample - loss: 0.0071 - accuracy: 0.9978 - val_loss: 0.0790 - val_accuracy: 0.9821\n",
            "Epoch 2/100\n",
            "60000/60000 [==============================] - 9s 145us/sample - loss: 0.0047 - accuracy: 0.9991 - val_loss: 0.0775 - val_accuracy: 0.9816\n",
            "Epoch 3/100\n",
            "60000/60000 [==============================] - 9s 144us/sample - loss: 0.0033 - accuracy: 0.9992 - val_loss: 0.0906 - val_accuracy: 0.9810\n",
            "Epoch 4/100\n",
            "60000/60000 [==============================] - 9s 155us/sample - loss: 0.0035 - accuracy: 0.9990 - val_loss: 0.0872 - val_accuracy: 0.9817\n",
            "Epoch 5/100\n",
            "60000/60000 [==============================] - 9s 158us/sample - loss: 0.0016 - accuracy: 0.9996 - val_loss: 0.0954 - val_accuracy: 0.9816\n",
            "\n",
            "Round = 6, total number of trainable parameters = 70187\n",
            "\n",
            "\n",
            "\n",
            "\n",
            "Iterative pruning round: 7\n",
            "\n",
            "\n",
            "Epoch 1, Loss: 0.1038, Accuracy: 96.9950, Test Loss: 0.0616, Test Accuracy: 98.049995\n",
            "Total number of trainable parameters = 70184\n",
            "\n",
            "Epoch 2, Loss: 0.0290, Accuracy: 99.1250, Test Loss: 0.0585, Test Accuracy: 98.199997\n",
            "Total number of trainable parameters = 70184\n",
            "\n",
            "Epoch 3, Loss: 0.0157, Accuracy: 99.5600, Test Loss: 0.0636, Test Accuracy: 98.159996\n",
            "Total number of trainable parameters = 70184\n",
            "\n",
            "Epoch 4, Loss: 0.0100, Accuracy: 99.7133, Test Loss: 0.0619, Test Accuracy: 98.320000\n",
            "Total number of trainable parameters = 70184\n",
            "\n",
            "Epoch 5, Loss: 0.0060, Accuracy: 99.8583, Test Loss: 0.0631, Test Accuracy: 98.290001\n",
            "Total number of trainable parameters = 70184\n",
            "\n",
            "\n",
            "'EarlyStopping' called!\n",
            "\n",
            "Train on 60000 samples, validate on 10000 samples\n",
            "Epoch 1/100\n",
            "60000/60000 [==============================] - 10s 171us/sample - loss: 0.0058 - accuracy: 0.9984 - val_loss: 0.0745 - val_accuracy: 0.9822\n",
            "Epoch 2/100\n",
            "60000/60000 [==============================] - 10s 170us/sample - loss: 0.0050 - accuracy: 0.9988 - val_loss: 0.0689 - val_accuracy: 0.9831\n",
            "Epoch 3/100\n",
            "60000/60000 [==============================] - 8s 137us/sample - loss: 0.0020 - accuracy: 0.9997 - val_loss: 0.0740 - val_accuracy: 0.9822\n",
            "Epoch 4/100\n",
            "60000/60000 [==============================] - 8s 141us/sample - loss: 0.0015 - accuracy: 0.9998 - val_loss: 0.0848 - val_accuracy: 0.9832\n",
            "Epoch 5/100\n",
            "60000/60000 [==============================] - 9s 143us/sample - loss: 0.0036 - accuracy: 0.9989 - val_loss: 0.0829 - val_accuracy: 0.9833\n",
            "\n",
            "Round = 7, total number of trainable parameters = 56236\n",
            "\n",
            "\n",
            "\n",
            "\n",
            "Iterative pruning round: 8\n",
            "\n",
            "\n",
            "Epoch 1, Loss: 0.1074, Accuracy: 96.9367, Test Loss: 0.0606, Test Accuracy: 98.099998\n",
            "Total number of trainable parameters = 56235\n",
            "\n",
            "Epoch 2, Loss: 0.0293, Accuracy: 99.1533, Test Loss: 0.0533, Test Accuracy: 98.419998\n",
            "Total number of trainable parameters = 56235\n",
            "\n",
            "Epoch 3, Loss: 0.0165, Accuracy: 99.5567, Test Loss: 0.0603, Test Accuracy: 98.209999\n",
            "Total number of trainable parameters = 56235\n",
            "\n",
            "Epoch 4, Loss: 0.0095, Accuracy: 99.7717, Test Loss: 0.0613, Test Accuracy: 98.320000\n",
            "Total number of trainable parameters = 56235\n",
            "\n",
            "Epoch 5, Loss: 0.0058, Accuracy: 99.8717, Test Loss: 0.0658, Test Accuracy: 98.269997\n",
            "Total number of trainable parameters = 56235\n",
            "\n",
            "\n",
            "'EarlyStopping' called!\n",
            "\n",
            "Train on 60000 samples, validate on 10000 samples\n",
            "Epoch 1/100\n",
            "60000/60000 [==============================] - 10s 165us/sample - loss: 0.0055 - accuracy: 0.9986 - val_loss: 0.0711 - val_accuracy: 0.9832\n",
            "Epoch 2/100\n",
            "60000/60000 [==============================] - 9s 157us/sample - loss: 0.0055 - accuracy: 0.9987 - val_loss: 0.0664 - val_accuracy: 0.9839\n",
            "Epoch 3/100\n",
            "60000/60000 [==============================] - 8s 140us/sample - loss: 0.0022 - accuracy: 0.9998 - val_loss: 0.0713 - val_accuracy: 0.9836\n",
            "Epoch 4/100\n",
            "60000/60000 [==============================] - 8s 140us/sample - loss: 0.0014 - accuracy: 0.9998 - val_loss: 0.0775 - val_accuracy: 0.9838\n",
            "Epoch 5/100\n",
            "60000/60000 [==============================] - 10s 161us/sample - loss: 0.0032 - accuracy: 0.9991 - val_loss: 0.0934 - val_accuracy: 0.9806\n",
            "\n",
            "Round = 8, total number of trainable parameters = 45068\n",
            "\n",
            "\n",
            "\n",
            "\n",
            "Iterative pruning round: 9\n",
            "\n",
            "\n",
            "Epoch 1, Loss: 0.1153, Accuracy: 96.8483, Test Loss: 0.0656, Test Accuracy: 98.019997\n",
            "Total number of trainable parameters = 45063\n",
            "\n",
            "Epoch 2, Loss: 0.0333, Accuracy: 99.0333, Test Loss: 0.0612, Test Accuracy: 98.019997\n",
            "Total number of trainable parameters = 45063\n",
            "\n",
            "Epoch 3, Loss: 0.0188, Accuracy: 99.5050, Test Loss: 0.0580, Test Accuracy: 98.309998\n",
            "Total number of trainable parameters = 45063\n",
            "\n",
            "Epoch 4, Loss: 0.0114, Accuracy: 99.7267, Test Loss: 0.0593, Test Accuracy: 98.290001\n",
            "Total number of trainable parameters = 45063\n",
            "\n",
            "Epoch 5, Loss: 0.0072, Accuracy: 99.8217, Test Loss: 0.0648, Test Accuracy: 98.209999\n",
            "Total number of trainable parameters = 45063\n",
            "\n",
            "Epoch 6, Loss: 0.0045, Accuracy: 99.9117, Test Loss: 0.0700, Test Accuracy: 98.169998\n",
            "Total number of trainable parameters = 45063\n",
            "\n",
            "\n",
            "'EarlyStopping' called!\n",
            "\n",
            "Train on 60000 samples, validate on 10000 samples\n",
            "Epoch 1/100\n",
            "60000/60000 [==============================] - 10s 169us/sample - loss: 0.0042 - accuracy: 0.9989 - val_loss: 0.0744 - val_accuracy: 0.9824\n",
            "Epoch 2/100\n",
            "60000/60000 [==============================] - 9s 153us/sample - loss: 0.0045 - accuracy: 0.9991 - val_loss: 0.0713 - val_accuracy: 0.9826\n",
            "Epoch 3/100\n",
            "60000/60000 [==============================] - 9s 152us/sample - loss: 0.0017 - accuracy: 0.9999 - val_loss: 0.0767 - val_accuracy: 0.9826\n",
            "Epoch 4/100\n",
            "60000/60000 [==============================] - 9s 147us/sample - loss: 0.0016 - accuracy: 0.9997 - val_loss: 0.0864 - val_accuracy: 0.9819\n",
            "Epoch 5/100\n",
            "60000/60000 [==============================] - 9s 155us/sample - loss: 0.0021 - accuracy: 0.9995 - val_loss: 0.0817 - val_accuracy: 0.9819\n",
            "\n",
            "Round = 9, total number of trainable parameters = 36132\n",
            "\n",
            "\n",
            "\n",
            "\n",
            "Iterative pruning round: 10\n",
            "\n",
            "\n",
            "Epoch 1, Loss: 0.1246, Accuracy: 96.7517, Test Loss: 0.0675, Test Accuracy: 97.879997\n",
            "Total number of trainable parameters = 36126\n",
            "\n",
            "Epoch 2, Loss: 0.0369, Accuracy: 98.9500, Test Loss: 0.0627, Test Accuracy: 97.939995\n",
            "Total number of trainable parameters = 36126\n",
            "\n",
            "Epoch 3, Loss: 0.0218, Accuracy: 99.3933, Test Loss: 0.0590, Test Accuracy: 98.129997\n",
            "Total number of trainable parameters = 36126\n",
            "\n",
            "Epoch 4, Loss: 0.0135, Accuracy: 99.6483, Test Loss: 0.0583, Test Accuracy: 98.269997\n",
            "Total number of trainable parameters = 36126\n",
            "\n",
            "Epoch 5, Loss: 0.0087, Accuracy: 99.7950, Test Loss: 0.0635, Test Accuracy: 98.269997\n",
            "Total number of trainable parameters = 36126\n",
            "\n",
            "Epoch 6, Loss: 0.0056, Accuracy: 99.8733, Test Loss: 0.0667, Test Accuracy: 98.239998\n",
            "Total number of trainable parameters = 36126\n",
            "\n",
            "Epoch 7, Loss: 0.0039, Accuracy: 99.9367, Test Loss: 0.0737, Test Accuracy: 98.209999\n",
            "Total number of trainable parameters = 36126\n",
            "\n",
            "\n",
            "'EarlyStopping' called!\n",
            "\n",
            "Train on 60000 samples, validate on 10000 samples\n",
            "Epoch 1/100\n",
            "60000/60000 [==============================] - 9s 146us/sample - loss: 0.0036 - accuracy: 0.9993 - val_loss: 0.0817 - val_accuracy: 0.9815\n",
            "Epoch 2/100\n",
            "60000/60000 [==============================] - 9s 156us/sample - loss: 0.0058 - accuracy: 0.9987 - val_loss: 0.0709 - val_accuracy: 0.9821\n",
            "Epoch 3/100\n",
            "60000/60000 [==============================] - 9s 149us/sample - loss: 0.0020 - accuracy: 0.9998 - val_loss: 0.0740 - val_accuracy: 0.9826\n",
            "Epoch 4/100\n",
            "60000/60000 [==============================] - 9s 152us/sample - loss: 0.0012 - accuracy: 1.0000 - val_loss: 0.0821 - val_accuracy: 0.9835\n",
            "Epoch 5/100\n",
            "60000/60000 [==============================] - 9s 149us/sample - loss: 0.0014 - accuracy: 0.9997 - val_loss: 0.1009 - val_accuracy: 0.9793\n",
            "\n",
            "Round = 10, total number of trainable parameters = 28977\n",
            "\n",
            "\n",
            "\n",
            "\n",
            "Iterative pruning round: 11\n",
            "\n",
            "\n",
            "Epoch 1, Loss: 0.1358, Accuracy: 96.3867, Test Loss: 0.0713, Test Accuracy: 97.839996\n",
            "Total number of trainable parameters = 28970\n",
            "\n",
            "Epoch 2, Loss: 0.0432, Accuracy: 98.7233, Test Loss: 0.0605, Test Accuracy: 98.150002\n",
            "Total number of trainable parameters = 28970\n",
            "\n",
            "Epoch 3, Loss: 0.0267, Accuracy: 99.2100, Test Loss: 0.0573, Test Accuracy: 98.309998\n",
            "Total number of trainable parameters = 28970\n",
            "\n",
            "Epoch 4, Loss: 0.0178, Accuracy: 99.5450, Test Loss: 0.0622, Test Accuracy: 98.269997\n",
            "Total number of trainable parameters = 28970\n",
            "\n",
            "Epoch 5, Loss: 0.0123, Accuracy: 99.7017, Test Loss: 0.0616, Test Accuracy: 98.189995\n",
            "Total number of trainable parameters = 28970\n",
            "\n",
            "Epoch 6, Loss: 0.0083, Accuracy: 99.8383, Test Loss: 0.0660, Test Accuracy: 98.309998\n",
            "Total number of trainable parameters = 28970\n",
            "\n",
            "\n",
            "'EarlyStopping' called!\n",
            "\n",
            "Train on 60000 samples, validate on 10000 samples\n",
            "Epoch 1/100\n",
            "60000/60000 [==============================] - 10s 167us/sample - loss: 0.0067 - accuracy: 0.9983 - val_loss: 0.0761 - val_accuracy: 0.9811\n",
            "Epoch 2/100\n",
            "60000/60000 [==============================] - 9s 144us/sample - loss: 0.0086 - accuracy: 0.9979 - val_loss: 0.0713 - val_accuracy: 0.9818\n",
            "Epoch 3/100\n",
            "60000/60000 [==============================] - 9s 157us/sample - loss: 0.0041 - accuracy: 0.9996 - val_loss: 0.0720 - val_accuracy: 0.9825\n",
            "Epoch 4/100\n",
            "60000/60000 [==============================] - 9s 157us/sample - loss: 0.0028 - accuracy: 0.9997 - val_loss: 0.0785 - val_accuracy: 0.9820\n",
            "Epoch 5/100\n",
            "60000/60000 [==============================] - 10s 159us/sample - loss: 0.0021 - accuracy: 0.9998 - val_loss: 0.0889 - val_accuracy: 0.9826\n",
            "\n",
            "Round = 11, total number of trainable parameters = 23256\n",
            "\n",
            "\n",
            "\n",
            "\n",
            "Iterative pruning round: 12\n",
            "\n",
            "\n",
            "Epoch 1, Loss: 0.1566, Accuracy: 95.9000, Test Loss: 0.0807, Test Accuracy: 97.639999\n",
            "Total number of trainable parameters = 23240\n",
            "\n",
            "Epoch 2, Loss: 0.0511, Accuracy: 98.4833, Test Loss: 0.0647, Test Accuracy: 98.110001\n",
            "Total number of trainable parameters = 23240\n",
            "\n",
            "Epoch 3, Loss: 0.0324, Accuracy: 99.0850, Test Loss: 0.0617, Test Accuracy: 98.169998\n",
            "Total number of trainable parameters = 23240\n",
            "\n",
            "Epoch 4, Loss: 0.0221, Accuracy: 99.3867, Test Loss: 0.0636, Test Accuracy: 98.089996\n",
            "Total number of trainable parameters = 23240\n",
            "\n",
            "Epoch 5, Loss: 0.0165, Accuracy: 99.5783, Test Loss: 0.0640, Test Accuracy: 98.209999\n",
            "Total number of trainable parameters = 23240\n",
            "\n",
            "Epoch 6, Loss: 0.0115, Accuracy: 99.7267, Test Loss: 0.0663, Test Accuracy: 98.309998\n",
            "Total number of trainable parameters = 23240\n",
            "\n",
            "\n",
            "'EarlyStopping' called!\n",
            "\n",
            "Train on 60000 samples, validate on 10000 samples\n",
            "Epoch 1/100\n",
            "60000/60000 [==============================] - 9s 151us/sample - loss: 0.0094 - accuracy: 0.9978 - val_loss: 0.0707 - val_accuracy: 0.9815\n",
            "Epoch 2/100\n",
            "60000/60000 [==============================] - 8s 139us/sample - loss: 0.0123 - accuracy: 0.9973 - val_loss: 0.0725 - val_accuracy: 0.9822\n",
            "Epoch 3/100\n",
            "60000/60000 [==============================] - 8s 139us/sample - loss: 0.0069 - accuracy: 0.9987 - val_loss: 0.0722 - val_accuracy: 0.9826\n",
            "Epoch 4/100\n",
            "60000/60000 [==============================] - 9s 147us/sample - loss: 0.0049 - accuracy: 0.9993 - val_loss: 0.0800 - val_accuracy: 0.9808\n",
            "\n",
            "Round = 12, total number of trainable parameters = 18667\n",
            "\n",
            "\n",
            "\n",
            "\n",
            "Iterative pruning round: 13\n",
            "\n",
            "\n",
            "Epoch 1, Loss: 0.1680, Accuracy: 95.6200, Test Loss: 0.0902, Test Accuracy: 97.379997\n",
            "Total number of trainable parameters = 18652\n",
            "\n",
            "Epoch 2, Loss: 0.0590, Accuracy: 98.2233, Test Loss: 0.0745, Test Accuracy: 97.719994\n",
            "Total number of trainable parameters = 18652\n",
            "\n",
            "Epoch 3, Loss: 0.0399, Accuracy: 98.7933, Test Loss: 0.0690, Test Accuracy: 98.059998\n",
            "Total number of trainable parameters = 18652\n",
            "\n",
            "Epoch 4, Loss: 0.0289, Accuracy: 99.1683, Test Loss: 0.0650, Test Accuracy: 98.139999\n",
            "Total number of trainable parameters = 18652\n",
            "\n",
            "Epoch 5, Loss: 0.0221, Accuracy: 99.4250, Test Loss: 0.0688, Test Accuracy: 98.139999\n",
            "Total number of trainable parameters = 18652\n",
            "\n",
            "Epoch 6, Loss: 0.0170, Accuracy: 99.5433, Test Loss: 0.0668, Test Accuracy: 98.239998\n",
            "Total number of trainable parameters = 18652\n",
            "\n",
            "Epoch 7, Loss: 0.0131, Accuracy: 99.6683, Test Loss: 0.0727, Test Accuracy: 98.239998\n",
            "Total number of trainable parameters = 18652\n",
            "\n",
            "\n",
            "'EarlyStopping' called!\n",
            "\n",
            "Train on 60000 samples, validate on 10000 samples\n",
            "Epoch 1/100\n",
            "60000/60000 [==============================] - 9s 150us/sample - loss: 0.0108 - accuracy: 0.9971 - val_loss: 0.0767 - val_accuracy: 0.9815\n",
            "Epoch 2/100\n",
            "60000/60000 [==============================] - 9s 143us/sample - loss: 0.0270 - accuracy: 0.9925 - val_loss: 0.0736 - val_accuracy: 0.9799\n",
            "Epoch 3/100\n",
            "60000/60000 [==============================] - 8s 140us/sample - loss: 0.0128 - accuracy: 0.9971 - val_loss: 0.0758 - val_accuracy: 0.9794\n",
            "Epoch 4/100\n",
            "60000/60000 [==============================] - 8s 141us/sample - loss: 0.0096 - accuracy: 0.9980 - val_loss: 0.0789 - val_accuracy: 0.9801\n",
            "Epoch 5/100\n",
            "60000/60000 [==============================] - 8s 140us/sample - loss: 0.0078 - accuracy: 0.9985 - val_loss: 0.0809 - val_accuracy: 0.9803\n",
            "\n",
            "Round = 13, total number of trainable parameters = 14993\n",
            "\n",
            "\n",
            "\n",
            "\n",
            "Iterative pruning round: 14\n",
            "\n",
            "\n",
            "Epoch 1, Loss: 0.1928, Accuracy: 94.7400, Test Loss: 0.1005, Test Accuracy: 97.129997\n",
            "Total number of trainable parameters = 14967\n",
            "\n",
            "Epoch 2, Loss: 0.0730, Accuracy: 97.8733, Test Loss: 0.0812, Test Accuracy: 97.689995\n",
            "Total number of trainable parameters = 14967\n",
            "\n",
            "Epoch 3, Loss: 0.0524, Accuracy: 98.3967, Test Loss: 0.0769, Test Accuracy: 97.680000\n",
            "Total number of trainable parameters = 14967\n",
            "\n",
            "Epoch 4, Loss: 0.0407, Accuracy: 98.7833, Test Loss: 0.0719, Test Accuracy: 97.839996\n",
            "Total number of trainable parameters = 14967\n",
            "\n",
            "Epoch 5, Loss: 0.0326, Accuracy: 99.0533, Test Loss: 0.0723, Test Accuracy: 98.040001\n",
            "Total number of trainable parameters = 14967\n",
            "\n",
            "Epoch 6, Loss: 0.0263, Accuracy: 99.2417, Test Loss: 0.0704, Test Accuracy: 98.159996\n",
            "Total number of trainable parameters = 14967\n",
            "\n",
            "Epoch 7, Loss: 0.0221, Accuracy: 99.3900, Test Loss: 0.0740, Test Accuracy: 98.079994\n",
            "Total number of trainable parameters = 14967\n",
            "\n",
            "Epoch 8, Loss: 0.0184, Accuracy: 99.4800, Test Loss: 0.0747, Test Accuracy: 98.049995\n",
            "Total number of trainable parameters = 14967\n",
            "\n",
            "Epoch 9, Loss: 0.0160, Accuracy: 99.5750, Test Loss: 0.0769, Test Accuracy: 98.019997\n",
            "Total number of trainable parameters = 14967\n",
            "\n",
            "\n",
            "'EarlyStopping' called!\n",
            "\n",
            "Train on 60000 samples, validate on 10000 samples\n",
            "Epoch 1/100\n",
            "60000/60000 [==============================] - 10s 173us/sample - loss: 0.0136 - accuracy: 0.9962 - val_loss: 0.0806 - val_accuracy: 0.9803\n",
            "Epoch 2/100\n",
            "60000/60000 [==============================] - 9s 152us/sample - loss: 0.1899 - accuracy: 0.9670 - val_loss: 0.1361 - val_accuracy: 0.9730\n",
            "Epoch 3/100\n",
            "60000/60000 [==============================] - 10s 160us/sample - loss: 0.0726 - accuracy: 0.9872 - val_loss: 0.1016 - val_accuracy: 0.9770\n",
            "Epoch 4/100\n",
            "60000/60000 [==============================] - 9s 150us/sample - loss: 0.0485 - accuracy: 0.9903 - val_loss: 0.0897 - val_accuracy: 0.9778\n",
            "\n",
            "Round = 14, total number of trainable parameters = 12039\n",
            "\n",
            "\n",
            "\n",
            "\n",
            "Iterative pruning round: 15\n",
            "\n",
            "\n",
            "Epoch 1, Loss: 0.3521, Accuracy: 92.0717, Test Loss: 0.1627, Test Accuracy: 96.559998\n",
            "Total number of trainable parameters = 12008\n",
            "\n",
            "Epoch 2, Loss: 0.1168, Accuracy: 97.5083, Test Loss: 0.1147, Test Accuracy: 97.290001\n",
            "Total number of trainable parameters = 12008\n",
            "\n",
            "Epoch 3, Loss: 0.0798, Accuracy: 98.1850, Test Loss: 0.0959, Test Accuracy: 97.570000\n",
            "Total number of trainable parameters = 12008\n",
            "\n",
            "Epoch 4, Loss: 0.0605, Accuracy: 98.5833, Test Loss: 0.0862, Test Accuracy: 97.689995\n",
            "Total number of trainable parameters = 12008\n",
            "\n",
            "Epoch 5, Loss: 0.0485, Accuracy: 98.8117, Test Loss: 0.0833, Test Accuracy: 97.750000\n",
            "Total number of trainable parameters = 12008\n",
            "\n",
            "Epoch 6, Loss: 0.0400, Accuracy: 98.9733, Test Loss: 0.0813, Test Accuracy: 97.739998\n",
            "Total number of trainable parameters = 12008\n",
            "\n",
            "Epoch 7, Loss: 0.0339, Accuracy: 99.1150, Test Loss: 0.0807, Test Accuracy: 97.820000\n",
            "Total number of trainable parameters = 12008\n",
            "\n",
            "Epoch 8, Loss: 0.0290, Accuracy: 99.2733, Test Loss: 0.0803, Test Accuracy: 97.839996\n",
            "Total number of trainable parameters = 12008\n",
            "\n",
            "Epoch 9, Loss: 0.0254, Accuracy: 99.3517, Test Loss: 0.0810, Test Accuracy: 97.839996\n",
            "Total number of trainable parameters = 12008\n",
            "\n",
            "Epoch 10, Loss: 0.0221, Accuracy: 99.4450, Test Loss: 0.0803, Test Accuracy: 97.919998\n",
            "Total number of trainable parameters = 12008\n",
            "\n",
            "Epoch 11, Loss: 0.0195, Accuracy: 99.5350, Test Loss: 0.0850, Test Accuracy: 97.889999\n",
            "Total number of trainable parameters = 12008\n",
            "\n",
            "Epoch 12, Loss: 0.0172, Accuracy: 99.5850, Test Loss: 0.0879, Test Accuracy: 97.809998\n",
            "Total number of trainable parameters = 12008\n",
            "\n",
            "Epoch 13, Loss: 0.0154, Accuracy: 99.6383, Test Loss: 0.0904, Test Accuracy: 97.739998\n",
            "Total number of trainable parameters = 12008\n",
            "\n",
            "\n",
            "'EarlyStopping' called!\n",
            "\n",
            "Train on 60000 samples, validate on 10000 samples\n",
            "Epoch 1/100\n",
            "60000/60000 [==============================] - 10s 169us/sample - loss: 0.0144 - accuracy: 0.9966 - val_loss: 0.0895 - val_accuracy: 0.9789\n",
            "Epoch 2/100\n",
            "60000/60000 [==============================] - 9s 152us/sample - loss: 0.0910 - accuracy: 0.9797 - val_loss: 0.1114 - val_accuracy: 0.9727\n",
            "Epoch 3/100\n",
            "60000/60000 [==============================] - 9s 154us/sample - loss: 0.0472 - accuracy: 0.9894 - val_loss: 0.0998 - val_accuracy: 0.9753\n",
            "Epoch 4/100\n",
            "60000/60000 [==============================] - 10s 160us/sample - loss: 0.0359 - accuracy: 0.9916 - val_loss: 0.0944 - val_accuracy: 0.9762\n",
            "\n",
            "Round = 15, total number of trainable parameters = 9665\n",
            "\n",
            "\n",
            "\n",
            "\n",
            "Iterative pruning round: 16\n",
            "\n",
            "\n",
            "Epoch 1, Loss: 0.4586, Accuracy: 91.5050, Test Loss: 0.2094, Test Accuracy: 96.360001\n",
            "Total number of trainable parameters = 9644\n",
            "\n",
            "Epoch 2, Loss: 0.1571, Accuracy: 96.9167, Test Loss: 0.1393, Test Accuracy: 96.959999\n",
            "Total number of trainable parameters = 9644\n",
            "\n",
            "Epoch 3, Loss: 0.1059, Accuracy: 97.6517, Test Loss: 0.1117, Test Accuracy: 97.360001\n",
            "Total number of trainable parameters = 9644\n",
            "\n",
            "Epoch 4, Loss: 0.0816, Accuracy: 98.1000, Test Loss: 0.1005, Test Accuracy: 97.439995\n",
            "Total number of trainable parameters = 9644\n",
            "\n",
            "Epoch 5, Loss: 0.0660, Accuracy: 98.3983, Test Loss: 0.0939, Test Accuracy: 97.549995\n",
            "Total number of trainable parameters = 9644\n",
            "\n",
            "Epoch 6, Loss: 0.0564, Accuracy: 98.5650, Test Loss: 0.0887, Test Accuracy: 97.610001\n",
            "Total number of trainable parameters = 9644\n",
            "\n",
            "Epoch 7, Loss: 0.0489, Accuracy: 98.7650, Test Loss: 0.0878, Test Accuracy: 97.639999\n",
            "Total number of trainable parameters = 9644\n",
            "\n",
            "Epoch 8, Loss: 0.0432, Accuracy: 98.8783, Test Loss: 0.0869, Test Accuracy: 97.669998\n",
            "Total number of trainable parameters = 9644\n",
            "\n",
            "Epoch 9, Loss: 0.0390, Accuracy: 98.9767, Test Loss: 0.0859, Test Accuracy: 97.709999\n",
            "Total number of trainable parameters = 9644\n",
            "\n",
            "Epoch 10, Loss: 0.0358, Accuracy: 99.0750, Test Loss: 0.0857, Test Accuracy: 97.649994\n",
            "Total number of trainable parameters = 9644\n",
            "\n",
            "Epoch 11, Loss: 0.0326, Accuracy: 99.1383, Test Loss: 0.0871, Test Accuracy: 97.709999\n",
            "Total number of trainable parameters = 9644\n",
            "\n",
            "Epoch 12, Loss: 0.0300, Accuracy: 99.2350, Test Loss: 0.0897, Test Accuracy: 97.669998\n",
            "Total number of trainable parameters = 9644\n",
            "\n",
            "Epoch 13, Loss: 0.0278, Accuracy: 99.2733, Test Loss: 0.0902, Test Accuracy: 97.629997\n",
            "Total number of trainable parameters = 9644\n",
            "\n",
            "\n",
            "'EarlyStopping' called!\n",
            "\n",
            "Train on 60000 samples, validate on 10000 samples\n",
            "Epoch 1/100\n",
            "60000/60000 [==============================] - 10s 163us/sample - loss: 0.0260 - accuracy: 0.9932 - val_loss: 0.0940 - val_accuracy: 0.9764\n",
            "Epoch 2/100\n",
            "60000/60000 [==============================] - 9s 147us/sample - loss: 0.1617 - accuracy: 0.9721 - val_loss: 0.1480 - val_accuracy: 0.9671\n",
            "Epoch 3/100\n",
            "60000/60000 [==============================] - 9s 144us/sample - loss: 0.0781 - accuracy: 0.9838 - val_loss: 0.1245 - val_accuracy: 0.9707\n",
            "Epoch 4/100\n",
            "60000/60000 [==============================] - 8s 141us/sample - loss: 0.0588 - accuracy: 0.9864 - val_loss: 0.1157 - val_accuracy: 0.9720\n",
            "\n",
            "Round = 16, total number of trainable parameters = 7774\n",
            "\n",
            "\n",
            "\n",
            "\n",
            "Iterative pruning round: 17\n",
            "\n",
            "\n",
            "Epoch 1, Loss: 0.6075, Accuracy: 90.6667, Test Loss: 0.3185, Test Accuracy: 95.810005\n",
            "Total number of trainable parameters = 7753\n",
            "\n",
            "Epoch 2, Loss: 0.2408, Accuracy: 96.5900, Test Loss: 0.2112, Test Accuracy: 96.620003\n",
            "Total number of trainable parameters = 7753\n",
            "\n",
            "Epoch 3, Loss: 0.1642, Accuracy: 97.2817, Test Loss: 0.1680, Test Accuracy: 96.860001\n",
            "Total number of trainable parameters = 7753\n",
            "\n",
            "Epoch 4, Loss: 0.1257, Accuracy: 97.6700, Test Loss: 0.1426, Test Accuracy: 96.970001\n",
            "Total number of trainable parameters = 7753\n",
            "\n",
            "Epoch 5, Loss: 0.1015, Accuracy: 97.9450, Test Loss: 0.1290, Test Accuracy: 97.040001\n",
            "Total number of trainable parameters = 7753\n",
            "\n",
            "Epoch 6, Loss: 0.0859, Accuracy: 98.1483, Test Loss: 0.1199, Test Accuracy: 97.159996\n",
            "Total number of trainable parameters = 7753\n",
            "\n",
            "Epoch 7, Loss: 0.0750, Accuracy: 98.2833, Test Loss: 0.1157, Test Accuracy: 97.129997\n",
            "Total number of trainable parameters = 7753\n",
            "\n",
            "Epoch 8, Loss: 0.0668, Accuracy: 98.4083, Test Loss: 0.1093, Test Accuracy: 97.259995\n",
            "Total number of trainable parameters = 7753\n",
            "\n",
            "Epoch 9, Loss: 0.0606, Accuracy: 98.5367, Test Loss: 0.1071, Test Accuracy: 97.320000\n",
            "Total number of trainable parameters = 7753\n",
            "\n",
            "Epoch 10, Loss: 0.0560, Accuracy: 98.6633, Test Loss: 0.1061, Test Accuracy: 97.330002\n",
            "Total number of trainable parameters = 7753\n",
            "\n",
            "Epoch 11, Loss: 0.0517, Accuracy: 98.6617, Test Loss: 0.1052, Test Accuracy: 97.339996\n",
            "Total number of trainable parameters = 7753\n",
            "\n",
            "Epoch 12, Loss: 0.0486, Accuracy: 98.7617, Test Loss: 0.1063, Test Accuracy: 97.239998\n",
            "Total number of trainable parameters = 7753\n",
            "\n",
            "Epoch 13, Loss: 0.0457, Accuracy: 98.8567, Test Loss: 0.1060, Test Accuracy: 97.290001\n",
            "Total number of trainable parameters = 7753\n",
            "\n",
            "Epoch 14, Loss: 0.0431, Accuracy: 98.8983, Test Loss: 0.1070, Test Accuracy: 97.339996\n",
            "Total number of trainable parameters = 7753\n",
            "\n",
            "\n",
            "'EarlyStopping' called!\n",
            "\n",
            "Train on 60000 samples, validate on 10000 samples\n",
            "Epoch 1/100\n",
            "60000/60000 [==============================] - 10s 175us/sample - loss: 0.0415 - accuracy: 0.9888 - val_loss: 0.1066 - val_accuracy: 0.9731\n",
            "Epoch 2/100\n",
            "60000/60000 [==============================] - 9s 153us/sample - loss: 0.0583 - accuracy: 0.9832 - val_loss: 0.1176 - val_accuracy: 0.9694\n",
            "Epoch 3/100\n",
            "60000/60000 [==============================] - 10s 167us/sample - loss: 0.0490 - accuracy: 0.9860 - val_loss: 0.1140 - val_accuracy: 0.9718\n",
            "Epoch 4/100\n",
            "60000/60000 [==============================] - 9s 153us/sample - loss: 0.0462 - accuracy: 0.9870 - val_loss: 0.1154 - val_accuracy: 0.9723\n",
            "\n",
            "Round = 17, total number of trainable parameters = 6255\n",
            "\n",
            "\n",
            "\n",
            "\n",
            "Iterative pruning round: 18\n",
            "\n",
            "\n",
            "Epoch 1, Loss: 0.6126, Accuracy: 90.0600, Test Loss: 0.3190, Test Accuracy: 95.570000\n",
            "Total number of trainable parameters = 6241\n",
            "\n",
            "Epoch 2, Loss: 0.2449, Accuracy: 96.3783, Test Loss: 0.2154, Test Accuracy: 96.300003\n",
            "Total number of trainable parameters = 6241\n",
            "\n",
            "Epoch 3, Loss: 0.1699, Accuracy: 97.0367, Test Loss: 0.1711, Test Accuracy: 96.699997\n",
            "Total number of trainable parameters = 6241\n",
            "\n",
            "Epoch 4, Loss: 0.1311, Accuracy: 97.4650, Test Loss: 0.1462, Test Accuracy: 96.959999\n",
            "Total number of trainable parameters = 6241\n",
            "\n",
            "Epoch 5, Loss: 0.1075, Accuracy: 97.7700, Test Loss: 0.1320, Test Accuracy: 96.959999\n",
            "Total number of trainable parameters = 6241\n",
            "\n",
            "Epoch 6, Loss: 0.0921, Accuracy: 97.9450, Test Loss: 0.1254, Test Accuracy: 97.010002\n",
            "Total number of trainable parameters = 6241\n",
            "\n",
            "Epoch 7, Loss: 0.0809, Accuracy: 98.1067, Test Loss: 0.1193, Test Accuracy: 97.180000\n",
            "Total number of trainable parameters = 6241\n",
            "\n",
            "Epoch 8, Loss: 0.0731, Accuracy: 98.2117, Test Loss: 0.1184, Test Accuracy: 97.099998\n",
            "Total number of trainable parameters = 6241\n",
            "\n",
            "Epoch 9, Loss: 0.0672, Accuracy: 98.3267, Test Loss: 0.1134, Test Accuracy: 97.139999\n",
            "Total number of trainable parameters = 6241\n",
            "\n",
            "Epoch 10, Loss: 0.0626, Accuracy: 98.3950, Test Loss: 0.1138, Test Accuracy: 97.089996\n",
            "Total number of trainable parameters = 6241\n",
            "\n",
            "Epoch 11, Loss: 0.0584, Accuracy: 98.4867, Test Loss: 0.1141, Test Accuracy: 97.129997\n",
            "Total number of trainable parameters = 6241\n",
            "\n",
            "Epoch 12, Loss: 0.0553, Accuracy: 98.5283, Test Loss: 0.1137, Test Accuracy: 97.099998\n",
            "Total number of trainable parameters = 6241\n",
            "\n",
            "\n",
            "'EarlyStopping' called!\n",
            "\n",
            "Train on 60000 samples, validate on 10000 samples\n",
            "Epoch 1/100\n",
            "60000/60000 [==============================] - 10s 172us/sample - loss: 0.0525 - accuracy: 0.9860 - val_loss: 0.1166 - val_accuracy: 0.9721\n",
            "Epoch 2/100\n",
            "60000/60000 [==============================] - 9s 153us/sample - loss: 0.0868 - accuracy: 0.9746 - val_loss: 0.1277 - val_accuracy: 0.9679\n",
            "Epoch 3/100\n",
            "60000/60000 [==============================] - 9s 153us/sample - loss: 0.0718 - accuracy: 0.9795 - val_loss: 0.1255 - val_accuracy: 0.9694\n",
            "Epoch 4/100\n",
            "60000/60000 [==============================] - 9s 144us/sample - loss: 0.0678 - accuracy: 0.9809 - val_loss: 0.1226 - val_accuracy: 0.9699\n",
            "\n",
            "Round = 18, total number of trainable parameters = 5039\n",
            "\n",
            "\n",
            "\n",
            "\n",
            "Iterative pruning round: 19\n",
            "\n",
            "\n",
            "Epoch 1, Loss: 0.6644, Accuracy: 89.0350, Test Loss: 0.3512, Test Accuracy: 95.099998\n",
            "Total number of trainable parameters = 5005\n",
            "\n",
            "Epoch 2, Loss: 0.2718, Accuracy: 95.6517, Test Loss: 0.2380, Test Accuracy: 95.880005\n",
            "Total number of trainable parameters = 5005\n",
            "\n",
            "Epoch 3, Loss: 0.1927, Accuracy: 96.3383, Test Loss: 0.1910, Test Accuracy: 96.270004\n",
            "Total number of trainable parameters = 5005\n",
            "\n",
            "Epoch 4, Loss: 0.1528, Accuracy: 96.8033, Test Loss: 0.1665, Test Accuracy: 96.459999\n",
            "Total number of trainable parameters = 5005\n",
            "\n",
            "Epoch 5, Loss: 0.1291, Accuracy: 97.0583, Test Loss: 0.1509, Test Accuracy: 96.680000\n",
            "Total number of trainable parameters = 5005\n",
            "\n",
            "Epoch 6, Loss: 0.1131, Accuracy: 97.2817, Test Loss: 0.1425, Test Accuracy: 96.879997\n",
            "Total number of trainable parameters = 5005\n",
            "\n",
            "Epoch 7, Loss: 0.1021, Accuracy: 97.4717, Test Loss: 0.1353, Test Accuracy: 96.770004\n",
            "Total number of trainable parameters = 5005\n",
            "\n",
            "Epoch 8, Loss: 0.0938, Accuracy: 97.6200, Test Loss: 0.1308, Test Accuracy: 96.919998\n",
            "Total number of trainable parameters = 5005\n",
            "\n",
            "Epoch 9, Loss: 0.0877, Accuracy: 97.6617, Test Loss: 0.1286, Test Accuracy: 96.959999\n",
            "Total number of trainable parameters = 5005\n",
            "\n",
            "Epoch 10, Loss: 0.0827, Accuracy: 97.8117, Test Loss: 0.1279, Test Accuracy: 96.900002\n",
            "Total number of trainable parameters = 5005\n",
            "\n",
            "Epoch 11, Loss: 0.0790, Accuracy: 97.8533, Test Loss: 0.1257, Test Accuracy: 96.839996\n",
            "Total number of trainable parameters = 5005\n",
            "\n",
            "Epoch 12, Loss: 0.0758, Accuracy: 97.9517, Test Loss: 0.1266, Test Accuracy: 96.839996\n",
            "Total number of trainable parameters = 5005\n",
            "\n",
            "Epoch 13, Loss: 0.0730, Accuracy: 98.0033, Test Loss: 0.1251, Test Accuracy: 96.900002\n",
            "Total number of trainable parameters = 5005\n",
            "\n",
            "Epoch 14, Loss: 0.0706, Accuracy: 98.0383, Test Loss: 0.1253, Test Accuracy: 96.970001\n",
            "Total number of trainable parameters = 5005\n",
            "\n",
            "Epoch 15, Loss: 0.0686, Accuracy: 98.1017, Test Loss: 0.1268, Test Accuracy: 96.849998\n",
            "Total number of trainable parameters = 5005\n",
            "\n",
            "Epoch 16, Loss: 0.0665, Accuracy: 98.1750, Test Loss: 0.1250, Test Accuracy: 96.900002\n",
            "Total number of trainable parameters = 5005\n",
            "\n",
            "Epoch 17, Loss: 0.0646, Accuracy: 98.2083, Test Loss: 0.1255, Test Accuracy: 96.879997\n",
            "Total number of trainable parameters = 5005\n",
            "\n",
            "Epoch 18, Loss: 0.0632, Accuracy: 98.2250, Test Loss: 0.1268, Test Accuracy: 96.849998\n",
            "Total number of trainable parameters = 5005\n",
            "\n",
            "Epoch 19, Loss: 0.0619, Accuracy: 98.2233, Test Loss: 0.1265, Test Accuracy: 96.820000\n",
            "Total number of trainable parameters = 5005\n",
            "\n",
            "\n",
            "'EarlyStopping' called!\n",
            "\n",
            "Train on 60000 samples, validate on 10000 samples\n",
            "Epoch 1/100\n",
            "60000/60000 [==============================] - 10s 164us/sample - loss: 0.0605 - accuracy: 0.9825 - val_loss: 0.1281 - val_accuracy: 0.9684\n",
            "Epoch 2/100\n",
            "60000/60000 [==============================] - 9s 155us/sample - loss: 1.6861 - accuracy: 0.7427 - val_loss: 1.3944 - val_accuracy: 0.7468\n",
            "Epoch 3/100\n",
            "60000/60000 [==============================] - 9s 150us/sample - loss: 1.0969 - accuracy: 0.7591 - val_loss: 0.9775 - val_accuracy: 0.7503\n",
            "Epoch 4/100\n",
            "60000/60000 [==============================] - 9s 146us/sample - loss: 0.7997 - accuracy: 0.7614 - val_loss: 0.7644 - val_accuracy: 0.7530\n",
            "\n",
            "Round = 19, total number of trainable parameters = 4046\n",
            "\n",
            "\n",
            "\n",
            "\n",
            "Iterative pruning round: 20\n",
            "\n",
            "\n",
            "Epoch 1, Loss: 1.0003, Accuracy: 70.4633, Test Loss: 0.6908, Test Accuracy: 75.720001\n",
            "Total number of trainable parameters = 4004\n",
            "\n",
            "Epoch 2, Loss: 0.6241, Accuracy: 76.0350, Test Loss: 0.5854, Test Accuracy: 76.120003\n",
            "Total number of trainable parameters = 4004\n",
            "\n",
            "Epoch 3, Loss: 0.5527, Accuracy: 76.5367, Test Loss: 0.5435, Test Accuracy: 76.270004\n",
            "Total number of trainable parameters = 4004\n",
            "\n",
            "Epoch 4, Loss: 0.5189, Accuracy: 76.7900, Test Loss: 0.5238, Test Accuracy: 76.430000\n",
            "Total number of trainable parameters = 4004\n",
            "\n",
            "Epoch 5, Loss: 0.4991, Accuracy: 76.9967, Test Loss: 0.5109, Test Accuracy: 76.450005\n",
            "Total number of trainable parameters = 4004\n",
            "\n",
            "Epoch 6, Loss: 0.4863, Accuracy: 77.1000, Test Loss: 0.5030, Test Accuracy: 76.610001\n",
            "Total number of trainable parameters = 4004\n",
            "\n",
            "Epoch 7, Loss: 0.4773, Accuracy: 77.2117, Test Loss: 0.4980, Test Accuracy: 76.580002\n",
            "Total number of trainable parameters = 4004\n",
            "\n",
            "Epoch 8, Loss: 0.4708, Accuracy: 77.2617, Test Loss: 0.4942, Test Accuracy: 76.639999\n",
            "Total number of trainable parameters = 4004\n",
            "\n",
            "Epoch 9, Loss: 0.4657, Accuracy: 77.3583, Test Loss: 0.4935, Test Accuracy: 76.670006\n",
            "Total number of trainable parameters = 4004\n",
            "\n",
            "Epoch 10, Loss: 0.4619, Accuracy: 77.3583, Test Loss: 0.4901, Test Accuracy: 76.650002\n",
            "Total number of trainable parameters = 4004\n",
            "\n",
            "Epoch 11, Loss: 0.4588, Accuracy: 77.4083, Test Loss: 0.4900, Test Accuracy: 76.639999\n",
            "Total number of trainable parameters = 4004\n",
            "\n",
            "Epoch 12, Loss: 0.4559, Accuracy: 77.4800, Test Loss: 0.4891, Test Accuracy: 76.670006\n",
            "Total number of trainable parameters = 4004\n",
            "\n",
            "Epoch 13, Loss: 0.4538, Accuracy: 77.5583, Test Loss: 0.4887, Test Accuracy: 76.570000\n",
            "Total number of trainable parameters = 4004\n",
            "\n",
            "Epoch 14, Loss: 0.4519, Accuracy: 77.5700, Test Loss: 0.4893, Test Accuracy: 76.660004\n",
            "Total number of trainable parameters = 4004\n",
            "\n",
            "Epoch 15, Loss: 0.4502, Accuracy: 77.6000, Test Loss: 0.4870, Test Accuracy: 76.810005\n",
            "Total number of trainable parameters = 4004\n",
            "\n",
            "Epoch 16, Loss: 0.4485, Accuracy: 77.6200, Test Loss: 0.4899, Test Accuracy: 76.730003\n",
            "Total number of trainable parameters = 4004\n",
            "\n",
            "Epoch 17, Loss: 0.4472, Accuracy: 77.6367, Test Loss: 0.4873, Test Accuracy: 76.810005\n",
            "Total number of trainable parameters = 4004\n",
            "\n",
            "Epoch 18, Loss: 0.4459, Accuracy: 77.6833, Test Loss: 0.4886, Test Accuracy: 76.760002\n",
            "Total number of trainable parameters = 4004\n",
            "\n",
            "\n",
            "'EarlyStopping' called!\n",
            "\n",
            "Train on 60000 samples, validate on 10000 samples\n",
            "Epoch 1/100\n",
            "60000/60000 [==============================] - 9s 150us/sample - loss: 0.4452 - accuracy: 0.7766 - val_loss: 0.4875 - val_accuracy: 0.7675\n",
            "Epoch 2/100\n",
            "60000/60000 [==============================] - 9s 145us/sample - loss: 1.6805 - accuracy: 0.6337 - val_loss: 1.2527 - val_accuracy: 0.6464\n",
            "Epoch 3/100\n",
            "60000/60000 [==============================] - 9s 143us/sample - loss: 0.9563 - accuracy: 0.6554 - val_loss: 0.8277 - val_accuracy: 0.6490\n",
            "Epoch 4/100\n",
            "60000/60000 [==============================] - 8s 141us/sample - loss: 0.7283 - accuracy: 0.6576 - val_loss: 0.7391 - val_accuracy: 0.6486\n",
            "\n",
            "Round = 20, total number of trainable parameters = 3239\n",
            "\n",
            "\n",
            "\n",
            "\n",
            "Iterative pruning round: 21\n",
            "\n",
            "\n",
            "Epoch 1, Loss: 1.2100, Accuracy: 61.2200, Test Loss: 0.9323, Test Accuracy: 65.729996\n",
            "Total number of trainable parameters = 3219\n",
            "\n",
            "Epoch 2, Loss: 0.8568, Accuracy: 66.4350, Test Loss: 0.8203, Test Accuracy: 66.529999\n",
            "Total number of trainable parameters = 3219\n",
            "\n",
            "Epoch 3, Loss: 0.7861, Accuracy: 66.8783, Test Loss: 0.7815, Test Accuracy: 66.649994\n",
            "Total number of trainable parameters = 3219\n",
            "\n",
            "Epoch 4, Loss: 0.7537, Accuracy: 67.1717, Test Loss: 0.7586, Test Accuracy: 66.809998\n",
            "Total number of trainable parameters = 3219\n",
            "\n",
            "Epoch 5, Loss: 0.7354, Accuracy: 67.2933, Test Loss: 0.7472, Test Accuracy: 66.809998\n",
            "Total number of trainable parameters = 3219\n",
            "\n",
            "Epoch 6, Loss: 0.7231, Accuracy: 67.4100, Test Loss: 0.7400, Test Accuracy: 66.869995\n",
            "Total number of trainable parameters = 3219\n",
            "\n",
            "Epoch 7, Loss: 0.7145, Accuracy: 67.5017, Test Loss: 0.7334, Test Accuracy: 67.019997\n",
            "Total number of trainable parameters = 3219\n",
            "\n",
            "Epoch 8, Loss: 0.7078, Accuracy: 67.6050, Test Loss: 0.7310, Test Accuracy: 67.049995\n",
            "Total number of trainable parameters = 3219\n",
            "\n",
            "Epoch 9, Loss: 0.7031, Accuracy: 67.6317, Test Loss: 0.7254, Test Accuracy: 67.079994\n",
            "Total number of trainable parameters = 3219\n",
            "\n",
            "Epoch 10, Loss: 0.6990, Accuracy: 67.7517, Test Loss: 0.7226, Test Accuracy: 67.139999\n",
            "Total number of trainable parameters = 3219\n",
            "\n",
            "Epoch 11, Loss: 0.6956, Accuracy: 67.7583, Test Loss: 0.7223, Test Accuracy: 67.059998\n",
            "Total number of trainable parameters = 3219\n",
            "\n",
            "Epoch 12, Loss: 0.6930, Accuracy: 67.8200, Test Loss: 0.7224, Test Accuracy: 67.180000\n",
            "Total number of trainable parameters = 3219\n",
            "\n",
            "Epoch 13, Loss: 0.6912, Accuracy: 67.8267, Test Loss: 0.7210, Test Accuracy: 67.159996\n",
            "Total number of trainable parameters = 3219\n",
            "\n",
            "Epoch 14, Loss: 0.6890, Accuracy: 67.8667, Test Loss: 0.7218, Test Accuracy: 67.029999\n",
            "Total number of trainable parameters = 3219\n",
            "\n",
            "Epoch 15, Loss: 0.6875, Accuracy: 67.9183, Test Loss: 0.7222, Test Accuracy: 67.139999\n",
            "Total number of trainable parameters = 3219\n",
            "\n",
            "Epoch 16, Loss: 0.6860, Accuracy: 67.8983, Test Loss: 0.7208, Test Accuracy: 67.119995\n",
            "Total number of trainable parameters = 3219\n",
            "\n",
            "Epoch 17, Loss: 0.6846, Accuracy: 67.8917, Test Loss: 0.7226, Test Accuracy: 67.199997\n",
            "Total number of trainable parameters = 3219\n",
            "\n",
            "Epoch 18, Loss: 0.6835, Accuracy: 67.9400, Test Loss: 0.7216, Test Accuracy: 67.070000\n",
            "Total number of trainable parameters = 3219\n",
            "\n",
            "Epoch 19, Loss: 0.6822, Accuracy: 67.9400, Test Loss: 0.7236, Test Accuracy: 67.169998\n",
            "Total number of trainable parameters = 3219\n",
            "\n",
            "\n",
            "'EarlyStopping' called!\n",
            "\n",
            "Train on 60000 samples, validate on 10000 samples\n",
            "Epoch 1/100\n",
            "60000/60000 [==============================] - 9s 150us/sample - loss: 0.6814 - accuracy: 0.6798 - val_loss: 0.7258 - val_accuracy: 0.6718\n",
            "Epoch 2/100\n",
            "60000/60000 [==============================] - 9s 145us/sample - loss: 1.0566 - accuracy: 0.5778 - val_loss: 1.0083 - val_accuracy: 0.5729\n",
            "Epoch 3/100\n",
            "60000/60000 [==============================] - 9s 147us/sample - loss: 0.9344 - accuracy: 0.5813 - val_loss: 0.9618 - val_accuracy: 0.5741\n",
            "Epoch 4/100\n",
            "60000/60000 [==============================] - 9s 157us/sample - loss: 0.9155 - accuracy: 0.5822 - val_loss: 0.9585 - val_accuracy: 0.5753\n",
            "\n",
            "Round = 21, total number of trainable parameters = 2604\n",
            "\n",
            "\n",
            "\n",
            "\n",
            "Iterative pruning round: 22\n",
            "\n",
            "\n",
            "Epoch 1, Loss: 1.3702, Accuracy: 52.9033, Test Loss: 1.1246, Test Accuracy: 56.199997\n",
            "Total number of trainable parameters = 2585\n",
            "\n",
            "Epoch 2, Loss: 1.0595, Accuracy: 56.9017, Test Loss: 1.0355, Test Accuracy: 56.550003\n",
            "Total number of trainable parameters = 2585\n",
            "\n",
            "Epoch 3, Loss: 1.0001, Accuracy: 57.3083, Test Loss: 1.0019, Test Accuracy: 57.110001\n",
            "Total number of trainable parameters = 2585\n",
            "\n",
            "Epoch 4, Loss: 0.9740, Accuracy: 57.5650, Test Loss: 0.9864, Test Accuracy: 57.209999\n",
            "Total number of trainable parameters = 2585\n",
            "\n",
            "Epoch 5, Loss: 0.9585, Accuracy: 57.7050, Test Loss: 0.9778, Test Accuracy: 57.349998\n",
            "Total number of trainable parameters = 2585\n",
            "\n",
            "Epoch 6, Loss: 0.9481, Accuracy: 57.8450, Test Loss: 0.9712, Test Accuracy: 57.389999\n",
            "Total number of trainable parameters = 2585\n",
            "\n",
            "Epoch 7, Loss: 0.9408, Accuracy: 57.9717, Test Loss: 0.9668, Test Accuracy: 57.349998\n",
            "Total number of trainable parameters = 2585\n",
            "\n",
            "Epoch 8, Loss: 0.9352, Accuracy: 58.0150, Test Loss: 0.9639, Test Accuracy: 57.470001\n",
            "Total number of trainable parameters = 2585\n",
            "\n",
            "Epoch 9, Loss: 0.9310, Accuracy: 58.0767, Test Loss: 0.9596, Test Accuracy: 57.639999\n",
            "Total number of trainable parameters = 2585\n",
            "\n",
            "Epoch 10, Loss: 0.9276, Accuracy: 58.1600, Test Loss: 0.9606, Test Accuracy: 57.470001\n",
            "Total number of trainable parameters = 2585\n",
            "\n",
            "Epoch 11, Loss: 0.9255, Accuracy: 58.1917, Test Loss: 0.9589, Test Accuracy: 57.560001\n",
            "Total number of trainable parameters = 2585\n",
            "\n",
            "Epoch 12, Loss: 0.9229, Accuracy: 58.2300, Test Loss: 0.9584, Test Accuracy: 57.660000\n",
            "Total number of trainable parameters = 2585\n",
            "\n",
            "Epoch 13, Loss: 0.9211, Accuracy: 58.2733, Test Loss: 0.9601, Test Accuracy: 57.580002\n",
            "Total number of trainable parameters = 2585\n",
            "\n",
            "Epoch 14, Loss: 0.9200, Accuracy: 58.2683, Test Loss: 0.9580, Test Accuracy: 57.599998\n",
            "Total number of trainable parameters = 2585\n",
            "\n",
            "Epoch 15, Loss: 0.9187, Accuracy: 58.2650, Test Loss: 0.9602, Test Accuracy: 57.500000\n",
            "Total number of trainable parameters = 2585\n",
            "\n",
            "Epoch 16, Loss: 0.9176, Accuracy: 58.2683, Test Loss: 0.9595, Test Accuracy: 57.500000\n",
            "Total number of trainable parameters = 2585\n",
            "\n",
            "Epoch 17, Loss: 0.9167, Accuracy: 58.2917, Test Loss: 0.9584, Test Accuracy: 57.570000\n",
            "Total number of trainable parameters = 2585\n",
            "\n",
            "\n",
            "'EarlyStopping' called!\n",
            "\n",
            "Train on 60000 samples, validate on 10000 samples\n",
            "Epoch 1/100\n",
            "60000/60000 [==============================] - 10s 169us/sample - loss: 0.9162 - accuracy: 0.5833 - val_loss: 0.9581 - val_accuracy: 0.5773\n",
            "Epoch 2/100\n",
            "60000/60000 [==============================] - 10s 161us/sample - loss: 1.0506 - accuracy: 0.5621 - val_loss: 1.0099 - val_accuracy: 0.5677\n",
            "Epoch 3/100\n",
            "60000/60000 [==============================] - 9s 153us/sample - loss: 0.9780 - accuracy: 0.5715 - val_loss: 0.9982 - val_accuracy: 0.5689\n",
            "Epoch 4/100\n",
            "60000/60000 [==============================] - 10s 168us/sample - loss: 0.9677 - accuracy: 0.5730 - val_loss: 0.9936 - val_accuracy: 0.5694\n",
            "\n",
            "Round = 22, total number of trainable parameters = 2094\n",
            "\n",
            "\n",
            "\n",
            "\n",
            "Iterative pruning round: 23\n",
            "\n",
            "\n",
            "Epoch 1, Loss: 1.4215, Accuracy: 51.6550, Test Loss: 1.1618, Test Accuracy: 55.500000\n",
            "Total number of trainable parameters = 2075\n",
            "\n",
            "Epoch 2, Loss: 1.1016, Accuracy: 56.2050, Test Loss: 1.0676, Test Accuracy: 56.279999\n",
            "Total number of trainable parameters = 2075\n",
            "\n",
            "Epoch 3, Loss: 1.0390, Accuracy: 56.6050, Test Loss: 1.0330, Test Accuracy: 56.529999\n",
            "Total number of trainable parameters = 2075\n",
            "\n",
            "Epoch 4, Loss: 1.0110, Accuracy: 56.8983, Test Loss: 1.0158, Test Accuracy: 56.739998\n",
            "Total number of trainable parameters = 2075\n",
            "\n",
            "Epoch 5, Loss: 0.9955, Accuracy: 57.0517, Test Loss: 1.0060, Test Accuracy: 56.889999\n",
            "Total number of trainable parameters = 2075\n",
            "\n",
            "Epoch 6, Loss: 0.9862, Accuracy: 57.1783, Test Loss: 1.0019, Test Accuracy: 56.840004\n",
            "Total number of trainable parameters = 2075\n",
            "\n",
            "Epoch 7, Loss: 0.9797, Accuracy: 57.2817, Test Loss: 0.9964, Test Accuracy: 56.950005\n",
            "Total number of trainable parameters = 2075\n",
            "\n",
            "Epoch 8, Loss: 0.9751, Accuracy: 57.3333, Test Loss: 0.9962, Test Accuracy: 56.900002\n",
            "Total number of trainable parameters = 2075\n",
            "\n",
            "Epoch 9, Loss: 0.9717, Accuracy: 57.3633, Test Loss: 0.9938, Test Accuracy: 57.090004\n",
            "Total number of trainable parameters = 2075\n",
            "\n",
            "Epoch 10, Loss: 0.9688, Accuracy: 57.4333, Test Loss: 0.9958, Test Accuracy: 56.779999\n",
            "Total number of trainable parameters = 2075\n",
            "\n",
            "Epoch 11, Loss: 0.9663, Accuracy: 57.4667, Test Loss: 0.9913, Test Accuracy: 56.989998\n",
            "Total number of trainable parameters = 2075\n",
            "\n",
            "Epoch 12, Loss: 0.9645, Accuracy: 57.4733, Test Loss: 0.9900, Test Accuracy: 57.040001\n",
            "Total number of trainable parameters = 2075\n",
            "\n",
            "Epoch 13, Loss: 0.9630, Accuracy: 57.4667, Test Loss: 0.9912, Test Accuracy: 56.970001\n",
            "Total number of trainable parameters = 2075\n",
            "\n",
            "Epoch 14, Loss: 0.9617, Accuracy: 57.5283, Test Loss: 0.9891, Test Accuracy: 57.010002\n",
            "Total number of trainable parameters = 2075\n",
            "\n",
            "Epoch 15, Loss: 0.9608, Accuracy: 57.5267, Test Loss: 0.9884, Test Accuracy: 56.989998\n",
            "Total number of trainable parameters = 2075\n",
            "\n",
            "Epoch 16, Loss: 0.9594, Accuracy: 57.5167, Test Loss: 0.9884, Test Accuracy: 57.090004\n",
            "Total number of trainable parameters = 2075\n",
            "\n",
            "Epoch 17, Loss: 0.9586, Accuracy: 57.5583, Test Loss: 0.9894, Test Accuracy: 57.059998\n",
            "Total number of trainable parameters = 2075\n",
            "\n",
            "Epoch 18, Loss: 0.9579, Accuracy: 57.5517, Test Loss: 0.9886, Test Accuracy: 57.099998\n",
            "Total number of trainable parameters = 2075\n",
            "\n",
            "Epoch 19, Loss: 0.9571, Accuracy: 57.5767, Test Loss: 0.9878, Test Accuracy: 57.040001\n",
            "Total number of trainable parameters = 2075\n",
            "\n",
            "Epoch 20, Loss: 0.9565, Accuracy: 57.5817, Test Loss: 0.9892, Test Accuracy: 57.000000\n",
            "Total number of trainable parameters = 2075\n",
            "\n",
            "Epoch 21, Loss: 0.9560, Accuracy: 57.5667, Test Loss: 0.9879, Test Accuracy: 57.090004\n",
            "Total number of trainable parameters = 2075\n",
            "\n",
            "Epoch 22, Loss: 0.9556, Accuracy: 57.6217, Test Loss: 0.9903, Test Accuracy: 57.029999\n",
            "Total number of trainable parameters = 2075\n",
            "\n",
            "\n",
            "'EarlyStopping' called!\n",
            "\n",
            "Train on 60000 samples, validate on 10000 samples\n",
            "Epoch 1/100\n",
            "60000/60000 [==============================] - 10s 170us/sample - loss: 0.9553 - accuracy: 0.5765 - val_loss: 0.9899 - val_accuracy: 0.5703\n",
            "Epoch 2/100\n",
            "60000/60000 [==============================] - 9s 153us/sample - loss: 0.9778 - accuracy: 0.5722 - val_loss: 0.9959 - val_accuracy: 0.5690\n",
            "Epoch 3/100\n",
            "60000/60000 [==============================] - 9s 154us/sample - loss: 0.9671 - accuracy: 0.5737 - val_loss: 0.9933 - val_accuracy: 0.5693\n",
            "Epoch 4/100\n",
            "60000/60000 [==============================] - 9s 148us/sample - loss: 0.9654 - accuracy: 0.5741 - val_loss: 0.9936 - val_accuracy: 0.5693\n",
            "\n",
            "Round = 23, total number of trainable parameters = 1682\n",
            "\n",
            "\n",
            "\n",
            "\n",
            "Iterative pruning round: 24\n",
            "\n",
            "\n",
            "Epoch 1, Loss: 1.4370, Accuracy: 51.4567, Test Loss: 1.1710, Test Accuracy: 55.500000\n",
            "Total number of trainable parameters = 1672\n",
            "\n",
            "Epoch 2, Loss: 1.1091, Accuracy: 55.9717, Test Loss: 1.0716, Test Accuracy: 56.019997\n",
            "Total number of trainable parameters = 1672\n",
            "\n",
            "Epoch 3, Loss: 1.0471, Accuracy: 56.4233, Test Loss: 1.0357, Test Accuracy: 56.320000\n",
            "Total number of trainable parameters = 1672\n",
            "\n",
            "Epoch 4, Loss: 1.0195, Accuracy: 56.6983, Test Loss: 1.0196, Test Accuracy: 56.699997\n",
            "Total number of trainable parameters = 1672\n",
            "\n",
            "Epoch 5, Loss: 1.0043, Accuracy: 56.8567, Test Loss: 1.0108, Test Accuracy: 56.680000\n",
            "Total number of trainable parameters = 1672\n",
            "\n",
            "Epoch 6, Loss: 0.9950, Accuracy: 56.9967, Test Loss: 1.0054, Test Accuracy: 56.800003\n",
            "Total number of trainable parameters = 1672\n",
            "\n",
            "Epoch 7, Loss: 0.9891, Accuracy: 57.0800, Test Loss: 1.0056, Test Accuracy: 56.650002\n",
            "Total number of trainable parameters = 1672\n",
            "\n",
            "Epoch 8, Loss: 0.9846, Accuracy: 57.1100, Test Loss: 0.9997, Test Accuracy: 56.739998\n",
            "Total number of trainable parameters = 1672\n",
            "\n",
            "Epoch 9, Loss: 0.9811, Accuracy: 57.1683, Test Loss: 1.0006, Test Accuracy: 56.809998\n",
            "Total number of trainable parameters = 1672\n",
            "\n",
            "Epoch 10, Loss: 0.9787, Accuracy: 57.2033, Test Loss: 0.9962, Test Accuracy: 56.889999\n",
            "Total number of trainable parameters = 1672\n",
            "\n",
            "Epoch 11, Loss: 0.9765, Accuracy: 57.2217, Test Loss: 0.9947, Test Accuracy: 56.870003\n",
            "Total number of trainable parameters = 1672\n",
            "\n",
            "Epoch 12, Loss: 0.9745, Accuracy: 57.2450, Test Loss: 0.9956, Test Accuracy: 56.840004\n",
            "Total number of trainable parameters = 1672\n",
            "\n",
            "Epoch 13, Loss: 0.9730, Accuracy: 57.2900, Test Loss: 0.9945, Test Accuracy: 56.849998\n",
            "Total number of trainable parameters = 1672\n",
            "\n",
            "Epoch 14, Loss: 0.9718, Accuracy: 57.2950, Test Loss: 0.9948, Test Accuracy: 56.900002\n",
            "Total number of trainable parameters = 1672\n",
            "\n",
            "Epoch 15, Loss: 0.9710, Accuracy: 57.2667, Test Loss: 0.9928, Test Accuracy: 56.910004\n",
            "Total number of trainable parameters = 1672\n",
            "\n",
            "Epoch 16, Loss: 0.9698, Accuracy: 57.3333, Test Loss: 0.9938, Test Accuracy: 56.900002\n",
            "Total number of trainable parameters = 1672\n",
            "\n",
            "Epoch 17, Loss: 0.9692, Accuracy: 57.2917, Test Loss: 0.9939, Test Accuracy: 56.889999\n",
            "Total number of trainable parameters = 1672\n",
            "\n",
            "Epoch 18, Loss: 0.9682, Accuracy: 57.3067, Test Loss: 0.9933, Test Accuracy: 56.889999\n",
            "Total number of trainable parameters = 1672\n",
            "\n",
            "\n",
            "'EarlyStopping' called!\n",
            "\n",
            "Train on 60000 samples, validate on 10000 samples\n",
            "Epoch 1/100\n",
            "60000/60000 [==============================] - 9s 150us/sample - loss: 0.9679 - accuracy: 0.5730 - val_loss: 0.9953 - val_accuracy: 0.5682\n",
            "Epoch 2/100\n",
            "60000/60000 [==============================] - 8s 138us/sample - loss: 3.3220 - accuracy: 0.3433 - val_loss: 2.5002 - val_accuracy: 0.4392\n",
            "Epoch 3/100\n",
            "60000/60000 [==============================] - 7s 118us/sample - loss: 1.9695 - accuracy: 0.4475 - val_loss: 1.6133 - val_accuracy: 0.4492\n",
            "Epoch 4/100\n",
            "60000/60000 [==============================] - 7s 120us/sample - loss: 1.4210 - accuracy: 0.4531 - val_loss: 1.3406 - val_accuracy: 0.4509\n",
            "\n",
            "Round = 24, total number of trainable parameters = 1358\n",
            "\n"
          ],
          "name": "stdout"
        }
      ]
    },
    {
      "cell_type": "code",
      "metadata": {
        "id": "YJjPHrOIIwvr",
        "colab_type": "code",
        "colab": {}
      },
      "source": [
        ""
      ],
      "execution_count": 0,
      "outputs": []
    },
    {
      "cell_type": "code",
      "metadata": {
        "id": "zPQEVJqFIwvw",
        "colab_type": "code",
        "colab": {}
      },
      "source": [
        ""
      ],
      "execution_count": 0,
      "outputs": []
    },
    {
      "cell_type": "code",
      "metadata": {
        "id": "QNO6ll_TY3LH",
        "colab_type": "code",
        "colab": {}
      },
      "source": [
        "# Save the weights (with pruning parameters) AFTER completion of 'n'\n",
        "# iterative pruning rounds-\n",
        "winning_ticket_model.save_weights(\"LeNet_MNIST_Winning_Ticket.h5\", overwrite=True)  "
      ],
      "execution_count": 0,
      "outputs": []
    },
    {
      "cell_type": "code",
      "metadata": {
        "id": "OoBQIIxnY-us",
        "colab_type": "code",
        "colab": {}
      },
      "source": [
        ""
      ],
      "execution_count": 0,
      "outputs": []
    },
    {
      "cell_type": "code",
      "metadata": {
        "id": "_jSDmA0OIwvz",
        "colab_type": "code",
        "colab": {
          "base_uri": "https://localhost:8080/",
          "height": 69
        },
        "outputId": "d7259b92-474f-442f-b44b-547ff07943ce"
      },
      "source": [
        "print(\"\\nIterative-pruning for LeNet-300-100-10 using OPTIMIZED Lottery Ticket Hypothesis is now complete.\\n\")"
      ],
      "execution_count": 54,
      "outputs": [
        {
          "output_type": "stream",
          "text": [
            "\n",
            "Iterative-pruning for LeNet-300-100-10 using OPTIMIZED Lottery Ticket Hypothesis is now complete.\n",
            "\n"
          ],
          "name": "stdout"
        }
      ]
    },
    {
      "cell_type": "code",
      "metadata": {
        "id": "5uVHHjx1Iwv3",
        "colab_type": "code",
        "colab": {}
      },
      "source": [
        ""
      ],
      "execution_count": 0,
      "outputs": []
    },
    {
      "cell_type": "code",
      "metadata": {
        "id": "AMG44joXIwv6",
        "colab_type": "code",
        "colab": {}
      },
      "source": [
        ""
      ],
      "execution_count": 0,
      "outputs": []
    },
    {
      "cell_type": "code",
      "metadata": {
        "id": "szWuur40Iwv8",
        "colab_type": "code",
        "colab": {}
      },
      "source": [
        "import os\n",
        "import pickle"
      ],
      "execution_count": 0,
      "outputs": []
    },
    {
      "cell_type": "code",
      "metadata": {
        "id": "PYvmSBUKIwwA",
        "colab_type": "code",
        "colab": {
          "base_uri": "https://localhost:8080/",
          "height": 34
        },
        "outputId": "9f73d7d8-ecc2-47ee-dd78-24f043adbd43"
      },
      "source": [
        "os.getcwd()"
      ],
      "execution_count": 56,
      "outputs": [
        {
          "output_type": "execute_result",
          "data": {
            "text/plain": [
              "'/content'"
            ]
          },
          "metadata": {
            "tags": []
          },
          "execution_count": 56
        }
      ]
    },
    {
      "cell_type": "code",
      "metadata": {
        "id": "bGuJSIdUIwwF",
        "colab_type": "code",
        "colab": {}
      },
      "source": [
        "# Save/Pickle Python 3 dictionary-\n",
        "\n",
        "# with open(\"/home/majumdar/The_Lottery_Ticket_Hypothesis-Resources/LeNet_MNIST_history_main_Experiment_3.pkl\", \"wb\") as f:\n",
        "with open(\"/content/LeNet_MNIST_history_main_Optimized_Code.pkl\", \"wb\") as f:\n",
        "    pickle.dump(history_main, f)"
      ],
      "execution_count": 0,
      "outputs": []
    },
    {
      "cell_type": "code",
      "metadata": {
        "id": "s7wp12JvIwwY",
        "colab_type": "code",
        "colab": {}
      },
      "source": [
        ""
      ],
      "execution_count": 0,
      "outputs": []
    },
    {
      "cell_type": "code",
      "metadata": {
        "id": "gCGGm0O8Iwwg",
        "colab_type": "code",
        "colab": {}
      },
      "source": [
        "# Load pickled object as Python 3 dictionary-\n",
        "\n",
        "# with open(\"/home/majumdar/The_Lottery_Ticket_Hypothesis-Resources/LeNet_MNIST_history_main_Experiment_3.pkl\", \"rb\") as f:\n",
        "with open(\"/home/arjun/Desktop/Codes/Lottery_Hypothesis-Resources/Latest_Works/LTH_Experiments/Experiment_number_1/LeNet_MNIST_history_main.pkl\", \"rb\") as f:\n",
        "    history_main = pickle.load(f)"
      ],
      "execution_count": 0,
      "outputs": []
    },
    {
      "cell_type": "code",
      "metadata": {
        "id": "Xq33uSBAIwwj",
        "colab_type": "code",
        "colab": {},
        "outputId": "7472284e-5122-47e4-c623-95ecf1fce9a8"
      },
      "source": [
        "# Sanity check-\n",
        "history_main[10]['percentage_wts_pruned']"
      ],
      "execution_count": 0,
      "outputs": [
        {
          "output_type": "execute_result",
          "data": {
            "text/plain": [
              "89.13094032481902"
            ]
          },
          "metadata": {
            "tags": []
          },
          "execution_count": 6
        }
      ]
    },
    {
      "cell_type": "code",
      "metadata": {
        "id": "v8Mtz8HbIwwn",
        "colab_type": "code",
        "colab": {}
      },
      "source": [
        ""
      ],
      "execution_count": 0,
      "outputs": []
    },
    {
      "cell_type": "code",
      "metadata": {
        "id": "XUEVTK9fIwwp",
        "colab_type": "code",
        "colab": {}
      },
      "source": [
        ""
      ],
      "execution_count": 0,
      "outputs": []
    },
    {
      "cell_type": "markdown",
      "metadata": {
        "id": "PDUp5QxQIwwt",
        "colab_type": "text"
      },
      "source": [
        "### Visualizations for _Iterative Pruning Rounds_:"
      ]
    },
    {
      "cell_type": "code",
      "metadata": {
        "id": "XsSb0x3nIwwx",
        "colab_type": "code",
        "colab": {}
      },
      "source": [
        "# Python 3 dict for training and testing accuracy visualization-\n",
        "# key is 'percentage_wts_pruned' and value is accuracy\n",
        "plot_accuracy = {}\n",
        "plot_test_accuracy = {}"
      ],
      "execution_count": 0,
      "outputs": []
    },
    {
      "cell_type": "code",
      "metadata": {
        "id": "y6HnYZGSIww2",
        "colab_type": "code",
        "colab": {}
      },
      "source": [
        "# populate 'plot_accuracy'-\n",
        "for k in history_main.keys():\n",
        "    epoch_length = len(history_main[k]['accuracy'])\n",
        "    plot_accuracy[history_main[k]['percentage_wts_pruned']] = history_main[k]['accuracy'][epoch_length - 1]"
      ],
      "execution_count": 0,
      "outputs": []
    },
    {
      "cell_type": "code",
      "metadata": {
        "id": "5-8MID9UIww6",
        "colab_type": "code",
        "colab": {}
      },
      "source": [
        "# populate 'plot_test_accuracy'-\n",
        "for k in history_main.keys():\n",
        "    epoch_length = len(history_main[k]['accuracy'])\n",
        "    plot_test_accuracy[history_main[k]['percentage_wts_pruned']] = history_main[k]['val_accuracy'][epoch_length - 1]\n"
      ],
      "execution_count": 0,
      "outputs": []
    },
    {
      "cell_type": "code",
      "metadata": {
        "id": "gMsoYWHiIww8",
        "colab_type": "code",
        "colab": {
          "base_uri": "https://localhost:8080/",
          "height": 504
        },
        "outputId": "68cea66f-a081-4be6-93d2-f4a16bfcd4cc"
      },
      "source": [
        "# Visualization of training and testing accuracy VS percentage of weights\n",
        "# pruned-\n",
        "fig=plt.figure(figsize=(9, 7), dpi= 80, facecolor='w', edgecolor='k')\n",
        "\n",
        "plt.plot(list(plot_accuracy.keys()), list(plot_accuracy.values()), label = 'training_accuracy')\n",
        "plt.plot(list(plot_test_accuracy.keys()), list(plot_test_accuracy.values()), label = 'testing_accuracy')\n",
        "\n",
        "plt.title(\"LeNet-300-100 : Percentage of weights pruned VS Accuracy\")\n",
        "plt.xlabel(\"percentage of weights pruned\")\n",
        "plt.ylabel(\"Accuracy\")\n",
        "plt.legend(loc = 'best')\n",
        "plt.show()"
      ],
      "execution_count": 61,
      "outputs": [
        {
          "output_type": "display_data",
          "data": {
            "image/png": "[encoded data removed]",
            "text/plain": [
              "<Figure size 720x560 with 1 Axes>"
            ]
          },
          "metadata": {
            "tags": []
          }
        }
      ]
    },
    {
      "cell_type": "code",
      "metadata": {
        "id": "QCgt1vgCIwxC",
        "colab_type": "code",
        "colab": {}
      },
      "source": [
        ""
      ],
      "execution_count": 0,
      "outputs": []
    },
    {
      "cell_type": "code",
      "metadata": {
        "id": "GnUXKct5IwxE",
        "colab_type": "code",
        "colab": {}
      },
      "source": [
        ""
      ],
      "execution_count": 0,
      "outputs": []
    },
    {
      "cell_type": "code",
      "metadata": {
        "id": "uiEhc3UWIwxG",
        "colab_type": "code",
        "colab": {}
      },
      "source": [
        "# Python 3 dict for training and testing loss visualization-\n",
        "plot_loss = {}\n",
        "plot_test_loss = {}"
      ],
      "execution_count": 0,
      "outputs": []
    },
    {
      "cell_type": "code",
      "metadata": {
        "id": "q-O2YSk9IwxK",
        "colab_type": "code",
        "colab": {}
      },
      "source": [
        "# populate 'plot_loss'-\n",
        "for k in history_main.keys():\n",
        "    epoch_length = len(history_main[k]['loss'])\n",
        "    plot_loss[history_main[k]['percentage_wts_pruned']] = history_main[k]['loss'][epoch_length - 1]\n"
      ],
      "execution_count": 0,
      "outputs": []
    },
    {
      "cell_type": "code",
      "metadata": {
        "id": "jqzeE71uIwxN",
        "colab_type": "code",
        "colab": {}
      },
      "source": [
        "# populate 'plot_test_loss'-\n",
        "for k in history_main.keys():\n",
        "    epoch_length = len(history_main[k]['loss'])\n",
        "    plot_test_loss[history_main[k]['percentage_wts_pruned']] = history_main[k]['val_loss'][epoch_length - 1]\n"
      ],
      "execution_count": 0,
      "outputs": []
    },
    {
      "cell_type": "code",
      "metadata": {
        "id": "3JDgWgdkIwxT",
        "colab_type": "code",
        "colab": {
          "base_uri": "https://localhost:8080/",
          "height": 504
        },
        "outputId": "40986089-c260-4f9f-9387-8fc5ddc34083"
      },
      "source": [
        "# Visualization of training and testing loss VS percentage of remaining weights-\n",
        "# pruned-\n",
        "fig=plt.figure(figsize=(9, 7), dpi= 80, facecolor='w', edgecolor='k')\n",
        "\n",
        "plt.plot(list(plot_loss.keys()), list(plot_loss.values()), label = 'training_loss')\n",
        "plt.plot(list(plot_test_loss.keys()), list(plot_test_loss.values()), label = 'testing_loss')\n",
        "\n",
        "plt.title(\"LeNet-300-100: Percentage of weights pruned VS Loss\")\n",
        "plt.xlabel(\"percentage of weights pruned\")\n",
        "plt.ylabel(\"Loss\")\n",
        "plt.legend(loc = 'best')\n",
        "plt.show()"
      ],
      "execution_count": 65,
      "outputs": [
        {
          "output_type": "display_data",
          "data": {
            "image/png": "[encoded data removed]",
            "text/plain": [
              "<Figure size 720x560 with 1 Axes>"
            ]
          },
          "metadata": {
            "tags": []
          }
        }
      ]
    },
    {
      "cell_type": "code",
      "metadata": {
        "id": "-1iw2sO0IwxZ",
        "colab_type": "code",
        "colab": {}
      },
      "source": [
        ""
      ],
      "execution_count": 0,
      "outputs": []
    },
    {
      "cell_type": "code",
      "metadata": {
        "id": "EibDzbZ3Iwxd",
        "colab_type": "code",
        "colab": {}
      },
      "source": [
        "# Plot number of epochs (Early Stopping) VS percentage of weights pruned-\n",
        "\n",
        "# Python 3 dict to hold number of epochs vs % of weights pruned-\n",
        "plot_num_epochs = {}\n",
        "plot_num_epochs_test = {}\n"
      ],
      "execution_count": 0,
      "outputs": []
    },
    {
      "cell_type": "code",
      "metadata": {
        "id": "CNQq8CDQIwxh",
        "colab_type": "code",
        "colab": {}
      },
      "source": [
        "# populate 'plot_num_epochs'-\n",
        "for k in history_main.keys():\n",
        "    num_epochs = len(history_main[k]['accuracy'])\n",
        "    plot_num_epochs[history_main[k]['percentage_wts_pruned']] = num_epochs\n"
      ],
      "execution_count": 0,
      "outputs": []
    },
    {
      "cell_type": "code",
      "metadata": {
        "id": "4qSXBieXIwxj",
        "colab_type": "code",
        "colab": {}
      },
      "source": [
        "'''\n",
        "# populate 'plot_num_epochs_test'-\n",
        "for k in history_main.keys():\n",
        "    num_epochs = len(history_main[k]['val_accuracy'])\n",
        "    plot_num_epochs_test[history[k]['percentage_wts_pruned']] = num_epochs\n",
        "'''"
      ],
      "execution_count": 0,
      "outputs": []
    },
    {
      "cell_type": "code",
      "metadata": {
        "id": "7KQtpC1PIwxm",
        "colab_type": "code",
        "colab": {
          "base_uri": "https://localhost:8080/",
          "height": 504
        },
        "outputId": "24637e11-aa2d-4516-8e0f-5b929cfcde1f"
      },
      "source": [
        "# Visualize percentage of weights remaining VS number of epochs (Early Stopping)\n",
        "fig=plt.figure(figsize=(9, 7), dpi= 80, facecolor='w', edgecolor='k')\n",
        "\n",
        "plt.plot(list(plot_num_epochs.keys()), list(plot_num_epochs.values()), label = 'training set')\n",
        "# plt.plot(list(plot_num_epochs_test.keys()), list(plot_num_epochs_test.values()), label = 'testing set')\n",
        "\n",
        "plt.title(\"LeNet-300-100 : Percentage of weights pruned VS number of epochs (Early Stopping) until convergence\")\n",
        "plt.xlabel(\"percentage of weights pruned\")\n",
        "plt.ylabel(\"number of epochs\")\n",
        "plt.legend(loc = 'best')\n",
        "plt.show()\n"
      ],
      "execution_count": 68,
      "outputs": [
        {
          "output_type": "display_data",
          "data": {
            "image/png": "[encoded data removed]",
            "text/plain": [
              "<Figure size 720x560 with 1 Axes>"
            ]
          },
          "metadata": {
            "tags": []
          }
        }
      ]
    },
    {
      "cell_type": "code",
      "metadata": {
        "id": "m4KD3wfKIwxq",
        "colab_type": "code",
        "colab": {}
      },
      "source": [
        ""
      ],
      "execution_count": 0,
      "outputs": []
    },
    {
      "cell_type": "code",
      "metadata": {
        "id": "urIg7ZdyIwxs",
        "colab_type": "code",
        "colab": {}
      },
      "source": [
        ""
      ],
      "execution_count": 0,
      "outputs": []
    },
    {
      "cell_type": "code",
      "metadata": {
        "id": "nwG4PWfOIwxv",
        "colab_type": "code",
        "colab": {}
      },
      "source": [
        "# Try to visualize the STARTING training and testing accuracy VS percentage\n",
        "# of remaining weights-\n",
        "\n",
        "# Python 3 dict for visualization-\n",
        "plot_starting_accuracy = {}\n",
        "plot_starting_test_accuracy = {}\n",
        "\n",
        "# Key:    percentage of weights pruned\n",
        "# Value:  starting accuracy\n"
      ],
      "execution_count": 0,
      "outputs": []
    },
    {
      "cell_type": "code",
      "metadata": {
        "id": "U3y0v0d7Iwxy",
        "colab_type": "code",
        "colab": {}
      },
      "source": [
        "# populate 'plot_starting_accuracy'-\n",
        "for k in history_main.keys():\n",
        "    epoch_length = len(history_main[k]['loss'])\n",
        "    plot_starting_accuracy[history_main[k]['percentage_wts_pruned']] = history_main[k]['accuracy'][0]\n"
      ],
      "execution_count": 0,
      "outputs": []
    },
    {
      "cell_type": "code",
      "metadata": {
        "id": "4mjXwpQoIwx1",
        "colab_type": "code",
        "colab": {}
      },
      "source": [
        "# populate 'plot_starting_test_accuracy'-\n",
        "for k in history_main.keys():\n",
        "    epoch_length = len(history_main[k]['loss'])\n",
        "    plot_starting_test_accuracy[history_main[k]['percentage_wts_pruned']] = history_main[k]['val_accuracy'][0]\n"
      ],
      "execution_count": 0,
      "outputs": []
    },
    {
      "cell_type": "code",
      "metadata": {
        "id": "PYWTBNqEIwx4",
        "colab_type": "code",
        "colab": {
          "base_uri": "https://localhost:8080/",
          "height": 504
        },
        "outputId": "9f910a2f-a4a3-4f14-ba29-254b615b3779"
      },
      "source": [
        "# Visualize starting accuracy VS percentage of weights pruned-\n",
        "fig=plt.figure(figsize=(9, 7), dpi= 80, facecolor='w', edgecolor='k')\n",
        "\n",
        "plt.plot(list(plot_starting_accuracy.keys()), list(plot_starting_accuracy.values()), label = 'training starting accuracy')\n",
        "plt.plot(list(plot_starting_test_accuracy.keys()), list(plot_starting_test_accuracy.values()), label = 'testing starting accuracy')\n",
        "\n",
        "plt.title(\"LeNet-300-100 : Percentage of weights pruned VS Starting Accuracy\")\n",
        "plt.xlabel(\"percentage of weights pruned\")\n",
        "plt.ylabel(\"Accuracy\")\n",
        "plt.legend(loc = 'best')\n",
        "plt.show()\n"
      ],
      "execution_count": 72,
      "outputs": [
        {
          "output_type": "display_data",
          "data": {
            "image/png": "[encoded data removed]",
            "text/plain": [
              "<Figure size 720x560 with 1 Axes>"
            ]
          },
          "metadata": {
            "tags": []
          }
        }
      ]
    },
    {
      "cell_type": "code",
      "metadata": {
        "id": "gPAJgdYtIwx7",
        "colab_type": "code",
        "colab": {}
      },
      "source": [
        ""
      ],
      "execution_count": 0,
      "outputs": []
    },
    {
      "cell_type": "code",
      "metadata": {
        "id": "IVWgmpRVIwx_",
        "colab_type": "code",
        "colab": {}
      },
      "source": [
        ""
      ],
      "execution_count": 0,
      "outputs": []
    },
    {
      "cell_type": "code",
      "metadata": {
        "id": "xPzBBKOfIwyB",
        "colab_type": "code",
        "colab": {}
      },
      "source": [
        "# Try to visualize the STARTING training and testing loss VS percentage\n",
        "# of remaining weights-\n",
        "\n",
        "# Python 3 dict for visualization-\n",
        "plot_starting_loss = {}\n",
        "plot_starting_test_loss = {}\n",
        "\n",
        "# Key:\t\tpercentage of weights pruned\n",
        "# Value:\tstarting loss\n"
      ],
      "execution_count": 0,
      "outputs": []
    },
    {
      "cell_type": "code",
      "metadata": {
        "id": "5byhZzG3IwyD",
        "colab_type": "code",
        "colab": {}
      },
      "source": [
        "# Populate 'plot_starting_loss' Python 3 dict-\n",
        "for k in history_main.keys():\n",
        "    epoch_length = len(history_main[k]['loss'])\n",
        "    plot_starting_loss[history_main[k]['percentage_wts_pruned']] = history_main[k]['loss'][0]\n"
      ],
      "execution_count": 0,
      "outputs": []
    },
    {
      "cell_type": "code",
      "metadata": {
        "id": "IiDrYpLLIwyH",
        "colab_type": "code",
        "colab": {}
      },
      "source": [
        "# Populate 'plot_starting_test_loss' Python 3 dict-\n",
        "for k in history_main.keys():\n",
        "    epoch_length = len(history_main[k]['loss'])\n",
        "    plot_starting_test_loss[history_main[k]['percentage_wts_pruned']] = history_main[k]['val_loss'][0]\n"
      ],
      "execution_count": 0,
      "outputs": []
    },
    {
      "cell_type": "code",
      "metadata": {
        "id": "QHLvyf7jIwyJ",
        "colab_type": "code",
        "colab": {
          "base_uri": "https://localhost:8080/",
          "height": 504
        },
        "outputId": "e2faf006-b84a-4513-8b11-5824b184ebf2"
      },
      "source": [
        "# Visualize Starting training & testing loss VS percentage of weights pruned-\n",
        "fig=plt.figure(figsize=(9, 7), dpi= 80, facecolor='w', edgecolor='k')\n",
        "\n",
        "plt.plot(list(plot_starting_loss.keys()), list(plot_starting_loss.values()), label = 'training starting loss')\n",
        "plt.plot(list(plot_starting_test_loss.keys()), list(plot_starting_test_loss.values()), label = 'testing starting loss')\n",
        "\n",
        "plt.title(\"LeNet-300-100 : Percentage of weights pruned VS Starting Loss\")\n",
        "plt.xlabel(\"percentage of weights pruned\")\n",
        "plt.ylabel(\"Loss\")\n",
        "plt.legend(loc = 'best')\n",
        "plt.show()"
      ],
      "execution_count": 76,
      "outputs": [
        {
          "output_type": "display_data",
          "data": {
            "image/png": "[encoded data removed]",
            "text/plain": [
              "<Figure size 720x560 with 1 Axes>"
            ]
          },
          "metadata": {
            "tags": []
          }
        }
      ]
    },
    {
      "cell_type": "code",
      "metadata": {
        "id": "oH3l90VeIwyN",
        "colab_type": "code",
        "colab": {}
      },
      "source": [
        ""
      ],
      "execution_count": 0,
      "outputs": []
    },
    {
      "cell_type": "code",
      "metadata": {
        "id": "3PJg42_AIwyO",
        "colab_type": "code",
        "colab": {}
      },
      "source": [
        ""
      ],
      "execution_count": 0,
      "outputs": []
    },
    {
      "cell_type": "code",
      "metadata": {
        "id": "1iLRkhTAIwyR",
        "colab_type": "code",
        "colab": {}
      },
      "source": [
        "# Try to visualize: percentage of weights remaining VS BEST accuracy within each iterative\n",
        "# pruning round\n",
        "\n",
        "# Python 3 dict for visualization-\n",
        "plot_best_accuracy = {}\n",
        "plot_best_test_accuracy = {}\n",
        "\n",
        "# Key:\t\tpercentage of weights pruned\n",
        "# Value:\tbest accuracy"
      ],
      "execution_count": 0,
      "outputs": []
    },
    {
      "cell_type": "code",
      "metadata": {
        "id": "nA7vcv-VIwyV",
        "colab_type": "code",
        "colab": {}
      },
      "source": [
        "# Populate 'plot_best_accuracy' Python 3 dict-\n",
        "for k in history_main.keys():\n",
        "    epoch_length = len(history_main[k]['accuracy'])\n",
        "    plot_best_accuracy[history_main[k]['percentage_wts_pruned']] = np.amax(history_main[k]['accuracy'])\n"
      ],
      "execution_count": 0,
      "outputs": []
    },
    {
      "cell_type": "code",
      "metadata": {
        "id": "-l8bfoFKIwyY",
        "colab_type": "code",
        "colab": {}
      },
      "source": [
        "# Populate 'plot_best_test_accuracy' Python 3 dict-\n",
        "for k in history_main.keys():\n",
        "    epoch_length = len(history_main[k]['accuracy'])\n",
        "    plot_best_test_accuracy[history_main[k]['percentage_wts_pruned']] = np.amax(history_main[k]['val_accuracy'])\n"
      ],
      "execution_count": 0,
      "outputs": []
    },
    {
      "cell_type": "code",
      "metadata": {
        "id": "x_261VKVIwyb",
        "colab_type": "code",
        "colab": {
          "base_uri": "https://localhost:8080/",
          "height": 625
        },
        "outputId": "0e1787a6-6a5f-4fff-e299-a8de042d4272"
      },
      "source": [
        "# Visualize best accuracy VS percentage of weights pruned-\n",
        "fig=plt.figure(figsize=(10, 9), dpi= 80, facecolor='w', edgecolor='k')\n",
        "\n",
        "plt.plot(list(plot_best_accuracy.keys()), list(plot_best_accuracy.values()), label = 'training best accuracy')\n",
        "plt.plot(list(plot_best_test_accuracy.keys()), list(plot_best_test_accuracy.values()), label = 'testing best accuracy')\n",
        "\n",
        "plt.title(\"LeNet-300-100 : Percentage of weights pruned VS Best Accuracy\")\n",
        "plt.xlabel(\"percentage of weights pruned\")\n",
        "plt.ylabel(\"Accuracy\")\n",
        "plt.legend(loc = 'best')\n",
        "plt.show()\n"
      ],
      "execution_count": 80,
      "outputs": [
        {
          "output_type": "display_data",
          "data": {
            "image/png": "[encoded data removed]",
            "text/plain": [
              "<Figure size 800x720 with 1 Axes>"
            ]
          },
          "metadata": {
            "tags": []
          }
        }
      ]
    },
    {
      "cell_type": "code",
      "metadata": {
        "id": "lokvHu4cIwyf",
        "colab_type": "code",
        "colab": {}
      },
      "source": [
        ""
      ],
      "execution_count": 0,
      "outputs": []
    },
    {
      "cell_type": "code",
      "metadata": {
        "id": "wuLKwqnsIwyh",
        "colab_type": "code",
        "colab": {}
      },
      "source": [
        ""
      ],
      "execution_count": 0,
      "outputs": []
    },
    {
      "cell_type": "code",
      "metadata": {
        "id": "S-PtGTJhIwyk",
        "colab_type": "code",
        "colab": {}
      },
      "source": [
        "# Try to visualize: percentage of weights remaining VS LOWEST loss within each iterative\n",
        "# pruning round\n",
        "\n",
        "# Python 3 dict for visualization-\n",
        "plot_best_loss = {}\n",
        "plot_best_test_loss = {}\n",
        "\n",
        "# Key:\t\tpercentage of weights pruned\n",
        "# Value:\tbest loss"
      ],
      "execution_count": 0,
      "outputs": []
    },
    {
      "cell_type": "code",
      "metadata": {
        "id": "NLvdnzSiIwyn",
        "colab_type": "code",
        "colab": {}
      },
      "source": [
        "# Populate 'plot_best_loss' Python 3 dict-\n",
        "for k in history_main.keys():\n",
        "    epoch_length = len(history_main[k]['loss'])\n",
        "    plot_best_loss[history_main[k]['percentage_wts_pruned']] = np.amin(history_main[k]['loss'])\n"
      ],
      "execution_count": 0,
      "outputs": []
    },
    {
      "cell_type": "code",
      "metadata": {
        "id": "-ehvoECQIwyp",
        "colab_type": "code",
        "colab": {}
      },
      "source": [
        "# Populate 'plot_best_test_loss' Python 3 dict-\n",
        "for k in history_main.keys():\n",
        "    epoch_length = len(history_main[k]['loss'])\n",
        "    plot_best_test_loss[history_main[k]['percentage_wts_pruned']] = np.amin(history_main[k]['val_loss'])\n"
      ],
      "execution_count": 0,
      "outputs": []
    },
    {
      "cell_type": "code",
      "metadata": {
        "id": "xMifjVXcIwys",
        "colab_type": "code",
        "colab": {
          "base_uri": "https://localhost:8080/",
          "height": 625
        },
        "outputId": "da9e4b49-c283-4c04-e760-575ccb9d987f"
      },
      "source": [
        "# Visualize best loss VS percentage of weights pruned-\n",
        "fig=plt.figure(figsize=(10, 9), dpi= 80, facecolor='w', edgecolor='k')\n",
        "\n",
        "plt.plot(list(plot_best_loss.keys()), list(plot_best_loss.values()), label = 'training best loss')\n",
        "plt.plot(list(plot_best_test_loss.keys()), list(plot_best_test_loss.values()), label = 'testing best loss')\n",
        "\n",
        "plt.title(\"LeNet-300-100: Percentage of weights pruned VS Best Loss\")\n",
        "plt.xlabel(\"percentage of weights pruned\")\n",
        "plt.ylabel(\"Loss\")\n",
        "plt.legend(loc = 'best')\n",
        "plt.show()\n"
      ],
      "execution_count": 85,
      "outputs": [
        {
          "output_type": "display_data",
          "data": {
            "image/png": "[encoded data removed]",
            "text/plain": [
              "<Figure size 800x720 with 1 Axes>"
            ]
          },
          "metadata": {
            "tags": []
          }
        }
      ]
    },
    {
      "cell_type": "code",
      "metadata": {
        "id": "lWif1_xEIwyv",
        "colab_type": "code",
        "colab": {}
      },
      "source": [
        ""
      ],
      "execution_count": 0,
      "outputs": []
    },
    {
      "cell_type": "code",
      "metadata": {
        "id": "_nrbWi5nIwyx",
        "colab_type": "code",
        "colab": {}
      },
      "source": [
        ""
      ],
      "execution_count": 0,
      "outputs": []
    },
    {
      "cell_type": "markdown",
      "metadata": {
        "id": "5Cs9NL6iIwy0",
        "colab_type": "text"
      },
      "source": [
        "### Find the iterative pruning round for which training and testing accuracy is highest:"
      ]
    },
    {
      "cell_type": "code",
      "metadata": {
        "id": "LjIOlLu3Iwy2",
        "colab_type": "code",
        "colab": {
          "base_uri": "https://localhost:8080/",
          "height": 69
        },
        "outputId": "ee4d0c39-2801-4894-b743-3432951b930f"
      },
      "source": [
        "# Find highest training and testing accuracy for all iterative pruning rounds-\n",
        "best_accuracy = 0\n",
        "iterative_round = 0\n",
        "\n",
        "\n",
        "for k in history_main.keys():\n",
        "\tepoch_length = len(history_main[k]['accuracy'])\n",
        "\tif history_main[k]['accuracy'][epoch_length - 1] > best_accuracy:\n",
        "\t\tbest_accuracy = history_main[k]['accuracy'][epoch_length - 1]\n",
        "\t\titerative_round = k\n",
        "\n",
        "\n",
        "print(\"\\nIterative round = {0} has highest training accuracy = {1:.4f}% at percentage of weights pruned = {2:.4f}%\\n\".format(\n",
        "    iterative_round, best_accuracy, history_main[iterative_round]['percentage_wts_pruned']))\n"
      ],
      "execution_count": 86,
      "outputs": [
        {
          "output_type": "stream",
          "text": [
            "\n",
            "Iterative round = 10 has highest training accuracy = 99.9367% at percentage of weights pruned = 89.1313%\n",
            "\n"
          ],
          "name": "stdout"
        }
      ]
    },
    {
      "cell_type": "code",
      "metadata": {
        "id": "dAznRl22Iwy9",
        "colab_type": "code",
        "colab": {
          "base_uri": "https://localhost:8080/",
          "height": 69
        },
        "outputId": "537be942-0faf-49ce-d480-1d83d5bed28d"
      },
      "source": [
        "best_test_accuracy = 0\n",
        "iterative_round = 0\n",
        "\n",
        "\n",
        "for k in history_main.keys():\n",
        "\tepoch_length = len(history_main[k]['val_accuracy'])\n",
        "\tif history_main[k]['val_accuracy'][epoch_length - 1] > best_test_accuracy:\n",
        "\t\tbest_test_accuracy = history_main[k]['val_accuracy'][epoch_length - 1]\n",
        "\t\titerative_round = k\n",
        "\n",
        "\n",
        "print(\"\\nIterative round = {0} has highest testing accuracy = {1:.4f}% at percentage of weights pruned = {2:.4f}%\\n\".format(\n",
        "    iterative_round, best_test_accuracy, history_main[iterative_round]['percentage_wts_pruned']))\n"
      ],
      "execution_count": 87,
      "outputs": [
        {
          "output_type": "stream",
          "text": [
            "\n",
            "Iterative round = 11 has highest testing accuracy = 98.3100% at percentage of weights pruned = 91.2771%\n",
            "\n"
          ],
          "name": "stdout"
        }
      ]
    },
    {
      "cell_type": "code",
      "metadata": {
        "id": "6o29p_QoIwzX",
        "colab_type": "code",
        "colab": {}
      },
      "source": [
        ""
      ],
      "execution_count": 0,
      "outputs": []
    },
    {
      "cell_type": "code",
      "metadata": {
        "id": "bxg0nqSWkdtP",
        "colab_type": "code",
        "colab": {}
      },
      "source": [
        ""
      ],
      "execution_count": 0,
      "outputs": []
    },
    {
      "cell_type": "markdown",
      "metadata": {
        "id": "OaPOyFzmkfFl",
        "colab_type": "text"
      },
      "source": [
        "### To evaluate the winning ticket, we need to see the following output:\n"
      ]
    },
    {
      "cell_type": "code",
      "metadata": {
        "id": "Yv41S3zrIwza",
        "colab_type": "code",
        "colab": {
          "base_uri": "https://localhost:8080/",
          "height": 454
        },
        "outputId": "f73a91d4-4448-49da-bb15-d03d29412fb0"
      },
      "source": [
        "for k in history_main.keys():\n",
        "  epoch_length = len(history_main[k]['loss'])\n",
        "  print(\"Round = {0}: val_accuracy = {1:.4f}% & val_loss = {2:.4f} with {3:.4f}% weights pruned, while number of epochs = {4}\".format(\n",
        "      k, history_main[k]['val_accuracy'][epoch_length - 1], history_main[k]['val_loss'][epoch_length - 1], \n",
        "      history_main[k]['percentage_wts_pruned'], epoch_length\n",
        "  ))"
      ],
      "execution_count": 93,
      "outputs": [
        {
          "output_type": "stream",
          "text": [
            "Round = 1: val_accuracy = 97.8000% & val_loss = 0.0781 with 19.9692% weights pruned, while number of epochs = 7\n",
            "Round = 2: val_accuracy = 97.6800% & val_loss = 0.0822 with 35.9446% weights pruned, while number of epochs = 5\n",
            "Round = 3: val_accuracy = 98.1200% & val_loss = 0.0678 with 48.7266% weights pruned, while number of epochs = 5\n",
            "Round = 4: val_accuracy = 98.1600% & val_loss = 0.0751 with 58.9524% weights pruned, while number of epochs = 6\n",
            "Round = 5: val_accuracy = 97.9500% & val_loss = 0.0838 with 67.1314% weights pruned, while number of epochs = 5\n",
            "Round = 6: val_accuracy = 98.2000% & val_loss = 0.0757 with 73.6743% weights pruned, while number of epochs = 5\n",
            "Round = 7: val_accuracy = 98.2900% & val_loss = 0.0631 with 78.9070% weights pruned, while number of epochs = 5\n",
            "Round = 8: val_accuracy = 98.2700% & val_loss = 0.0658 with 83.0959% weights pruned, while number of epochs = 5\n",
            "Round = 9: val_accuracy = 98.1700% & val_loss = 0.0700 with 86.4476% weights pruned, while number of epochs = 6\n",
            "Round = 10: val_accuracy = 98.2100% & val_loss = 0.0737 with 89.1313% weights pruned, while number of epochs = 7\n",
            "Round = 11: val_accuracy = 98.3100% & val_loss = 0.0660 with 91.2771% weights pruned, while number of epochs = 6\n",
            "Round = 12: val_accuracy = 98.3100% & val_loss = 0.0663 with 92.9984% weights pruned, while number of epochs = 6\n",
            "Round = 13: val_accuracy = 98.2400% & val_loss = 0.0727 with 94.3764% weights pruned, while number of epochs = 7\n",
            "Round = 14: val_accuracy = 98.0200% & val_loss = 0.0769 with 95.4844% weights pruned, while number of epochs = 9\n",
            "Round = 15: val_accuracy = 97.7400% & val_loss = 0.0904 with 96.3749% weights pruned, while number of epochs = 13\n",
            "Round = 16: val_accuracy = 97.6300% & val_loss = 0.0902 with 97.0841% weights pruned, while number of epochs = 13\n",
            "Round = 17: val_accuracy = 97.3400% & val_loss = 0.1070 with 97.6539% weights pruned, while number of epochs = 14\n",
            "Round = 18: val_accuracy = 97.1000% & val_loss = 0.1137 with 98.1100% weights pruned, while number of epochs = 12\n",
            "Round = 19: val_accuracy = 96.8200% & val_loss = 0.1265 with 98.4824% weights pruned, while number of epochs = 19\n",
            "Round = 20: val_accuracy = 76.7600% & val_loss = 0.4886 with 98.7851% weights pruned, while number of epochs = 18\n",
            "Round = 21: val_accuracy = 67.1700% & val_loss = 0.7236 with 99.0233% weights pruned, while number of epochs = 19\n",
            "Round = 22: val_accuracy = 57.5700% & val_loss = 0.9584 with 99.2146% weights pruned, while number of epochs = 17\n",
            "Round = 23: val_accuracy = 57.0300% & val_loss = 0.9903 with 99.3691% weights pruned, while number of epochs = 22\n",
            "Round = 24: val_accuracy = 56.8900% & val_loss = 0.9933 with 99.4906% weights pruned, while number of epochs = 18\n"
          ],
          "name": "stdout"
        }
      ]
    },
    {
      "cell_type": "code",
      "metadata": {
        "id": "BHxvP_56jSyb",
        "colab_type": "code",
        "colab": {}
      },
      "source": [
        ""
      ],
      "execution_count": 0,
      "outputs": []
    },
    {
      "cell_type": "code",
      "metadata": {
        "id": "lg5bs1YAIwzb",
        "colab_type": "code",
        "colab": {}
      },
      "source": [
        ""
      ],
      "execution_count": 0,
      "outputs": []
    }
  ]
}