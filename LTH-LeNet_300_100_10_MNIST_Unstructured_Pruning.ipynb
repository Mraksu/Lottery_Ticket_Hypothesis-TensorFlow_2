{
 "cells": [
  {
   "cell_type": "code",
   "execution_count": 1,
   "metadata": {},
   "outputs": [],
   "source": [
    "import tensorflow as tf\n",
    "import numpy as np\n",
    "import math\n",
    "import tensorflow_model_optimization as tfmot\n",
    "import tensorflow_probability as tfp\n",
    "from tensorflow_model_optimization.sparsity import keras as sparsity\n",
    "import matplotlib.pyplot as plt\n",
    "from tensorflow.keras.layers import AveragePooling2D, Conv2D\n",
    "from tensorflow.keras import models, layers, datasets\n",
    "from tensorflow.keras.layers import Dense, Flatten, Reshape, Input, InputLayer\n",
    "from tensorflow.keras.models import Sequential, Model\n",
    "from tensorflow.keras.initializers import RandomNormal\n",
    "# import math\n",
    "from sklearn.metrics import accuracy_score, precision_score, recall_score\n"
   ]
  },
  {
   "cell_type": "markdown",
   "metadata": {},
   "source": [
    "# LeNet 300-100-10 MNIST dataset: _The Lottery Ticket Hypothesis_\n",
    "\n",
    "The following code implements the _The Lottery Ticket Hypothesis_ for _LeNet-300-100-10_ with MNIST dataset. However, this code uses a __naive _unstructured layer-wise pruning___ strategy where the two hidden layers are pruned with 20% and the output layer is pruned at 10%.\n",
    "\n",
    "The pruning follows removing the lowest 20% or 10% of the weights in the layers and attempts to see the result of such a simple weight magnitude based unstrucutred pruning on the performance of following the hypothesis"
   ]
  },
  {
   "cell_type": "code",
   "execution_count": 2,
   "metadata": {},
   "outputs": [
    {
     "name": "stdout",
     "output_type": "stream",
     "text": [
      "\n",
      "TensorFlow version: 2.0.0 & tensorflow_probability version: 0.8.0-rc0\n",
      "\n"
     ]
    }
   ],
   "source": [
    "print(\"\\nTensorFlow version: {0} & tensorflow_probability version: {1}\\n\".format(\n",
    "    tf.__version__, tfp.__version__\n",
    "))"
   ]
  },
  {
   "cell_type": "code",
   "execution_count": 3,
   "metadata": {},
   "outputs": [],
   "source": [
    "batch_size = 60\n",
    "num_classes = 10\n",
    "num_epochs = 50"
   ]
  },
  {
   "cell_type": "code",
   "execution_count": 4,
   "metadata": {},
   "outputs": [],
   "source": [
    "# Data preprocessing and cleadning:\n",
    "# input image dimensions\n",
    "img_rows, img_cols = 28, 28\n",
    "\n",
    "# Load MNIST dataset-\n",
    "(X_train, y_train), (X_test, y_test) = tf.keras.datasets.mnist.load_data()"
   ]
  },
  {
   "cell_type": "code",
   "execution_count": 5,
   "metadata": {},
   "outputs": [
    {
     "name": "stdout",
     "output_type": "stream",
     "text": [
      "\n",
      "'input_shape' which will be used = (28, 28, 1)\n",
      "\n"
     ]
    }
   ],
   "source": [
    "if tf.keras.backend.image_data_format() == 'channels_first':\n",
    "    X_train = X_train.reshape(X_train.shape[0], 1, img_rows, img_cols)\n",
    "    X_test = X_test.reshape(X_test.shape[0], 1, img_rows, img_cols)\n",
    "    input_shape = (1, img_rows, img_cols)\n",
    "else:\n",
    "    X_train = X_train.reshape(X_train.shape[0], img_rows, img_cols, 1)\n",
    "    X_test = X_test.reshape(X_test.shape[0], img_rows, img_cols, 1)\n",
    "    input_shape = (img_rows, img_cols, 1)\n",
    "\n",
    "print(\"\\n'input_shape' which will be used = {0}\\n\".format(input_shape))"
   ]
  },
  {
   "cell_type": "code",
   "execution_count": 6,
   "metadata": {},
   "outputs": [],
   "source": [
    "# Convert datasets to floating point types-\n",
    "X_train = X_train.astype('float32')\n",
    "X_test = X_test.astype('float32')\n",
    "\n",
    "# Normalize the training and testing datasets-\n",
    "X_train /= 255.0\n",
    "X_test /= 255.0"
   ]
  },
  {
   "cell_type": "code",
   "execution_count": 7,
   "metadata": {},
   "outputs": [],
   "source": [
    "# convert class vectors/target to binary class matrices or one-hot encoded values-\n",
    "y_train = tf.keras.utils.to_categorical(y_train, num_classes)\n",
    "y_test = tf.keras.utils.to_categorical(y_test, num_classes)"
   ]
  },
  {
   "cell_type": "code",
   "execution_count": 8,
   "metadata": {},
   "outputs": [],
   "source": [
    "# Reshape training and testing sets-\n",
    "X_train = X_train.reshape(X_train.shape[0], 784)\n",
    "X_test = X_test.reshape(X_test.shape[0], 784)"
   ]
  },
  {
   "cell_type": "code",
   "execution_count": 9,
   "metadata": {},
   "outputs": [
    {
     "name": "stdout",
     "output_type": "stream",
     "text": [
      "\n",
      "Dimensions of training and testing sets are:\n",
      "X_train.shape = (60000, 784), y_train = (60000, 10)\n",
      "X_test.shape = (10000, 784), y_test = (10000, 10)\n"
     ]
    }
   ],
   "source": [
    "print(\"\\nDimensions of training and testing sets are:\")\n",
    "print(\"X_train.shape = {0}, y_train = {1}\".format(X_train.shape, y_train.shape))\n",
    "print(\"X_test.shape = {0}, y_test = {1}\".format(X_test.shape, y_test.shape))"
   ]
  },
  {
   "cell_type": "code",
   "execution_count": null,
   "metadata": {},
   "outputs": [],
   "source": []
  },
  {
   "cell_type": "code",
   "execution_count": null,
   "metadata": {},
   "outputs": [],
   "source": []
  },
  {
   "cell_type": "markdown",
   "metadata": {},
   "source": [
    "### Prepare MNIST dataset for _GradientTape_ training:"
   ]
  },
  {
   "cell_type": "code",
   "execution_count": 10,
   "metadata": {},
   "outputs": [],
   "source": [
    "# Create training and testing datasets-\n",
    "train_dataset = tf.data.Dataset.from_tensor_slices((X_train, y_train))\n",
    "test_dataset = tf.data.Dataset.from_tensor_slices((X_test, y_test))"
   ]
  },
  {
   "cell_type": "code",
   "execution_count": 11,
   "metadata": {},
   "outputs": [],
   "source": [
    "train_dataset = train_dataset.shuffle(buffer_size = 20000, reshuffle_each_iteration = True).batch(batch_size = batch_size, drop_remainder = False)"
   ]
  },
  {
   "cell_type": "code",
   "execution_count": 12,
   "metadata": {},
   "outputs": [],
   "source": [
    "test_dataset = test_dataset.batch(batch_size=batch_size, drop_remainder=False)"
   ]
  },
  {
   "cell_type": "code",
   "execution_count": 13,
   "metadata": {},
   "outputs": [],
   "source": [
    "# Choose an optimizer and loss function for training-\n",
    "loss_fn = tf.keras.losses.CategoricalCrossentropy()\n",
    "optimizer = tf.keras.optimizers.Adam(lr = 0.001)"
   ]
  },
  {
   "cell_type": "code",
   "execution_count": 14,
   "metadata": {},
   "outputs": [],
   "source": [
    "# Select metrics to measure the error & accuracy of model.\n",
    "# These metrics accumulate the values over epochs and then\n",
    "# print the overall result-\n",
    "train_loss = tf.keras.metrics.Mean(name = 'train_loss')\n",
    "train_accuracy = tf.keras.metrics.CategoricalAccuracy(name = 'train_accuracy')\n",
    "\n",
    "test_loss = tf.keras.metrics.Mean(name = 'test_loss')\n",
    "test_accuracy = tf.keras.metrics.CategoricalAccuracy(name = 'test_accuracy')"
   ]
  },
  {
   "cell_type": "code",
   "execution_count": null,
   "metadata": {},
   "outputs": [],
   "source": []
  },
  {
   "cell_type": "code",
   "execution_count": null,
   "metadata": {},
   "outputs": [],
   "source": []
  },
  {
   "cell_type": "markdown",
   "metadata": {},
   "source": [
    "### Step - 1: Randomly initialize a Neural Network\n",
    "Here, we choose the architecture for classification of MNIST dataset which is 300 100 densely conncected network and randomly initialize the weights/biases of the neural network, and also __save__ this random weights/biases initialization, which will be used later."
   ]
  },
  {
   "cell_type": "code",
   "execution_count": 15,
   "metadata": {},
   "outputs": [],
   "source": [
    "def LeNet_NN():\n",
    "    \"\"\"\n",
    "    Define LeNet 300-100-10 Dense Fully Connected\n",
    "    Neural Network for MNIST multi-class classification\n",
    "    \"\"\"\n",
    "    \n",
    "    model = Sequential()\n",
    "    \n",
    "    model.add(\n",
    "        Dense(units = 300, activation = 'relu',\n",
    "              kernel_initializer = tf.initializers.GlorotNormal(),\n",
    "              input_shape = (784,)\n",
    "             )\n",
    "    )\n",
    "    \n",
    "    model.add(\n",
    "        Dense(units = 100, activation = 'relu',\n",
    "              kernel_initializer = tf.initializers.GlorotNormal()\n",
    "             )\n",
    "    )\n",
    "    \n",
    "    model.add(\n",
    "        Dense(units = 10, activation = 'softmax'\n",
    "             )\n",
    "    )\n",
    "    \n",
    "    # Compile pruned CNN-\n",
    "    model.compile(\n",
    "        loss=tf.keras.losses.categorical_crossentropy,\n",
    "        # optimizer='adam',\n",
    "        optimizer=tf.keras.optimizers.Adam(lr = 0.001),\n",
    "        metrics=['accuracy'])\n",
    "    \n",
    "    return model\n",
    "\n",
    "    "
   ]
  },
  {
   "cell_type": "code",
   "execution_count": 16,
   "metadata": {},
   "outputs": [],
   "source": [
    "# Initialize an instance of NN-\n",
    "orig_model = LeNet_NN()"
   ]
  },
  {
   "cell_type": "code",
   "execution_count": 17,
   "metadata": {},
   "outputs": [],
   "source": [
    "# Save random weights-\n",
    "orig_model.save_weights(\"Random_Weights_LeNet.h5\", overwrite=True)"
   ]
  },
  {
   "cell_type": "code",
   "execution_count": 18,
   "metadata": {},
   "outputs": [],
   "source": [
    "# Save random weights-\n",
    "orig_model.save_weights(\"Winning_Ticket_Weights_LeNet.h5\", overwrite=True)"
   ]
  },
  {
   "cell_type": "code",
   "execution_count": 19,
   "metadata": {},
   "outputs": [
    {
     "name": "stdout",
     "output_type": "stream",
     "text": [
      "\n",
      "Layer-wise parameters in LeNet Neural Network:\n",
      "\n",
      "(784, 300)\n",
      "(300,)\n",
      "(300, 100)\n",
      "(100,)\n",
      "(100, 10)\n",
      "(10,)\n"
     ]
    }
   ],
   "source": [
    "print(\"\\nLayer-wise parameters in LeNet Neural Network:\\n\")\n",
    "\n",
    "for layer in orig_model.trainable_weights:\n",
    "    print(layer.shape)"
   ]
  },
  {
   "cell_type": "code",
   "execution_count": 20,
   "metadata": {},
   "outputs": [
    {
     "name": "stdout",
     "output_type": "stream",
     "text": [
      "\n",
      "In original unpruned model, number of nonzero parameters in each layer are: \n",
      "\n",
      "235200\n",
      "0\n",
      "30000\n",
      "0\n",
      "1000\n",
      "0\n",
      "\n",
      "Total number of trainable parameters = 266200\n",
      "\n"
     ]
    }
   ],
   "source": [
    "# Count number of non-zero parameters in trained neural network-\n",
    "\n",
    "print(\"\\nIn original unpruned model, number of nonzero parameters in each layer are: \\n\")\n",
    "\n",
    "orig_sum_params = 0\n",
    "\n",
    "for layer in orig_model.trainable_weights:\n",
    "    print(tf.math.count_nonzero(layer, axis = None).numpy())\n",
    "    orig_sum_params += tf.math.count_nonzero(layer, axis = None).numpy()\n",
    "\n",
    "print(\"\\nTotal number of trainable parameters = {0}\\n\".format(orig_sum_params))\n"
   ]
  },
  {
   "cell_type": "code",
   "execution_count": 21,
   "metadata": {},
   "outputs": [
    {
     "name": "stdout",
     "output_type": "stream",
     "text": [
      "Model: \"sequential\"\n",
      "_________________________________________________________________\n",
      "Layer (type)                 Output Shape              Param #   \n",
      "=================================================================\n",
      "dense (Dense)                (None, 300)               235500    \n",
      "_________________________________________________________________\n",
      "dense_1 (Dense)              (None, 100)               30100     \n",
      "_________________________________________________________________\n",
      "dense_2 (Dense)              (None, 10)                1010      \n",
      "=================================================================\n",
      "Total params: 266,610\n",
      "Trainable params: 266,610\n",
      "Non-trainable params: 0\n",
      "_________________________________________________________________\n"
     ]
    }
   ],
   "source": [
    "# Get model summary-\n",
    "orig_model.summary()"
   ]
  },
  {
   "cell_type": "code",
   "execution_count": null,
   "metadata": {},
   "outputs": [],
   "source": []
  },
  {
   "cell_type": "code",
   "execution_count": null,
   "metadata": {},
   "outputs": [],
   "source": []
  },
  {
   "cell_type": "markdown",
   "metadata": {},
   "source": [
    "### Create a mask:\n",
    "\n",
    "A mask is created where all parameters equal to one.\n",
    "\n",
    "This will be used later by GradientTape for training the defined neural network.\n"
   ]
  },
  {
   "cell_type": "code",
   "execution_count": 22,
   "metadata": {},
   "outputs": [],
   "source": [
    "# Instantiate a new neural network model for which, the mask is to be created,\n",
    "# according to the paper-\n",
    "mask_model = LeNet_NN()"
   ]
  },
  {
   "cell_type": "code",
   "execution_count": 23,
   "metadata": {},
   "outputs": [],
   "source": [
    "# Assign all masks to one-\n",
    "\n",
    "for wts in mask_model.trainable_weights:\n",
    "    wts.assign(\n",
    "        tf.ones_like(\n",
    "            input = wts,\n",
    "            dtype = tf.float32\n",
    "        )\n",
    "\n",
    "    )\n"
   ]
  },
  {
   "cell_type": "code",
   "execution_count": 24,
   "metadata": {},
   "outputs": [
    {
     "name": "stdout",
     "output_type": "stream",
     "text": [
      "\n",
      "Mask model metrics:\n",
      "layer-wise manner model, number of nonzero parameters in each layer are: \n",
      "\n",
      "235200\n",
      "300\n",
      "30000\n",
      "100\n",
      "1000\n",
      "10\n",
      "\n",
      "Total number of ones in mask = 266610\n",
      "\n"
     ]
    }
   ],
   "source": [
    "print(\"\\nMask model metrics:\")\n",
    "print(\"layer-wise manner model, number of nonzero parameters in each layer are: \\n\")\n",
    "\n",
    "masked_sum_params = 0\n",
    "\n",
    "for layer in mask_model.trainable_weights:\n",
    "    print(tf.math.count_nonzero(layer, axis = None).numpy())\n",
    "    masked_sum_params += tf.math.count_nonzero(layer, axis = None).numpy()\n",
    "\n",
    "print(\"\\nTotal number of ones in mask = {0}\\n\".format(masked_sum_params))\n",
    "\n"
   ]
  },
  {
   "cell_type": "code",
   "execution_count": null,
   "metadata": {},
   "outputs": [],
   "source": []
  },
  {
   "cell_type": "code",
   "execution_count": 25,
   "metadata": {},
   "outputs": [],
   "source": [
    "# Define number of pruning rounds-\n",
    "num_pruning_rounds = 4"
   ]
  },
  {
   "cell_type": "markdown",
   "metadata": {},
   "source": [
    "### Python 3 dictionary to hold model training metrics for each of n rounds:"
   ]
  },
  {
   "cell_type": "code",
   "execution_count": 26,
   "metadata": {},
   "outputs": [],
   "source": [
    "# Method - 1: Nested Python 3 dictionaries:\n",
    "history_main = {}\n",
    "\n",
    "for x in range(num_pruning_rounds + 1):\n",
    "    history = {}\n",
    "    history['accuracy'] = np.zeros(shape = num_epochs)\n",
    "    history['val_accuracy'] = np.zeros(shape = num_epochs)\n",
    "    history['loss'] = np.zeros(shape = num_epochs)\n",
    "    history['val_loss'] = np.zeros(shape = num_epochs)\n",
    "\n",
    "    history_main[x + 1] = history\n"
   ]
  },
  {
   "cell_type": "code",
   "execution_count": 27,
   "metadata": {},
   "outputs": [
    {
     "data": {
      "text/plain": [
       "(50,)"
      ]
     },
     "execution_count": 27,
     "metadata": {},
     "output_type": "execute_result"
    }
   ],
   "source": [
    "# Sanity check-\n",
    "history_main[1]['loss'].shape"
   ]
  },
  {
   "cell_type": "code",
   "execution_count": 28,
   "metadata": {},
   "outputs": [
    {
     "data": {
      "text/plain": [
       "dict_keys([1, 2, 3, 4, 5])"
      ]
     },
     "execution_count": 28,
     "metadata": {},
     "output_type": "execute_result"
    }
   ],
   "source": [
    "history_main.keys()"
   ]
  },
  {
   "cell_type": "code",
   "execution_count": null,
   "metadata": {},
   "outputs": [],
   "source": []
  },
  {
   "cell_type": "code",
   "execution_count": null,
   "metadata": {},
   "outputs": [],
   "source": []
  },
  {
   "cell_type": "markdown",
   "metadata": {},
   "source": [
    "## Layer-wise pruning:\n",
    "\n",
    "In the paper, it's mentioned that you remove a percentage of the lowest magnitudes weights within a layer, as this is an _unstructured pruning_ in order for the winning ticket to be sparse.\n",
    "\n",
    "Also, the _connections to outputs are pruned at half of the rate as compared to the rest of the network_"
   ]
  },
  {
   "cell_type": "markdown",
   "metadata": {},
   "source": [
    "### __NOTE:__\n",
    "\n",
    "Remeber, for _LeNet-300-100-10_ neural network, the pruning for the last layer or output layer happens at half the pruning rate as compared to the rest of the network"
   ]
  },
  {
   "cell_type": "code",
   "execution_count": 29,
   "metadata": {},
   "outputs": [],
   "source": [
    "def prune_layers(model, layer_pruning_percentage):\n",
    "    '''\n",
    "    Function to perform unstructured layer-wise\n",
    "    pruning\n",
    "    Last layer is pruned at half the pruning rate\n",
    "    as compared to the rest of the network\n",
    "    '''\n",
    "    \n",
    "    j = 0\n",
    "\n",
    "    while j < len(model.trainable_weights):\n",
    "        \n",
    "        if j == 4:\n",
    "            pk_half = tfp.stats.percentile(model.trainable_weights[j], q = layer_pruning_percentage / 2)\n",
    "            # print(\"Layer = {0}, pk_half = {1:.4f}\\n\".format(j + 1, pk_half.numpy()))\n",
    "            \n",
    "            # tf.where(x <= p30, 0, x)\n",
    "            model.trainable_weights[j].assign(tf.where(model.trainable_weights[j] <= pk_half, 0., model.trainable_weights[j]))\n",
    "            '''\n",
    "            model.trainable_weights[j].assign(tf.where(tf.less_equal(\n",
    "                model.trainable_weights[j], pk_half), 0., model.trainable_weights[j]))\n",
    "            '''\n",
    "        else:\n",
    "            pk = tfp.stats.percentile(model.trainable_weights[j], q = layer_pruning_percentage)\n",
    "            # print(\"Layer = {0}, pk = {1:.4f}\\n\".format(j + 1, pk.numpy()))\n",
    "        \n",
    "            model.trainable_weights[j].assign(tf.where(model.trainable_weights[j] <= pk, 0., model.trainable_weights[j]))\n",
    "            '''\n",
    "            model.trainable_weights[j].assign(tf.where(tf.less_equal(\n",
    "                model.trainable_weights[j], pk), 0., model.trainable_weights[j]))\n",
    "            '''\n",
    "\n",
    "        # We are not pruning biases, hence we increment by two-\n",
    "        j += 2\n",
    "    \n",
    "    return model\n"
   ]
  },
  {
   "cell_type": "code",
   "execution_count": null,
   "metadata": {},
   "outputs": [],
   "source": []
  },
  {
   "cell_type": "code",
   "execution_count": 30,
   "metadata": {},
   "outputs": [],
   "source": [
    "# Percentage of weights to remove-\n",
    "layer_percentage = 20.0"
   ]
  },
  {
   "cell_type": "code",
   "execution_count": 31,
   "metadata": {},
   "outputs": [],
   "source": [
    "orig_sum_params = 266610"
   ]
  },
  {
   "cell_type": "code",
   "execution_count": 32,
   "metadata": {},
   "outputs": [],
   "source": [
    "# User input parameters for Early Stopping in manual implementation-\n",
    "minimum_delta = 0.001\n",
    "patience = 3"
   ]
  },
  {
   "cell_type": "code",
   "execution_count": null,
   "metadata": {},
   "outputs": [],
   "source": []
  },
  {
   "cell_type": "code",
   "execution_count": 33,
   "metadata": {},
   "outputs": [
    {
     "name": "stdout",
     "output_type": "stream",
     "text": [
      "\n",
      "\n",
      "\n",
      "Iterative pruning round: 1\n",
      "\n",
      "\n",
      "Epoch 1, Loss: 0.2235, Accuracy: 93.5133, Test Loss: 0.1118, Test Accuracy: 96.389999\n",
      "Total number of trainable parameters = 266610\n",
      "\n",
      "Epoch 2, Loss: 0.0877, Accuracy: 97.3267, Test Loss: 0.0947, Test Accuracy: 97.000000\n",
      "Total number of trainable parameters = 266610\n",
      "\n",
      "Epoch 3, Loss: 0.0578, Accuracy: 98.2033, Test Loss: 0.0713, Test Accuracy: 97.869995\n",
      "Total number of trainable parameters = 266610\n",
      "\n",
      "Epoch 4, Loss: 0.0428, Accuracy: 98.5883, Test Loss: 0.0770, Test Accuracy: 97.689995\n",
      "Total number of trainable parameters = 266610\n",
      "\n",
      "Epoch 5, Loss: 0.0325, Accuracy: 98.9150, Test Loss: 0.0729, Test Accuracy: 97.939995\n",
      "Total number of trainable parameters = 266610\n",
      "\n",
      "Epoch 6, Loss: 0.0265, Accuracy: 99.1000, Test Loss: 0.0776, Test Accuracy: 97.759995\n",
      "Total number of trainable parameters = 266610\n",
      "\n",
      "\n",
      "'EarlyStopping' called!\n",
      "\n",
      "\n",
      "Round = 1, total number of trainable parameters = 213467\n",
      "\n",
      "\n",
      "Round = 1, % of weights pruned away = 19.93%\n",
      "\n",
      "\n",
      "\n",
      "\n",
      "Iterative pruning round: 2\n",
      "\n",
      "\n",
      "Epoch 1, Loss: 0.3038, Accuracy: 91.3767, Test Loss: 0.1452, Test Accuracy: 95.639999\n",
      "Total number of trainable parameters = 213467\n",
      "\n",
      "Epoch 2, Loss: 0.1182, Accuracy: 96.4467, Test Loss: 0.1056, Test Accuracy: 96.669998\n",
      "Total number of trainable parameters = 213467\n",
      "\n",
      "Epoch 3, Loss: 0.0838, Accuracy: 97.4783, Test Loss: 0.0888, Test Accuracy: 97.050003\n",
      "Total number of trainable parameters = 213467\n",
      "\n",
      "Epoch 4, Loss: 0.0624, Accuracy: 98.1350, Test Loss: 0.0901, Test Accuracy: 97.089996\n",
      "Total number of trainable parameters = 213467\n",
      "\n",
      "Epoch 5, Loss: 0.0483, Accuracy: 98.4350, Test Loss: 0.0800, Test Accuracy: 97.549995\n",
      "Total number of trainable parameters = 213467\n",
      "\n",
      "Epoch 6, Loss: 0.0384, Accuracy: 98.7967, Test Loss: 0.0739, Test Accuracy: 97.649994\n",
      "Total number of trainable parameters = 213467\n",
      "\n",
      "Epoch 7, Loss: 0.0314, Accuracy: 99.0200, Test Loss: 0.0754, Test Accuracy: 97.709999\n",
      "Total number of trainable parameters = 213467\n",
      "\n",
      "Epoch 8, Loss: 0.0257, Accuracy: 99.1833, Test Loss: 0.0737, Test Accuracy: 97.869995\n",
      "Total number of trainable parameters = 213467\n",
      "\n",
      "Epoch 9, Loss: 0.0216, Accuracy: 99.2917, Test Loss: 0.0804, Test Accuracy: 97.729996\n",
      "Total number of trainable parameters = 213467\n",
      "\n",
      "Epoch 10, Loss: 0.0167, Accuracy: 99.4417, Test Loss: 0.0944, Test Accuracy: 97.489998\n",
      "Total number of trainable parameters = 213467\n",
      "\n",
      "Epoch 11, Loss: 0.0147, Accuracy: 99.5183, Test Loss: 0.0755, Test Accuracy: 98.089996\n",
      "Total number of trainable parameters = 213467\n",
      "\n",
      "\n",
      "'EarlyStopping' called!\n",
      "\n",
      "\n",
      "Round = 2, total number of trainable parameters = 160324\n",
      "\n",
      "\n",
      "Round = 2, % of weights pruned away = 39.87%\n",
      "\n",
      "\n",
      "\n",
      "\n",
      "Iterative pruning round: 3\n",
      "\n",
      "\n",
      "Epoch 1, Loss: 0.5851, Accuracy: 84.9350, Test Loss: 0.2270, Test Accuracy: 93.379997\n",
      "Total number of trainable parameters = 160324\n",
      "\n",
      "Epoch 2, Loss: 0.2043, Accuracy: 94.0817, Test Loss: 0.1730, Test Accuracy: 94.790001\n",
      "Total number of trainable parameters = 160324\n",
      "\n",
      "Epoch 3, Loss: 0.1600, Accuracy: 95.3600, Test Loss: 0.1538, Test Accuracy: 95.279999\n",
      "Total number of trainable parameters = 160324\n",
      "\n",
      "Epoch 4, Loss: 0.1331, Accuracy: 96.0650, Test Loss: 0.1362, Test Accuracy: 95.720001\n",
      "Total number of trainable parameters = 160324\n",
      "\n",
      "Epoch 5, Loss: 0.1135, Accuracy: 96.6367, Test Loss: 0.1207, Test Accuracy: 96.310005\n",
      "Total number of trainable parameters = 160324\n",
      "\n",
      "Epoch 6, Loss: 0.0976, Accuracy: 97.1033, Test Loss: 0.1143, Test Accuracy: 96.490005\n",
      "Total number of trainable parameters = 160324\n",
      "\n",
      "Epoch 7, Loss: 0.0847, Accuracy: 97.4783, Test Loss: 0.1070, Test Accuracy: 96.599998\n",
      "Total number of trainable parameters = 160324\n",
      "\n",
      "Epoch 8, Loss: 0.0753, Accuracy: 97.7000, Test Loss: 0.1001, Test Accuracy: 97.000000\n",
      "Total number of trainable parameters = 160324\n",
      "\n",
      "Epoch 9, Loss: 0.0662, Accuracy: 97.9633, Test Loss: 0.1049, Test Accuracy: 96.839996\n",
      "Total number of trainable parameters = 160324\n",
      "\n",
      "Epoch 10, Loss: 0.0589, Accuracy: 98.1900, Test Loss: 0.1037, Test Accuracy: 96.839996\n",
      "Total number of trainable parameters = 160324\n",
      "\n",
      "Epoch 11, Loss: 0.0542, Accuracy: 98.2967, Test Loss: 0.1022, Test Accuracy: 96.979996\n",
      "Total number of trainable parameters = 160324\n",
      "\n",
      "\n",
      "'EarlyStopping' called!\n",
      "\n",
      "\n",
      "Round = 3, total number of trainable parameters = 107181\n",
      "\n",
      "\n",
      "Round = 3, % of weights pruned away = 59.80%\n",
      "\n",
      "\n",
      "\n",
      "\n",
      "Iterative pruning round: 4\n",
      "\n",
      "\n",
      "Epoch 1, Loss: 0.5348, Accuracy: 86.1717, Test Loss: 0.2543, Test Accuracy: 92.639999\n",
      "Total number of trainable parameters = 107181\n",
      "\n",
      "Epoch 2, Loss: 0.2227, Accuracy: 93.5467, Test Loss: 0.1909, Test Accuracy: 94.450005\n",
      "Total number of trainable parameters = 107181\n",
      "\n",
      "Epoch 3, Loss: 0.1705, Accuracy: 95.0400, Test Loss: 0.1547, Test Accuracy: 95.490005\n",
      "Total number of trainable parameters = 107181\n",
      "\n",
      "Epoch 4, Loss: 0.1369, Accuracy: 95.9950, Test Loss: 0.1346, Test Accuracy: 96.010002\n",
      "Total number of trainable parameters = 107181\n",
      "\n",
      "Epoch 5, Loss: 0.1144, Accuracy: 96.6733, Test Loss: 0.1169, Test Accuracy: 96.470001\n",
      "Total number of trainable parameters = 107181\n",
      "\n",
      "Epoch 6, Loss: 0.0968, Accuracy: 97.1317, Test Loss: 0.1124, Test Accuracy: 96.500000\n",
      "Total number of trainable parameters = 107181\n",
      "\n",
      "Epoch 7, Loss: 0.0827, Accuracy: 97.5317, Test Loss: 0.1065, Test Accuracy: 96.760002\n",
      "Total number of trainable parameters = 107181\n",
      "\n",
      "Epoch 8, Loss: 0.0707, Accuracy: 97.9067, Test Loss: 0.1010, Test Accuracy: 97.050003\n",
      "Total number of trainable parameters = 107181\n",
      "\n",
      "Epoch 9, Loss: 0.0612, Accuracy: 98.1167, Test Loss: 0.0988, Test Accuracy: 97.239998\n",
      "Total number of trainable parameters = 107181\n",
      "\n",
      "Epoch 10, Loss: 0.0533, Accuracy: 98.3233, Test Loss: 0.0969, Test Accuracy: 97.259995\n",
      "Total number of trainable parameters = 107181\n",
      "\n",
      "Epoch 11, Loss: 0.0466, Accuracy: 98.5917, Test Loss: 0.0975, Test Accuracy: 97.139999\n",
      "Total number of trainable parameters = 107181\n",
      "\n",
      "Epoch 12, Loss: 0.0404, Accuracy: 98.7567, Test Loss: 0.0933, Test Accuracy: 97.220001\n",
      "Total number of trainable parameters = 107181\n",
      "\n",
      "Epoch 13, Loss: 0.0359, Accuracy: 98.8567, Test Loss: 0.0958, Test Accuracy: 97.349998\n",
      "Total number of trainable parameters = 107181\n",
      "\n",
      "Epoch 14, Loss: 0.0311, Accuracy: 99.0500, Test Loss: 0.1064, Test Accuracy: 97.040001\n",
      "Total number of trainable parameters = 107181\n",
      "\n",
      "Epoch 15, Loss: 0.0273, Accuracy: 99.1800, Test Loss: 0.0993, Test Accuracy: 97.279999\n",
      "Total number of trainable parameters = 107181\n",
      "\n",
      "\n",
      "'EarlyStopping' called!\n",
      "\n",
      "\n",
      "Round = 4, total number of trainable parameters = 57694\n",
      "\n",
      "\n",
      "Round = 4, % of weights pruned away = 78.36%\n",
      "\n"
     ]
    }
   ],
   "source": [
    "for i in range(1, num_pruning_rounds + 1):\n",
    "    \n",
    "    print(\"\\n\\n\\nIterative pruning round: {0}\\n\\n\".format(i))\n",
    "    \n",
    "    # Define 'train_one_step()' and 'test_step()' functions here-\n",
    "    @tf.function\n",
    "    def train_one_step(model, mask_model, optimizer, x, y):\n",
    "        '''\n",
    "        Function to compute one step of gradient descent optimization\n",
    "        '''\n",
    "        with tf.GradientTape() as tape:\n",
    "            # Make predictions using defined model-\n",
    "            y_pred = model(x)\n",
    "\n",
    "            # Compute loss-\n",
    "            loss = loss_fn(y, y_pred)\n",
    "        \n",
    "        # Compute gradients wrt defined loss and weights and biases-\n",
    "        grads = tape.gradient(loss, model.trainable_variables)\n",
    "    \n",
    "        # type(grads)\n",
    "        # list\n",
    "    \n",
    "        # List to hold element-wise multiplication between-\n",
    "        # computed gradient and masks-\n",
    "        grad_mask_mul = []\n",
    "    \n",
    "        # Perform element-wise multiplication between computed gradients and masks-\n",
    "        for grad_layer, mask in zip(grads, mask_model.trainable_weights):\n",
    "            grad_mask_mul.append(tf.math.multiply(grad_layer, mask))\n",
    "    \n",
    "        # Apply computed gradients to model's weights and biases-\n",
    "        optimizer.apply_gradients(zip(grad_mask_mul, model.trainable_variables))\n",
    "\n",
    "        # Compute accuracy-\n",
    "        train_loss(loss)\n",
    "        train_accuracy(y, y_pred)\n",
    "\n",
    "        return None\n",
    "    \n",
    "    \n",
    "    @tf.function\n",
    "    def test_step(model, optimizer, data, labels):\n",
    "        \"\"\"\n",
    "        Function to test model performance\n",
    "        on testing dataset\n",
    "        \"\"\"\n",
    "    \n",
    "        predictions = model(data)\n",
    "        t_loss = loss_fn(labels, predictions)\n",
    "\n",
    "        test_loss(t_loss)\n",
    "        test_accuracy(labels, predictions)\n",
    "\n",
    "        return None\n",
    "\n",
    "\n",
    "    # Instantiate a model\n",
    "    model_gt = LeNet_NN()\n",
    "    \n",
    "    # Load winning ticket (from above-)\n",
    "    model_gt.load_weights(\"Winning_Ticket_Weights_LeNet.h5\")\n",
    "        \n",
    "    \n",
    "    # Train model using 'GradientTape'-\n",
    "    \n",
    "    # Initialize parameters for Early Stopping manual implementation-\n",
    "    best_val_loss = 100\n",
    "    loc_patience = 0\n",
    "    \n",
    "    for epoch in range(num_epochs):\n",
    "    \n",
    "        if loc_patience >= patience:\n",
    "            print(\"\\n'EarlyStopping' called!\\n\")\n",
    "            break\n",
    "        \n",
    "        # Reset the metrics at the start of the next epoch\n",
    "        train_loss.reset_states()\n",
    "        train_accuracy.reset_states()\n",
    "        test_loss.reset_states()\n",
    "        test_accuracy.reset_states()\n",
    "        \n",
    "        \n",
    "        for x, y in train_dataset:\n",
    "            train_one_step(model_gt, mask_model, optimizer, x, y)\n",
    "\n",
    "\n",
    "        for x_t, y_t in test_dataset:\n",
    "            # test_step(x_t, y_t)\n",
    "            test_step(model_gt, optimizer, x_t, y_t)\n",
    "\n",
    "        template = 'Epoch {0}, Loss: {1:.4f}, Accuracy: {2:.4f}, Test Loss: {3:.4f}, Test Accuracy: {4:4f}'\n",
    "    \n",
    "        history_main[i]['accuracy'][epoch] = train_accuracy.result() * 100\n",
    "        history_main[i]['loss'][epoch] = train_loss.result()\n",
    "        history_main[i]['val_loss'][epoch] = test_loss.result()\n",
    "        history_main[i]['val_accuracy'][epoch] = test_accuracy.result() * 100\n",
    "        \n",
    "        print(template.format(epoch + 1, \n",
    "                              train_loss.result(), train_accuracy.result()*100,\n",
    "                              test_loss.result(), test_accuracy.result()*100))\n",
    "    \n",
    "        # Count number of non-zero parameters in each layer and in total-\n",
    "        # print(\"layer-wise manner model, number of nonzero parameters in each layer are: \\n\")\n",
    "\n",
    "        model_sum_params = 0\n",
    "    \n",
    "        for layer in model_gt.trainable_weights:\n",
    "            # print(tf.math.count_nonzero(layer, axis = None).numpy())\n",
    "            model_sum_params += tf.math.count_nonzero(layer, axis = None).numpy()\n",
    "    \n",
    "        print(\"Total number of trainable parameters = {0}\\n\".format(model_sum_params))\n",
    "\n",
    "    \n",
    "        # Code for manual Early Stopping:\n",
    "        if np.abs(test_loss.result() < best_val_loss) >= minimum_delta:\n",
    "            # update 'best_val_loss' variable to lowest loss encountered so far-\n",
    "            best_val_loss = test_loss.result()\n",
    "        \n",
    "            # reset 'loc_patience' variable-\n",
    "            loc_patience = 0\n",
    "        \n",
    "        else:  # there is no improvement in monitored metric 'val_loss'\n",
    "            loc_patience += 1  # number of epochs without any improvement\n",
    "\n",
    "    \n",
    "    # Resize numpy arrays according to the epoch when 'EarlyStopping' was called-\n",
    "    for metrics in history_main[i].keys():\n",
    "        history_main[i][metrics] = np.resize(history_main[i][metrics], new_shape = epoch)\n",
    "     \n",
    "    \n",
    "    # Save trained model weights-\n",
    "    model_gt.save_weights(\"Trained_Weights_LeNet.h5\", overwrite=True)\n",
    "    \n",
    "    \n",
    "    \n",
    "    \n",
    "    # Prune trained model:\n",
    "        \n",
    "    # Instantiate a Neural Network model to be pruned-\n",
    "    pruned_model = LeNet_NN()\n",
    "    \n",
    "    # Load weights from trained and unpruned model-\n",
    "    pruned_model.load_weights(\"Trained_Weights_LeNet.h5\")\n",
    "    \n",
    "    # Call method to prune weights using 'layer_percentage' parameter-\n",
    "    pruned_model = prune_layers(pruned_model, layer_percentage)\n",
    "    \n",
    "    # print(\"\\nIn pruned model, number of nonzero parameters in each layer are: \\n\")\n",
    "    pruned_sum_params = 0\n",
    "    \n",
    "    for layer in pruned_model.trainable_weights:\n",
    "        # print(tf.math.count_nonzero(layer, axis = None).numpy())\n",
    "        pruned_sum_params += tf.math.count_nonzero(layer, axis = None).numpy()\n",
    "    \n",
    "    print(\"\\nRound = {0}, total number of trainable parameters = {1}\\n\".format(i, pruned_sum_params))\n",
    "    # print(\"\\nTotal number of trainable parameters = {0}\\n\".format(pruned_sum_params))\n",
    "    \n",
    "    # Sanity-check: confirm that p = 30% of the weights are actually pruned away from the network-\n",
    "    print(\"\\nRound = {0}, % of weights pruned away = {1:.2f}%\\n\".format( \\\n",
    "                                                i, (orig_sum_params - pruned_sum_params) / orig_sum_params * 100))\n",
    "    \n",
    "    # Save weights of PRUNED and Trained model BEFORE stripping-\n",
    "    pruned_model.save_weights(\"Pruned_Weights_LeNet.h5\", overwrite = True)\n",
    "    \n",
    "    \n",
    "    # Create a mask:\n",
    "    \n",
    "    # Instantiate a new neural network model for which, the mask is to be created,\n",
    "    mask_model = LeNet_NN()\n",
    "    \n",
    "    # Load weights of PRUNED model-\n",
    "    mask_model.load_weights(\"Pruned_Weights_LeNet.h5\")\n",
    "        \n",
    "    # For each layer, for each weight which is 0, leave it, as is.\n",
    "    # And for weights which survive the pruning,reinitialize it to ONE (1)-\n",
    "    for wts in mask_model.trainable_weights:\n",
    "        wts.assign(tf.where(tf.equal(wts, 0.), 0., 1.))\n",
    "    \n",
    "    \n",
    "    \n",
    "    \n",
    "    # Extract Winning Ticket:\n",
    "    \n",
    "    # Instantiate a new neural network model for which, the weights are to be extracted-\n",
    "    winning_ticket_model = LeNet_NN()\n",
    "    \n",
    "    # Load weights of PRUNED model-\n",
    "    winning_ticket_model.load_weights(\"Pruned_Weights_LeNet.h5\")\n",
    "    \n",
    "    # For each layer, for each weight which is 0, leave it, as is. And for weights which survive the pruning,\n",
    "    # reinitialize it to the value, the model received BEFORE it was trained and pruned-\n",
    "    for orig_wts, pruned_wts in zip(orig_model.trainable_weights,\n",
    "                                    winning_ticket_model.trainable_weights):\n",
    "        pruned_wts.assign(tf.where(tf.equal(pruned_wts, 0.), 0., orig_wts))\n",
    "    \n",
    "    \n",
    "    # Save the weights (with pruning parameters) extracted to a file-\n",
    "    winning_ticket_model.save_weights(\"Winning_Ticket_Weights_LeNet.h5\", overwrite=True)\n"
   ]
  },
  {
   "cell_type": "code",
   "execution_count": null,
   "metadata": {},
   "outputs": [],
   "source": []
  },
  {
   "cell_type": "code",
   "execution_count": 34,
   "metadata": {},
   "outputs": [
    {
     "data": {
      "image/png": "[encoded data removed]",
      "text/plain": [
       "<Figure size 800x720 with 1 Axes>"
      ]
     },
     "metadata": {},
     "output_type": "display_data"
    }
   ],
   "source": [
    "# Plot the different epoch's training accuracy:\n",
    "\n",
    "fig=plt.figure(figsize=(10, 9), dpi= 80, facecolor='w', edgecolor='k')\n",
    "\n",
    "for epoch in range(1, 5):\n",
    "    plt.plot(history_main[epoch]['accuracy'], label = \"training accuracy epoch = {0}\".format(epoch))\n",
    "\n",
    "plt.title(\"Training Accuracy - Visualization\")\n",
    "plt.legend(loc = 'best')\n",
    "plt.xlabel(\"number of epochs\")\n",
    "plt.ylabel(\"Training Accuracy (%)\")\n",
    "plt.show()\n"
   ]
  },
  {
   "cell_type": "code",
   "execution_count": 35,
   "metadata": {},
   "outputs": [
    {
     "data": {
      "image/png": "[encoded data removed]",
      "text/plain": [
       "<Figure size 800x720 with 1 Axes>"
      ]
     },
     "metadata": {},
     "output_type": "display_data"
    }
   ],
   "source": [
    "# Plot the different epoch's testing accuracy:\n",
    "\n",
    "fig=plt.figure(figsize=(10, 9), dpi= 80, facecolor='w', edgecolor='k')\n",
    "\n",
    "for epoch in range(1, 5):\n",
    "    plt.plot(history_main[epoch]['val_accuracy'], label = \"testing accuracy epoch = {0}\".format(epoch))\n",
    "\n",
    "plt.title(\"Testing Accuracy - Visualization\")\n",
    "plt.legend(loc = 'best')\n",
    "plt.xlabel(\"number of epochs\")\n",
    "plt.ylabel(\"Testing Accuracy (%)\")\n",
    "plt.show()\n"
   ]
  },
  {
   "cell_type": "code",
   "execution_count": 36,
   "metadata": {},
   "outputs": [
    {
     "data": {
      "image/png": "[encoded data removed]",
      "text/plain": [
       "<Figure size 800x720 with 1 Axes>"
      ]
     },
     "metadata": {},
     "output_type": "display_data"
    }
   ],
   "source": [
    "# Plot the different epoch's training loss:\n",
    "\n",
    "fig=plt.figure(figsize=(10, 9), dpi= 80, facecolor='w', edgecolor='k')\n",
    "\n",
    "for epoch in range(1, 5):\n",
    "    plt.plot(history_main[epoch]['loss'], label = \"training loss epoch = {0}\".format(epoch))\n",
    "\n",
    "plt.title(\"Training Loss - Visualization\")\n",
    "plt.legend(loc = 'best')\n",
    "plt.xlabel(\"number of epochs\")\n",
    "plt.ylabel(\"Training Loss\")\n",
    "plt.show()\n",
    "\n"
   ]
  },
  {
   "cell_type": "code",
   "execution_count": 37,
   "metadata": {},
   "outputs": [
    {
     "data": {
      "image/png": "[encoded data removed]",
      "text/plain": [
       "<Figure size 800x720 with 1 Axes>"
      ]
     },
     "metadata": {},
     "output_type": "display_data"
    }
   ],
   "source": [
    "# Plot the different epoch's testing loss:\n",
    "\n",
    "fig=plt.figure(figsize=(10, 9), dpi= 80, facecolor='w', edgecolor='k')\n",
    "\n",
    "for epoch in range(1, 5):\n",
    "    plt.plot(history_main[epoch]['val_loss'], label = \"testing loss epoch = {0}\".format(epoch))\n",
    "\n",
    "plt.title(\"Testing Accuracy - Visualization\")\n",
    "plt.legend(loc = 'best')\n",
    "plt.xlabel(\"number of epochs\")\n",
    "plt.ylabel(\"Testing Loss\")\n",
    "plt.show()"
   ]
  },
  {
   "cell_type": "code",
   "execution_count": null,
   "metadata": {},
   "outputs": [],
   "source": []
  },
  {
   "cell_type": "code",
   "execution_count": null,
   "metadata": {},
   "outputs": [],
   "source": []
  },
  {
   "cell_type": "markdown",
   "metadata": {},
   "source": [
    "### Observation:\n",
    "\n",
    "We can see that as if we prune more and more of the network, the model:\n",
    "\n",
    "1. needs more number of epochs for Early Stopping to occur (for model to converge)\n",
    "\n",
    "1. testing accuracy goes down\n",
    "\n",
    "Therefore, this naive _unstructured weight based pruning_ does __not__ work!"
   ]
  },
  {
   "cell_type": "code",
   "execution_count": null,
   "metadata": {},
   "outputs": [],
   "source": []
  },
  {
   "cell_type": "code",
   "execution_count": null,
   "metadata": {},
   "outputs": [],
   "source": []
  },
  {
   "cell_type": "markdown",
   "metadata": {},
   "source": [
    "### Save Python 3.X dictionary as pickled object so that it can be used later:"
   ]
  },
  {
   "cell_type": "code",
   "execution_count": 39,
   "metadata": {},
   "outputs": [],
   "source": [
    "import pickle\n",
    "import os"
   ]
  },
  {
   "cell_type": "code",
   "execution_count": 40,
   "metadata": {},
   "outputs": [
    {
     "data": {
      "text/plain": [
       "'/home/arjun/Desktop/Codes/Lottery_Hypothesis-Resources/Latest_Works'"
      ]
     },
     "execution_count": 40,
     "metadata": {},
     "output_type": "execute_result"
    }
   ],
   "source": [
    "os.getcwd()"
   ]
  },
  {
   "cell_type": "code",
   "execution_count": 41,
   "metadata": {},
   "outputs": [],
   "source": [
    "# Save 'history_main' Python 3 dictionary-\n",
    "with open(\"/home/arjun/Desktop/Codes/Lottery_Hypothesis-Resources/Latest_Works/LTH-LeNet_300_100_10-history_main.pkl\", \"wb\") as f:\n",
    "    pickle.dump(history_main, f)"
   ]
  },
  {
   "cell_type": "code",
   "execution_count": 42,
   "metadata": {},
   "outputs": [],
   "source": [
    "# Load saved Python 3 dictionary-\n",
    "with open(\"/home/arjun/Desktop/Codes/Lottery_Hypothesis-Resources/Latest_Works/LTH-LeNet_300_100_10-history_main.pkl\", \"rb\") as f:\n",
    "    history_main_loaded = pickle.load(f)"
   ]
  },
  {
   "cell_type": "code",
   "execution_count": 43,
   "metadata": {},
   "outputs": [
    {
     "data": {
      "text/plain": [
       "dict_keys([1, 2, 3, 4, 5])"
      ]
     },
     "execution_count": 43,
     "metadata": {},
     "output_type": "execute_result"
    }
   ],
   "source": [
    "# Sanity check-\n",
    "history_main_loaded.keys()"
   ]
  },
  {
   "cell_type": "code",
   "execution_count": 44,
   "metadata": {},
   "outputs": [
    {
     "data": {
      "text/plain": [
       "{'accuracy': array([93.51333618, 97.32666779, 98.20333099, 98.58833313, 98.91500092,\n",
       "        99.09999847]),\n",
       " 'val_accuracy': array([96.38999939, 97.        , 97.86999512, 97.68999481, 97.93999481,\n",
       "        97.75999451]),\n",
       " 'loss': array([0.22345984, 0.08770046, 0.05781899, 0.04283521, 0.03251928,\n",
       "        0.02648287]),\n",
       " 'val_loss': array([0.11183644, 0.09474027, 0.07133102, 0.07696308, 0.07293585,\n",
       "        0.07756598])}"
      ]
     },
     "execution_count": 44,
     "metadata": {},
     "output_type": "execute_result"
    }
   ],
   "source": [
    "history_main_loaded[1]"
   ]
  },
  {
   "cell_type": "code",
   "execution_count": null,
   "metadata": {},
   "outputs": [],
   "source": []
  },
  {
   "cell_type": "code",
   "execution_count": null,
   "metadata": {},
   "outputs": [],
   "source": []
  },
  {
   "cell_type": "code",
   "execution_count": null,
   "metadata": {},
   "outputs": [],
   "source": []
  }
 ],
 "metadata": {
  "kernelspec": {
   "display_name": "Python 3",
   "language": "python",
   "name": "python3"
  },
  "language_info": {
   "codemirror_mode": {
    "name": "ipython",
    "version": 3
   },
   "file_extension": ".py",
   "mimetype": "text/x-python",
   "name": "python",
   "nbconvert_exporter": "python",
   "pygments_lexer": "ipython3",
   "version": "3.7.6"
  }
 },
 "nbformat": 4,
 "nbformat_minor": 4
}
